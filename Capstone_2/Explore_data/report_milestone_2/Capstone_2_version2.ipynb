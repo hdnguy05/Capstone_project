{
 "cells": [
  {
   "cell_type": "markdown",
   "metadata": {},
   "source": [
    "# CAPSTONE PROJECT 2 -- MOVIE PREDICTION AND RECOMMENDATION"
   ]
  },
  {
   "cell_type": "code",
   "execution_count": 2,
   "metadata": {},
   "outputs": [],
   "source": [
    "import pandas as pd\n",
    "import numpy as np\n",
    "import matplotlib.pyplot as plt\n",
    "import seaborn as sns\n",
    "from wordcloud import WordCloud, STOPWORDS\n",
    "import datetime"
   ]
  },
  {
   "cell_type": "markdown",
   "metadata": {},
   "source": [
    "# Loading the data\n",
    "- Generation the data from the API "
   ]
  },
  {
   "cell_type": "code",
   "execution_count": 3,
   "metadata": {},
   "outputs": [],
   "source": [
    "df = pd.read_csv('data/movie_metadata_self_collect.csv', lineterminator='\\n', date_parser= ['release_date'])"
   ]
  },
  {
   "cell_type": "code",
   "execution_count": 4,
   "metadata": {},
   "outputs": [],
   "source": [
    "df.columns = ['adult', 'backdrop_path', 'belongs_to_collection', 'budget', 'genres',\n",
    "       'homepage', 'id', 'imdb_id', 'original_language', 'original_title',\n",
    "       'overview', 'popularity', 'poster_path', 'production_companies',\n",
    "       'production_countries', 'release_date', 'revenue', 'runtime',\n",
    "       'spoken_languages', 'status', 'tagline', 'title', 'video',\n",
    "       'vote_average', 'vote_count', 'vote_count_1']"
   ]
  },
  {
   "cell_type": "code",
   "execution_count": 5,
   "metadata": {},
   "outputs": [
    {
     "data": {
      "text/html": [
       "<div>\n",
       "<style scoped>\n",
       "    .dataframe tbody tr th:only-of-type {\n",
       "        vertical-align: middle;\n",
       "    }\n",
       "\n",
       "    .dataframe tbody tr th {\n",
       "        vertical-align: top;\n",
       "    }\n",
       "\n",
       "    .dataframe thead th {\n",
       "        text-align: right;\n",
       "    }\n",
       "</style>\n",
       "<table border=\"1\" class=\"dataframe\">\n",
       "  <thead>\n",
       "    <tr style=\"text-align: right;\">\n",
       "      <th></th>\n",
       "      <th>0</th>\n",
       "      <th>1</th>\n",
       "      <th>2</th>\n",
       "      <th>3</th>\n",
       "      <th>4</th>\n",
       "    </tr>\n",
       "  </thead>\n",
       "  <tbody>\n",
       "    <tr>\n",
       "      <td>adult</td>\n",
       "      <td>False</td>\n",
       "      <td>False</td>\n",
       "      <td>False</td>\n",
       "      <td>False</td>\n",
       "      <td>False</td>\n",
       "    </tr>\n",
       "    <tr>\n",
       "      <td>backdrop_path</td>\n",
       "      <td>/lxD5ak7BOoinRNehOCA85CQ8ubr.jpg</td>\n",
       "      <td>/y7SQmjlB42VvYyRIFQXLQ4ZYrn.jpg</td>\n",
       "      <td>/vAZZrfi0xwE226zpSTAbJ7gUWwf.jpg</td>\n",
       "      <td>NaN</td>\n",
       "      <td>/wKQlgHjJwh5mGBZ37vDsXBx9zbh.jpg</td>\n",
       "    </tr>\n",
       "    <tr>\n",
       "      <td>belongs_to_collection</td>\n",
       "      <td>{'id': 10194, 'name': 'Toy Story Collection', ...</td>\n",
       "      <td>{'id': 495527, 'name': 'Jumanji Collection', '...</td>\n",
       "      <td>{'id': 119050, 'name': 'Grumpy Old Men Collect...</td>\n",
       "      <td>NaN</td>\n",
       "      <td>{'id': 96871, 'name': 'Father of the Bride Col...</td>\n",
       "    </tr>\n",
       "    <tr>\n",
       "      <td>budget</td>\n",
       "      <td>30000000</td>\n",
       "      <td>65000000</td>\n",
       "      <td>0</td>\n",
       "      <td>16000000</td>\n",
       "      <td>0</td>\n",
       "    </tr>\n",
       "    <tr>\n",
       "      <td>genres</td>\n",
       "      <td>[{'id': 16, 'name': 'Animation'}, {'id': 35, '...</td>\n",
       "      <td>[{'id': 12, 'name': 'Adventure'}, {'id': 14, '...</td>\n",
       "      <td>[{'id': 10749, 'name': 'Romance'}, {'id': 35, ...</td>\n",
       "      <td>[{'id': 35, 'name': 'Comedy'}, {'id': 18, 'nam...</td>\n",
       "      <td>[{'id': 35, 'name': 'Comedy'}]</td>\n",
       "    </tr>\n",
       "    <tr>\n",
       "      <td>homepage</td>\n",
       "      <td>http://toystory.disney.com/toy-story</td>\n",
       "      <td>http://www.sonypictures.com/movies/jumanji/</td>\n",
       "      <td>NaN</td>\n",
       "      <td>NaN</td>\n",
       "      <td>NaN</td>\n",
       "    </tr>\n",
       "    <tr>\n",
       "      <td>id</td>\n",
       "      <td>862</td>\n",
       "      <td>8844</td>\n",
       "      <td>15602</td>\n",
       "      <td>31357</td>\n",
       "      <td>11862</td>\n",
       "    </tr>\n",
       "    <tr>\n",
       "      <td>imdb_id</td>\n",
       "      <td>tt0114709</td>\n",
       "      <td>tt0113497</td>\n",
       "      <td>tt0113228</td>\n",
       "      <td>tt0114885</td>\n",
       "      <td>tt0113041</td>\n",
       "    </tr>\n",
       "    <tr>\n",
       "      <td>original_language</td>\n",
       "      <td>en</td>\n",
       "      <td>en</td>\n",
       "      <td>en</td>\n",
       "      <td>en</td>\n",
       "      <td>en</td>\n",
       "    </tr>\n",
       "    <tr>\n",
       "      <td>original_title</td>\n",
       "      <td>Toy Story</td>\n",
       "      <td>Jumanji</td>\n",
       "      <td>Grumpier Old Men</td>\n",
       "      <td>Waiting to Exhale</td>\n",
       "      <td>Father of the Bride Part II</td>\n",
       "    </tr>\n",
       "    <tr>\n",
       "      <td>overview</td>\n",
       "      <td>Led by Woody, Andy's toys live happily in his ...</td>\n",
       "      <td>When siblings Judy and Peter discover an encha...</td>\n",
       "      <td>A family wedding reignites the ancient feud be...</td>\n",
       "      <td>Cheated on, mistreated and stepped on, the wom...</td>\n",
       "      <td>Just when George Banks has recovered from his ...</td>\n",
       "    </tr>\n",
       "    <tr>\n",
       "      <td>popularity</td>\n",
       "      <td>33.053</td>\n",
       "      <td>9.15</td>\n",
       "      <td>10.126</td>\n",
       "      <td>6.941</td>\n",
       "      <td>10.278</td>\n",
       "    </tr>\n",
       "    <tr>\n",
       "      <td>poster_path</td>\n",
       "      <td>/uXDfjJbdP4ijW5hWSBrPrlKpxab.jpg</td>\n",
       "      <td>/vgpXmVaVyUL7GGiDeiK1mKEKzcX.jpg</td>\n",
       "      <td>/1FSXpj5e8l4KH6nVFO5SPUeraOt.jpg</td>\n",
       "      <td>/4wjGMwPsdlvi025ZqR4rXnFDvBz.jpg</td>\n",
       "      <td>/lf9RTErt8BSLQy98aSFblElvsCQ.jpg</td>\n",
       "    </tr>\n",
       "    <tr>\n",
       "      <td>production_companies</td>\n",
       "      <td>[{'id': 3, 'logo_path': '/1TjvGVDMYsj6JBxOAkUH...</td>\n",
       "      <td>[{'id': 559, 'logo_path': '/eC0bWHVjnjUducyA6Y...</td>\n",
       "      <td>[{'id': 19464, 'logo_path': None, 'name': 'Lan...</td>\n",
       "      <td>[{'id': 25, 'logo_path': '/qZCc1lty5FzX30aOCVR...</td>\n",
       "      <td>[{'id': 9195, 'logo_path': '/ou5BUbtulr6tIt699...</td>\n",
       "    </tr>\n",
       "    <tr>\n",
       "      <td>production_countries</td>\n",
       "      <td>[{'iso_3166_1': 'US', 'name': 'United States o...</td>\n",
       "      <td>[{'iso_3166_1': 'US', 'name': 'United States o...</td>\n",
       "      <td>[{'iso_3166_1': 'US', 'name': 'United States o...</td>\n",
       "      <td>[{'iso_3166_1': 'US', 'name': 'United States o...</td>\n",
       "      <td>[{'iso_3166_1': 'US', 'name': 'United States o...</td>\n",
       "    </tr>\n",
       "    <tr>\n",
       "      <td>release_date</td>\n",
       "      <td>1995-10-30</td>\n",
       "      <td>1995-12-15</td>\n",
       "      <td>1995-12-22</td>\n",
       "      <td>1995-12-22</td>\n",
       "      <td>1995-12-08</td>\n",
       "    </tr>\n",
       "    <tr>\n",
       "      <td>revenue</td>\n",
       "      <td>373554033</td>\n",
       "      <td>262797249</td>\n",
       "      <td>0</td>\n",
       "      <td>81452156</td>\n",
       "      <td>76578911</td>\n",
       "    </tr>\n",
       "    <tr>\n",
       "      <td>runtime</td>\n",
       "      <td>81</td>\n",
       "      <td>104</td>\n",
       "      <td>101</td>\n",
       "      <td>127</td>\n",
       "      <td>106</td>\n",
       "    </tr>\n",
       "    <tr>\n",
       "      <td>spoken_languages</td>\n",
       "      <td>[{'iso_639_1': 'en', 'name': 'English'}]</td>\n",
       "      <td>[{'iso_639_1': 'en', 'name': 'English'}, {'iso...</td>\n",
       "      <td>[{'iso_639_1': 'en', 'name': 'English'}]</td>\n",
       "      <td>[{'iso_639_1': 'en', 'name': 'English'}]</td>\n",
       "      <td>[{'iso_639_1': 'en', 'name': 'English'}, {'iso...</td>\n",
       "    </tr>\n",
       "    <tr>\n",
       "      <td>status</td>\n",
       "      <td>Released</td>\n",
       "      <td>Released</td>\n",
       "      <td>Released</td>\n",
       "      <td>Released</td>\n",
       "      <td>Released</td>\n",
       "    </tr>\n",
       "    <tr>\n",
       "      <td>tagline</td>\n",
       "      <td>NaN</td>\n",
       "      <td>Roll the dice and unleash the excitement!</td>\n",
       "      <td>Still Yelling. Still Fighting. Still Ready for...</td>\n",
       "      <td>Friends are the people who let you be yourself...</td>\n",
       "      <td>Just When His World Is Back To Normal... He's ...</td>\n",
       "    </tr>\n",
       "    <tr>\n",
       "      <td>title</td>\n",
       "      <td>Toy Story</td>\n",
       "      <td>Jumanji</td>\n",
       "      <td>Grumpier Old Men</td>\n",
       "      <td>Waiting to Exhale</td>\n",
       "      <td>Father of the Bride Part II</td>\n",
       "    </tr>\n",
       "    <tr>\n",
       "      <td>video</td>\n",
       "      <td>False</td>\n",
       "      <td>False</td>\n",
       "      <td>False</td>\n",
       "      <td>False</td>\n",
       "      <td>False</td>\n",
       "    </tr>\n",
       "    <tr>\n",
       "      <td>vote_average</td>\n",
       "      <td>7.9</td>\n",
       "      <td>7.2</td>\n",
       "      <td>6.6</td>\n",
       "      <td>6.3</td>\n",
       "      <td>6.1</td>\n",
       "    </tr>\n",
       "    <tr>\n",
       "      <td>vote_count</td>\n",
       "      <td>12102</td>\n",
       "      <td>7097</td>\n",
       "      <td>190</td>\n",
       "      <td>71</td>\n",
       "      <td>391</td>\n",
       "    </tr>\n",
       "    <tr>\n",
       "      <td>vote_count_1</td>\n",
       "      <td>NaN</td>\n",
       "      <td>NaN</td>\n",
       "      <td>NaN</td>\n",
       "      <td>NaN</td>\n",
       "      <td>NaN</td>\n",
       "    </tr>\n",
       "  </tbody>\n",
       "</table>\n",
       "</div>"
      ],
      "text/plain": [
       "                                                                       0  \\\n",
       "adult                                                              False   \n",
       "backdrop_path                           /lxD5ak7BOoinRNehOCA85CQ8ubr.jpg   \n",
       "belongs_to_collection  {'id': 10194, 'name': 'Toy Story Collection', ...   \n",
       "budget                                                          30000000   \n",
       "genres                 [{'id': 16, 'name': 'Animation'}, {'id': 35, '...   \n",
       "homepage                            http://toystory.disney.com/toy-story   \n",
       "id                                                                   862   \n",
       "imdb_id                                                        tt0114709   \n",
       "original_language                                                     en   \n",
       "original_title                                                 Toy Story   \n",
       "overview               Led by Woody, Andy's toys live happily in his ...   \n",
       "popularity                                                        33.053   \n",
       "poster_path                             /uXDfjJbdP4ijW5hWSBrPrlKpxab.jpg   \n",
       "production_companies   [{'id': 3, 'logo_path': '/1TjvGVDMYsj6JBxOAkUH...   \n",
       "production_countries   [{'iso_3166_1': 'US', 'name': 'United States o...   \n",
       "release_date                                                  1995-10-30   \n",
       "revenue                                                        373554033   \n",
       "runtime                                                               81   \n",
       "spoken_languages                [{'iso_639_1': 'en', 'name': 'English'}]   \n",
       "status                                                          Released   \n",
       "tagline                                                              NaN   \n",
       "title                                                          Toy Story   \n",
       "video                                                              False   \n",
       "vote_average                                                         7.9   \n",
       "vote_count                                                         12102   \n",
       "vote_count_1                                                         NaN   \n",
       "\n",
       "                                                                       1  \\\n",
       "adult                                                              False   \n",
       "backdrop_path                            /y7SQmjlB42VvYyRIFQXLQ4ZYrn.jpg   \n",
       "belongs_to_collection  {'id': 495527, 'name': 'Jumanji Collection', '...   \n",
       "budget                                                          65000000   \n",
       "genres                 [{'id': 12, 'name': 'Adventure'}, {'id': 14, '...   \n",
       "homepage                     http://www.sonypictures.com/movies/jumanji/   \n",
       "id                                                                  8844   \n",
       "imdb_id                                                        tt0113497   \n",
       "original_language                                                     en   \n",
       "original_title                                                   Jumanji   \n",
       "overview               When siblings Judy and Peter discover an encha...   \n",
       "popularity                                                          9.15   \n",
       "poster_path                             /vgpXmVaVyUL7GGiDeiK1mKEKzcX.jpg   \n",
       "production_companies   [{'id': 559, 'logo_path': '/eC0bWHVjnjUducyA6Y...   \n",
       "production_countries   [{'iso_3166_1': 'US', 'name': 'United States o...   \n",
       "release_date                                                  1995-12-15   \n",
       "revenue                                                        262797249   \n",
       "runtime                                                              104   \n",
       "spoken_languages       [{'iso_639_1': 'en', 'name': 'English'}, {'iso...   \n",
       "status                                                          Released   \n",
       "tagline                        Roll the dice and unleash the excitement!   \n",
       "title                                                            Jumanji   \n",
       "video                                                              False   \n",
       "vote_average                                                         7.2   \n",
       "vote_count                                                          7097   \n",
       "vote_count_1                                                         NaN   \n",
       "\n",
       "                                                                       2  \\\n",
       "adult                                                              False   \n",
       "backdrop_path                           /vAZZrfi0xwE226zpSTAbJ7gUWwf.jpg   \n",
       "belongs_to_collection  {'id': 119050, 'name': 'Grumpy Old Men Collect...   \n",
       "budget                                                                 0   \n",
       "genres                 [{'id': 10749, 'name': 'Romance'}, {'id': 35, ...   \n",
       "homepage                                                             NaN   \n",
       "id                                                                 15602   \n",
       "imdb_id                                                        tt0113228   \n",
       "original_language                                                     en   \n",
       "original_title                                          Grumpier Old Men   \n",
       "overview               A family wedding reignites the ancient feud be...   \n",
       "popularity                                                        10.126   \n",
       "poster_path                             /1FSXpj5e8l4KH6nVFO5SPUeraOt.jpg   \n",
       "production_companies   [{'id': 19464, 'logo_path': None, 'name': 'Lan...   \n",
       "production_countries   [{'iso_3166_1': 'US', 'name': 'United States o...   \n",
       "release_date                                                  1995-12-22   \n",
       "revenue                                                                0   \n",
       "runtime                                                              101   \n",
       "spoken_languages                [{'iso_639_1': 'en', 'name': 'English'}]   \n",
       "status                                                          Released   \n",
       "tagline                Still Yelling. Still Fighting. Still Ready for...   \n",
       "title                                                   Grumpier Old Men   \n",
       "video                                                              False   \n",
       "vote_average                                                         6.6   \n",
       "vote_count                                                           190   \n",
       "vote_count_1                                                         NaN   \n",
       "\n",
       "                                                                       3  \\\n",
       "adult                                                              False   \n",
       "backdrop_path                                                        NaN   \n",
       "belongs_to_collection                                                NaN   \n",
       "budget                                                          16000000   \n",
       "genres                 [{'id': 35, 'name': 'Comedy'}, {'id': 18, 'nam...   \n",
       "homepage                                                             NaN   \n",
       "id                                                                 31357   \n",
       "imdb_id                                                        tt0114885   \n",
       "original_language                                                     en   \n",
       "original_title                                         Waiting to Exhale   \n",
       "overview               Cheated on, mistreated and stepped on, the wom...   \n",
       "popularity                                                         6.941   \n",
       "poster_path                             /4wjGMwPsdlvi025ZqR4rXnFDvBz.jpg   \n",
       "production_companies   [{'id': 25, 'logo_path': '/qZCc1lty5FzX30aOCVR...   \n",
       "production_countries   [{'iso_3166_1': 'US', 'name': 'United States o...   \n",
       "release_date                                                  1995-12-22   \n",
       "revenue                                                         81452156   \n",
       "runtime                                                              127   \n",
       "spoken_languages                [{'iso_639_1': 'en', 'name': 'English'}]   \n",
       "status                                                          Released   \n",
       "tagline                Friends are the people who let you be yourself...   \n",
       "title                                                  Waiting to Exhale   \n",
       "video                                                              False   \n",
       "vote_average                                                         6.3   \n",
       "vote_count                                                            71   \n",
       "vote_count_1                                                         NaN   \n",
       "\n",
       "                                                                       4  \n",
       "adult                                                              False  \n",
       "backdrop_path                           /wKQlgHjJwh5mGBZ37vDsXBx9zbh.jpg  \n",
       "belongs_to_collection  {'id': 96871, 'name': 'Father of the Bride Col...  \n",
       "budget                                                                 0  \n",
       "genres                                    [{'id': 35, 'name': 'Comedy'}]  \n",
       "homepage                                                             NaN  \n",
       "id                                                                 11862  \n",
       "imdb_id                                                        tt0113041  \n",
       "original_language                                                     en  \n",
       "original_title                               Father of the Bride Part II  \n",
       "overview               Just when George Banks has recovered from his ...  \n",
       "popularity                                                        10.278  \n",
       "poster_path                             /lf9RTErt8BSLQy98aSFblElvsCQ.jpg  \n",
       "production_companies   [{'id': 9195, 'logo_path': '/ou5BUbtulr6tIt699...  \n",
       "production_countries   [{'iso_3166_1': 'US', 'name': 'United States o...  \n",
       "release_date                                                  1995-12-08  \n",
       "revenue                                                         76578911  \n",
       "runtime                                                              106  \n",
       "spoken_languages       [{'iso_639_1': 'en', 'name': 'English'}, {'iso...  \n",
       "status                                                          Released  \n",
       "tagline                Just When His World Is Back To Normal... He's ...  \n",
       "title                                        Father of the Bride Part II  \n",
       "video                                                              False  \n",
       "vote_average                                                         6.1  \n",
       "vote_count                                                           391  \n",
       "vote_count_1                                                         NaN  "
      ]
     },
     "execution_count": 5,
     "metadata": {},
     "output_type": "execute_result"
    }
   ],
   "source": [
    "df.head().T"
   ]
  },
  {
   "cell_type": "code",
   "execution_count": 6,
   "metadata": {},
   "outputs": [
    {
     "name": "stdout",
     "output_type": "stream",
     "text": [
      "<class 'pandas.core.frame.DataFrame'>\n",
      "RangeIndex: 247784 entries, 0 to 247783\n",
      "Data columns (total 26 columns):\n",
      "adult                    247784 non-null bool\n",
      "backdrop_path            65632 non-null object\n",
      "belongs_to_collection    6322 non-null object\n",
      "budget                   247784 non-null int64\n",
      "genres                   247784 non-null object\n",
      "homepage                 27772 non-null object\n",
      "id                       247784 non-null int64\n",
      "imdb_id                  157776 non-null object\n",
      "original_language        247784 non-null object\n",
      "original_title           247784 non-null object\n",
      "overview                 202960 non-null object\n",
      "popularity               247784 non-null float64\n",
      "poster_path              184540 non-null object\n",
      "production_companies     247784 non-null object\n",
      "production_countries     247784 non-null object\n",
      "release_date             216381 non-null object\n",
      "revenue                  247784 non-null int64\n",
      "runtime                  203942 non-null float64\n",
      "spoken_languages         247784 non-null object\n",
      "status                   247784 non-null object\n",
      "tagline                  40643 non-null object\n",
      "title                    247784 non-null object\n",
      "video                    247784 non-null bool\n",
      "vote_average             247784 non-null float64\n",
      "vote_count               84734 non-null float64\n",
      "vote_count_1             163050 non-null float64\n",
      "dtypes: bool(2), float64(5), int64(3), object(16)\n",
      "memory usage: 45.8+ MB\n"
     ]
    }
   ],
   "source": [
    "##Inspecting the data. So you can see that have 20 column is object and 4 column is float64\n",
    "df.info()"
   ]
  },
  {
   "cell_type": "code",
   "execution_count": 7,
   "metadata": {},
   "outputs": [
    {
     "data": {
      "text/html": [
       "<div>\n",
       "<style scoped>\n",
       "    .dataframe tbody tr th:only-of-type {\n",
       "        vertical-align: middle;\n",
       "    }\n",
       "\n",
       "    .dataframe tbody tr th {\n",
       "        vertical-align: top;\n",
       "    }\n",
       "\n",
       "    .dataframe thead th {\n",
       "        text-align: right;\n",
       "    }\n",
       "</style>\n",
       "<table border=\"1\" class=\"dataframe\">\n",
       "  <thead>\n",
       "    <tr style=\"text-align: right;\">\n",
       "      <th></th>\n",
       "      <th>budget</th>\n",
       "      <th>id</th>\n",
       "      <th>popularity</th>\n",
       "      <th>revenue</th>\n",
       "      <th>runtime</th>\n",
       "      <th>vote_average</th>\n",
       "      <th>vote_count</th>\n",
       "      <th>vote_count_1</th>\n",
       "    </tr>\n",
       "  </thead>\n",
       "  <tbody>\n",
       "    <tr>\n",
       "      <td>count</td>\n",
       "      <td>2.477840e+05</td>\n",
       "      <td>247784.000000</td>\n",
       "      <td>247784.000000</td>\n",
       "      <td>2.477840e+05</td>\n",
       "      <td>2.039420e+05</td>\n",
       "      <td>247784.000000</td>\n",
       "      <td>84734.000000</td>\n",
       "      <td>163050.000000</td>\n",
       "    </tr>\n",
       "    <tr>\n",
       "      <td>mean</td>\n",
       "      <td>9.752955e+05</td>\n",
       "      <td>496842.413110</td>\n",
       "      <td>1.598153</td>\n",
       "      <td>4.392323e+06</td>\n",
       "      <td>5.614684e+02</td>\n",
       "      <td>1.968781</td>\n",
       "      <td>126.655203</td>\n",
       "      <td>1.275044</td>\n",
       "    </tr>\n",
       "    <tr>\n",
       "      <td>std</td>\n",
       "      <td>3.912725e+07</td>\n",
       "      <td>198577.393382</td>\n",
       "      <td>3.059260</td>\n",
       "      <td>1.085196e+09</td>\n",
       "      <td>1.576655e+05</td>\n",
       "      <td>3.086484</td>\n",
       "      <td>745.410488</td>\n",
       "      <td>31.299157</td>\n",
       "    </tr>\n",
       "    <tr>\n",
       "      <td>min</td>\n",
       "      <td>0.000000e+00</td>\n",
       "      <td>2.000000</td>\n",
       "      <td>0.000000</td>\n",
       "      <td>0.000000e+00</td>\n",
       "      <td>0.000000e+00</td>\n",
       "      <td>0.000000</td>\n",
       "      <td>0.000000</td>\n",
       "      <td>0.000000</td>\n",
       "    </tr>\n",
       "    <tr>\n",
       "      <td>25%</td>\n",
       "      <td>0.000000e+00</td>\n",
       "      <td>488308.750000</td>\n",
       "      <td>0.600000</td>\n",
       "      <td>0.000000e+00</td>\n",
       "      <td>1.400000e+01</td>\n",
       "      <td>0.000000</td>\n",
       "      <td>0.000000</td>\n",
       "      <td>0.000000</td>\n",
       "    </tr>\n",
       "    <tr>\n",
       "      <td>50%</td>\n",
       "      <td>0.000000e+00</td>\n",
       "      <td>558370.500000</td>\n",
       "      <td>0.600000</td>\n",
       "      <td>0.000000e+00</td>\n",
       "      <td>7.700000e+01</td>\n",
       "      <td>0.000000</td>\n",
       "      <td>3.000000</td>\n",
       "      <td>0.000000</td>\n",
       "    </tr>\n",
       "    <tr>\n",
       "      <td>75%</td>\n",
       "      <td>0.000000e+00</td>\n",
       "      <td>627633.250000</td>\n",
       "      <td>1.139000</td>\n",
       "      <td>0.000000e+00</td>\n",
       "      <td>9.900000e+01</td>\n",
       "      <td>5.000000</td>\n",
       "      <td>24.000000</td>\n",
       "      <td>0.000000</td>\n",
       "    </tr>\n",
       "    <tr>\n",
       "      <td>max</td>\n",
       "      <td>1.500000e+10</td>\n",
       "      <td>695549.000000</td>\n",
       "      <td>184.473000</td>\n",
       "      <td>5.400000e+11</td>\n",
       "      <td>5.050505e+07</td>\n",
       "      <td>10.000000</td>\n",
       "      <td>25362.000000</td>\n",
       "      <td>4344.000000</td>\n",
       "    </tr>\n",
       "  </tbody>\n",
       "</table>\n",
       "</div>"
      ],
      "text/plain": [
       "             budget             id     popularity       revenue       runtime  \\\n",
       "count  2.477840e+05  247784.000000  247784.000000  2.477840e+05  2.039420e+05   \n",
       "mean   9.752955e+05  496842.413110       1.598153  4.392323e+06  5.614684e+02   \n",
       "std    3.912725e+07  198577.393382       3.059260  1.085196e+09  1.576655e+05   \n",
       "min    0.000000e+00       2.000000       0.000000  0.000000e+00  0.000000e+00   \n",
       "25%    0.000000e+00  488308.750000       0.600000  0.000000e+00  1.400000e+01   \n",
       "50%    0.000000e+00  558370.500000       0.600000  0.000000e+00  7.700000e+01   \n",
       "75%    0.000000e+00  627633.250000       1.139000  0.000000e+00  9.900000e+01   \n",
       "max    1.500000e+10  695549.000000     184.473000  5.400000e+11  5.050505e+07   \n",
       "\n",
       "        vote_average    vote_count   vote_count_1  \n",
       "count  247784.000000  84734.000000  163050.000000  \n",
       "mean        1.968781    126.655203       1.275044  \n",
       "std         3.086484    745.410488      31.299157  \n",
       "min         0.000000      0.000000       0.000000  \n",
       "25%         0.000000      0.000000       0.000000  \n",
       "50%         0.000000      3.000000       0.000000  \n",
       "75%         5.000000     24.000000       0.000000  \n",
       "max        10.000000  25362.000000    4344.000000  "
      ]
     },
     "execution_count": 7,
     "metadata": {},
     "output_type": "execute_result"
    }
   ],
   "source": [
    "df.describe()"
   ]
  },
  {
   "cell_type": "markdown",
   "metadata": {},
   "source": [
    "### Overview the Features\n",
    "- adult: Indicates if the movie is X-Rated or Adult.\n",
    "- belongs_to_collection: A stringified dictionary that gives information on the movie series the particular film belongs to.\n",
    "- budget: The budget of the movie in dollars.\n",
    "- genres: A stringified list of dictionaries that list out all the genres associated with the movie.\n",
    "- homepage: The Official Homepage of the move.\n",
    "- id: The ID of the move.\n",
    "- imdb_id: The IMDB ID of the movie.\n",
    "- original_language: The language in which the movie was originally shot in.\n",
    "- original_title: The original title of the movie.\n",
    "- overview: A brief blurb of the movie.\n",
    "- popularity: The Popularity Score assigned by TMDB.\n",
    "- poster_path: The URL of the poster image.\n",
    "- production_companies: A stringified list of production companies involved with the making of the movie.\n",
    "- production_countries: A stringified list of countries where the movie was shot/produced in.\n",
    "- release_date: Theatrical Release Date of the movie.\n",
    "- revenue: The total revenue of the movie in dollars.\n",
    "- runtime: The runtime of the movie in minutes.\n",
    "- spoken_languages: A stringified list of spoken languages in the film.\n",
    "- status: The status of the movie (Released, To Be Released, Announced, etc.)\n",
    "- tagline: The tagline of the movie.\n",
    "- title: The Official Title of the movie.\n",
    "- video: Indicates if there is a video present of the movie with TMDB.\n",
    "- vote_average: The average rating of the movie.\n",
    "- vote_count: The number of votes by users, as counted by TMDB."
   ]
  },
  {
   "cell_type": "code",
   "execution_count": 8,
   "metadata": {},
   "outputs": [],
   "source": [
    "# We are not interest in these column, so just drop it. \n",
    "df.drop(['backdrop_path','vote_count_1', 'homepage','original_title'], axis =1, inplace= True)"
   ]
  },
  {
   "cell_type": "markdown",
   "metadata": {},
   "source": [
    "# Data Wrangling and Visualization "
   ]
  },
  {
   "cell_type": "markdown",
   "metadata": {},
   "source": [
    "- Let consider the budget column and revenue first, that we are alway spending the money to producti movie. But we see that these two column are have a lot data with 0, so we consider it is missing value. \n",
    "- Let replace it with the np.nan first\n",
    "- And popularity also we consider 0 is missing value"
   ]
  },
  {
   "cell_type": "code",
   "execution_count": 9,
   "metadata": {},
   "outputs": [],
   "source": [
    "df['budget'] = df['budget'].replace(0, np.nan)\n",
    "df['revenue'] = df['revenue'].replace(0, np.nan)\n",
    "df['popularity'] = df['popularity'].replace(0, np.nan)"
   ]
  },
  {
   "cell_type": "markdown",
   "metadata": {},
   "source": [
    "- The raw data of  belong_to_collection is format as is list of dictionaries contain ID and name of that collections tion\n",
    "- But we only interest in the name of collection, so first we need fill missing value with the same format as data\n",
    "- Then we apply the function to return only the name of collections"
   ]
  },
  {
   "cell_type": "code",
   "execution_count": 10,
   "metadata": {},
   "outputs": [],
   "source": [
    "##Fill the missing with the name missing_name\n",
    "df['belongs_to_collection'].fillna(str({'name': None}), inplace =True)"
   ]
  },
  {
   "cell_type": "code",
   "execution_count": 11,
   "metadata": {},
   "outputs": [],
   "source": [
    "## Convert belong to to name\n",
    "def convert_belongcolumn_to_list(data):\n",
    "    data = eval(data) #eval use to convert the string of list to the list ex. '[1,2,3]' = [1,2,3]\n",
    "    if type(data) == float or type(data) == int:\n",
    "        return None\n",
    "    else:\n",
    "        return data['name']"
   ]
  },
  {
   "cell_type": "code",
   "execution_count": 12,
   "metadata": {},
   "outputs": [],
   "source": [
    "df['belongs_to_collection'] = df['belongs_to_collection'].apply(convert_belongcolumn_to_list)"
   ]
  },
  {
   "cell_type": "markdown",
   "metadata": {},
   "source": [
    "- For column production_companies, production_countries, genres and spoken_languages\n",
    "- They are format as the string of list of dictionaries of names it assign to it\n",
    "- So we do the same as belongs_to_collection, that is create the function and apply to it column and return list of name of it."
   ]
  },
  {
   "cell_type": "code",
   "execution_count": 13,
   "metadata": {},
   "outputs": [],
   "source": [
    "##Convert genres to only genres name\n",
    "## eval() function to convert to string of list to a list '[1,2,3]' = [1,2,3]\n",
    "def convert_object_to_list(data):\n",
    "    data = eval(data)\n",
    "    empty = []\n",
    "    try:\n",
    "        for z in data:\n",
    "            empty.append(z['name'])\n",
    "        return empty\n",
    "    except: \n",
    "        return None"
   ]
  },
  {
   "cell_type": "code",
   "execution_count": 14,
   "metadata": {},
   "outputs": [],
   "source": [
    "df['genres']= df['genres'].apply(convert_object_to_list)\n",
    "df['production_countries'] = df['production_countries'].apply(convert_object_to_list)\n",
    "df['spoken_languages'] = df['spoken_languages'].apply(convert_object_to_list)"
   ]
  },
  {
   "cell_type": "code",
   "execution_count": 15,
   "metadata": {},
   "outputs": [],
   "source": [
    "df['production_companies'] = df['production_companies'].apply(convert_object_to_list)"
   ]
  },
  {
   "cell_type": "markdown",
   "metadata": {},
   "source": [
    "- Now we going add some column to our data set\n",
    "- Year: Get idea for movie production each year\n",
    "- ratio_revenue: get idea movie success or fail\n",
    "- Return: How much profit was make each company"
   ]
  },
  {
   "cell_type": "code",
   "execution_count": 16,
   "metadata": {},
   "outputs": [],
   "source": [
    "### Convert released_date to date_time format\n",
    "df['release_date'] = pd.to_datetime(df.release_date)"
   ]
  },
  {
   "cell_type": "code",
   "execution_count": 17,
   "metadata": {},
   "outputs": [],
   "source": [
    "### Add column year\n",
    "df['year'] = df.release_date.apply(lambda x: x.year)"
   ]
  },
  {
   "cell_type": "code",
   "execution_count": 18,
   "metadata": {},
   "outputs": [],
   "source": [
    "## Fill NaN with 0 and convert year to int\n",
    "df['year'].fillna(0, inplace = True)\n",
    "df['year'] = df.year.astype(int)"
   ]
  },
  {
   "cell_type": "code",
   "execution_count": 19,
   "metadata": {},
   "outputs": [],
   "source": [
    "### Created a new column for data name ratio_revenue\n",
    "df['ratio_revenue'] = df['revenue'] / df['budget']"
   ]
  },
  {
   "cell_type": "code",
   "execution_count": 20,
   "metadata": {},
   "outputs": [],
   "source": [
    "##Let make another column for total the number company are was make a movie\n",
    "### Get the max number in in movie\n",
    "### maybe add new column in later for total company\n",
    "number_company = []\n",
    "for i in df.production_companies:\n",
    "    try:\n",
    "        number_company.append(len(i))   \n",
    "    except:\n",
    "        print(i) ## point where is error"
   ]
  },
  {
   "cell_type": "code",
   "execution_count": 21,
   "metadata": {},
   "outputs": [],
   "source": [
    "df['number_company'] = df.production_companies.apply(lambda x: len(x))"
   ]
  },
  {
   "cell_type": "code",
   "execution_count": 22,
   "metadata": {},
   "outputs": [],
   "source": [
    "##Return column (revenue - budget)\n",
    "df['return'] = df['revenue'] - df['budget']"
   ]
  },
  {
   "cell_type": "code",
   "execution_count": 23,
   "metadata": {},
   "outputs": [],
   "source": [
    "### get df for only movie have information above budget and revenue\n",
    "df_ratio_revenue = df[~df['ratio_revenue'].isnull()]"
   ]
  },
  {
   "cell_type": "markdown",
   "metadata": {},
   "source": [
    "## Filter dataframe"
   ]
  },
  {
   "cell_type": "markdown",
   "metadata": {},
   "source": [
    "- Year column is greater than 0 and less than 2020\n",
    "- Title have to have title\n",
    "- We just interest in the movie are released\n",
    "- we dont want include adult movie"
   ]
  },
  {
   "cell_type": "code",
   "execution_count": 24,
   "metadata": {},
   "outputs": [],
   "source": [
    "df = df[(df.year > 0) & (df.year < 2020)]"
   ]
  },
  {
   "cell_type": "code",
   "execution_count": 25,
   "metadata": {},
   "outputs": [],
   "source": [
    "df = df[~df.title.isna()].reset_index()"
   ]
  },
  {
   "cell_type": "code",
   "execution_count": 26,
   "metadata": {},
   "outputs": [],
   "source": [
    "df = df[df.status == 'Released']"
   ]
  },
  {
   "cell_type": "code",
   "execution_count": 27,
   "metadata": {},
   "outputs": [],
   "source": [
    "df = df[df.adult == False]"
   ]
  },
  {
   "cell_type": "markdown",
   "metadata": {},
   "source": [
    "# VISUALIZATION"
   ]
  },
  {
   "cell_type": "markdown",
   "metadata": {},
   "source": [
    "## Generation the Cloudword for our collection"
   ]
  },
  {
   "cell_type": "code",
   "execution_count": 28,
   "metadata": {},
   "outputs": [],
   "source": [
    "title_name = df.title.fillna('')\n",
    "title_name = ' '.join(title_name)"
   ]
  },
  {
   "cell_type": "code",
   "execution_count": 29,
   "metadata": {},
   "outputs": [
    {
     "data": {
      "image/png": "[encoded data removed]",
      "text/plain": [
       "<Figure size 1152x576 with 1 Axes>"
      ]
     },
     "metadata": {
      "needs_background": "light"
     },
     "output_type": "display_data"
    }
   ],
   "source": [
    "Collection_wordcloud = WordCloud(stopwords=STOPWORDS, background_color='white', height=2000, width=4000).generate(title_name)\n",
    "plt.figure(figsize=(16,8))\n",
    "plt.imshow(Collection_wordcloud)\n",
    "plt.axis('off')\n",
    "plt.show()"
   ]
  },
  {
   "cell_type": "markdown",
   "metadata": {},
   "source": [
    "# Overview film industry over year"
   ]
  },
  {
   "cell_type": "code",
   "execution_count": 30,
   "metadata": {},
   "outputs": [],
   "source": [
    "year_gr = df.groupby('year').agg({'revenue':['mean','sum','count']})\n",
    "year_gr.columns = ['Average_revenue','Total_revenue','count']\n",
    "year_gr.sort_values(by='Total_revenue', ascending = False, inplace = True)"
   ]
  },
  {
   "cell_type": "code",
   "execution_count": 31,
   "metadata": {},
   "outputs": [
    {
     "data": {
      "image/png": "[encoded data removed]",
      "text/plain": [
       "<Figure size 1080x360 with 1 Axes>"
      ]
     },
     "metadata": {
      "needs_background": "light"
     },
     "output_type": "display_data"
    }
   ],
   "source": [
    "xtick = np.arange(1874,2020,5)\n",
    "_ = plt.figure(figsize = (15,5))\n",
    "_ = sns.lineplot(x = year_gr.index, y = 'count', data = year_gr)\n",
    "_ = plt.title('Total number of movie industry make in year')\n",
    "_ = plt.xticks(xtick, rotation = 45)\n"
   ]
  },
  {
   "cell_type": "markdown",
   "metadata": {},
   "source": [
    "- Total the number of movie was increasing by year, as the graph show us that from 1874 is first movie was make, and they are likely make same number of movie each year to 1924, from 1924 to 1979 have more movie was make, the line begin increasing but not much. And after 1979 the number of movie was increasing alot. As data we have, let look at top 10 year revenue. This is just idea for over look the industry, because our data was have alot missing revenue data. "
   ]
  },
  {
   "cell_type": "code",
   "execution_count": 32,
   "metadata": {},
   "outputs": [
    {
     "data": {
      "text/html": [
       "<div>\n",
       "<style scoped>\n",
       "    .dataframe tbody tr th:only-of-type {\n",
       "        vertical-align: middle;\n",
       "    }\n",
       "\n",
       "    .dataframe tbody tr th {\n",
       "        vertical-align: top;\n",
       "    }\n",
       "\n",
       "    .dataframe thead th {\n",
       "        text-align: right;\n",
       "    }\n",
       "</style>\n",
       "<table border=\"1\" class=\"dataframe\">\n",
       "  <thead>\n",
       "    <tr style=\"text-align: right;\">\n",
       "      <th></th>\n",
       "      <th>Average_revenue</th>\n",
       "      <th>Total_revenue</th>\n",
       "      <th>count</th>\n",
       "    </tr>\n",
       "    <tr>\n",
       "      <th>year</th>\n",
       "      <th></th>\n",
       "      <th></th>\n",
       "      <th></th>\n",
       "    </tr>\n",
       "  </thead>\n",
       "  <tbody>\n",
       "    <tr>\n",
       "      <td>2016</td>\n",
       "      <td>7.627827e+07</td>\n",
       "      <td>3.135037e+10</td>\n",
       "      <td>411</td>\n",
       "    </tr>\n",
       "    <tr>\n",
       "      <td>2015</td>\n",
       "      <td>7.414786e+07</td>\n",
       "      <td>2.869522e+10</td>\n",
       "      <td>387</td>\n",
       "    </tr>\n",
       "    <tr>\n",
       "      <td>2014</td>\n",
       "      <td>7.113407e+07</td>\n",
       "      <td>2.767116e+10</td>\n",
       "      <td>389</td>\n",
       "    </tr>\n",
       "    <tr>\n",
       "      <td>2013</td>\n",
       "      <td>7.039734e+07</td>\n",
       "      <td>2.703258e+10</td>\n",
       "      <td>384</td>\n",
       "    </tr>\n",
       "    <tr>\n",
       "      <td>2012</td>\n",
       "      <td>7.569661e+07</td>\n",
       "      <td>2.641812e+10</td>\n",
       "      <td>349</td>\n",
       "    </tr>\n",
       "    <tr>\n",
       "      <td>2011</td>\n",
       "      <td>6.939981e+07</td>\n",
       "      <td>2.498393e+10</td>\n",
       "      <td>360</td>\n",
       "    </tr>\n",
       "    <tr>\n",
       "      <td>2010</td>\n",
       "      <td>7.205477e+07</td>\n",
       "      <td>2.413835e+10</td>\n",
       "      <td>335</td>\n",
       "    </tr>\n",
       "    <tr>\n",
       "      <td>2009</td>\n",
       "      <td>7.440009e+07</td>\n",
       "      <td>2.403123e+10</td>\n",
       "      <td>323</td>\n",
       "    </tr>\n",
       "    <tr>\n",
       "      <td>2008</td>\n",
       "      <td>6.991971e+07</td>\n",
       "      <td>2.118567e+10</td>\n",
       "      <td>303</td>\n",
       "    </tr>\n",
       "    <tr>\n",
       "      <td>2007</td>\n",
       "      <td>7.076921e+07</td>\n",
       "      <td>2.038153e+10</td>\n",
       "      <td>288</td>\n",
       "    </tr>\n",
       "  </tbody>\n",
       "</table>\n",
       "</div>"
      ],
      "text/plain": [
       "      Average_revenue  Total_revenue  count\n",
       "year                                       \n",
       "2016     7.627827e+07   3.135037e+10    411\n",
       "2015     7.414786e+07   2.869522e+10    387\n",
       "2014     7.113407e+07   2.767116e+10    389\n",
       "2013     7.039734e+07   2.703258e+10    384\n",
       "2012     7.569661e+07   2.641812e+10    349\n",
       "2011     6.939981e+07   2.498393e+10    360\n",
       "2010     7.205477e+07   2.413835e+10    335\n",
       "2009     7.440009e+07   2.403123e+10    323\n",
       "2008     6.991971e+07   2.118567e+10    303\n",
       "2007     7.076921e+07   2.038153e+10    288"
      ]
     },
     "execution_count": 32,
     "metadata": {},
     "output_type": "execute_result"
    }
   ],
   "source": [
    "year_gr.head(10)"
   ]
  },
  {
   "cell_type": "markdown",
   "metadata": {},
   "source": [
    "- As I expected, that the revenue are inscreasing for each year. The film industry are make over 30 billion dota in 2016.\n",
    "- Now let take a look at 5 early and last movie of our data set"
   ]
  },
  {
   "cell_type": "code",
   "execution_count": 33,
   "metadata": {},
   "outputs": [
    {
     "data": {
      "text/html": [
       "<div>\n",
       "<style scoped>\n",
       "    .dataframe tbody tr th:only-of-type {\n",
       "        vertical-align: middle;\n",
       "    }\n",
       "\n",
       "    .dataframe tbody tr th {\n",
       "        vertical-align: top;\n",
       "    }\n",
       "\n",
       "    .dataframe thead th {\n",
       "        text-align: right;\n",
       "    }\n",
       "</style>\n",
       "<table border=\"1\" class=\"dataframe\">\n",
       "  <thead>\n",
       "    <tr style=\"text-align: right;\">\n",
       "      <th></th>\n",
       "      <th>year</th>\n",
       "      <th>title</th>\n",
       "      <th>runtime</th>\n",
       "    </tr>\n",
       "  </thead>\n",
       "  <tbody>\n",
       "    <tr>\n",
       "      <td>34693</td>\n",
       "      <td>1874</td>\n",
       "      <td>Passage of Venus</td>\n",
       "      <td>1.0</td>\n",
       "    </tr>\n",
       "    <tr>\n",
       "      <td>34690</td>\n",
       "      <td>1878</td>\n",
       "      <td>Sallie Gardner at a Gallop</td>\n",
       "      <td>1.0</td>\n",
       "    </tr>\n",
       "    <tr>\n",
       "      <td>70946</td>\n",
       "      <td>1881</td>\n",
       "      <td>Athlete Swinging a Pick</td>\n",
       "      <td>1.0</td>\n",
       "    </tr>\n",
       "    <tr>\n",
       "      <td>41270</td>\n",
       "      <td>1883</td>\n",
       "      <td>Buffalo Running</td>\n",
       "      <td>1.0</td>\n",
       "    </tr>\n",
       "    <tr>\n",
       "      <td>135279</td>\n",
       "      <td>1885</td>\n",
       "      <td>L'homme machine</td>\n",
       "      <td>1.0</td>\n",
       "    </tr>\n",
       "  </tbody>\n",
       "</table>\n",
       "</div>"
      ],
      "text/plain": [
       "        year                       title  runtime\n",
       "34693   1874            Passage of Venus      1.0\n",
       "34690   1878  Sallie Gardner at a Gallop      1.0\n",
       "70946   1881     Athlete Swinging a Pick      1.0\n",
       "41270   1883             Buffalo Running      1.0\n",
       "135279  1885             L'homme machine      1.0"
      ]
     },
     "execution_count": 33,
     "metadata": {},
     "output_type": "execute_result"
    }
   ],
   "source": [
    "df[['year','title','runtime']].sort_values(by = 'year').head(5)"
   ]
  },
  {
   "cell_type": "code",
   "execution_count": 34,
   "metadata": {},
   "outputs": [
    {
     "data": {
      "text/html": [
       "<div>\n",
       "<style scoped>\n",
       "    .dataframe tbody tr th:only-of-type {\n",
       "        vertical-align: middle;\n",
       "    }\n",
       "\n",
       "    .dataframe tbody tr th {\n",
       "        vertical-align: top;\n",
       "    }\n",
       "\n",
       "    .dataframe thead th {\n",
       "        text-align: right;\n",
       "    }\n",
       "</style>\n",
       "<table border=\"1\" class=\"dataframe\">\n",
       "  <thead>\n",
       "    <tr style=\"text-align: right;\">\n",
       "      <th></th>\n",
       "      <th>year</th>\n",
       "      <th>title</th>\n",
       "      <th>runtime</th>\n",
       "    </tr>\n",
       "  </thead>\n",
       "  <tbody>\n",
       "    <tr>\n",
       "      <td>174446</td>\n",
       "      <td>2019</td>\n",
       "      <td>Sunday</td>\n",
       "      <td>13.0</td>\n",
       "    </tr>\n",
       "    <tr>\n",
       "      <td>174441</td>\n",
       "      <td>2019</td>\n",
       "      <td>Queen + Béjart - Ballet For Life</td>\n",
       "      <td>58.0</td>\n",
       "    </tr>\n",
       "    <tr>\n",
       "      <td>126731</td>\n",
       "      <td>2019</td>\n",
       "      <td>The Ocean Washed Open Your Grave</td>\n",
       "      <td>3.0</td>\n",
       "    </tr>\n",
       "    <tr>\n",
       "      <td>174467</td>\n",
       "      <td>2019</td>\n",
       "      <td>Entropia</td>\n",
       "      <td>28.0</td>\n",
       "    </tr>\n",
       "    <tr>\n",
       "      <td>210551</td>\n",
       "      <td>2019</td>\n",
       "      <td>Jorge</td>\n",
       "      <td>20.0</td>\n",
       "    </tr>\n",
       "  </tbody>\n",
       "</table>\n",
       "</div>"
      ],
      "text/plain": [
       "        year                             title  runtime\n",
       "174446  2019                            Sunday     13.0\n",
       "174441  2019  Queen + Béjart - Ballet For Life     58.0\n",
       "126731  2019  The Ocean Washed Open Your Grave      3.0\n",
       "174467  2019                          Entropia     28.0\n",
       "210551  2019                             Jorge     20.0"
      ]
     },
     "execution_count": 34,
     "metadata": {},
     "output_type": "execute_result"
    }
   ],
   "source": [
    "df[['year','title','runtime']].sort_values(by = 'year').tail(5)"
   ]
  },
  {
   "cell_type": "markdown",
   "metadata": {},
   "source": [
    "# Overview film industry in each Countries"
   ]
  },
  {
   "cell_type": "code",
   "execution_count": 35,
   "metadata": {},
   "outputs": [],
   "source": [
    "### convert the list of company the to single company\n",
    "s = df.apply(lambda x: pd.Series(x['production_countries']),axis=1).stack().reset_index(level=1, drop=True)\n",
    "s.name = 'Countries'"
   ]
  },
  {
   "cell_type": "code",
   "execution_count": 36,
   "metadata": {},
   "outputs": [],
   "source": [
    "countries_df = df.drop('production_countries', axis=1).join(s)"
   ]
  },
  {
   "cell_type": "code",
   "execution_count": 37,
   "metadata": {},
   "outputs": [],
   "source": [
    "countries_df = countries_df[~countries_df.Countries.isna()]"
   ]
  },
  {
   "cell_type": "code",
   "execution_count": 38,
   "metadata": {},
   "outputs": [],
   "source": [
    "#### See the each countries make how many film and profit did they got\n",
    "movies_countries = countries_df.groupby('Countries').agg({'revenue':['mean','sum','count']})\n",
    "movies_countries.columns = ['average_revenue','total_revenue','number_movie']\n",
    "movies_countries.sort_values(by = 'number_movie', ascending = False, inplace = True)"
   ]
  },
  {
   "cell_type": "markdown",
   "metadata": {},
   "source": [
    "- Now we can see the top 10 that countries was make the most revenue in film industry.\n",
    "    - Bellow you see that USA was have the most revenue and have product alot movie compare to another countries.\n",
    "- This is just for you have idea which countries was product movie, but the total revenue maybe little biggest than the actual revenue. Because we have some movie was make more than 1 countries, and we just make a make dupilate revenue for that countries with same revenue"
   ]
  },
  {
   "cell_type": "code",
   "execution_count": 39,
   "metadata": {},
   "outputs": [
    {
     "data": {
      "text/html": [
       "<div>\n",
       "<style scoped>\n",
       "    .dataframe tbody tr th:only-of-type {\n",
       "        vertical-align: middle;\n",
       "    }\n",
       "\n",
       "    .dataframe tbody tr th {\n",
       "        vertical-align: top;\n",
       "    }\n",
       "\n",
       "    .dataframe thead th {\n",
       "        text-align: right;\n",
       "    }\n",
       "</style>\n",
       "<table border=\"1\" class=\"dataframe\">\n",
       "  <thead>\n",
       "    <tr style=\"text-align: right;\">\n",
       "      <th></th>\n",
       "      <th>average_revenue</th>\n",
       "      <th>total_revenue</th>\n",
       "      <th>number_movie</th>\n",
       "    </tr>\n",
       "    <tr>\n",
       "      <th>Countries</th>\n",
       "      <th></th>\n",
       "      <th></th>\n",
       "      <th></th>\n",
       "    </tr>\n",
       "  </thead>\n",
       "  <tbody>\n",
       "    <tr>\n",
       "      <td>United States of America</td>\n",
       "      <td>7.714978e+07</td>\n",
       "      <td>4.976932e+11</td>\n",
       "      <td>6451</td>\n",
       "    </tr>\n",
       "    <tr>\n",
       "      <td>United Kingdom</td>\n",
       "      <td>6.990096e+07</td>\n",
       "      <td>7.514353e+10</td>\n",
       "      <td>1075</td>\n",
       "    </tr>\n",
       "    <tr>\n",
       "      <td>France</td>\n",
       "      <td>3.021624e+07</td>\n",
       "      <td>2.084921e+10</td>\n",
       "      <td>690</td>\n",
       "    </tr>\n",
       "    <tr>\n",
       "      <td>Germany</td>\n",
       "      <td>6.078097e+07</td>\n",
       "      <td>3.014736e+10</td>\n",
       "      <td>496</td>\n",
       "    </tr>\n",
       "    <tr>\n",
       "      <td>Canada</td>\n",
       "      <td>5.485054e+07</td>\n",
       "      <td>2.089806e+10</td>\n",
       "      <td>381</td>\n",
       "    </tr>\n",
       "    <tr>\n",
       "      <td>India</td>\n",
       "      <td>1.911960e+07</td>\n",
       "      <td>7.246328e+09</td>\n",
       "      <td>379</td>\n",
       "    </tr>\n",
       "    <tr>\n",
       "      <td>Japan</td>\n",
       "      <td>3.894279e+07</td>\n",
       "      <td>9.969354e+09</td>\n",
       "      <td>256</td>\n",
       "    </tr>\n",
       "    <tr>\n",
       "      <td>Italy</td>\n",
       "      <td>2.382187e+07</td>\n",
       "      <td>5.169346e+09</td>\n",
       "      <td>217</td>\n",
       "    </tr>\n",
       "    <tr>\n",
       "      <td>Spain</td>\n",
       "      <td>2.157035e+07</td>\n",
       "      <td>4.378782e+09</td>\n",
       "      <td>203</td>\n",
       "    </tr>\n",
       "    <tr>\n",
       "      <td>Russia</td>\n",
       "      <td>8.155989e+06</td>\n",
       "      <td>1.517014e+09</td>\n",
       "      <td>186</td>\n",
       "    </tr>\n",
       "  </tbody>\n",
       "</table>\n",
       "</div>"
      ],
      "text/plain": [
       "                          average_revenue  total_revenue  number_movie\n",
       "Countries                                                             \n",
       "United States of America     7.714978e+07   4.976932e+11          6451\n",
       "United Kingdom               6.990096e+07   7.514353e+10          1075\n",
       "France                       3.021624e+07   2.084921e+10           690\n",
       "Germany                      6.078097e+07   3.014736e+10           496\n",
       "Canada                       5.485054e+07   2.089806e+10           381\n",
       "India                        1.911960e+07   7.246328e+09           379\n",
       "Japan                        3.894279e+07   9.969354e+09           256\n",
       "Italy                        2.382187e+07   5.169346e+09           217\n",
       "Spain                        2.157035e+07   4.378782e+09           203\n",
       "Russia                       8.155989e+06   1.517014e+09           186"
      ]
     },
     "execution_count": 39,
     "metadata": {},
     "output_type": "execute_result"
    }
   ],
   "source": [
    "movies_countries.head(10)"
   ]
  },
  {
   "cell_type": "code",
   "execution_count": 40,
   "metadata": {},
   "outputs": [
    {
     "data": {
      "image/png": "[encoded data removed]",
      "text/plain": [
       "<Figure size 1080x360 with 1 Axes>"
      ]
     },
     "metadata": {
      "needs_background": "light"
     },
     "output_type": "display_data"
    }
   ],
   "source": [
    "### Average profit of each countries\n",
    "total_revenue = movies_countries[['total_revenue']][1:15]\n",
    "total_revenue.sort_values(by = 'total_revenue', ascending = False, inplace = True)\n",
    "_ = plt.figure(figsize = (15,5))\n",
    "_ = sns.barplot(x = total_revenue.index, y = total_revenue.total_revenue)\n",
    "_ = plt.title('Total Revenue OF EACH COUNTRIES')\n",
    "_ = plt.xticks(rotation = 30)"
   ]
  },
  {
   "cell_type": "code",
   "execution_count": 41,
   "metadata": {},
   "outputs": [
    {
     "data": {
      "image/png": "[encoded data removed]",
      "text/plain": [
       "<Figure size 1080x360 with 1 Axes>"
      ]
     },
     "metadata": {
      "needs_background": "light"
     },
     "output_type": "display_data"
    }
   ],
   "source": [
    "movies = movies_countries[['number_movie']][1:15]\n",
    "movies.sort_values(by = 'number_movie', ascending = False, inplace = True)\n",
    "_ = plt.figure(figsize = (15,5))\n",
    "_ = sns.barplot(x = movies.index, y = movies.number_movie)\n",
    "_ = plt.xticks(rotation = 30)\n",
    "_ = plt.title('Total Movies was make each countries')"
   ]
  },
  {
   "cell_type": "markdown",
   "metadata": {},
   "source": [
    "- USA was the top country make the most movie and revenue on movie industry. So we just let left the USA out and see that UK is second countried was product movie.\n",
    "- France are rank 3 product movie, but their revenue was at rank 5. China is kind opposite, they was rank 12 of countries product movie, but their revenue was rank 7.  "
   ]
  },
  {
   "cell_type": "markdown",
   "metadata": {},
   "source": [
    "# Overview the company in movie industry"
   ]
  },
  {
   "cell_type": "code",
   "execution_count": 42,
   "metadata": {},
   "outputs": [],
   "source": [
    "### convert the list of company the to single company\n",
    "s = df.apply(lambda x: pd.Series(x['production_companies']),axis=1).stack().reset_index(level=1, drop=True)\n",
    "s.name = 'companies'"
   ]
  },
  {
   "cell_type": "code",
   "execution_count": 43,
   "metadata": {},
   "outputs": [],
   "source": [
    "company_df = df.drop('production_companies', axis=1).join(s)"
   ]
  },
  {
   "cell_type": "code",
   "execution_count": 44,
   "metadata": {},
   "outputs": [],
   "source": [
    "company_df = company_df[~company_df['return'].isna()]"
   ]
  },
  {
   "cell_type": "code",
   "execution_count": 45,
   "metadata": {},
   "outputs": [],
   "source": [
    "company_df = company_df.groupby('companies').agg({'return': ['mean','sum','count']})\n",
    "company_df.columns = ['Avergae_profit', 'Total_Profit', 'Number_movie']\n",
    "company_df.sort_values(by = 'Number_movie', ascending = False, inplace = True)"
   ]
  },
  {
   "cell_type": "markdown",
   "metadata": {},
   "source": [
    "- Let get idea which company is have the most profit. As we calculated that profit = revenue - budget\n",
    "    - Company Warner Bros. Pictures make 4.2 billion profit with 476 movie\n",
    "    - and the second was Universal Pictures with 4.1 billion profit"
   ]
  },
  {
   "cell_type": "code",
   "execution_count": 46,
   "metadata": {},
   "outputs": [
    {
     "data": {
      "text/html": [
       "<div>\n",
       "<style scoped>\n",
       "    .dataframe tbody tr th:only-of-type {\n",
       "        vertical-align: middle;\n",
       "    }\n",
       "\n",
       "    .dataframe tbody tr th {\n",
       "        vertical-align: top;\n",
       "    }\n",
       "\n",
       "    .dataframe thead th {\n",
       "        text-align: right;\n",
       "    }\n",
       "</style>\n",
       "<table border=\"1\" class=\"dataframe\">\n",
       "  <thead>\n",
       "    <tr style=\"text-align: right;\">\n",
       "      <th></th>\n",
       "      <th>Avergae_profit</th>\n",
       "      <th>Total_Profit</th>\n",
       "      <th>Number_movie</th>\n",
       "    </tr>\n",
       "    <tr>\n",
       "      <th>companies</th>\n",
       "      <th></th>\n",
       "      <th></th>\n",
       "      <th></th>\n",
       "    </tr>\n",
       "  </thead>\n",
       "  <tbody>\n",
       "    <tr>\n",
       "      <td>Warner Bros. Pictures</td>\n",
       "      <td>9.032809e+07</td>\n",
       "      <td>4.299617e+10</td>\n",
       "      <td>476</td>\n",
       "    </tr>\n",
       "    <tr>\n",
       "      <td>Universal Pictures</td>\n",
       "      <td>9.229253e+07</td>\n",
       "      <td>4.088559e+10</td>\n",
       "      <td>443</td>\n",
       "    </tr>\n",
       "    <tr>\n",
       "      <td>Paramount</td>\n",
       "      <td>1.014296e+08</td>\n",
       "      <td>3.793466e+10</td>\n",
       "      <td>374</td>\n",
       "    </tr>\n",
       "    <tr>\n",
       "      <td>Columbia Pictures</td>\n",
       "      <td>7.684656e+07</td>\n",
       "      <td>2.697314e+10</td>\n",
       "      <td>351</td>\n",
       "    </tr>\n",
       "    <tr>\n",
       "      <td>20th Century Fox</td>\n",
       "      <td>1.164543e+08</td>\n",
       "      <td>4.017672e+10</td>\n",
       "      <td>345</td>\n",
       "    </tr>\n",
       "    <tr>\n",
       "      <td>Metro-Goldwyn-Mayer</td>\n",
       "      <td>5.015126e+07</td>\n",
       "      <td>1.003025e+10</td>\n",
       "      <td>200</td>\n",
       "    </tr>\n",
       "    <tr>\n",
       "      <td>New Line Cinema</td>\n",
       "      <td>8.415754e+07</td>\n",
       "      <td>1.598993e+10</td>\n",
       "      <td>190</td>\n",
       "    </tr>\n",
       "    <tr>\n",
       "      <td>Walt Disney Pictures</td>\n",
       "      <td>1.797291e+08</td>\n",
       "      <td>2.821747e+10</td>\n",
       "      <td>157</td>\n",
       "    </tr>\n",
       "    <tr>\n",
       "      <td>Touchstone Pictures</td>\n",
       "      <td>6.081461e+07</td>\n",
       "      <td>8.209972e+09</td>\n",
       "      <td>135</td>\n",
       "    </tr>\n",
       "    <tr>\n",
       "      <td>Canal+</td>\n",
       "      <td>3.521476e+07</td>\n",
       "      <td>4.437060e+09</td>\n",
       "      <td>126</td>\n",
       "    </tr>\n",
       "  </tbody>\n",
       "</table>\n",
       "</div>"
      ],
      "text/plain": [
       "                       Avergae_profit  Total_Profit  Number_movie\n",
       "companies                                                        \n",
       "Warner Bros. Pictures    9.032809e+07  4.299617e+10           476\n",
       "Universal Pictures       9.229253e+07  4.088559e+10           443\n",
       "Paramount                1.014296e+08  3.793466e+10           374\n",
       "Columbia Pictures        7.684656e+07  2.697314e+10           351\n",
       "20th Century Fox         1.164543e+08  4.017672e+10           345\n",
       "Metro-Goldwyn-Mayer      5.015126e+07  1.003025e+10           200\n",
       "New Line Cinema          8.415754e+07  1.598993e+10           190\n",
       "Walt Disney Pictures     1.797291e+08  2.821747e+10           157\n",
       "Touchstone Pictures      6.081461e+07  8.209972e+09           135\n",
       "Canal+                   3.521476e+07  4.437060e+09           126"
      ]
     },
     "execution_count": 46,
     "metadata": {},
     "output_type": "execute_result"
    }
   ],
   "source": [
    "company_df.head(10)"
   ]
  },
  {
   "cell_type": "markdown",
   "metadata": {},
   "source": [
    "- Let Plot the data in histogram so we can easy see it"
   ]
  },
  {
   "cell_type": "code",
   "execution_count": 47,
   "metadata": {},
   "outputs": [
    {
     "data": {
      "image/png": "[encoded data removed]",
      "text/plain": [
       "<Figure size 1080x360 with 1 Axes>"
      ]
     },
     "metadata": {
      "needs_background": "light"
     },
     "output_type": "display_data"
    }
   ],
   "source": [
    "total_profit = company_df[['Total_Profit']][0:15]\n",
    "total_profit.sort_values(by = 'Total_Profit', ascending = False, inplace = True)\n",
    "_ = plt.figure(figsize = (15,5))\n",
    "_ = sns.barplot(x = total_profit.index, y = total_profit.Total_Profit)\n",
    "_ = plt.xticks(rotation = 30)\n",
    "_ = plt.title('Total Profit was make each Company')"
   ]
  },
  {
   "cell_type": "code",
   "execution_count": 48,
   "metadata": {},
   "outputs": [
    {
     "data": {
      "image/png": "[encoded data removed]",
      "text/plain": [
       "<Figure size 1080x360 with 1 Axes>"
      ]
     },
     "metadata": {
      "needs_background": "light"
     },
     "output_type": "display_data"
    }
   ],
   "source": [
    "movies = company_df[['Number_movie']][0:15]\n",
    "movies.sort_values(by = 'Number_movie', ascending = False, inplace = True)\n",
    "_ = plt.figure(figsize = (15,5))\n",
    "_ = sns.barplot(x = movies.index, y = movies.Number_movie)\n",
    "_ = plt.xticks(rotation = 30)\n",
    "_ = plt.title('Total Movies was make each countries')"
   ]
  },
  {
   "cell_type": "markdown",
   "metadata": {},
   "source": [
    "- The top 4 companies make profit was are a most equal.\n",
    "- The 20th Century Fox was in rank 5 product movies but, they make rank 3 of total profit."
   ]
  },
  {
   "cell_type": "markdown",
   "metadata": {},
   "source": [
    "- Let take a look in the collection of movie, see which series it was top."
   ]
  },
  {
   "cell_type": "markdown",
   "metadata": {},
   "source": [
    "# Collection of Movie"
   ]
  },
  {
   "cell_type": "code",
   "execution_count": 49,
   "metadata": {},
   "outputs": [],
   "source": [
    "collection_df = df.groupby('belongs_to_collection').agg({'revenue': ['mean','sum','count']})\n",
    "collection_df.columns = ['Average_revenue', 'Total_revenue', 'Total_movie']"
   ]
  },
  {
   "cell_type": "code",
   "execution_count": 50,
   "metadata": {},
   "outputs": [],
   "source": [
    "collection_df.sort_values(by='Total_revenue',inplace = True, ascending = False)"
   ]
  },
  {
   "cell_type": "code",
   "execution_count": 51,
   "metadata": {},
   "outputs": [
    {
     "data": {
      "text/html": [
       "<div>\n",
       "<style scoped>\n",
       "    .dataframe tbody tr th:only-of-type {\n",
       "        vertical-align: middle;\n",
       "    }\n",
       "\n",
       "    .dataframe tbody tr th {\n",
       "        vertical-align: top;\n",
       "    }\n",
       "\n",
       "    .dataframe thead th {\n",
       "        text-align: right;\n",
       "    }\n",
       "</style>\n",
       "<table border=\"1\" class=\"dataframe\">\n",
       "  <thead>\n",
       "    <tr style=\"text-align: right;\">\n",
       "      <th></th>\n",
       "      <th>Average_revenue</th>\n",
       "      <th>Total_revenue</th>\n",
       "      <th>Total_movie</th>\n",
       "    </tr>\n",
       "    <tr>\n",
       "      <th>belongs_to_collection</th>\n",
       "      <th></th>\n",
       "      <th></th>\n",
       "      <th></th>\n",
       "    </tr>\n",
       "  </thead>\n",
       "  <tbody>\n",
       "    <tr>\n",
       "      <td>Harry Potter Collection</td>\n",
       "      <td>9.633598e+08</td>\n",
       "      <td>7.706879e+09</td>\n",
       "      <td>8</td>\n",
       "    </tr>\n",
       "    <tr>\n",
       "      <td>James Bond Collection</td>\n",
       "      <td>2.827486e+08</td>\n",
       "      <td>7.068715e+09</td>\n",
       "      <td>25</td>\n",
       "    </tr>\n",
       "    <tr>\n",
       "      <td>Star Wars Collection</td>\n",
       "      <td>9.112054e+08</td>\n",
       "      <td>6.378438e+09</td>\n",
       "      <td>7</td>\n",
       "    </tr>\n",
       "    <tr>\n",
       "      <td>The Fast and the Furious Collection</td>\n",
       "      <td>6.406373e+08</td>\n",
       "      <td>5.125099e+09</td>\n",
       "      <td>8</td>\n",
       "    </tr>\n",
       "    <tr>\n",
       "      <td>Pirates of the Caribbean Collection</td>\n",
       "      <td>9.043154e+08</td>\n",
       "      <td>4.521577e+09</td>\n",
       "      <td>5</td>\n",
       "    </tr>\n",
       "    <tr>\n",
       "      <td>Transformers Collection</td>\n",
       "      <td>8.758574e+08</td>\n",
       "      <td>4.379287e+09</td>\n",
       "      <td>5</td>\n",
       "    </tr>\n",
       "    <tr>\n",
       "      <td>Jurassic Park Collection</td>\n",
       "      <td>8.948083e+08</td>\n",
       "      <td>3.579233e+09</td>\n",
       "      <td>4</td>\n",
       "    </tr>\n",
       "    <tr>\n",
       "      <td>The Twilight Collection</td>\n",
       "      <td>6.686215e+08</td>\n",
       "      <td>3.343107e+09</td>\n",
       "      <td>5</td>\n",
       "    </tr>\n",
       "    <tr>\n",
       "      <td>Ice Age Collection</td>\n",
       "      <td>6.433533e+08</td>\n",
       "      <td>3.216767e+09</td>\n",
       "      <td>5</td>\n",
       "    </tr>\n",
       "    <tr>\n",
       "      <td>Shrek Collection</td>\n",
       "      <td>7.411823e+08</td>\n",
       "      <td>2.964729e+09</td>\n",
       "      <td>4</td>\n",
       "    </tr>\n",
       "  </tbody>\n",
       "</table>\n",
       "</div>"
      ],
      "text/plain": [
       "                                     Average_revenue  Total_revenue  \\\n",
       "belongs_to_collection                                                 \n",
       "Harry Potter Collection                 9.633598e+08   7.706879e+09   \n",
       "James Bond Collection                   2.827486e+08   7.068715e+09   \n",
       "Star Wars Collection                    9.112054e+08   6.378438e+09   \n",
       "The Fast and the Furious Collection     6.406373e+08   5.125099e+09   \n",
       "Pirates of the Caribbean Collection     9.043154e+08   4.521577e+09   \n",
       "Transformers Collection                 8.758574e+08   4.379287e+09   \n",
       "Jurassic Park Collection                8.948083e+08   3.579233e+09   \n",
       "The Twilight Collection                 6.686215e+08   3.343107e+09   \n",
       "Ice Age Collection                      6.433533e+08   3.216767e+09   \n",
       "Shrek Collection                        7.411823e+08   2.964729e+09   \n",
       "\n",
       "                                     Total_movie  \n",
       "belongs_to_collection                             \n",
       "Harry Potter Collection                        8  \n",
       "James Bond Collection                         25  \n",
       "Star Wars Collection                           7  \n",
       "The Fast and the Furious Collection            8  \n",
       "Pirates of the Caribbean Collection            5  \n",
       "Transformers Collection                        5  \n",
       "Jurassic Park Collection                       4  \n",
       "The Twilight Collection                        5  \n",
       "Ice Age Collection                             5  \n",
       "Shrek Collection                               4  "
      ]
     },
     "execution_count": 51,
     "metadata": {},
     "output_type": "execute_result"
    }
   ],
   "source": [
    "collection_df.head(10)"
   ]
  },
  {
   "cell_type": "code",
   "execution_count": 52,
   "metadata": {},
   "outputs": [
    {
     "data": {
      "image/png": "[encoded data removed]",
      "text/plain": [
       "<Figure size 1080x360 with 1 Axes>"
      ]
     },
     "metadata": {
      "needs_background": "light"
     },
     "output_type": "display_data"
    }
   ],
   "source": [
    "total_revenue = collection_df[['Total_revenue']][0:15]\n",
    "total_revenue.sort_values(by = 'Total_revenue', ascending = False, inplace = True)\n",
    "_ = plt.figure(figsize = (15,5))\n",
    "_ = sns.barplot(x = total_revenue.index, y = total_revenue.Total_revenue)\n",
    "_ = plt.xticks(rotation = 30)\n",
    "_ = plt.title('Total Revenue was make each Collection')"
   ]
  },
  {
   "cell_type": "markdown",
   "metadata": {},
   "source": [
    "- Harry Potter, James Bond, Star Wars and The Fast and the Furious is top 4 with revenue.\n",
    "- These movie are so popular and alot people are like it, so it is not suprise when they are top 4 revenue in movie industry."
   ]
  },
  {
   "cell_type": "markdown",
   "metadata": {},
   "source": [
    "# Genre of movie\n",
    "- Let discover which genre are make a good money"
   ]
  },
  {
   "cell_type": "code",
   "execution_count": 53,
   "metadata": {},
   "outputs": [],
   "source": [
    "genre = df.apply(lambda x: pd.Series(x['genres']),axis=1).stack().reset_index(level=1, drop=True)\n",
    "genre.name = 'Genres'"
   ]
  },
  {
   "cell_type": "code",
   "execution_count": 54,
   "metadata": {},
   "outputs": [],
   "source": [
    "genre_df = df.drop('genres', axis=1).join(genre)"
   ]
  },
  {
   "cell_type": "code",
   "execution_count": 55,
   "metadata": {},
   "outputs": [],
   "source": [
    "genre_df_gr = genre_df.groupby('Genres').agg({'revenue': ['mean','sum','count']})\n",
    "genre_df_gr.columns = ['Avergae_revenue','Total_revenue','Total_movie']"
   ]
  },
  {
   "cell_type": "code",
   "execution_count": 56,
   "metadata": {},
   "outputs": [],
   "source": [
    "genre_df_gr.sort_values(by='Total_revenue',inplace = True, ascending = False)"
   ]
  },
  {
   "cell_type": "code",
   "execution_count": 57,
   "metadata": {},
   "outputs": [
    {
     "data": {
      "text/html": [
       "<div>\n",
       "<style scoped>\n",
       "    .dataframe tbody tr th:only-of-type {\n",
       "        vertical-align: middle;\n",
       "    }\n",
       "\n",
       "    .dataframe tbody tr th {\n",
       "        vertical-align: top;\n",
       "    }\n",
       "\n",
       "    .dataframe thead th {\n",
       "        text-align: right;\n",
       "    }\n",
       "</style>\n",
       "<table border=\"1\" class=\"dataframe\">\n",
       "  <thead>\n",
       "    <tr style=\"text-align: right;\">\n",
       "      <th></th>\n",
       "      <th>Avergae_revenue</th>\n",
       "      <th>Total_revenue</th>\n",
       "      <th>Total_movie</th>\n",
       "    </tr>\n",
       "    <tr>\n",
       "      <th>Genres</th>\n",
       "      <th></th>\n",
       "      <th></th>\n",
       "      <th></th>\n",
       "    </tr>\n",
       "  </thead>\n",
       "  <tbody>\n",
       "    <tr>\n",
       "      <td>Action</td>\n",
       "      <td>1.025900e+08</td>\n",
       "      <td>2.134897e+11</td>\n",
       "      <td>2081</td>\n",
       "    </tr>\n",
       "    <tr>\n",
       "      <td>Adventure</td>\n",
       "      <td>1.640720e+08</td>\n",
       "      <td>2.086996e+11</td>\n",
       "      <td>1272</td>\n",
       "    </tr>\n",
       "    <tr>\n",
       "      <td>Comedy</td>\n",
       "      <td>5.798689e+07</td>\n",
       "      <td>1.889213e+11</td>\n",
       "      <td>3258</td>\n",
       "    </tr>\n",
       "    <tr>\n",
       "      <td>Drama</td>\n",
       "      <td>3.835340e+07</td>\n",
       "      <td>1.773078e+11</td>\n",
       "      <td>4623</td>\n",
       "    </tr>\n",
       "    <tr>\n",
       "      <td>Thriller</td>\n",
       "      <td>6.120269e+07</td>\n",
       "      <td>1.302393e+11</td>\n",
       "      <td>2128</td>\n",
       "    </tr>\n",
       "    <tr>\n",
       "      <td>Fantasy</td>\n",
       "      <td>1.463286e+08</td>\n",
       "      <td>1.122341e+11</td>\n",
       "      <td>767</td>\n",
       "    </tr>\n",
       "    <tr>\n",
       "      <td>Family</td>\n",
       "      <td>1.299991e+08</td>\n",
       "      <td>1.080293e+11</td>\n",
       "      <td>831</td>\n",
       "    </tr>\n",
       "    <tr>\n",
       "      <td>Science Fiction</td>\n",
       "      <td>1.181741e+08</td>\n",
       "      <td>1.016297e+11</td>\n",
       "      <td>860</td>\n",
       "    </tr>\n",
       "    <tr>\n",
       "      <td>Romance</td>\n",
       "      <td>4.568787e+07</td>\n",
       "      <td>8.073046e+10</td>\n",
       "      <td>1767</td>\n",
       "    </tr>\n",
       "    <tr>\n",
       "      <td>Animation</td>\n",
       "      <td>1.467283e+08</td>\n",
       "      <td>7.189686e+10</td>\n",
       "      <td>490</td>\n",
       "    </tr>\n",
       "  </tbody>\n",
       "</table>\n",
       "</div>"
      ],
      "text/plain": [
       "                 Avergae_revenue  Total_revenue  Total_movie\n",
       "Genres                                                      \n",
       "Action              1.025900e+08   2.134897e+11         2081\n",
       "Adventure           1.640720e+08   2.086996e+11         1272\n",
       "Comedy              5.798689e+07   1.889213e+11         3258\n",
       "Drama               3.835340e+07   1.773078e+11         4623\n",
       "Thriller            6.120269e+07   1.302393e+11         2128\n",
       "Fantasy             1.463286e+08   1.122341e+11          767\n",
       "Family              1.299991e+08   1.080293e+11          831\n",
       "Science Fiction     1.181741e+08   1.016297e+11          860\n",
       "Romance             4.568787e+07   8.073046e+10         1767\n",
       "Animation           1.467283e+08   7.189686e+10          490"
      ]
     },
     "execution_count": 57,
     "metadata": {},
     "output_type": "execute_result"
    }
   ],
   "source": [
    "genre_df_gr.head(10)"
   ]
  },
  {
   "cell_type": "code",
   "execution_count": 58,
   "metadata": {},
   "outputs": [
    {
     "data": {
      "image/png": "[encoded data removed]",
      "text/plain": [
       "<Figure size 1080x360 with 1 Axes>"
      ]
     },
     "metadata": {
      "needs_background": "light"
     },
     "output_type": "display_data"
    }
   ],
   "source": [
    "genre = genre_df_gr[['Total_revenue']][1:15]\n",
    "genre.sort_values(by = 'Total_revenue', ascending = False, inplace = True)\n",
    "_ = plt.figure(figsize = (15,5))\n",
    "_ = sns.barplot(x = genre.index, y = genre.Total_revenue)\n",
    "_ = plt.xticks(rotation = 30)\n",
    "_ = plt.title('Total Revenue was make each genres')"
   ]
  },
  {
   "cell_type": "markdown",
   "metadata": {},
   "source": [
    "- Top 3 genre was have most revenue was Adventure, Comedy and Drama.\n",
    "- And War and history, and Horror are less revenue. It was make cause these type are just adult like, and horror movie not alot people like it, also it have a restrict age to watch the movie too. "
   ]
  },
  {
   "cell_type": "markdown",
   "metadata": {},
   "source": [
    "# Average vote"
   ]
  },
  {
   "cell_type": "code",
   "execution_count": 59,
   "metadata": {},
   "outputs": [],
   "source": [
    "vote_df = pd.DataFrame(df[~df.vote_average.isna()][['title','genres','vote_average','year','vote_count','popularity']])"
   ]
  },
  {
   "cell_type": "code",
   "execution_count": 60,
   "metadata": {},
   "outputs": [
    {
     "name": "stdout",
     "output_type": "stream",
     "text": [
      "<class 'pandas.core.frame.DataFrame'>\n",
      "Int64Index: 189314 entries, 0 to 210551\n",
      "Data columns (total 6 columns):\n",
      "title           189314 non-null object\n",
      "genres          189314 non-null object\n",
      "vote_average    189314 non-null float64\n",
      "year            189314 non-null int64\n",
      "vote_count      77367 non-null float64\n",
      "popularity      189287 non-null float64\n",
      "dtypes: float64(3), int64(1), object(2)\n",
      "memory usage: 10.1+ MB\n"
     ]
    }
   ],
   "source": [
    "vote_df.info()"
   ]
  },
  {
   "cell_type": "code",
   "execution_count": 61,
   "metadata": {},
   "outputs": [],
   "source": [
    "## we assume that vote 0 it mean we doestn have data, so we replace it with na\n",
    "vote_df['vote_average']= vote_df.vote_average.replace(0,np.nan)"
   ]
  },
  {
   "cell_type": "code",
   "execution_count": 62,
   "metadata": {},
   "outputs": [],
   "source": [
    "## 60% of our vote_average are missing\n",
    "## So we cant not just fill missing value with median or average. I decide to remove all the missing \n",
    "## Now we just base on the data we have to tell above movie vote_average\n",
    "vote_df = vote_df[~vote_df.vote_average.isna()]"
   ]
  },
  {
   "cell_type": "code",
   "execution_count": 63,
   "metadata": {},
   "outputs": [],
   "source": [
    "vote_df['vote_count'].fillna(vote_df['vote_count'].median(), inplace = True)"
   ]
  },
  {
   "cell_type": "code",
   "execution_count": 64,
   "metadata": {},
   "outputs": [
    {
     "data": {
      "text/html": [
       "<div>\n",
       "<style scoped>\n",
       "    .dataframe tbody tr th:only-of-type {\n",
       "        vertical-align: middle;\n",
       "    }\n",
       "\n",
       "    .dataframe tbody tr th {\n",
       "        vertical-align: top;\n",
       "    }\n",
       "\n",
       "    .dataframe thead th {\n",
       "        text-align: right;\n",
       "    }\n",
       "</style>\n",
       "<table border=\"1\" class=\"dataframe\">\n",
       "  <thead>\n",
       "    <tr style=\"text-align: right;\">\n",
       "      <th></th>\n",
       "      <th>title</th>\n",
       "      <th>genres</th>\n",
       "      <th>vote_average</th>\n",
       "      <th>year</th>\n",
       "      <th>vote_count</th>\n",
       "      <th>popularity</th>\n",
       "    </tr>\n",
       "  </thead>\n",
       "  <tbody>\n",
       "    <tr>\n",
       "      <td>84290</td>\n",
       "      <td>Premiata Forneria Marconi - PFM in Classic da ...</td>\n",
       "      <td>[]</td>\n",
       "      <td>10.0</td>\n",
       "      <td>2013</td>\n",
       "      <td>15.0</td>\n",
       "      <td>0.600</td>\n",
       "    </tr>\n",
       "    <tr>\n",
       "      <td>49613</td>\n",
       "      <td>Technicolor Dream</td>\n",
       "      <td>[]</td>\n",
       "      <td>10.0</td>\n",
       "      <td>2017</td>\n",
       "      <td>1.0</td>\n",
       "      <td>0.634</td>\n",
       "    </tr>\n",
       "    <tr>\n",
       "      <td>136597</td>\n",
       "      <td>Traces in the Sand</td>\n",
       "      <td>[]</td>\n",
       "      <td>10.0</td>\n",
       "      <td>1954</td>\n",
       "      <td>15.0</td>\n",
       "      <td>0.600</td>\n",
       "    </tr>\n",
       "    <tr>\n",
       "      <td>68703</td>\n",
       "      <td>Expedition Sasquatch</td>\n",
       "      <td>[Documentary]</td>\n",
       "      <td>10.0</td>\n",
       "      <td>2018</td>\n",
       "      <td>1.0</td>\n",
       "      <td>0.641</td>\n",
       "    </tr>\n",
       "    <tr>\n",
       "      <td>136556</td>\n",
       "      <td>O Cinema Que Não Se Vê</td>\n",
       "      <td>[Documentary]</td>\n",
       "      <td>10.0</td>\n",
       "      <td>2018</td>\n",
       "      <td>15.0</td>\n",
       "      <td>0.600</td>\n",
       "    </tr>\n",
       "  </tbody>\n",
       "</table>\n",
       "</div>"
      ],
      "text/plain": [
       "                                                    title         genres  \\\n",
       "84290   Premiata Forneria Marconi - PFM in Classic da ...             []   \n",
       "49613                                   Technicolor Dream             []   \n",
       "136597                                 Traces in the Sand             []   \n",
       "68703                                Expedition Sasquatch  [Documentary]   \n",
       "136556                             O Cinema Que Não Se Vê  [Documentary]   \n",
       "\n",
       "        vote_average  year  vote_count  popularity  \n",
       "84290           10.0  2013        15.0       0.600  \n",
       "49613           10.0  2017         1.0       0.634  \n",
       "136597          10.0  1954        15.0       0.600  \n",
       "68703           10.0  2018         1.0       0.641  \n",
       "136556          10.0  2018        15.0       0.600  "
      ]
     },
     "execution_count": 64,
     "metadata": {},
     "output_type": "execute_result"
    }
   ],
   "source": [
    "vote_df.sort_values(by ='vote_average', ascending = False, inplace = True)\n",
    "vote_df.head()"
   ]
  },
  {
   "cell_type": "code",
   "execution_count": 65,
   "metadata": {},
   "outputs": [
    {
     "data": {
      "text/html": [
       "<div>\n",
       "<style scoped>\n",
       "    .dataframe tbody tr th:only-of-type {\n",
       "        vertical-align: middle;\n",
       "    }\n",
       "\n",
       "    .dataframe tbody tr th {\n",
       "        vertical-align: top;\n",
       "    }\n",
       "\n",
       "    .dataframe thead th {\n",
       "        text-align: right;\n",
       "    }\n",
       "</style>\n",
       "<table border=\"1\" class=\"dataframe\">\n",
       "  <thead>\n",
       "    <tr style=\"text-align: right;\">\n",
       "      <th></th>\n",
       "      <th>vote_average</th>\n",
       "      <th>year</th>\n",
       "      <th>vote_count</th>\n",
       "      <th>popularity</th>\n",
       "    </tr>\n",
       "  </thead>\n",
       "  <tbody>\n",
       "    <tr>\n",
       "      <td>count</td>\n",
       "      <td>71603.000000</td>\n",
       "      <td>71603.000000</td>\n",
       "      <td>71603.000000</td>\n",
       "      <td>71602.000000</td>\n",
       "    </tr>\n",
       "    <tr>\n",
       "      <td>mean</td>\n",
       "      <td>6.318632</td>\n",
       "      <td>1997.855453</td>\n",
       "      <td>153.658017</td>\n",
       "      <td>3.725849</td>\n",
       "    </tr>\n",
       "    <tr>\n",
       "      <td>std</td>\n",
       "      <td>1.568004</td>\n",
       "      <td>23.932855</td>\n",
       "      <td>807.867667</td>\n",
       "      <td>4.605601</td>\n",
       "    </tr>\n",
       "    <tr>\n",
       "      <td>min</td>\n",
       "      <td>0.500000</td>\n",
       "      <td>1874.000000</td>\n",
       "      <td>1.000000</td>\n",
       "      <td>0.600000</td>\n",
       "    </tr>\n",
       "    <tr>\n",
       "      <td>25%</td>\n",
       "      <td>5.500000</td>\n",
       "      <td>1987.000000</td>\n",
       "      <td>7.000000</td>\n",
       "      <td>0.988000</td>\n",
       "    </tr>\n",
       "    <tr>\n",
       "      <td>50%</td>\n",
       "      <td>6.300000</td>\n",
       "      <td>2008.000000</td>\n",
       "      <td>15.000000</td>\n",
       "      <td>2.314500</td>\n",
       "    </tr>\n",
       "    <tr>\n",
       "      <td>75%</td>\n",
       "      <td>7.100000</td>\n",
       "      <td>2016.000000</td>\n",
       "      <td>33.000000</td>\n",
       "      <td>4.455000</td>\n",
       "    </tr>\n",
       "    <tr>\n",
       "      <td>max</td>\n",
       "      <td>10.000000</td>\n",
       "      <td>2019.000000</td>\n",
       "      <td>25362.000000</td>\n",
       "      <td>129.205000</td>\n",
       "    </tr>\n",
       "  </tbody>\n",
       "</table>\n",
       "</div>"
      ],
      "text/plain": [
       "       vote_average          year    vote_count    popularity\n",
       "count  71603.000000  71603.000000  71603.000000  71602.000000\n",
       "mean       6.318632   1997.855453    153.658017      3.725849\n",
       "std        1.568004     23.932855    807.867667      4.605601\n",
       "min        0.500000   1874.000000      1.000000      0.600000\n",
       "25%        5.500000   1987.000000      7.000000      0.988000\n",
       "50%        6.300000   2008.000000     15.000000      2.314500\n",
       "75%        7.100000   2016.000000     33.000000      4.455000\n",
       "max       10.000000   2019.000000  25362.000000    129.205000"
      ]
     },
     "execution_count": 65,
     "metadata": {},
     "output_type": "execute_result"
    }
   ],
   "source": [
    "vote_df.describe()"
   ]
  },
  {
   "cell_type": "code",
   "execution_count": 66,
   "metadata": {},
   "outputs": [
    {
     "data": {
      "image/png": "[encoded data removed]",
      "text/plain": [
       "<Figure size 1080x360 with 2 Axes>"
      ]
     },
     "metadata": {
      "needs_background": "light"
     },
     "output_type": "display_data"
    }
   ],
   "source": [
    "_ = plt.figure(figsize= (15,5))\n",
    "_ = plt.subplot(1,2,1)\n",
    "_ = sns.distplot(vote_df.vote_average)\n",
    "_ = plt.title('Vote Average')\n",
    "_ = plt.subplot(1,2,2)\n",
    "_ = sns.distplot(vote_df.popularity.fillna(vote_df.popularity.median()))\n",
    "_ = plt.title('Popularity')"
   ]
  },
  {
   "cell_type": "code",
   "execution_count": 67,
   "metadata": {},
   "outputs": [],
   "source": [
    "### Vote count great than 2000\n",
    "\n",
    "vote_df_2000 = vote_df[vote_df.vote_count > 2000]"
   ]
  },
  {
   "cell_type": "code",
   "execution_count": 68,
   "metadata": {},
   "outputs": [
    {
     "data": {
      "text/html": [
       "<div>\n",
       "<style scoped>\n",
       "    .dataframe tbody tr th:only-of-type {\n",
       "        vertical-align: middle;\n",
       "    }\n",
       "\n",
       "    .dataframe tbody tr th {\n",
       "        vertical-align: top;\n",
       "    }\n",
       "\n",
       "    .dataframe thead th {\n",
       "        text-align: right;\n",
       "    }\n",
       "</style>\n",
       "<table border=\"1\" class=\"dataframe\">\n",
       "  <thead>\n",
       "    <tr style=\"text-align: right;\">\n",
       "      <th></th>\n",
       "      <th>vote_average</th>\n",
       "      <th>year</th>\n",
       "      <th>vote_count</th>\n",
       "      <th>popularity</th>\n",
       "    </tr>\n",
       "  </thead>\n",
       "  <tbody>\n",
       "    <tr>\n",
       "      <td>count</td>\n",
       "      <td>1240.000000</td>\n",
       "      <td>1240.000000</td>\n",
       "      <td>1240.000000</td>\n",
       "      <td>1240.000000</td>\n",
       "    </tr>\n",
       "    <tr>\n",
       "      <td>mean</td>\n",
       "      <td>6.924274</td>\n",
       "      <td>2004.835484</td>\n",
       "      <td>4967.919355</td>\n",
       "      <td>22.860356</td>\n",
       "    </tr>\n",
       "    <tr>\n",
       "      <td>std</td>\n",
       "      <td>0.757241</td>\n",
       "      <td>12.658054</td>\n",
       "      <td>3439.947728</td>\n",
       "      <td>10.740846</td>\n",
       "    </tr>\n",
       "    <tr>\n",
       "      <td>min</td>\n",
       "      <td>4.300000</td>\n",
       "      <td>1936.000000</td>\n",
       "      <td>2001.000000</td>\n",
       "      <td>0.600000</td>\n",
       "    </tr>\n",
       "    <tr>\n",
       "      <td>25%</td>\n",
       "      <td>6.400000</td>\n",
       "      <td>2001.000000</td>\n",
       "      <td>2594.000000</td>\n",
       "      <td>16.956250</td>\n",
       "    </tr>\n",
       "    <tr>\n",
       "      <td>50%</td>\n",
       "      <td>6.900000</td>\n",
       "      <td>2008.000000</td>\n",
       "      <td>3721.500000</td>\n",
       "      <td>20.510000</td>\n",
       "    </tr>\n",
       "    <tr>\n",
       "      <td>75%</td>\n",
       "      <td>7.500000</td>\n",
       "      <td>2013.000000</td>\n",
       "      <td>5932.500000</td>\n",
       "      <td>26.180750</td>\n",
       "    </tr>\n",
       "    <tr>\n",
       "      <td>max</td>\n",
       "      <td>8.800000</td>\n",
       "      <td>2019.000000</td>\n",
       "      <td>25362.000000</td>\n",
       "      <td>129.205000</td>\n",
       "    </tr>\n",
       "  </tbody>\n",
       "</table>\n",
       "</div>"
      ],
      "text/plain": [
       "       vote_average         year    vote_count   popularity\n",
       "count   1240.000000  1240.000000   1240.000000  1240.000000\n",
       "mean       6.924274  2004.835484   4967.919355    22.860356\n",
       "std        0.757241    12.658054   3439.947728    10.740846\n",
       "min        4.300000  1936.000000   2001.000000     0.600000\n",
       "25%        6.400000  2001.000000   2594.000000    16.956250\n",
       "50%        6.900000  2008.000000   3721.500000    20.510000\n",
       "75%        7.500000  2013.000000   5932.500000    26.180750\n",
       "max        8.800000  2019.000000  25362.000000   129.205000"
      ]
     },
     "execution_count": 68,
     "metadata": {},
     "output_type": "execute_result"
    }
   ],
   "source": [
    "vote_df_2000.describe()"
   ]
  },
  {
   "cell_type": "code",
   "execution_count": 69,
   "metadata": {},
   "outputs": [
    {
     "data": {
      "text/html": [
       "<div>\n",
       "<style scoped>\n",
       "    .dataframe tbody tr th:only-of-type {\n",
       "        vertical-align: middle;\n",
       "    }\n",
       "\n",
       "    .dataframe tbody tr th {\n",
       "        vertical-align: top;\n",
       "    }\n",
       "\n",
       "    .dataframe thead th {\n",
       "        text-align: right;\n",
       "    }\n",
       "</style>\n",
       "<table border=\"1\" class=\"dataframe\">\n",
       "  <thead>\n",
       "    <tr style=\"text-align: right;\">\n",
       "      <th></th>\n",
       "      <th>title</th>\n",
       "      <th>genres</th>\n",
       "      <th>vote_average</th>\n",
       "      <th>year</th>\n",
       "      <th>vote_count</th>\n",
       "      <th>popularity</th>\n",
       "    </tr>\n",
       "  </thead>\n",
       "  <tbody>\n",
       "    <tr>\n",
       "      <td>10288</td>\n",
       "      <td>Dilwale Dulhania Le Jayenge</td>\n",
       "      <td>[Comedy, Drama, Romance]</td>\n",
       "      <td>8.8</td>\n",
       "      <td>1995</td>\n",
       "      <td>2247.0</td>\n",
       "      <td>30.290</td>\n",
       "    </tr>\n",
       "    <tr>\n",
       "      <td>314</td>\n",
       "      <td>The Shawshank Redemption</td>\n",
       "      <td>[Drama, Crime]</td>\n",
       "      <td>8.7</td>\n",
       "      <td>1994</td>\n",
       "      <td>15772.0</td>\n",
       "      <td>60.107</td>\n",
       "    </tr>\n",
       "    <tr>\n",
       "      <td>834</td>\n",
       "      <td>The Godfather</td>\n",
       "      <td>[Drama, Crime]</td>\n",
       "      <td>8.7</td>\n",
       "      <td>1972</td>\n",
       "      <td>11969.0</td>\n",
       "      <td>54.408</td>\n",
       "    </tr>\n",
       "    <tr>\n",
       "      <td>522</td>\n",
       "      <td>Schindler's List</td>\n",
       "      <td>[Drama, History, War]</td>\n",
       "      <td>8.6</td>\n",
       "      <td>1993</td>\n",
       "      <td>9499.0</td>\n",
       "      <td>35.534</td>\n",
       "    </tr>\n",
       "    <tr>\n",
       "      <td>2211</td>\n",
       "      <td>Life Is Beautiful</td>\n",
       "      <td>[Comedy, Drama]</td>\n",
       "      <td>8.5</td>\n",
       "      <td>1997</td>\n",
       "      <td>8616.0</td>\n",
       "      <td>30.194</td>\n",
       "    </tr>\n",
       "    <tr>\n",
       "      <td>1178</td>\n",
       "      <td>The Godfather: Part II</td>\n",
       "      <td>[Drama, Crime]</td>\n",
       "      <td>8.5</td>\n",
       "      <td>1974</td>\n",
       "      <td>7058.0</td>\n",
       "      <td>36.223</td>\n",
       "    </tr>\n",
       "    <tr>\n",
       "      <td>66260</td>\n",
       "      <td>Parasite</td>\n",
       "      <td>[Comedy, Thriller, Drama]</td>\n",
       "      <td>8.5</td>\n",
       "      <td>2019</td>\n",
       "      <td>6496.0</td>\n",
       "      <td>91.695</td>\n",
       "    </tr>\n",
       "    <tr>\n",
       "      <td>3030</td>\n",
       "      <td>The Green Mile</td>\n",
       "      <td>[Fantasy, Drama, Crime]</td>\n",
       "      <td>8.5</td>\n",
       "      <td>1999</td>\n",
       "      <td>9935.0</td>\n",
       "      <td>31.193</td>\n",
       "    </tr>\n",
       "    <tr>\n",
       "      <td>39940</td>\n",
       "      <td>Your Name.</td>\n",
       "      <td>[Romance, Animation, Drama]</td>\n",
       "      <td>8.5</td>\n",
       "      <td>2016</td>\n",
       "      <td>5315.0</td>\n",
       "      <td>32.500</td>\n",
       "    </tr>\n",
       "    <tr>\n",
       "      <td>5481</td>\n",
       "      <td>Spirited Away</td>\n",
       "      <td>[Animation, Family, Fantasy]</td>\n",
       "      <td>8.5</td>\n",
       "      <td>2001</td>\n",
       "      <td>9148.0</td>\n",
       "      <td>36.899</td>\n",
       "    </tr>\n",
       "  </tbody>\n",
       "</table>\n",
       "</div>"
      ],
      "text/plain": [
       "                             title                        genres  \\\n",
       "10288  Dilwale Dulhania Le Jayenge      [Comedy, Drama, Romance]   \n",
       "314       The Shawshank Redemption                [Drama, Crime]   \n",
       "834                  The Godfather                [Drama, Crime]   \n",
       "522               Schindler's List         [Drama, History, War]   \n",
       "2211             Life Is Beautiful               [Comedy, Drama]   \n",
       "1178        The Godfather: Part II                [Drama, Crime]   \n",
       "66260                     Parasite     [Comedy, Thriller, Drama]   \n",
       "3030                The Green Mile       [Fantasy, Drama, Crime]   \n",
       "39940                   Your Name.   [Romance, Animation, Drama]   \n",
       "5481                 Spirited Away  [Animation, Family, Fantasy]   \n",
       "\n",
       "       vote_average  year  vote_count  popularity  \n",
       "10288           8.8  1995      2247.0      30.290  \n",
       "314             8.7  1994     15772.0      60.107  \n",
       "834             8.7  1972     11969.0      54.408  \n",
       "522             8.6  1993      9499.0      35.534  \n",
       "2211            8.5  1997      8616.0      30.194  \n",
       "1178            8.5  1974      7058.0      36.223  \n",
       "66260           8.5  2019      6496.0      91.695  \n",
       "3030            8.5  1999      9935.0      31.193  \n",
       "39940           8.5  2016      5315.0      32.500  \n",
       "5481            8.5  2001      9148.0      36.899  "
      ]
     },
     "execution_count": 69,
     "metadata": {},
     "output_type": "execute_result"
    }
   ],
   "source": [
    "vote_df_2000 = vote_df_2000.sort_values(by ='vote_average', ascending = False)\n",
    "vote_df_2000.head(10)"
   ]
  },
  {
   "cell_type": "code",
   "execution_count": null,
   "metadata": {},
   "outputs": [],
   "source": []
  },
  {
   "cell_type": "markdown",
   "metadata": {},
   "source": [
    "# Let view our data relation"
   ]
  },
  {
   "cell_type": "markdown",
   "metadata": {},
   "source": [
    "- Now let check the correlation of each column.\n",
    "- We create new data time, with have no missing value"
   ]
  },
  {
   "cell_type": "code",
   "execution_count": 70,
   "metadata": {},
   "outputs": [],
   "source": [
    "new_df = df[~df.ratio_revenue.isna()]"
   ]
  },
  {
   "cell_type": "code",
   "execution_count": 71,
   "metadata": {},
   "outputs": [],
   "source": [
    "new_df_1 = new_df[['budget','popularity','revenue','vote_average','runtime','vote_count','ratio_revenue']]"
   ]
  },
  {
   "cell_type": "code",
   "execution_count": 72,
   "metadata": {},
   "outputs": [],
   "source": [
    "corr = new_df_1.corr()"
   ]
  },
  {
   "cell_type": "code",
   "execution_count": 73,
   "metadata": {},
   "outputs": [
    {
     "data": {
      "text/html": [
       "<div>\n",
       "<style scoped>\n",
       "    .dataframe tbody tr th:only-of-type {\n",
       "        vertical-align: middle;\n",
       "    }\n",
       "\n",
       "    .dataframe tbody tr th {\n",
       "        vertical-align: top;\n",
       "    }\n",
       "\n",
       "    .dataframe thead th {\n",
       "        text-align: right;\n",
       "    }\n",
       "</style>\n",
       "<table border=\"1\" class=\"dataframe\">\n",
       "  <thead>\n",
       "    <tr style=\"text-align: right;\">\n",
       "      <th></th>\n",
       "      <th>budget</th>\n",
       "      <th>popularity</th>\n",
       "      <th>revenue</th>\n",
       "      <th>vote_average</th>\n",
       "      <th>runtime</th>\n",
       "      <th>vote_count</th>\n",
       "      <th>ratio_revenue</th>\n",
       "    </tr>\n",
       "  </thead>\n",
       "  <tbody>\n",
       "    <tr>\n",
       "      <td>budget</td>\n",
       "      <td>1.000000</td>\n",
       "      <td>0.088243</td>\n",
       "      <td>0.138193</td>\n",
       "      <td>-0.041993</td>\n",
       "      <td>-0.012755</td>\n",
       "      <td>0.583655</td>\n",
       "      <td>-0.003023</td>\n",
       "    </tr>\n",
       "    <tr>\n",
       "      <td>popularity</td>\n",
       "      <td>0.088243</td>\n",
       "      <td>1.000000</td>\n",
       "      <td>0.612238</td>\n",
       "      <td>0.308401</td>\n",
       "      <td>0.224916</td>\n",
       "      <td>0.765559</td>\n",
       "      <td>-0.011527</td>\n",
       "    </tr>\n",
       "    <tr>\n",
       "      <td>revenue</td>\n",
       "      <td>0.138193</td>\n",
       "      <td>0.612238</td>\n",
       "      <td>1.000000</td>\n",
       "      <td>0.151412</td>\n",
       "      <td>0.180604</td>\n",
       "      <td>0.772701</td>\n",
       "      <td>-0.009124</td>\n",
       "    </tr>\n",
       "    <tr>\n",
       "      <td>vote_average</td>\n",
       "      <td>-0.041993</td>\n",
       "      <td>0.308401</td>\n",
       "      <td>0.151412</td>\n",
       "      <td>1.000000</td>\n",
       "      <td>0.352408</td>\n",
       "      <td>0.295343</td>\n",
       "      <td>0.000269</td>\n",
       "    </tr>\n",
       "    <tr>\n",
       "      <td>runtime</td>\n",
       "      <td>-0.012755</td>\n",
       "      <td>0.224916</td>\n",
       "      <td>0.180604</td>\n",
       "      <td>0.352408</td>\n",
       "      <td>1.000000</td>\n",
       "      <td>0.188074</td>\n",
       "      <td>-0.009568</td>\n",
       "    </tr>\n",
       "    <tr>\n",
       "      <td>vote_count</td>\n",
       "      <td>0.583655</td>\n",
       "      <td>0.765559</td>\n",
       "      <td>0.772701</td>\n",
       "      <td>0.295343</td>\n",
       "      <td>0.188074</td>\n",
       "      <td>1.000000</td>\n",
       "      <td>-0.010701</td>\n",
       "    </tr>\n",
       "    <tr>\n",
       "      <td>ratio_revenue</td>\n",
       "      <td>-0.003023</td>\n",
       "      <td>-0.011527</td>\n",
       "      <td>-0.009124</td>\n",
       "      <td>0.000269</td>\n",
       "      <td>-0.009568</td>\n",
       "      <td>-0.010701</td>\n",
       "      <td>1.000000</td>\n",
       "    </tr>\n",
       "  </tbody>\n",
       "</table>\n",
       "</div>"
      ],
      "text/plain": [
       "                 budget  popularity   revenue  vote_average   runtime  \\\n",
       "budget         1.000000    0.088243  0.138193     -0.041993 -0.012755   \n",
       "popularity     0.088243    1.000000  0.612238      0.308401  0.224916   \n",
       "revenue        0.138193    0.612238  1.000000      0.151412  0.180604   \n",
       "vote_average  -0.041993    0.308401  0.151412      1.000000  0.352408   \n",
       "runtime       -0.012755    0.224916  0.180604      0.352408  1.000000   \n",
       "vote_count     0.583655    0.765559  0.772701      0.295343  0.188074   \n",
       "ratio_revenue -0.003023   -0.011527 -0.009124      0.000269 -0.009568   \n",
       "\n",
       "               vote_count  ratio_revenue  \n",
       "budget           0.583655      -0.003023  \n",
       "popularity       0.765559      -0.011527  \n",
       "revenue          0.772701      -0.009124  \n",
       "vote_average     0.295343       0.000269  \n",
       "runtime          0.188074      -0.009568  \n",
       "vote_count       1.000000      -0.010701  \n",
       "ratio_revenue   -0.010701       1.000000  "
      ]
     },
     "execution_count": 73,
     "metadata": {},
     "output_type": "execute_result"
    }
   ],
   "source": [
    "corr"
   ]
  },
  {
   "cell_type": "code",
   "execution_count": 74,
   "metadata": {},
   "outputs": [
    {
     "data": {
      "image/png": "[encoded data removed]",
      "text/plain": [
       "<Figure size 1080x360 with 2 Axes>"
      ]
     },
     "metadata": {
      "needs_background": "light"
     },
     "output_type": "display_data"
    }
   ],
   "source": [
    "_ = plt.figure(figsize = (15,5))\n",
    "_ = sns.heatmap(corr, xticklabels= corr.columns.values, yticklabels= corr.columns.values)\n",
    "_ = plt.title"
   ]
  },
  {
   "cell_type": "markdown",
   "metadata": {},
   "source": [
    "- The correlation is show our data not have much correlation of data.\n",
    "- Vote_count and revenue are have correlation, so let we get investage is that true if we get more people count, the we will have more revenue\n",
    "- We expect that movie have more buget will have more revenue, but data show that they are not correlation\n",
    "- Let make a pairplot for vote_count and revenue, so we can get better idea"
   ]
  },
  {
   "cell_type": "code",
   "execution_count": 75,
   "metadata": {},
   "outputs": [
    {
     "name": "stderr",
     "output_type": "stream",
     "text": [
      "/Users/hungnguyen/miniconda3/lib/python3.7/site-packages/numpy/lib/histograms.py:829: RuntimeWarning: invalid value encountered in greater_equal\n",
      "  keep = (tmp_a >= first_edge)\n",
      "/Users/hungnguyen/miniconda3/lib/python3.7/site-packages/numpy/lib/histograms.py:830: RuntimeWarning: invalid value encountered in less_equal\n",
      "  keep &= (tmp_a <= last_edge)\n"
     ]
    },
    {
     "data": {
      "text/plain": [
       "<Figure size 1080x360 with 0 Axes>"
      ]
     },
     "metadata": {},
     "output_type": "display_data"
    },
    {
     "data": {
      "image/png": "[encoded data removed]",
      "text/plain": [
       "<Figure size 540x540 with 12 Axes>"
      ]
     },
     "metadata": {
      "needs_background": "light"
     },
     "output_type": "display_data"
    }
   ],
   "source": [
    "vote_revenue = pd.DataFrame(new_df[['vote_count','revenue','popularity']])\n",
    "_ = plt.figure(figsize = (15,5))\n",
    "_ = sns.pairplot(vote_revenue)"
   ]
  },
  {
   "cell_type": "markdown",
   "metadata": {},
   "source": [
    "- They are not much correlation with each other, they wasnt strong enough for us to get result from each other.\n",
    "- We are assuming it if we have more budget put on the movie, then it will lead us the movie more success, to answer this let see out relation of it\n"
   ]
  },
  {
   "cell_type": "markdown",
   "metadata": {},
   "source": [
    "# Inferential Statistic"
   ]
  },
  {
   "cell_type": "code",
   "execution_count": 76,
   "metadata": {},
   "outputs": [
    {
     "name": "stderr",
     "output_type": "stream",
     "text": [
      "/Users/hungnguyen/miniconda3/lib/python3.7/site-packages/ipykernel_launcher.py:1: SettingWithCopyWarning: \n",
      "A value is trying to be set on a copy of a slice from a DataFrame.\n",
      "Try using .loc[row_indexer,col_indexer] = value instead\n",
      "\n",
      "See the caveats in the documentation: http://pandas.pydata.org/pandas-docs/stable/user_guide/indexing.html#returning-a-view-versus-a-copy\n",
      "  \"\"\"Entry point for launching an IPython kernel.\n"
     ]
    }
   ],
   "source": [
    "new_df['success_fail'] = new_df.ratio_revenue.apply(lambda x: 1 if x > 1 else 0)"
   ]
  },
  {
   "cell_type": "code",
   "execution_count": 77,
   "metadata": {},
   "outputs": [],
   "source": [
    "## Create a new subset for budget and success or fail only\n",
    "new_df_1 = pd.DataFrame(new_df[['budget', 'success_fail', 'runtime']])\n",
    "## seperate the success and fail and then we apply statisic to compare them\n",
    "success_df = new_df_1[new_df_1.success_fail == 1]\n",
    "success = success_df.budget\n",
    "fail_df = new_df_1[new_df_1.success_fail == 0]\n",
    "fail = fail_df.budget"
   ]
  },
  {
   "cell_type": "markdown",
   "metadata": {},
   "source": [
    "- Before we do inferential statistic, we need remove the outlier of our data sample\n",
    "- Use boxplot to determine the outlier."
   ]
  },
  {
   "cell_type": "code",
   "execution_count": 78,
   "metadata": {},
   "outputs": [
    {
     "data": {
      "image/png": "[encoded data removed]",
      "text/plain": [
       "<Figure size 1080x360 with 2 Axes>"
      ]
     },
     "metadata": {
      "needs_background": "light"
     },
     "output_type": "display_data"
    }
   ],
   "source": [
    "_ = plt.figure(figsize = (15,5))\n",
    "_ = plt.subplot(1,2,1)\n",
    "_ = sns.boxplot(y = success)\n",
    "_ = plt.title('Success_movie')\n",
    "_ = plt.subplot(1,2,2)\n",
    "_ = sns.boxplot(y= fail)\n",
    "_ = plt.title('Fail_movie')"
   ]
  },
  {
   "cell_type": "markdown",
   "metadata": {},
   "source": [
    "- The fail movie have 1 point so much larger than our data, so we havent see it clear where our boxplot, but let perform step by step to remove the outlier, then we come up with out fail_movie have was fall below 47M\n",
    "- And the success movie is easy, we can see that out success movie budget will have fall bellow 56M"
   ]
  },
  {
   "cell_type": "code",
   "execution_count": 79,
   "metadata": {},
   "outputs": [
    {
     "data": {
      "image/png": "[encoded data removed]",
      "text/plain": [
       "<Figure size 1080x360 with 2 Axes>"
      ]
     },
     "metadata": {
      "needs_background": "light"
     },
     "output_type": "display_data"
    }
   ],
   "source": [
    "success_df = success_df[success_df.budget < 56000000]\n",
    "success = success_df.budget\n",
    "fail_df = fail_df[fail_df.budget < 47000000]\n",
    "fail = fail_df.budget\n",
    "\n",
    "_ = plt.figure(figsize = (15,5))\n",
    "_ = plt.subplot(1,2,1)\n",
    "_ = sns.boxplot(y = success)\n",
    "_ = plt.title('Success_movie')\n",
    "_ = plt.subplot(1,2,2)\n",
    "_ = sns.boxplot(y= fail)\n",
    "_ = plt.title('Fail_movie')"
   ]
  },
  {
   "cell_type": "code",
   "execution_count": 80,
   "metadata": {},
   "outputs": [
    {
     "name": "stdout",
     "output_type": "stream",
     "text": [
      "Mean of Success movie: 14320420.0\n",
      "Mean of Fail movie: 12881658.0\n"
     ]
    }
   ],
   "source": [
    "## Calculation mean of success and fail movie\n",
    "\n",
    "print ('Mean of Success movie: ' + str(round(np.mean(success))))\n",
    "print ('Mean of Fail movie: ' + str(round(np.mean(fail))))"
   ]
  },
  {
   "cell_type": "markdown",
   "metadata": {},
   "source": [
    "- The mean of success movie are around 14M\n",
    "- And the mean of fail movie are around 13M\n",
    "- Now we use the bootstrapping sampling to see if it is the mean of success movie around 1.4M and fail around 1.3M"
   ]
  },
  {
   "cell_type": "code",
   "execution_count": 81,
   "metadata": {},
   "outputs": [],
   "source": [
    "## Bootstrapping\n",
    "np.random.seed(42)\n",
    "def bs_replicate_id(data, func):\n",
    "    temp = np.random.choice(data, len(data))\n",
    "    return func(temp)\n",
    "def draw_bs_replicate(data, func, size = 1):\n",
    "    bs_replicates = np.empty(size)\n",
    "    for i in range(size):\n",
    "        bs_replicates[i] = bs_replicate_id(data, func)\n",
    "    return bs_replicates\n",
    "    \n",
    "success_sampling = draw_bs_replicate(success, np.mean, 1000)\n",
    "fail_sampling = draw_bs_replicate(fail, np.mean, 1000)"
   ]
  },
  {
   "cell_type": "code",
   "execution_count": 82,
   "metadata": {},
   "outputs": [
    {
     "data": {
      "image/png": "[encoded data removed]",
      "text/plain": [
       "<Figure size 1080x360 with 2 Axes>"
      ]
     },
     "metadata": {
      "needs_background": "light"
     },
     "output_type": "display_data"
    }
   ],
   "source": [
    "_ = plt.figure(figsize=(15,5))\n",
    "_ = plt.subplot(1,2,1)\n",
    "_ = plt.hist(success, bins = 40)\n",
    "_ = plt.title('Origin histogram of budget success movie')\n",
    "_ = plt.subplot(1,2,2)\n",
    "_ = sns.distplot(success_sampling, bins = 40)\n",
    "_ = plt.title('After sampling mean of budget success movie')\n"
   ]
  },
  {
   "cell_type": "code",
   "execution_count": 83,
   "metadata": {},
   "outputs": [
    {
     "data": {
      "image/png": "[encoded data removed]",
      "text/plain": [
       "<Figure size 1080x360 with 2 Axes>"
      ]
     },
     "metadata": {
      "needs_background": "light"
     },
     "output_type": "display_data"
    }
   ],
   "source": [
    "_ = plt.figure(figsize=(15,5))\n",
    "_ = plt.subplot(1,2,1)\n",
    "_ = plt.hist(fail, bins = 40)\n",
    "_ = plt.title('Origin histogram of budget fail movie')\n",
    "_ = plt.subplot(1,2,2)\n",
    "_ = sns.distplot(fail_sampling, bins = 40)\n",
    "_ = plt.title('After sampling mean of budget fail movie')\n"
   ]
  },
  {
   "cell_type": "code",
   "execution_count": 84,
   "metadata": {},
   "outputs": [
    {
     "name": "stdout",
     "output_type": "stream",
     "text": [
      "After bootstrap sampling mean of success movie: 14324207.0\n",
      "After bootstrap sampling mean of fail movie: 12885716.0\n"
     ]
    }
   ],
   "source": [
    "print ('After bootstrap sampling mean of success movie: ' + str(round(np.mean(success_sampling))))\n",
    "print ('After bootstrap sampling mean of fail movie: ' + str(round(np.mean(fail_sampling))))"
   ]
  },
  {
   "cell_type": "markdown",
   "metadata": {},
   "source": [
    "- After we do bootstrapping sampling, random choice from data and calculation the mean, we can tell that we mean of success movie are around 14M and fail movie are 13M "
   ]
  },
  {
   "cell_type": "code",
   "execution_count": 85,
   "metadata": {},
   "outputs": [
    {
     "name": "stdout",
     "output_type": "stream",
     "text": [
      "Different mean of sucess and fail: 1438763.0\n"
     ]
    }
   ],
   "source": [
    "print('Different mean of sucess and fail: ' + str((round(np.mean(success) - np.mean(fail)))))"
   ]
  },
  {
   "cell_type": "markdown",
   "metadata": {},
   "source": [
    "- Let use the different mean of our success movie and fail movie, then we can get idea the 95% confidence of different success and fail\n",
    "- Test our hypothesis testing:\n",
    "    - Define hypothesis:\n",
    "        - Null hypothesis is the different mean of success and fail greater or equal 1438763\n",
    "        - Alternative hypothesis is less than 1438763\n",
    "    - With 95% confidence interval, so we have\n",
    "        - significan level = 0.05\n",
    "    - Use bootstraping to compare the mean\n",
    "    "
   ]
  },
  {
   "cell_type": "code",
   "execution_count": 86,
   "metadata": {},
   "outputs": [
    {
     "data": {
      "image/png": "[encoded data removed]",
      "text/plain": [
       "<Figure size 1080x360 with 1 Axes>"
      ]
     },
     "metadata": {
      "needs_background": "light"
     },
     "output_type": "display_data"
    }
   ],
   "source": [
    "diff_mean = success_sampling - fail_sampling\n",
    "\n",
    "lower, upper = np.percentile(diff_mean, [0.25, 97.5])\n",
    "_ = plt.figure(figsize = (15,5))\n",
    "_ = sns.distplot(diff_mean, bins = 40)\n",
    "_ = plt.axvline(upper, c = 'r', linestyle = '--')\n",
    "_ = plt.axvline(lower, c= 'r', linestyle = '--')\n",
    "_ = plt.axvline(np.mean(diff_mean), c = 'r')\n",
    "_ = plt.title('Histogram of the different mean of success and fail movie')"
   ]
  },
  {
   "cell_type": "code",
   "execution_count": 87,
   "metadata": {},
   "outputs": [
    {
     "name": "stdout",
     "output_type": "stream",
     "text": [
      "P_value of the different mean of success and fail: 0.501\n"
     ]
    }
   ],
   "source": [
    "# calculation the p_value\n",
    "p = np.sum(diff_mean > 1438763) / len(diff_mean)\n",
    "print('P_value of the different mean of success and fail: ' + str(p))"
   ]
  },
  {
   "cell_type": "code",
   "execution_count": 88,
   "metadata": {},
   "outputs": [
    {
     "name": "stdout",
     "output_type": "stream",
     "text": [
      "lower_limit 95% confidence interval: 232797.45881236205\n",
      "Upper limit of 95% confidence interval: 2204724.2092483896\n"
     ]
    }
   ],
   "source": [
    "print('lower_limit 95% confidence interval: ' + str(lower))\n",
    "print('Upper limit of 95% confidence interval: ' + str(upper))"
   ]
  },
  {
   "cell_type": "markdown",
   "metadata": {},
   "source": [
    "- So we cant not rejected the Null hypothesis, because the p_value of different mean are so much larget than the significan level\n",
    "- 95% confidence interval of the mean from success movie and fail movie is [232796, 2204724]\n",
    "- With our hypothesis testing that success and fail movie, they are have different everage of budget is greater than 1438763"
   ]
  },
  {
   "cell_type": "markdown",
   "metadata": {},
   "source": [
    "# MACHINE LEARNING MODEL\n",
    "- Predict either movie are success or fail\n"
   ]
  },
  {
   "cell_type": "markdown",
   "metadata": {},
   "source": [
    "### Prepare the data"
   ]
  },
  {
   "cell_type": "code",
   "execution_count": 89,
   "metadata": {},
   "outputs": [],
   "source": [
    "### Prepare data\n",
    "# Add column target y, is column we are going predict. if 1 movie is success and 0 is movie fail\n",
    "df = df[df.ratio_revenue.notnull()]\n",
    "df['target_y'] = df['ratio_revenue'].apply(lambda x: 1 if x > 1 else 0)"
   ]
  },
  {
   "cell_type": "code",
   "execution_count": 871,
   "metadata": {},
   "outputs": [],
   "source": [
    "#Selected only feature need for our predict model\n",
    "df_ml = pd.DataFrame(df[['belongs_to_collection', 'budget', 'genres',\n",
    "        'original_language', 'popularity',\n",
    "        'production_countries', 'runtime', 'spoken_languages',\n",
    "        'vote_average', 'vote_count', 'year',\n",
    "       'number_company', 'target_y']])"
   ]
  },
  {
   "cell_type": "code",
   "execution_count": 92,
   "metadata": {},
   "outputs": [
    {
     "name": "stdout",
     "output_type": "stream",
     "text": [
      "<class 'pandas.core.frame.DataFrame'>\n",
      "Int64Index: 6612 entries, 0 to 209882\n",
      "Data columns (total 13 columns):\n",
      "belongs_to_collection    1410 non-null object\n",
      "budget                   6612 non-null float64\n",
      "genres                   6612 non-null object\n",
      "original_language        6612 non-null object\n",
      "popularity               6612 non-null float64\n",
      "production_countries     6612 non-null object\n",
      "runtime                  6570 non-null float64\n",
      "spoken_languages         6612 non-null object\n",
      "vote_average             6612 non-null float64\n",
      "vote_count               6169 non-null float64\n",
      "year                     6612 non-null int64\n",
      "number_company           6612 non-null int64\n",
      "target_y                 6612 non-null int64\n",
      "dtypes: float64(5), int64(3), object(5)\n",
      "memory usage: 723.2+ KB\n"
     ]
    }
   ],
   "source": [
    "df_ml.info()"
   ]
  },
  {
   "cell_type": "code",
   "execution_count": 93,
   "metadata": {},
   "outputs": [],
   "source": [
    "### Convert category data to numeric\n",
    "df_ml['belongs_to_collection'] = df['belongs_to_collection'].apply(lambda x: 1 if x != np.nan else 0)\n",
    "genre_movie = genre_df.Genres.unique()\n",
    "for genre in genre_movie:\n",
    "    df_ml['is_'+ str(genre)] = df_ml.genres.apply(lambda x: 1 if genre in x else 0)\n",
    "df_ml['is_english'] = df['original_language'].apply(lambda x: 1 if x == 'en' else 0) \n",
    "df_ml['number_countries'] = df['production_countries'].apply(lambda x: len(x))\n",
    "df_ml['runtime']= df_ml['runtime'].fillna(df_ml.runtime.mean())\n",
    "df_ml['number_language'] = df_ml['spoken_languages'].apply(lambda x: len(x))\n",
    "df_ml['vote_count'] = df['vote_count'].fillna(df['vote_count'].mean())\n",
    "df_ml.drop(['genres', 'production_countries', 'original_language','spoken_languages'], axis = 1, inplace = True)"
   ]
  },
  {
   "cell_type": "code",
   "execution_count": 872,
   "metadata": {},
   "outputs": [
    {
     "data": {
      "text/plain": [
       "(6612, 13)"
      ]
     },
     "execution_count": 872,
     "metadata": {},
     "output_type": "execute_result"
    }
   ],
   "source": [
    "df_ml.shape"
   ]
  },
  {
   "cell_type": "markdown",
   "metadata": {},
   "source": [
    "- So we have 6612 row, and 12 feature and 1 target\n",
    "- We split it to 60% traing and 40% test"
   ]
  },
  {
   "cell_type": "code",
   "execution_count": 873,
   "metadata": {},
   "outputs": [],
   "source": [
    "#Separate our features and target\n",
    "X = df_ml.drop('target_y', axis =1)\n",
    "y = df['target_y']"
   ]
  },
  {
   "cell_type": "code",
   "execution_count": 96,
   "metadata": {},
   "outputs": [],
   "source": [
    "from sklearn.model_selection import train_test_split\n",
    "Xtrain, Xtest, ytrain, ytest = train_test_split(X, y, test_size = 0.4, random_state = 42)"
   ]
  },
  {
   "cell_type": "markdown",
   "metadata": {},
   "source": [
    "### Model classification"
   ]
  },
  {
   "cell_type": "markdown",
   "metadata": {},
   "source": [
    "#### Model 1 - Random forest classfication"
   ]
  },
  {
   "cell_type": "code",
   "execution_count": 232,
   "metadata": {},
   "outputs": [
    {
     "data": {
      "text/plain": [
       "RandomForestClassifier(bootstrap=True, ccp_alpha=0.0, class_weight=None,\n",
       "                       criterion='gini', max_depth=None, max_features='auto',\n",
       "                       max_leaf_nodes=None, max_samples=None,\n",
       "                       min_impurity_decrease=0.0, min_impurity_split=None,\n",
       "                       min_samples_leaf=1, min_samples_split=2,\n",
       "                       min_weight_fraction_leaf=0.0, n_estimators=100,\n",
       "                       n_jobs=None, oob_score=False, random_state=None,\n",
       "                       verbose=0, warm_start=False)"
      ]
     },
     "execution_count": 232,
     "metadata": {},
     "output_type": "execute_result"
    }
   ],
   "source": [
    "from sklearn.ensemble import RandomForestClassifier\n",
    "cls = RandomForestClassifier()\n",
    "cls.fit(Xtrain, ytrain)"
   ]
  },
  {
   "cell_type": "code",
   "execution_count": 231,
   "metadata": {},
   "outputs": [
    {
     "data": {
      "text/plain": [
       "0.7844990548204159"
      ]
     },
     "execution_count": 231,
     "metadata": {},
     "output_type": "execute_result"
    }
   ],
   "source": [
    "y_predict = cls.predict(Xtest)\n",
    "cls.score(Xtest, ytest)"
   ]
  },
  {
   "cell_type": "code",
   "execution_count": 122,
   "metadata": {},
   "outputs": [],
   "source": [
    "##Evaluation the model\n",
    "from sklearn.metrics import accuracy_score\n",
    "from sklearn.metrics import classification_report\n",
    "from sklearn.metrics import f1_score, roc_curve\n",
    "report = classification_report(ytest, y_predict)\n",
    "score_accurary = accuracy_score(ytest, y_predict)\n",
    "score_f1 = f1_score(ytest, y_predict)"
   ]
  },
  {
   "cell_type": "code",
   "execution_count": 124,
   "metadata": {},
   "outputs": [
    {
     "name": "stdout",
     "output_type": "stream",
     "text": [
      "              precision    recall  f1-score   support\n",
      "\n",
      "           0       0.67      0.54      0.60       785\n",
      "           1       0.82      0.89      0.85      1860\n",
      "\n",
      "    accuracy                           0.78      2645\n",
      "   macro avg       0.75      0.71      0.73      2645\n",
      "weighted avg       0.78      0.78      0.78      2645\n",
      "\n"
     ]
    }
   ],
   "source": [
    "print(report)"
   ]
  },
  {
   "cell_type": "code",
   "execution_count": 128,
   "metadata": {},
   "outputs": [
    {
     "data": {
      "text/plain": [
       "<matplotlib.axes._subplots.AxesSubplot at 0x12c88fd68>"
      ]
     },
     "execution_count": 128,
     "metadata": {},
     "output_type": "execute_result"
    },
    {
     "data": {
      "image/png": "[encoded data removed]",
      "text/plain": [
       "<Figure size 720x864 with 1 Axes>"
      ]
     },
     "metadata": {
      "needs_background": "light"
     },
     "output_type": "display_data"
    }
   ],
   "source": [
    "plt.figure(figsize=(10,12))\n",
    "x = sorted(cls.feature_importances_, reverse= True)\n",
    "sns.barplot(x=x, y=X.columns)"
   ]
  },
  {
   "cell_type": "markdown",
   "metadata": {},
   "source": [
    "#### Model 2-  Gradient Boosting Classifier"
   ]
  },
  {
   "cell_type": "code",
   "execution_count": 129,
   "metadata": {},
   "outputs": [
    {
     "data": {
      "text/plain": [
       "0.7837429111531191"
      ]
     },
     "execution_count": 129,
     "metadata": {},
     "output_type": "execute_result"
    }
   ],
   "source": [
    "from sklearn.ensemble import GradientBoostingClassifier\n",
    "clf = GradientBoostingClassifier()\n",
    "clf.fit(Xtrain, ytrain)\n",
    "y_predict_g = clf.predict(Xtest)\n",
    "clf.score(Xtest, ytest)"
   ]
  },
  {
   "cell_type": "code",
   "execution_count": 130,
   "metadata": {},
   "outputs": [],
   "source": [
    "##Evaluation the model\n",
    "from sklearn.metrics import accuracy_score\n",
    "from sklearn.metrics import classification_report\n",
    "from sklearn.metrics import f1_score, roc_curve\n",
    "\n",
    "report = classification_report(ytest, y_predict_g)\n",
    "score_accurary = accuracy_score(ytest, y_predict_g)\n",
    "score_f1 = f1_score(ytest, y_predict_g)"
   ]
  },
  {
   "cell_type": "code",
   "execution_count": 131,
   "metadata": {},
   "outputs": [
    {
     "name": "stdout",
     "output_type": "stream",
     "text": [
      "              precision    recall  f1-score   support\n",
      "\n",
      "           0       0.67      0.54      0.60       785\n",
      "           1       0.82      0.88      0.85      1860\n",
      "\n",
      "    accuracy                           0.78      2645\n",
      "   macro avg       0.74      0.71      0.73      2645\n",
      "weighted avg       0.78      0.78      0.78      2645\n",
      "\n"
     ]
    }
   ],
   "source": [
    "print(report)"
   ]
  },
  {
   "cell_type": "code",
   "execution_count": 127,
   "metadata": {},
   "outputs": [
    {
     "data": {
      "text/plain": [
       "<matplotlib.axes._subplots.AxesSubplot at 0x12d1bdfd0>"
      ]
     },
     "execution_count": 127,
     "metadata": {},
     "output_type": "execute_result"
    },
    {
     "data": {
      "image/png": "[encoded data removed]",
      "text/plain": [
       "<Figure size 720x864 with 1 Axes>"
      ]
     },
     "metadata": {
      "needs_background": "light"
     },
     "output_type": "display_data"
    }
   ],
   "source": [
    "plt.figure(figsize=(10,12))\n",
    "x = sorted(clf.feature_importances_, reverse= True)\n",
    "sns.barplot(x=x, y=X.columns)"
   ]
  },
  {
   "cell_type": "markdown",
   "metadata": {},
   "source": [
    "#### Model 3 - LogisticRegression"
   ]
  },
  {
   "cell_type": "code",
   "execution_count": 132,
   "metadata": {},
   "outputs": [
    {
     "data": {
      "text/plain": [
       "0.7039697542533081"
      ]
     },
     "execution_count": 132,
     "metadata": {},
     "output_type": "execute_result"
    }
   ],
   "source": [
    "from sklearn.linear_model import LogisticRegression\n",
    "log = LogisticRegression()\n",
    "log.fit(Xtrain, ytrain)\n",
    "y_predict_l = log.predict(Xtest)\n",
    "log.score(Xtest,ytest)"
   ]
  },
  {
   "cell_type": "code",
   "execution_count": 135,
   "metadata": {},
   "outputs": [],
   "source": [
    "##Evaluation the model\n",
    "from sklearn.metrics import accuracy_score\n",
    "from sklearn.metrics import classification_report\n",
    "from sklearn.metrics import f1_score, roc_curve\n",
    "\n",
    "report = classification_report(ytest, y_predict_l)\n",
    "score_accurary = accuracy_score(ytest, y_predict_l)\n",
    "score_f1 = f1_score(ytest, y_predict_l)"
   ]
  },
  {
   "cell_type": "code",
   "execution_count": 136,
   "metadata": {},
   "outputs": [
    {
     "name": "stdout",
     "output_type": "stream",
     "text": [
      "              precision    recall  f1-score   support\n",
      "\n",
      "           0       1.00      0.00      0.01       785\n",
      "           1       0.70      1.00      0.83      1860\n",
      "\n",
      "    accuracy                           0.70      2645\n",
      "   macro avg       0.85      0.50      0.42      2645\n",
      "weighted avg       0.79      0.70      0.58      2645\n",
      "\n"
     ]
    }
   ],
   "source": [
    "print(report)"
   ]
  },
  {
   "cell_type": "code",
   "execution_count": null,
   "metadata": {},
   "outputs": [],
   "source": []
  },
  {
   "cell_type": "markdown",
   "metadata": {},
   "source": [
    "### Hyperparameter for Random forest and Gradient Boosting"
   ]
  },
  {
   "cell_type": "markdown",
   "metadata": {},
   "source": [
    "#### Model 1 - Random Forest"
   ]
  },
  {
   "cell_type": "code",
   "execution_count": 236,
   "metadata": {},
   "outputs": [],
   "source": [
    "#Random forest\n",
    "from sklearn.model_selection import RandomizedSearchCV\n",
    "# Number of trees in random forest\n",
    "n_estimators = [int(x) for x in np.linspace(start = 10, stop = 200, num = 20)]\n",
    "# Number of features to consider at every split\n",
    "max_features = ['auto', 'sqrt']\n",
    "# Maximum number of levels in tree\n",
    "max_depth = [int(x) for x in np.linspace(10, 200, num = 5)]\n",
    "max_depth.append(None)\n",
    "# Minimum number of samples required to split a node\n",
    "min_samples_split = [2, 5, 10]\n",
    "# Minimum number of samples required at each leaf node\n",
    "min_samples_leaf = [1, 2, 4]\n",
    "# Method of selecting samples for training each tree\n",
    "bootstrap = [True, False]\n",
    "# Create the random grid\n",
    "random_grid = {'n_estimators': n_estimators,\n",
    "               'max_features': max_features,\n",
    "               'max_depth': max_depth,\n",
    "               'min_samples_split': min_samples_split,\n",
    "               'min_samples_leaf': min_samples_leaf,\n",
    "               'bootstrap': bootstrap}"
   ]
  },
  {
   "cell_type": "code",
   "execution_count": 237,
   "metadata": {},
   "outputs": [],
   "source": [
    "rf_random = RandomizedSearchCV(cls, random_grid, cv = 5, random_state = 42)"
   ]
  },
  {
   "cell_type": "code",
   "execution_count": 238,
   "metadata": {},
   "outputs": [
    {
     "data": {
      "text/plain": [
       "RandomizedSearchCV(cv=5, error_score=nan,\n",
       "                   estimator=RandomForestClassifier(bootstrap=True,\n",
       "                                                    ccp_alpha=0.0,\n",
       "                                                    class_weight=None,\n",
       "                                                    criterion='gini',\n",
       "                                                    max_depth=None,\n",
       "                                                    max_features='auto',\n",
       "                                                    max_leaf_nodes=None,\n",
       "                                                    max_samples=None,\n",
       "                                                    min_impurity_decrease=0.0,\n",
       "                                                    min_impurity_split=None,\n",
       "                                                    min_samples_leaf=1,\n",
       "                                                    min_samples_split=2,\n",
       "                                                    min_weight_fraction_leaf=0.0,\n",
       "                                                    n_estimators=100,\n",
       "                                                    n_jobs...\n",
       "                   param_distributions={'bootstrap': [True, False],\n",
       "                                        'max_depth': [10, 57, 105, 152, 200,\n",
       "                                                      None],\n",
       "                                        'max_features': ['auto', 'sqrt'],\n",
       "                                        'min_samples_leaf': [1, 2, 4],\n",
       "                                        'min_samples_split': [2, 5, 10],\n",
       "                                        'n_estimators': [10, 20, 30, 40, 50, 60,\n",
       "                                                         70, 80, 90, 100, 110,\n",
       "                                                         120, 130, 140, 150,\n",
       "                                                         160, 170, 180, 190,\n",
       "                                                         200]},\n",
       "                   pre_dispatch='2*n_jobs', random_state=42, refit=True,\n",
       "                   return_train_score=False, scoring=None, verbose=0)"
      ]
     },
     "execution_count": 238,
     "metadata": {},
     "output_type": "execute_result"
    }
   ],
   "source": [
    "rf_random.fit(Xtrain, ytrain)"
   ]
  },
  {
   "cell_type": "code",
   "execution_count": 239,
   "metadata": {},
   "outputs": [
    {
     "data": {
      "text/plain": [
       "{'n_estimators': 100,\n",
       " 'min_samples_split': 10,\n",
       " 'min_samples_leaf': 1,\n",
       " 'max_features': 'auto',\n",
       " 'max_depth': 105,\n",
       " 'bootstrap': True}"
      ]
     },
     "execution_count": 239,
     "metadata": {},
     "output_type": "execute_result"
    }
   ],
   "source": [
    "rf_random.best_params_"
   ]
  },
  {
   "cell_type": "code",
   "execution_count": 240,
   "metadata": {},
   "outputs": [
    {
     "data": {
      "text/plain": [
       "0.7739130434782608"
      ]
     },
     "execution_count": 240,
     "metadata": {},
     "output_type": "execute_result"
    }
   ],
   "source": [
    "rf_random.score(Xtest,ytest)"
   ]
  },
  {
   "cell_type": "markdown",
   "metadata": {},
   "source": [
    "#### Model 2 - Gradient Boosting"
   ]
  },
  {
   "cell_type": "markdown",
   "metadata": {},
   "source": [
    "###### Tunning each parameter"
   ]
  },
  {
   "cell_type": "markdown",
   "metadata": {},
   "source": [
    "For tunning the Gradient boosting model, it take so long to do auto all parameter same time.\n",
    "So we will manual do one by one."
   ]
  },
  {
   "cell_type": "code",
   "execution_count": 174,
   "metadata": {},
   "outputs": [
    {
     "name": "stderr",
     "output_type": "stream",
     "text": [
      "/Users/hungnguyen/miniconda3/lib/python3.7/site-packages/sklearn/model_selection/_search.py:281: UserWarning: The total space of parameters 7 is smaller than n_iter=10. Running 7 iterations. For exhaustive searches, use GridSearchCV.\n",
      "  % (grid_size, self.n_iter, grid_size), UserWarning)\n"
     ]
    },
    {
     "data": {
      "text/plain": [
       "RandomizedSearchCV(cv=5, error_score=nan,\n",
       "                   estimator=GradientBoostingClassifier(ccp_alpha=0.0,\n",
       "                                                        criterion='friedman_mse',\n",
       "                                                        init=None,\n",
       "                                                        learning_rate=0.1,\n",
       "                                                        loss='deviance',\n",
       "                                                        max_depth=8,\n",
       "                                                        max_features='sqrt',\n",
       "                                                        max_leaf_nodes=None,\n",
       "                                                        min_impurity_decrease=0.0,\n",
       "                                                        min_impurity_split=None,\n",
       "                                                        min_samples_leaf=50,\n",
       "                                                        min_samples_split=500,\n",
       "                                                        min_weight_fraction_leaf=0.0,\n",
       "                                                        n_estimators=100,\n",
       "                                                        n_iter_no_change=None,\n",
       "                                                        presort='deprecated',\n",
       "                                                        random_state=10,\n",
       "                                                        subsample=0.8,\n",
       "                                                        tol=0.0001,\n",
       "                                                        validation_fraction=0.1,\n",
       "                                                        verbose=0,\n",
       "                                                        warm_start=False),\n",
       "                   iid='deprecated', n_iter=10, n_jobs=4,\n",
       "                   param_distributions={'n_estimators': range(20, 81, 10)},\n",
       "                   pre_dispatch='2*n_jobs', random_state=None, refit=True,\n",
       "                   return_train_score=False, scoring='roc_auc', verbose=0)"
      ]
     },
     "execution_count": 174,
     "metadata": {},
     "output_type": "execute_result"
    }
   ],
   "source": [
    "from sklearn.model_selection import RandomizedSearchCV\n",
    "param_test1 = {'n_estimators':range(20,81,10)}\n",
    "gs_model_1 = RandomizedSearchCV(estimator = GradientBoostingClassifier(learning_rate=0.1, min_samples_split=500,min_samples_leaf=50,max_depth=8,max_features='sqrt',subsample=0.8,random_state=10), \n",
    "param_distributions = param_test1, scoring='roc_auc',n_jobs=4, cv=5)\n",
    "gs_model_1.fit(Xtrain,ytrain)"
   ]
  },
  {
   "cell_type": "code",
   "execution_count": 176,
   "metadata": {},
   "outputs": [
    {
     "data": {
      "text/plain": [
       "({'n_estimators': 80}, 0.8233431771629955)"
      ]
     },
     "execution_count": 176,
     "metadata": {},
     "output_type": "execute_result"
    }
   ],
   "source": [
    "gs_model_1.best_params_, gs_model_1.best_score_"
   ]
  },
  {
   "cell_type": "code",
   "execution_count": 207,
   "metadata": {},
   "outputs": [
    {
     "data": {
      "text/plain": [
       "RandomizedSearchCV(cv=5, error_score=nan,\n",
       "                   estimator=GradientBoostingClassifier(ccp_alpha=0.0,\n",
       "                                                        criterion='friedman_mse',\n",
       "                                                        init=None,\n",
       "                                                        learning_rate=0.1,\n",
       "                                                        loss='deviance',\n",
       "                                                        max_depth=3,\n",
       "                                                        max_features='sqrt',\n",
       "                                                        max_leaf_nodes=None,\n",
       "                                                        min_impurity_decrease=0.0,\n",
       "                                                        min_impurity_split=None,\n",
       "                                                        min_samples_leaf=50,\n",
       "                                                        min_samples_split=2,\n",
       "                                                        min_weight_fraction_leaf=0.0,\n",
       "                                                        n_estimators=80,\n",
       "                                                        n_i...=None,\n",
       "                                                        presort='deprecated',\n",
       "                                                        random_state=10,\n",
       "                                                        subsample=0.8,\n",
       "                                                        tol=0.0001,\n",
       "                                                        validation_fraction=0.1,\n",
       "                                                        verbose=0,\n",
       "                                                        warm_start=False),\n",
       "                   iid='deprecated', n_iter=10, n_jobs=4,\n",
       "                   param_distributions={'max_depth': range(5, 16, 2),\n",
       "                                        'min_samples_split': range(200, 1001, 200)},\n",
       "                   pre_dispatch='2*n_jobs', random_state=None, refit=True,\n",
       "                   return_train_score=False, scoring='roc_auc', verbose=0)"
      ]
     },
     "execution_count": 207,
     "metadata": {},
     "output_type": "execute_result"
    }
   ],
   "source": [
    "from sklearn.model_selection import RandomizedSearchCV\n",
    "param_test2 = {'max_depth':range(5,16,2), 'min_samples_split':range(200,1001,200)}\n",
    "gs_model_2 = RandomizedSearchCV(estimator = GradientBoostingClassifier(learning_rate=0.1,min_samples_leaf=50,n_estimators = 80,max_features='sqrt',subsample=0.8,random_state=10), \n",
    "param_distributions = param_test2, scoring='roc_auc',n_jobs=4, cv=5)\n",
    "gs_model_2.fit(Xtrain,ytrain)"
   ]
  },
  {
   "cell_type": "code",
   "execution_count": 208,
   "metadata": {},
   "outputs": [
    {
     "data": {
      "text/plain": [
       "({'min_samples_split': 400, 'max_depth': 11}, 0.8257688962583281)"
      ]
     },
     "execution_count": 208,
     "metadata": {},
     "output_type": "execute_result"
    }
   ],
   "source": [
    "gs_model_2.best_params_, gs_model_2.best_score_"
   ]
  },
  {
   "cell_type": "code",
   "execution_count": 221,
   "metadata": {},
   "outputs": [
    {
     "data": {
      "text/plain": [
       "RandomizedSearchCV(cv=5, error_score=nan,\n",
       "                   estimator=GradientBoostingClassifier(ccp_alpha=0.0,\n",
       "                                                        criterion='friedman_mse',\n",
       "                                                        init=None,\n",
       "                                                        learning_rate=0.1,\n",
       "                                                        loss='deviance',\n",
       "                                                        max_depth=7,\n",
       "                                                        max_features=None,\n",
       "                                                        max_leaf_nodes=None,\n",
       "                                                        min_impurity_decrease=0.0,\n",
       "                                                        min_impurity_split=None,\n",
       "                                                        min_samples_leaf=1,\n",
       "                                                        min_samples_split=400,\n",
       "                                                        min_weight_fraction_leaf=0.0,\n",
       "                                                        n_estimators=80,\n",
       "                                                        n_it...ge=None,\n",
       "                                                        presort='deprecated',\n",
       "                                                        random_state=10,\n",
       "                                                        subsample=0.8,\n",
       "                                                        tol=0.0001,\n",
       "                                                        validation_fraction=0.1,\n",
       "                                                        verbose=0,\n",
       "                                                        warm_start=False),\n",
       "                   iid='deprecated', n_iter=10, n_jobs=4,\n",
       "                   param_distributions={'max_features': range(7, 33, 2),\n",
       "                                        'min_samples_leaf': range(30, 71, 10)},\n",
       "                   pre_dispatch='2*n_jobs', random_state=None, refit=True,\n",
       "                   return_train_score=False, scoring='roc_auc', verbose=0)"
      ]
     },
     "execution_count": 221,
     "metadata": {},
     "output_type": "execute_result"
    }
   ],
   "source": [
    "from sklearn.model_selection import RandomizedSearchCV\n",
    "param_test3 = {'min_samples_leaf':range(30,71,10), 'max_features':range(7,33,2)}\n",
    "gs_model_3 = RandomizedSearchCV(estimator = GradientBoostingClassifier(learning_rate=0.1, min_samples_split=400,max_depth=7,n_estimators = 80,subsample=0.8,random_state=10), \n",
    "param_distributions = param_test3, scoring='roc_auc',n_jobs=4, cv=5)\n",
    "gs_model_3.fit(Xtrain,ytrain)"
   ]
  },
  {
   "cell_type": "code",
   "execution_count": 222,
   "metadata": {},
   "outputs": [
    {
     "data": {
      "text/plain": [
       "({'min_samples_leaf': 30, 'max_features': 17}, 0.8315583599936248)"
      ]
     },
     "execution_count": 222,
     "metadata": {},
     "output_type": "execute_result"
    }
   ],
   "source": [
    "gs_model_3.best_params_, gs_model_3.best_score_"
   ]
  },
  {
   "cell_type": "code",
   "execution_count": 214,
   "metadata": {},
   "outputs": [
    {
     "data": {
      "text/plain": [
       "0.8224696938565853"
      ]
     },
     "execution_count": 214,
     "metadata": {},
     "output_type": "execute_result"
    }
   ],
   "source": [
    "gs_model_3.score(Xtest,ytest)"
   ]
  },
  {
   "cell_type": "code",
   "execution_count": 223,
   "metadata": {},
   "outputs": [
    {
     "data": {
      "text/plain": [
       "RandomizedSearchCV(cv=5, error_score=nan,\n",
       "                   estimator=GradientBoostingClassifier(ccp_alpha=0.0,\n",
       "                                                        criterion='friedman_mse',\n",
       "                                                        init=None,\n",
       "                                                        learning_rate=0.1,\n",
       "                                                        loss='deviance',\n",
       "                                                        max_depth=7,\n",
       "                                                        max_features=17,\n",
       "                                                        max_leaf_nodes=None,\n",
       "                                                        min_impurity_decrease=0.0,\n",
       "                                                        min_impurity_split=None,\n",
       "                                                        min_samples_leaf=30,\n",
       "                                                        min_samples_split=400,\n",
       "                                                        min_weight_fraction_leaf=0.0,\n",
       "                                                        n_estimators=80,\n",
       "                                                        n_ite...\n",
       "                                                        presort='deprecated',\n",
       "                                                        random_state=10,\n",
       "                                                        subsample=1.0,\n",
       "                                                        tol=0.0001,\n",
       "                                                        validation_fraction=0.1,\n",
       "                                                        verbose=0,\n",
       "                                                        warm_start=False),\n",
       "                   iid='deprecated', n_iter=10, n_jobs=4,\n",
       "                   param_distributions={'learning_rate': [0.1, 0.05, 0.001,\n",
       "                                                          0.0001],\n",
       "                                        'subsample': [0.6, 0.7, 0.75, 0.8, 0.85,\n",
       "                                                      0.9]},\n",
       "                   pre_dispatch='2*n_jobs', random_state=None, refit=True,\n",
       "                   return_train_score=False, scoring='roc_auc', verbose=0)"
      ]
     },
     "execution_count": 223,
     "metadata": {},
     "output_type": "execute_result"
    }
   ],
   "source": [
    "from sklearn.model_selection import RandomizedSearchCV\n",
    "param_test4 = {'subsample':[0.6,0.7,0.75,0.8,0.85,0.9], 'learning_rate':[0.1, 0.05, 0.001, 0.0001]}\n",
    "gs_model_4 = RandomizedSearchCV(estimator = GradientBoostingClassifier(min_samples_leaf = 30,max_features = 17,min_samples_split=400,max_depth=7,n_estimators = 80,random_state=10), \n",
    "param_distributions = param_test4, scoring='roc_auc',n_jobs=4, cv=5)\n",
    "gs_model_4.fit(Xtrain,ytrain)\n"
   ]
  },
  {
   "cell_type": "code",
   "execution_count": 224,
   "metadata": {},
   "outputs": [
    {
     "data": {
      "text/plain": [
       "({'subsample': 0.9, 'learning_rate': 0.1}, 0.8324026482356468)"
      ]
     },
     "execution_count": 224,
     "metadata": {},
     "output_type": "execute_result"
    }
   ],
   "source": [
    "gs_model_4.best_params_, gs_model_4.best_score_"
   ]
  },
  {
   "cell_type": "code",
   "execution_count": 225,
   "metadata": {},
   "outputs": [
    {
     "data": {
      "text/plain": [
       "0.8234662009451408"
      ]
     },
     "execution_count": 225,
     "metadata": {},
     "output_type": "execute_result"
    }
   ],
   "source": [
    "gs_model_4.score(Xtest,ytest)"
   ]
  },
  {
   "cell_type": "markdown",
   "metadata": {},
   "source": [
    "###### Final tunning model"
   ]
  },
  {
   "cell_type": "code",
   "execution_count": 226,
   "metadata": {},
   "outputs": [],
   "source": [
    "gmb_model = GradientBoostingClassifier(n_estimators = 80, min_samples_leaf = 30,max_features = 17,\n",
    "                                       min_samples_split=400,max_depth=7,random_state=10, \n",
    "                                       subsample = 0.9, learning_rate = 0.1)"
   ]
  },
  {
   "cell_type": "code",
   "execution_count": 227,
   "metadata": {},
   "outputs": [
    {
     "data": {
      "text/plain": [
       "GradientBoostingClassifier(ccp_alpha=0.0, criterion='friedman_mse', init=None,\n",
       "                           learning_rate=0.1, loss='deviance', max_depth=7,\n",
       "                           max_features=17, max_leaf_nodes=None,\n",
       "                           min_impurity_decrease=0.0, min_impurity_split=None,\n",
       "                           min_samples_leaf=30, min_samples_split=400,\n",
       "                           min_weight_fraction_leaf=0.0, n_estimators=80,\n",
       "                           n_iter_no_change=None, presort='deprecated',\n",
       "                           random_state=10, subsample=0.9, tol=0.0001,\n",
       "                           validation_fraction=0.1, verbose=0,\n",
       "                           warm_start=False)"
      ]
     },
     "execution_count": 227,
     "metadata": {},
     "output_type": "execute_result"
    }
   ],
   "source": [
    "gmb_model.fit(Xtrain, ytrain)"
   ]
  },
  {
   "cell_type": "code",
   "execution_count": 253,
   "metadata": {},
   "outputs": [
    {
     "data": {
      "text/plain": [
       "array([0.84396923, 0.83549008, 0.83531816, 0.81193947, 0.71206675])"
      ]
     },
     "execution_count": 253,
     "metadata": {},
     "output_type": "execute_result"
    }
   ],
   "source": [
    "from sklearn.model_selection import cross_val_score\n",
    "cross_score = cross_val_score(gmb_model, cv = 5, X = X, y = y,scoring= 'roc_auc')\n",
    "cross_score"
   ]
  },
  {
   "cell_type": "code",
   "execution_count": 249,
   "metadata": {},
   "outputs": [],
   "source": [
    "y_pred_new = gmb_model.predict(Xtest)"
   ]
  },
  {
   "cell_type": "code",
   "execution_count": 229,
   "metadata": {},
   "outputs": [
    {
     "data": {
      "text/plain": [
       "0.7841209829867675"
      ]
     },
     "execution_count": 229,
     "metadata": {},
     "output_type": "execute_result"
    }
   ],
   "source": [
    "gmb_model.score(Xtest,ytest)"
   ]
  },
  {
   "cell_type": "code",
   "execution_count": 252,
   "metadata": {},
   "outputs": [
    {
     "name": "stdout",
     "output_type": "stream",
     "text": [
      "              precision    recall  f1-score   support\n",
      "\n",
      "           0       0.66      0.56      0.61       785\n",
      "           1       0.83      0.88      0.85      1860\n",
      "\n",
      "    accuracy                           0.78      2645\n",
      "   macro avg       0.74      0.72      0.73      2645\n",
      "weighted avg       0.78      0.78      0.78      2645\n",
      "\n"
     ]
    }
   ],
   "source": [
    "print(classification_report(ytest, y_pred_new))"
   ]
  },
  {
   "cell_type": "markdown",
   "metadata": {},
   "source": [
    "# Recommendation System"
   ]
  },
  {
   "cell_type": "markdown",
   "metadata": {},
   "source": [
    "### Preparation the Data"
   ]
  },
  {
   "cell_type": "code",
   "execution_count": 874,
   "metadata": {},
   "outputs": [],
   "source": [
    "rating_df = pd.read_csv('data/ratings_small.csv')\n",
    "movie_df = pd.read_csv('data/movies.csv')"
   ]
  },
  {
   "cell_type": "code",
   "execution_count": 875,
   "metadata": {},
   "outputs": [
    {
     "data": {
      "text/html": [
       "<div>\n",
       "<style scoped>\n",
       "    .dataframe tbody tr th:only-of-type {\n",
       "        vertical-align: middle;\n",
       "    }\n",
       "\n",
       "    .dataframe tbody tr th {\n",
       "        vertical-align: top;\n",
       "    }\n",
       "\n",
       "    .dataframe thead th {\n",
       "        text-align: right;\n",
       "    }\n",
       "</style>\n",
       "<table border=\"1\" class=\"dataframe\">\n",
       "  <thead>\n",
       "    <tr style=\"text-align: right;\">\n",
       "      <th></th>\n",
       "      <th>userId</th>\n",
       "      <th>movieId</th>\n",
       "      <th>rating</th>\n",
       "      <th>timestamp</th>\n",
       "    </tr>\n",
       "  </thead>\n",
       "  <tbody>\n",
       "    <tr>\n",
       "      <td>0</td>\n",
       "      <td>1</td>\n",
       "      <td>31</td>\n",
       "      <td>2.5</td>\n",
       "      <td>1260759144</td>\n",
       "    </tr>\n",
       "    <tr>\n",
       "      <td>1</td>\n",
       "      <td>1</td>\n",
       "      <td>1029</td>\n",
       "      <td>3.0</td>\n",
       "      <td>1260759179</td>\n",
       "    </tr>\n",
       "    <tr>\n",
       "      <td>2</td>\n",
       "      <td>1</td>\n",
       "      <td>1061</td>\n",
       "      <td>3.0</td>\n",
       "      <td>1260759182</td>\n",
       "    </tr>\n",
       "    <tr>\n",
       "      <td>3</td>\n",
       "      <td>1</td>\n",
       "      <td>1129</td>\n",
       "      <td>2.0</td>\n",
       "      <td>1260759185</td>\n",
       "    </tr>\n",
       "    <tr>\n",
       "      <td>4</td>\n",
       "      <td>1</td>\n",
       "      <td>1172</td>\n",
       "      <td>4.0</td>\n",
       "      <td>1260759205</td>\n",
       "    </tr>\n",
       "  </tbody>\n",
       "</table>\n",
       "</div>"
      ],
      "text/plain": [
       "   userId  movieId  rating   timestamp\n",
       "0       1       31     2.5  1260759144\n",
       "1       1     1029     3.0  1260759179\n",
       "2       1     1061     3.0  1260759182\n",
       "3       1     1129     2.0  1260759185\n",
       "4       1     1172     4.0  1260759205"
      ]
     },
     "execution_count": 875,
     "metadata": {},
     "output_type": "execute_result"
    }
   ],
   "source": [
    "rating_df.head()"
   ]
  },
  {
   "cell_type": "code",
   "execution_count": 876,
   "metadata": {},
   "outputs": [
    {
     "data": {
      "text/html": [
       "<div>\n",
       "<style scoped>\n",
       "    .dataframe tbody tr th:only-of-type {\n",
       "        vertical-align: middle;\n",
       "    }\n",
       "\n",
       "    .dataframe tbody tr th {\n",
       "        vertical-align: top;\n",
       "    }\n",
       "\n",
       "    .dataframe thead th {\n",
       "        text-align: right;\n",
       "    }\n",
       "</style>\n",
       "<table border=\"1\" class=\"dataframe\">\n",
       "  <thead>\n",
       "    <tr style=\"text-align: right;\">\n",
       "      <th></th>\n",
       "      <th>movieId</th>\n",
       "      <th>title</th>\n",
       "      <th>genres</th>\n",
       "    </tr>\n",
       "  </thead>\n",
       "  <tbody>\n",
       "    <tr>\n",
       "      <td>0</td>\n",
       "      <td>1</td>\n",
       "      <td>Toy Story (1995)</td>\n",
       "      <td>Adventure|Animation|Children|Comedy|Fantasy</td>\n",
       "    </tr>\n",
       "    <tr>\n",
       "      <td>1</td>\n",
       "      <td>2</td>\n",
       "      <td>Jumanji (1995)</td>\n",
       "      <td>Adventure|Children|Fantasy</td>\n",
       "    </tr>\n",
       "    <tr>\n",
       "      <td>2</td>\n",
       "      <td>3</td>\n",
       "      <td>Grumpier Old Men (1995)</td>\n",
       "      <td>Comedy|Romance</td>\n",
       "    </tr>\n",
       "    <tr>\n",
       "      <td>3</td>\n",
       "      <td>4</td>\n",
       "      <td>Waiting to Exhale (1995)</td>\n",
       "      <td>Comedy|Drama|Romance</td>\n",
       "    </tr>\n",
       "    <tr>\n",
       "      <td>4</td>\n",
       "      <td>5</td>\n",
       "      <td>Father of the Bride Part II (1995)</td>\n",
       "      <td>Comedy</td>\n",
       "    </tr>\n",
       "  </tbody>\n",
       "</table>\n",
       "</div>"
      ],
      "text/plain": [
       "   movieId                               title  \\\n",
       "0        1                    Toy Story (1995)   \n",
       "1        2                      Jumanji (1995)   \n",
       "2        3             Grumpier Old Men (1995)   \n",
       "3        4            Waiting to Exhale (1995)   \n",
       "4        5  Father of the Bride Part II (1995)   \n",
       "\n",
       "                                        genres  \n",
       "0  Adventure|Animation|Children|Comedy|Fantasy  \n",
       "1                   Adventure|Children|Fantasy  \n",
       "2                               Comedy|Romance  \n",
       "3                         Comedy|Drama|Romance  \n",
       "4                                       Comedy  "
      ]
     },
     "execution_count": 876,
     "metadata": {},
     "output_type": "execute_result"
    }
   ],
   "source": [
    "movie_df.head()"
   ]
  },
  {
   "cell_type": "code",
   "execution_count": 877,
   "metadata": {},
   "outputs": [
    {
     "data": {
      "text/html": [
       "<div>\n",
       "<style scoped>\n",
       "    .dataframe tbody tr th:only-of-type {\n",
       "        vertical-align: middle;\n",
       "    }\n",
       "\n",
       "    .dataframe tbody tr th {\n",
       "        vertical-align: top;\n",
       "    }\n",
       "\n",
       "    .dataframe thead th {\n",
       "        text-align: right;\n",
       "    }\n",
       "</style>\n",
       "<table border=\"1\" class=\"dataframe\">\n",
       "  <thead>\n",
       "    <tr style=\"text-align: right;\">\n",
       "      <th></th>\n",
       "      <th>movieId</th>\n",
       "      <th>title</th>\n",
       "      <th>genres</th>\n",
       "      <th>genres_new</th>\n",
       "    </tr>\n",
       "  </thead>\n",
       "  <tbody>\n",
       "    <tr>\n",
       "      <td>0</td>\n",
       "      <td>1</td>\n",
       "      <td>Toy Story (1995)</td>\n",
       "      <td>Adventure|Animation|Children|Comedy|Fantasy</td>\n",
       "      <td>[Adventure, Animation, Children, Comedy, Fantasy]</td>\n",
       "    </tr>\n",
       "    <tr>\n",
       "      <td>1</td>\n",
       "      <td>2</td>\n",
       "      <td>Jumanji (1995)</td>\n",
       "      <td>Adventure|Children|Fantasy</td>\n",
       "      <td>[Adventure, Children, Fantasy]</td>\n",
       "    </tr>\n",
       "    <tr>\n",
       "      <td>2</td>\n",
       "      <td>3</td>\n",
       "      <td>Grumpier Old Men (1995)</td>\n",
       "      <td>Comedy|Romance</td>\n",
       "      <td>[Comedy, Romance]</td>\n",
       "    </tr>\n",
       "    <tr>\n",
       "      <td>3</td>\n",
       "      <td>4</td>\n",
       "      <td>Waiting to Exhale (1995)</td>\n",
       "      <td>Comedy|Drama|Romance</td>\n",
       "      <td>[Comedy, Drama, Romance]</td>\n",
       "    </tr>\n",
       "    <tr>\n",
       "      <td>4</td>\n",
       "      <td>5</td>\n",
       "      <td>Father of the Bride Part II (1995)</td>\n",
       "      <td>Comedy</td>\n",
       "      <td>[Comedy]</td>\n",
       "    </tr>\n",
       "  </tbody>\n",
       "</table>\n",
       "</div>"
      ],
      "text/plain": [
       "   movieId                               title  \\\n",
       "0        1                    Toy Story (1995)   \n",
       "1        2                      Jumanji (1995)   \n",
       "2        3             Grumpier Old Men (1995)   \n",
       "3        4            Waiting to Exhale (1995)   \n",
       "4        5  Father of the Bride Part II (1995)   \n",
       "\n",
       "                                        genres  \\\n",
       "0  Adventure|Animation|Children|Comedy|Fantasy   \n",
       "1                   Adventure|Children|Fantasy   \n",
       "2                               Comedy|Romance   \n",
       "3                         Comedy|Drama|Romance   \n",
       "4                                       Comedy   \n",
       "\n",
       "                                          genres_new  \n",
       "0  [Adventure, Animation, Children, Comedy, Fantasy]  \n",
       "1                     [Adventure, Children, Fantasy]  \n",
       "2                                  [Comedy, Romance]  \n",
       "3                           [Comedy, Drama, Romance]  \n",
       "4                                           [Comedy]  "
      ]
     },
     "execution_count": 877,
     "metadata": {},
     "output_type": "execute_result"
    }
   ],
   "source": [
    "movie_df['genres_new'] = movie_df.genres.apply(lambda x: x.split('|'))\n",
    "movie_df.head()"
   ]
  },
  {
   "cell_type": "code",
   "execution_count": 878,
   "metadata": {},
   "outputs": [],
   "source": [
    "genre_movie_new = movie_df.apply(lambda x: pd.Series(x['genres_new']), axis = 1).stack().reset_index(level =1, drop= True)\n",
    "genre_movie_new.name = 'Genres_1'"
   ]
  },
  {
   "cell_type": "code",
   "execution_count": 879,
   "metadata": {},
   "outputs": [],
   "source": [
    "movie_df_1 = movie_df.join(genre_movie_new)"
   ]
  },
  {
   "cell_type": "code",
   "execution_count": 880,
   "metadata": {},
   "outputs": [
    {
     "data": {
      "text/html": [
       "<div>\n",
       "<style scoped>\n",
       "    .dataframe tbody tr th:only-of-type {\n",
       "        vertical-align: middle;\n",
       "    }\n",
       "\n",
       "    .dataframe tbody tr th {\n",
       "        vertical-align: top;\n",
       "    }\n",
       "\n",
       "    .dataframe thead th {\n",
       "        text-align: right;\n",
       "    }\n",
       "</style>\n",
       "<table border=\"1\" class=\"dataframe\">\n",
       "  <thead>\n",
       "    <tr style=\"text-align: right;\">\n",
       "      <th></th>\n",
       "      <th>userId</th>\n",
       "      <th>movieId</th>\n",
       "      <th>rating</th>\n",
       "      <th>timestamp</th>\n",
       "      <th>title</th>\n",
       "      <th>genres</th>\n",
       "      <th>genres_new</th>\n",
       "      <th>Genres_1</th>\n",
       "    </tr>\n",
       "  </thead>\n",
       "  <tbody>\n",
       "    <tr>\n",
       "      <td>0</td>\n",
       "      <td>1</td>\n",
       "      <td>31</td>\n",
       "      <td>2.5</td>\n",
       "      <td>1260759144</td>\n",
       "      <td>Dangerous Minds (1995)</td>\n",
       "      <td>Drama</td>\n",
       "      <td>[Drama]</td>\n",
       "      <td>Drama</td>\n",
       "    </tr>\n",
       "    <tr>\n",
       "      <td>1</td>\n",
       "      <td>7</td>\n",
       "      <td>31</td>\n",
       "      <td>3.0</td>\n",
       "      <td>851868750</td>\n",
       "      <td>Dangerous Minds (1995)</td>\n",
       "      <td>Drama</td>\n",
       "      <td>[Drama]</td>\n",
       "      <td>Drama</td>\n",
       "    </tr>\n",
       "    <tr>\n",
       "      <td>2</td>\n",
       "      <td>31</td>\n",
       "      <td>31</td>\n",
       "      <td>4.0</td>\n",
       "      <td>1273541953</td>\n",
       "      <td>Dangerous Minds (1995)</td>\n",
       "      <td>Drama</td>\n",
       "      <td>[Drama]</td>\n",
       "      <td>Drama</td>\n",
       "    </tr>\n",
       "    <tr>\n",
       "      <td>3</td>\n",
       "      <td>32</td>\n",
       "      <td>31</td>\n",
       "      <td>4.0</td>\n",
       "      <td>834828440</td>\n",
       "      <td>Dangerous Minds (1995)</td>\n",
       "      <td>Drama</td>\n",
       "      <td>[Drama]</td>\n",
       "      <td>Drama</td>\n",
       "    </tr>\n",
       "    <tr>\n",
       "      <td>4</td>\n",
       "      <td>36</td>\n",
       "      <td>31</td>\n",
       "      <td>3.0</td>\n",
       "      <td>847057202</td>\n",
       "      <td>Dangerous Minds (1995)</td>\n",
       "      <td>Drama</td>\n",
       "      <td>[Drama]</td>\n",
       "      <td>Drama</td>\n",
       "    </tr>\n",
       "  </tbody>\n",
       "</table>\n",
       "</div>"
      ],
      "text/plain": [
       "   userId  movieId  rating   timestamp                   title genres  \\\n",
       "0       1       31     2.5  1260759144  Dangerous Minds (1995)  Drama   \n",
       "1       7       31     3.0   851868750  Dangerous Minds (1995)  Drama   \n",
       "2      31       31     4.0  1273541953  Dangerous Minds (1995)  Drama   \n",
       "3      32       31     4.0   834828440  Dangerous Minds (1995)  Drama   \n",
       "4      36       31     3.0   847057202  Dangerous Minds (1995)  Drama   \n",
       "\n",
       "  genres_new Genres_1  \n",
       "0    [Drama]    Drama  \n",
       "1    [Drama]    Drama  \n",
       "2    [Drama]    Drama  \n",
       "3    [Drama]    Drama  \n",
       "4    [Drama]    Drama  "
      ]
     },
     "execution_count": 880,
     "metadata": {},
     "output_type": "execute_result"
    }
   ],
   "source": [
    "recommend_df_rating = pd.merge(rating_df, movie_df_1)\n",
    "recommend_df_rating.head()"
   ]
  },
  {
   "cell_type": "code",
   "execution_count": 881,
   "metadata": {},
   "outputs": [
    {
     "data": {
      "text/plain": [
       "(260312, 8)"
      ]
     },
     "execution_count": 881,
     "metadata": {},
     "output_type": "execute_result"
    }
   ],
   "source": [
    "recommend_df_rating.shape"
   ]
  },
  {
   "cell_type": "markdown",
   "metadata": {},
   "source": [
    "### Basic recommendation\n",
    "  - This for user, that first time use the website"
   ]
  },
  {
   "cell_type": "markdown",
   "metadata": {},
   "source": [
    "#### Top 20 movie with hight rating"
   ]
  },
  {
   "cell_type": "code",
   "execution_count": 939,
   "metadata": {},
   "outputs": [],
   "source": [
    "def recommend_top_20_movie(df= recommend_df_rating):\n",
    "    recommend_base_rating = pd.DataFrame(df.groupby(['movieId','title','genres'])['rating'].mean())\n",
    "    recommend_base_rating['count_rating'] = df.groupby(['movieId','title','genres'])['rating'].count()\n",
    "    recommend_base_rating = recommend_base_rating[recommend_base_rating['count_rating'] > 10]\n",
    "    result = recommend_base_rating.sort_values(by = 'rating', ascending = False)\n",
    "    return result.reset_index()[['title','genres']].head(20)"
   ]
  },
  {
   "cell_type": "code",
   "execution_count": 940,
   "metadata": {},
   "outputs": [
    {
     "data": {
      "text/html": [
       "<div>\n",
       "<style scoped>\n",
       "    .dataframe tbody tr th:only-of-type {\n",
       "        vertical-align: middle;\n",
       "    }\n",
       "\n",
       "    .dataframe tbody tr th {\n",
       "        vertical-align: top;\n",
       "    }\n",
       "\n",
       "    .dataframe thead th {\n",
       "        text-align: right;\n",
       "    }\n",
       "</style>\n",
       "<table border=\"1\" class=\"dataframe\">\n",
       "  <thead>\n",
       "    <tr style=\"text-align: right;\">\n",
       "      <th></th>\n",
       "      <th>title</th>\n",
       "      <th>genres</th>\n",
       "    </tr>\n",
       "  </thead>\n",
       "  <tbody>\n",
       "    <tr>\n",
       "      <td>0</td>\n",
       "      <td>In a Lonely Place (1950)</td>\n",
       "      <td>Drama|Film-Noir|Mystery|Romance</td>\n",
       "    </tr>\n",
       "    <tr>\n",
       "      <td>1</td>\n",
       "      <td>Paperman (2012)</td>\n",
       "      <td>Animation|Comedy|Romance</td>\n",
       "    </tr>\n",
       "    <tr>\n",
       "      <td>2</td>\n",
       "      <td>Diabolique (Les diaboliques) (1955)</td>\n",
       "      <td>Horror|Mystery|Thriller</td>\n",
       "    </tr>\n",
       "    <tr>\n",
       "      <td>3</td>\n",
       "      <td>Paradise Now (2005)</td>\n",
       "      <td>Crime|Drama|Thriller|War</td>\n",
       "    </tr>\n",
       "    <tr>\n",
       "      <td>4</td>\n",
       "      <td>Best Years of Our Lives, The (1946)</td>\n",
       "      <td>Drama|War</td>\n",
       "    </tr>\n",
       "    <tr>\n",
       "      <td>5</td>\n",
       "      <td>Drunken Master (Jui kuen) (1978)</td>\n",
       "      <td>Action|Comedy</td>\n",
       "    </tr>\n",
       "    <tr>\n",
       "      <td>6</td>\n",
       "      <td>Inherit the Wind (1960)</td>\n",
       "      <td>Drama</td>\n",
       "    </tr>\n",
       "    <tr>\n",
       "      <td>7</td>\n",
       "      <td>Tell No One (Ne le dis à personne) (2006)</td>\n",
       "      <td>Crime|Drama|Mystery|Thriller</td>\n",
       "    </tr>\n",
       "    <tr>\n",
       "      <td>8</td>\n",
       "      <td>For the Birds (2000)</td>\n",
       "      <td>Animation|Children|Comedy</td>\n",
       "    </tr>\n",
       "    <tr>\n",
       "      <td>9</td>\n",
       "      <td>Wind Rises, The (Kaze tachinu) (2013)</td>\n",
       "      <td>Animation|Drama|Romance</td>\n",
       "    </tr>\n",
       "    <tr>\n",
       "      <td>10</td>\n",
       "      <td>Court Jester, The (1956)</td>\n",
       "      <td>Adventure|Comedy|Musical</td>\n",
       "    </tr>\n",
       "    <tr>\n",
       "      <td>11</td>\n",
       "      <td>Godfather, The (1972)</td>\n",
       "      <td>Crime|Drama</td>\n",
       "    </tr>\n",
       "    <tr>\n",
       "      <td>12</td>\n",
       "      <td>Shawshank Redemption, The (1994)</td>\n",
       "      <td>Crime|Drama</td>\n",
       "    </tr>\n",
       "    <tr>\n",
       "      <td>13</td>\n",
       "      <td>Tom Jones (1963)</td>\n",
       "      <td>Adventure|Comedy|Romance</td>\n",
       "    </tr>\n",
       "    <tr>\n",
       "      <td>14</td>\n",
       "      <td>Gladiator (1992)</td>\n",
       "      <td>Action|Drama</td>\n",
       "    </tr>\n",
       "    <tr>\n",
       "      <td>15</td>\n",
       "      <td>On the Waterfront (1954)</td>\n",
       "      <td>Crime|Drama</td>\n",
       "    </tr>\n",
       "    <tr>\n",
       "      <td>16</td>\n",
       "      <td>Kid, The (1921)</td>\n",
       "      <td>Comedy|Drama</td>\n",
       "    </tr>\n",
       "    <tr>\n",
       "      <td>17</td>\n",
       "      <td>When We Were Kings (1996)</td>\n",
       "      <td>Documentary</td>\n",
       "    </tr>\n",
       "    <tr>\n",
       "      <td>18</td>\n",
       "      <td>Carnal Knowledge (1971)</td>\n",
       "      <td>Comedy|Drama</td>\n",
       "    </tr>\n",
       "    <tr>\n",
       "      <td>19</td>\n",
       "      <td>All About Eve (1950)</td>\n",
       "      <td>Drama</td>\n",
       "    </tr>\n",
       "  </tbody>\n",
       "</table>\n",
       "</div>"
      ],
      "text/plain": [
       "                                        title                           genres\n",
       "0                    In a Lonely Place (1950)  Drama|Film-Noir|Mystery|Romance\n",
       "1                             Paperman (2012)         Animation|Comedy|Romance\n",
       "2         Diabolique (Les diaboliques) (1955)          Horror|Mystery|Thriller\n",
       "3                         Paradise Now (2005)         Crime|Drama|Thriller|War\n",
       "4         Best Years of Our Lives, The (1946)                        Drama|War\n",
       "5            Drunken Master (Jui kuen) (1978)                    Action|Comedy\n",
       "6                     Inherit the Wind (1960)                            Drama\n",
       "7   Tell No One (Ne le dis à personne) (2006)     Crime|Drama|Mystery|Thriller\n",
       "8                        For the Birds (2000)        Animation|Children|Comedy\n",
       "9       Wind Rises, The (Kaze tachinu) (2013)          Animation|Drama|Romance\n",
       "10                   Court Jester, The (1956)         Adventure|Comedy|Musical\n",
       "11                      Godfather, The (1972)                      Crime|Drama\n",
       "12           Shawshank Redemption, The (1994)                      Crime|Drama\n",
       "13                           Tom Jones (1963)         Adventure|Comedy|Romance\n",
       "14                           Gladiator (1992)                     Action|Drama\n",
       "15                   On the Waterfront (1954)                      Crime|Drama\n",
       "16                            Kid, The (1921)                     Comedy|Drama\n",
       "17                  When We Were Kings (1996)                      Documentary\n",
       "18                    Carnal Knowledge (1971)                     Comedy|Drama\n",
       "19                       All About Eve (1950)                            Drama"
      ]
     },
     "execution_count": 940,
     "metadata": {},
     "output_type": "execute_result"
    }
   ],
   "source": [
    "recommend_top_20_movie()"
   ]
  },
  {
   "cell_type": "markdown",
   "metadata": {},
   "source": [
    "- It return top 20 movie that have at leat 10 people rating and have the highest rating average\n",
    "- But sometime people want want see only genres they are like. So we can recommend them the top movie with genre with have the highest average rating"
   ]
  },
  {
   "cell_type": "markdown",
   "metadata": {},
   "source": [
    "#### Recommendation movie by Genres and most rating recommendation"
   ]
  },
  {
   "cell_type": "code",
   "execution_count": 941,
   "metadata": {},
   "outputs": [],
   "source": [
    "def get_recommend_genre(genre, df = recommend_df_rating):\n",
    "    temp_df = df[df.Genres_1 == genre]\n",
    "    recommend_movie = pd.DataFrame(temp_df.groupby(['movieId','title','genres'])['rating'].mean())\n",
    "    recommend_movie['count_rating'] = temp_df.groupby(['movieId','title','genres'])['rating'].count()\n",
    "    \n",
    "    result = recommend_movie.sort_values(by = 'rating', ascending = False)\n",
    "    \n",
    "    result_1 = result[result.count_rating > 10]\n",
    "\n",
    "    return result_1.reset_index()[['title','genres']].head(15)"
   ]
  },
  {
   "cell_type": "markdown",
   "metadata": {},
   "source": [
    "- List of genres movie\n",
    "\n",
    "['Adventure', 'Animation', 'Children', 'Comedy', 'Fantasy',\n",
    "'Romance', 'Drama', 'Action', 'Crime', 'Thriller', 'Horror',\n",
    "'Mystery', 'Sci-Fi', 'War', 'Musical', 'Documentary', 'IMAX',\n",
    "'Western', 'Film-Noir']"
   ]
  },
  {
   "cell_type": "code",
   "execution_count": 942,
   "metadata": {},
   "outputs": [
    {
     "data": {
      "text/html": [
       "<div>\n",
       "<style scoped>\n",
       "    .dataframe tbody tr th:only-of-type {\n",
       "        vertical-align: middle;\n",
       "    }\n",
       "\n",
       "    .dataframe tbody tr th {\n",
       "        vertical-align: top;\n",
       "    }\n",
       "\n",
       "    .dataframe thead th {\n",
       "        text-align: right;\n",
       "    }\n",
       "</style>\n",
       "<table border=\"1\" class=\"dataframe\">\n",
       "  <thead>\n",
       "    <tr style=\"text-align: right;\">\n",
       "      <th></th>\n",
       "      <th>title</th>\n",
       "      <th>genres</th>\n",
       "    </tr>\n",
       "  </thead>\n",
       "  <tbody>\n",
       "    <tr>\n",
       "      <td>0</td>\n",
       "      <td>Best Years of Our Lives, The (1946)</td>\n",
       "      <td>Drama|War</td>\n",
       "    </tr>\n",
       "    <tr>\n",
       "      <td>1</td>\n",
       "      <td>Inherit the Wind (1960)</td>\n",
       "      <td>Drama</td>\n",
       "    </tr>\n",
       "    <tr>\n",
       "      <td>2</td>\n",
       "      <td>Godfather, The (1972)</td>\n",
       "      <td>Crime|Drama</td>\n",
       "    </tr>\n",
       "    <tr>\n",
       "      <td>3</td>\n",
       "      <td>Shawshank Redemption, The (1994)</td>\n",
       "      <td>Crime|Drama</td>\n",
       "    </tr>\n",
       "    <tr>\n",
       "      <td>4</td>\n",
       "      <td>Gladiator (1992)</td>\n",
       "      <td>Action|Drama</td>\n",
       "    </tr>\n",
       "    <tr>\n",
       "      <td>5</td>\n",
       "      <td>On the Waterfront (1954)</td>\n",
       "      <td>Crime|Drama</td>\n",
       "    </tr>\n",
       "    <tr>\n",
       "      <td>6</td>\n",
       "      <td>All About Eve (1950)</td>\n",
       "      <td>Drama</td>\n",
       "    </tr>\n",
       "    <tr>\n",
       "      <td>7</td>\n",
       "      <td>Ran (1985)</td>\n",
       "      <td>Drama|War</td>\n",
       "    </tr>\n",
       "    <tr>\n",
       "      <td>8</td>\n",
       "      <td>Mister Roberts (1955)</td>\n",
       "      <td>Comedy|Drama|War</td>\n",
       "    </tr>\n",
       "    <tr>\n",
       "      <td>9</td>\n",
       "      <td>Godfather: Part II, The (1974)</td>\n",
       "      <td>Crime|Drama</td>\n",
       "    </tr>\n",
       "    <tr>\n",
       "      <td>10</td>\n",
       "      <td>Paths of Glory (1957)</td>\n",
       "      <td>Drama|War</td>\n",
       "    </tr>\n",
       "    <tr>\n",
       "      <td>11</td>\n",
       "      <td>Lifeboat (1944)</td>\n",
       "      <td>Drama|War</td>\n",
       "    </tr>\n",
       "    <tr>\n",
       "      <td>12</td>\n",
       "      <td>Rush (2013)</td>\n",
       "      <td>Action|Drama</td>\n",
       "    </tr>\n",
       "    <tr>\n",
       "      <td>13</td>\n",
       "      <td>Modern Times (1936)</td>\n",
       "      <td>Comedy|Drama|Romance</td>\n",
       "    </tr>\n",
       "    <tr>\n",
       "      <td>14</td>\n",
       "      <td>Philadelphia Story, The (1940)</td>\n",
       "      <td>Comedy|Drama|Romance</td>\n",
       "    </tr>\n",
       "  </tbody>\n",
       "</table>\n",
       "</div>"
      ],
      "text/plain": [
       "                                  title                genres\n",
       "0   Best Years of Our Lives, The (1946)             Drama|War\n",
       "1               Inherit the Wind (1960)                 Drama\n",
       "2                 Godfather, The (1972)           Crime|Drama\n",
       "3      Shawshank Redemption, The (1994)           Crime|Drama\n",
       "4                      Gladiator (1992)          Action|Drama\n",
       "5              On the Waterfront (1954)           Crime|Drama\n",
       "6                  All About Eve (1950)                 Drama\n",
       "7                            Ran (1985)             Drama|War\n",
       "8                 Mister Roberts (1955)      Comedy|Drama|War\n",
       "9        Godfather: Part II, The (1974)           Crime|Drama\n",
       "10                Paths of Glory (1957)             Drama|War\n",
       "11                      Lifeboat (1944)             Drama|War\n",
       "12                          Rush (2013)          Action|Drama\n",
       "13                  Modern Times (1936)  Comedy|Drama|Romance\n",
       "14       Philadelphia Story, The (1940)  Comedy|Drama|Romance"
      ]
     },
     "execution_count": 942,
     "metadata": {},
     "output_type": "execute_result"
    }
   ],
   "source": [
    "get_recommend_genre(\"Drama\")"
   ]
  },
  {
   "cell_type": "markdown",
   "metadata": {},
   "source": [
    "- These are list of 15 movie with highest average rating and have at least 10 people rate on that movie"
   ]
  },
  {
   "cell_type": "markdown",
   "metadata": {},
   "source": [
    "### Correlation-base recommendation\n",
    "    \n",
    "   - Use Pearson's r correlation to recommend a movie that is most similar to the movie that user have early watch\n",
    "   - Base on the of all the user rating the movie, so we can calculation the correlation of movie."
   ]
  },
  {
   "cell_type": "code",
   "execution_count": 685,
   "metadata": {},
   "outputs": [],
   "source": [
    "## Prepare cross table\n",
    "cross_table = pd.pivot_table(data = recommend_df_rating, values='rating', index = 'userId', columns = 'movieId')"
   ]
  },
  {
   "cell_type": "code",
   "execution_count": 943,
   "metadata": {},
   "outputs": [],
   "source": [
    "def get_recommendation_movie_corr(movie_name, cross_table= cross_table, basic_df= recommend_df_rating, rating_df= rating_df):\n",
    "    movie_id = basic_df[basic_df.title == movie_name]['movieId'].unique()\n",
    "    movie_rating = cross_table[movie_id[0]]\n",
    "    #Get similar\n",
    "    similar = cross_table.corrwith(movie_rating)\n",
    "    corr_movie = pd.DataFrame(similar, columns = ['PearsonR'])\n",
    "    #\n",
    "    corr_movie.dropna(inplace= True)\n",
    "    #\n",
    "    rating_df_1 = pd.DataFrame(rating_df.groupby('movieId')['rating'].count())\n",
    "    rating_df_1.columns = ['count_rating']\n",
    "    #\n",
    "    corr_summary = corr_movie.join(rating_df_1)\n",
    "    #\n",
    "    corr_summary_movie = corr_summary[corr_summary.count_rating > 10]\n",
    "    corr_summary_movie = corr_summary_movie.sort_values(by = 'PearsonR', ascending = False)\n",
    "    similar_movie = corr_summary_movie[corr_summary_movie.PearsonR > 0.95]\n",
    "    \n",
    "    #\n",
    "    movie_df_corr = pd.DataFrame(similar_movie.index, columns = ['movieId'])\n",
    "    #\n",
    "    similar_movie_df = pd.merge(movie_df_corr, recommend_df_rating, how = 'left', on = 'movieId')\n",
    "    recommendation_movie = similar_movie_df.groupby(['title','genres'])\n",
    "    result = pd.DataFrame(recommendation_movie.groups.keys(), columns = ['title','genres'])\n",
    "\n",
    "    return result.head(15)\n",
    "    "
   ]
  },
  {
   "cell_type": "code",
   "execution_count": 944,
   "metadata": {},
   "outputs": [
    {
     "data": {
      "text/plain": [
       "0    Drama\n",
       "Name: genres, dtype: object"
      ]
     },
     "execution_count": 944,
     "metadata": {},
     "output_type": "execute_result"
    }
   ],
   "source": [
    "#recom_df.title.unique()\n",
    "recommend_df_rating[recommend_df_rating.title =='Dangerous Minds (1995)' ]['genres'].drop_duplicates()"
   ]
  },
  {
   "cell_type": "code",
   "execution_count": 945,
   "metadata": {},
   "outputs": [
    {
     "name": "stderr",
     "output_type": "stream",
     "text": [
      "/Users/hungnguyen/miniconda3/lib/python3.7/site-packages/numpy/lib/function_base.py:2526: RuntimeWarning: Degrees of freedom <= 0 for slice\n",
      "  c = cov(x, y, rowvar)\n",
      "/Users/hungnguyen/miniconda3/lib/python3.7/site-packages/numpy/lib/function_base.py:2455: RuntimeWarning: divide by zero encountered in true_divide\n",
      "  c *= np.true_divide(1, fact)\n"
     ]
    },
    {
     "data": {
      "text/html": [
       "<div>\n",
       "<style scoped>\n",
       "    .dataframe tbody tr th:only-of-type {\n",
       "        vertical-align: middle;\n",
       "    }\n",
       "\n",
       "    .dataframe tbody tr th {\n",
       "        vertical-align: top;\n",
       "    }\n",
       "\n",
       "    .dataframe thead th {\n",
       "        text-align: right;\n",
       "    }\n",
       "</style>\n",
       "<table border=\"1\" class=\"dataframe\">\n",
       "  <thead>\n",
       "    <tr style=\"text-align: right;\">\n",
       "      <th></th>\n",
       "      <th>title</th>\n",
       "      <th>genres</th>\n",
       "    </tr>\n",
       "  </thead>\n",
       "  <tbody>\n",
       "    <tr>\n",
       "      <td>0</td>\n",
       "      <td>...And Justice for All (1979)</td>\n",
       "      <td>Drama|Thriller</td>\n",
       "    </tr>\n",
       "    <tr>\n",
       "      <td>1</td>\n",
       "      <td>127 Hours (2010)</td>\n",
       "      <td>Adventure|Drama|Thriller</td>\n",
       "    </tr>\n",
       "    <tr>\n",
       "      <td>2</td>\n",
       "      <td>2 Days in the Valley (1996)</td>\n",
       "      <td>Crime|Film-Noir</td>\n",
       "    </tr>\n",
       "    <tr>\n",
       "      <td>3</td>\n",
       "      <td>2 Fast 2 Furious (Fast and the Furious 2, The)...</td>\n",
       "      <td>Action|Crime|Thriller</td>\n",
       "    </tr>\n",
       "    <tr>\n",
       "      <td>4</td>\n",
       "      <td>21 (2008)</td>\n",
       "      <td>Crime|Drama|Romance|Thriller</td>\n",
       "    </tr>\n",
       "    <tr>\n",
       "      <td>5</td>\n",
       "      <td>300 (2007)</td>\n",
       "      <td>Action|Fantasy|War|IMAX</td>\n",
       "    </tr>\n",
       "    <tr>\n",
       "      <td>6</td>\n",
       "      <td>40 Days and 40 Nights (2002)</td>\n",
       "      <td>Comedy|Romance</td>\n",
       "    </tr>\n",
       "    <tr>\n",
       "      <td>7</td>\n",
       "      <td>About Last Night... (1986)</td>\n",
       "      <td>Comedy|Drama|Romance</td>\n",
       "    </tr>\n",
       "    <tr>\n",
       "      <td>8</td>\n",
       "      <td>Absolute Power (1997)</td>\n",
       "      <td>Mystery|Thriller</td>\n",
       "    </tr>\n",
       "    <tr>\n",
       "      <td>9</td>\n",
       "      <td>Addams Family, The (1991)</td>\n",
       "      <td>Children|Comedy|Fantasy</td>\n",
       "    </tr>\n",
       "    <tr>\n",
       "      <td>10</td>\n",
       "      <td>Adventureland (2009)</td>\n",
       "      <td>Comedy|Drama</td>\n",
       "    </tr>\n",
       "    <tr>\n",
       "      <td>11</td>\n",
       "      <td>Adventures in Babysitting (1987)</td>\n",
       "      <td>Adventure|Comedy</td>\n",
       "    </tr>\n",
       "    <tr>\n",
       "      <td>12</td>\n",
       "      <td>Adventures of Baron Munchausen, The (1988)</td>\n",
       "      <td>Adventure|Comedy|Fantasy</td>\n",
       "    </tr>\n",
       "    <tr>\n",
       "      <td>13</td>\n",
       "      <td>Aeon Flux (2005)</td>\n",
       "      <td>Action|Sci-Fi</td>\n",
       "    </tr>\n",
       "    <tr>\n",
       "      <td>14</td>\n",
       "      <td>Airplane II: The Sequel (1982)</td>\n",
       "      <td>Comedy</td>\n",
       "    </tr>\n",
       "  </tbody>\n",
       "</table>\n",
       "</div>"
      ],
      "text/plain": [
       "                                                title  \\\n",
       "0                       ...And Justice for All (1979)   \n",
       "1                                    127 Hours (2010)   \n",
       "2                         2 Days in the Valley (1996)   \n",
       "3   2 Fast 2 Furious (Fast and the Furious 2, The)...   \n",
       "4                                           21 (2008)   \n",
       "5                                          300 (2007)   \n",
       "6                        40 Days and 40 Nights (2002)   \n",
       "7                          About Last Night... (1986)   \n",
       "8                               Absolute Power (1997)   \n",
       "9                           Addams Family, The (1991)   \n",
       "10                               Adventureland (2009)   \n",
       "11                   Adventures in Babysitting (1987)   \n",
       "12         Adventures of Baron Munchausen, The (1988)   \n",
       "13                                   Aeon Flux (2005)   \n",
       "14                     Airplane II: The Sequel (1982)   \n",
       "\n",
       "                          genres  \n",
       "0                 Drama|Thriller  \n",
       "1       Adventure|Drama|Thriller  \n",
       "2                Crime|Film-Noir  \n",
       "3          Action|Crime|Thriller  \n",
       "4   Crime|Drama|Romance|Thriller  \n",
       "5        Action|Fantasy|War|IMAX  \n",
       "6                 Comedy|Romance  \n",
       "7           Comedy|Drama|Romance  \n",
       "8               Mystery|Thriller  \n",
       "9        Children|Comedy|Fantasy  \n",
       "10                  Comedy|Drama  \n",
       "11              Adventure|Comedy  \n",
       "12      Adventure|Comedy|Fantasy  \n",
       "13                 Action|Sci-Fi  \n",
       "14                        Comedy  "
      ]
     },
     "execution_count": 945,
     "metadata": {},
     "output_type": "execute_result"
    }
   ],
   "source": [
    "get_recommendation_movie_corr('Dangerous Minds (1995)')"
   ]
  },
  {
   "cell_type": "markdown",
   "metadata": {},
   "source": [
    "### Model-base Collaborative filtering system recommendation\n",
    "- Create the recommender model user rating, and recommend movie base on the model\n",
    "- Use Singular Value Decomposition(SVD)"
   ]
  },
  {
   "cell_type": "code",
   "execution_count": 521,
   "metadata": {},
   "outputs": [],
   "source": [
    "from sklearn.decomposition import TruncatedSVD"
   ]
  },
  {
   "cell_type": "markdown",
   "metadata": {},
   "source": [
    "###### Building matrix"
   ]
  },
  {
   "cell_type": "code",
   "execution_count": 866,
   "metadata": {},
   "outputs": [],
   "source": [
    "## Fill to fill nan == 0\n",
    "rating_crosstab = recommend_df_rating.pivot_table(values = 'rating', index = 'userId', columns = 'title', fill_value=0)"
   ]
  },
  {
   "cell_type": "markdown",
   "metadata": {},
   "source": [
    "##### Transposting the Matrix"
   ]
  },
  {
   "cell_type": "code",
   "execution_count": 867,
   "metadata": {},
   "outputs": [],
   "source": [
    "#Transform the matrix\n",
    "X = rating_crosstab.T\n",
    "# Decomposing the matrix\n",
    "SVD = TruncatedSVD(n_components= 12, random_state=42)\n",
    "result  = SVD.fit_transform(X)\n",
    "#Correlation\n",
    "corr_mat = np.corrcoef(result)"
   ]
  },
  {
   "cell_type": "code",
   "execution_count": 868,
   "metadata": {},
   "outputs": [
    {
     "data": {
      "text/plain": [
       "(7062, 7062)"
      ]
     },
     "execution_count": 868,
     "metadata": {},
     "output_type": "execute_result"
    }
   ],
   "source": [
    "corr_mat.shape"
   ]
  },
  {
   "cell_type": "code",
   "execution_count": 931,
   "metadata": {},
   "outputs": [],
   "source": [
    "def model_base_recommendation(movie_name,rating_crosstab= rating_crosstab, df = recommend_df_rating ):\n",
    "    ## The list of the movie name\n",
    "    raw_movie_name = rating_crosstab.columns\n",
    "    raw_movie_list = list(raw_movie_name)\n",
    "    ## Get the index of the movie name\n",
    "    movie_index = raw_movie_list.index(movie_name)\n",
    "    ## Get correlation with that movie\n",
    "    corr_movie_1 = corr_mat[movie_index]\n",
    "    ##\n",
    "    temp_df = pd.DataFrame(corr_movie_1, index = raw_movie_list, columns = ['correlation'])\n",
    "    temp_result = temp_df[(temp_df.correlation > 0.7) ]\n",
    "    temp_result = temp_result.sort_values(by='correlation', ascending = False)\n",
    "    \n",
    "    result_2 = temp_result.index\n",
    "    result_2 = pd.DataFrame(result_2,columns = ['title'])\n",
    "    df_1 = df[['title','genres']].drop_duplicates().set_index('title')\n",
    "    result_3 = pd.DataFrame(result_2.head(15))\n",
    "    \n",
    "    result_4 = pd.merge(result_3, df_1, how = 'left', left_on= 'title', right_index = True)\n",
    "    \n",
    "    return result_4"
   ]
  },
  {
   "cell_type": "code",
   "execution_count": 946,
   "metadata": {},
   "outputs": [
    {
     "data": {
      "text/html": [
       "<div>\n",
       "<style scoped>\n",
       "    .dataframe tbody tr th:only-of-type {\n",
       "        vertical-align: middle;\n",
       "    }\n",
       "\n",
       "    .dataframe tbody tr th {\n",
       "        vertical-align: top;\n",
       "    }\n",
       "\n",
       "    .dataframe thead th {\n",
       "        text-align: right;\n",
       "    }\n",
       "</style>\n",
       "<table border=\"1\" class=\"dataframe\">\n",
       "  <thead>\n",
       "    <tr style=\"text-align: right;\">\n",
       "      <th></th>\n",
       "      <th>title</th>\n",
       "      <th>genres</th>\n",
       "    </tr>\n",
       "  </thead>\n",
       "  <tbody>\n",
       "    <tr>\n",
       "      <td>0</td>\n",
       "      <td>Dangerous Minds (1995)</td>\n",
       "      <td>Drama</td>\n",
       "    </tr>\n",
       "    <tr>\n",
       "      <td>1</td>\n",
       "      <td>Outbreak (1995)</td>\n",
       "      <td>Action|Drama|Sci-Fi|Thriller</td>\n",
       "    </tr>\n",
       "    <tr>\n",
       "      <td>2</td>\n",
       "      <td>Waterworld (1995)</td>\n",
       "      <td>Action|Adventure|Sci-Fi</td>\n",
       "    </tr>\n",
       "    <tr>\n",
       "      <td>3</td>\n",
       "      <td>Legends of the Fall (1994)</td>\n",
       "      <td>Drama|Romance|War|Western</td>\n",
       "    </tr>\n",
       "    <tr>\n",
       "      <td>4</td>\n",
       "      <td>Tombstone (1993)</td>\n",
       "      <td>Action|Drama|Western</td>\n",
       "    </tr>\n",
       "    <tr>\n",
       "      <td>5</td>\n",
       "      <td>Dances with Wolves (1990)</td>\n",
       "      <td>Adventure|Drama|Western</td>\n",
       "    </tr>\n",
       "    <tr>\n",
       "      <td>6</td>\n",
       "      <td>Apollo 13 (1995)</td>\n",
       "      <td>Adventure|Drama|IMAX</td>\n",
       "    </tr>\n",
       "    <tr>\n",
       "      <td>7</td>\n",
       "      <td>Cliffhanger (1993)</td>\n",
       "      <td>Action|Adventure|Thriller</td>\n",
       "    </tr>\n",
       "    <tr>\n",
       "      <td>8</td>\n",
       "      <td>Ace Ventura: Pet Detective (1994)</td>\n",
       "      <td>Comedy</td>\n",
       "    </tr>\n",
       "    <tr>\n",
       "      <td>9</td>\n",
       "      <td>Firm, The (1993)</td>\n",
       "      <td>Drama|Thriller</td>\n",
       "    </tr>\n",
       "    <tr>\n",
       "      <td>10</td>\n",
       "      <td>Speed (1994)</td>\n",
       "      <td>Action|Romance|Thriller</td>\n",
       "    </tr>\n",
       "    <tr>\n",
       "      <td>11</td>\n",
       "      <td>True Lies (1994)</td>\n",
       "      <td>Action|Adventure|Comedy|Romance|Thriller</td>\n",
       "    </tr>\n",
       "    <tr>\n",
       "      <td>12</td>\n",
       "      <td>Die Hard: With a Vengeance (1995)</td>\n",
       "      <td>Action|Crime|Thriller</td>\n",
       "    </tr>\n",
       "    <tr>\n",
       "      <td>13</td>\n",
       "      <td>Crimson Tide (1995)</td>\n",
       "      <td>Drama|Thriller|War</td>\n",
       "    </tr>\n",
       "    <tr>\n",
       "      <td>14</td>\n",
       "      <td>Net, The (1995)</td>\n",
       "      <td>Action|Crime|Thriller</td>\n",
       "    </tr>\n",
       "  </tbody>\n",
       "</table>\n",
       "</div>"
      ],
      "text/plain": [
       "                                title  \\\n",
       "0              Dangerous Minds (1995)   \n",
       "1                     Outbreak (1995)   \n",
       "2                   Waterworld (1995)   \n",
       "3          Legends of the Fall (1994)   \n",
       "4                    Tombstone (1993)   \n",
       "5           Dances with Wolves (1990)   \n",
       "6                    Apollo 13 (1995)   \n",
       "7                  Cliffhanger (1993)   \n",
       "8   Ace Ventura: Pet Detective (1994)   \n",
       "9                    Firm, The (1993)   \n",
       "10                       Speed (1994)   \n",
       "11                   True Lies (1994)   \n",
       "12  Die Hard: With a Vengeance (1995)   \n",
       "13                Crimson Tide (1995)   \n",
       "14                    Net, The (1995)   \n",
       "\n",
       "                                      genres  \n",
       "0                                      Drama  \n",
       "1               Action|Drama|Sci-Fi|Thriller  \n",
       "2                    Action|Adventure|Sci-Fi  \n",
       "3                  Drama|Romance|War|Western  \n",
       "4                       Action|Drama|Western  \n",
       "5                    Adventure|Drama|Western  \n",
       "6                       Adventure|Drama|IMAX  \n",
       "7                  Action|Adventure|Thriller  \n",
       "8                                     Comedy  \n",
       "9                             Drama|Thriller  \n",
       "10                   Action|Romance|Thriller  \n",
       "11  Action|Adventure|Comedy|Romance|Thriller  \n",
       "12                     Action|Crime|Thriller  \n",
       "13                        Drama|Thriller|War  \n",
       "14                     Action|Crime|Thriller  "
      ]
     },
     "execution_count": 946,
     "metadata": {},
     "output_type": "execute_result"
    }
   ],
   "source": [
    "model_base_recommendation('Dangerous Minds (1995)')"
   ]
  },
  {
   "cell_type": "code",
   "execution_count": null,
   "metadata": {},
   "outputs": [],
   "source": []
  }
 ],
 "metadata": {
  "kernelspec": {
   "display_name": "Python 3",
   "language": "python",
   "name": "python3"
  },
  "language_info": {
   "codemirror_mode": {
    "name": "ipython",
    "version": 3
   },
   "file_extension": ".py",
   "mimetype": "text/x-python",
   "name": "python",
   "nbconvert_exporter": "python",
   "pygments_lexer": "ipython3",
   "version": "3.7.3"
  }
 },
 "nbformat": 4,
 "nbformat_minor": 2
}
