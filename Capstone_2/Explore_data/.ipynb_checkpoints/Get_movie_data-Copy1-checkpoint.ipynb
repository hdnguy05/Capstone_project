{
 "cells": [
  {
   "cell_type": "code",
   "execution_count": 6,
   "metadata": {
    "scrolled": false
   },
   "outputs": [],
   "source": [
    "API_KEY = '1ecd8f73e6af027139a32ec8346c9975'"
   ]
  },
  {
   "cell_type": "code",
   "execution_count": 7,
   "metadata": {
    "scrolled": false
   },
   "outputs": [],
   "source": [
    "import requests\n",
    "import pandas as pd\n",
    "import datetime\n",
    "import numpy as np\n",
    "from tqdm import tqdm_notebook as tqdm"
   ]
  },
  {
   "cell_type": "code",
   "execution_count": 8,
   "metadata": {
    "scrolled": false
   },
   "outputs": [],
   "source": [
    "## The website have 540548 movie\n",
    "# https://www.themoviedb.org/faq/general\n",
    "### Fotmart for get APO GUIDE : https://developers.themoviedb.org/3/getting-started/introduction"
   ]
  },
  {
   "cell_type": "code",
   "execution_count": 9,
   "metadata": {},
   "outputs": [
    {
     "data": {
      "application/vnd.jupyter.widget-view+json": {
       "model_id": "cc9bf8476e6647b5a4e7ca33a34861a2",
       "version_major": 2,
       "version_minor": 0
      },
      "text/html": [
       "<p>Failed to display Jupyter Widget of type <code>HBox</code>.</p>\n",
       "<p>\n",
       "  If you're reading this message in the Jupyter Notebook or JupyterLab Notebook, it may mean\n",
       "  that the widgets JavaScript is still loading. If this message persists, it\n",
       "  likely means that the widgets JavaScript library is either not installed or\n",
       "  not enabled. See the <a href=\"https://ipywidgets.readthedocs.io/en/stable/user_install.html\">Jupyter\n",
       "  Widgets Documentation</a> for setup instructions.\n",
       "</p>\n",
       "<p>\n",
       "  If you're reading this message in another frontend (for example, a static\n",
       "  rendering on GitHub or <a href=\"https://nbviewer.jupyter.org/\">NBViewer</a>),\n",
       "  it may mean that your frontend doesn't currently support widgets.\n",
       "</p>\n"
      ],
      "text/plain": [
       "HBox(children=(IntProgress(value=0, max=45275), HTML(value='')))"
      ]
     },
     "metadata": {},
     "output_type": "display_data"
    },
    {
     "name": "stdout",
     "output_type": "stream",
     "text": [
      "\n"
     ]
    }
   ],
   "source": [
    "data_meta = []\n",
    "not_movie_id = []\n",
    "for i in tqdm(range(469173,514448)):\n",
    "    try:\n",
    "        r = requests.get('https://api.themoviedb.org/3/movie/'+str(i)+'?api_key=1ecd8f73e6af027139a32ec8346c9975')\n",
    "        data_json = r.json()\n",
    "        if len(data_json) == 25:\n",
    "            data_meta.append(data_json)\n",
    "        else:\n",
    "            not_movie_id.append(i)\n",
    "    except:\n",
    "        not_movie_id.append(i)"
   ]
  },
  {
   "cell_type": "code",
   "execution_count": null,
   "metadata": {},
   "outputs": [],
   "source": [
    "data_json.keys()"
   ]
  },
  {
   "cell_type": "code",
   "execution_count": 11,
   "metadata": {
    "scrolled": false
   },
   "outputs": [],
   "source": [
    "movie_meta_new_2 = pd.DataFrame(data_meta)"
   ]
  },
  {
   "cell_type": "code",
   "execution_count": 12,
   "metadata": {},
   "outputs": [
    {
     "name": "stdout",
     "output_type": "stream",
     "text": [
      "<class 'pandas.core.frame.DataFrame'>\n",
      "RangeIndex: 39647 entries, 0 to 39646\n",
      "Data columns (total 25 columns):\n",
      "adult                    39647 non-null bool\n",
      "backdrop_path            9654 non-null object\n",
      "belongs_to_collection    446 non-null object\n",
      "budget                   39647 non-null int64\n",
      "genres                   39647 non-null object\n",
      "homepage                 8253 non-null object\n",
      "id                       39647 non-null int64\n",
      "imdb_id                  25525 non-null object\n",
      "original_language        39647 non-null object\n",
      "original_title           39647 non-null object\n",
      "overview                 39647 non-null object\n",
      "popularity               39647 non-null float64\n",
      "poster_path              29898 non-null object\n",
      "production_companies     39647 non-null object\n",
      "production_countries     39647 non-null object\n",
      "release_date             39647 non-null object\n",
      "revenue                  39647 non-null int64\n",
      "runtime                  29368 non-null float64\n",
      "spoken_languages         39647 non-null object\n",
      "status                   39647 non-null object\n",
      "tagline                  39647 non-null object\n",
      "title                    39647 non-null object\n",
      "video                    39647 non-null bool\n",
      "vote_average             39647 non-null float64\n",
      "vote_count               39647 non-null int64\n",
      "dtypes: bool(2), float64(3), int64(4), object(16)\n",
      "memory usage: 7.0+ MB\n"
     ]
    }
   ],
   "source": [
    "movie_meta_new_2.info()"
   ]
  },
  {
   "cell_type": "code",
   "execution_count": 14,
   "metadata": {},
   "outputs": [
    {
     "data": {
      "text/html": [
       "<div>\n",
       "<style scoped>\n",
       "    .dataframe tbody tr th:only-of-type {\n",
       "        vertical-align: middle;\n",
       "    }\n",
       "\n",
       "    .dataframe tbody tr th {\n",
       "        vertical-align: top;\n",
       "    }\n",
       "\n",
       "    .dataframe thead th {\n",
       "        text-align: right;\n",
       "    }\n",
       "</style>\n",
       "<table border=\"1\" class=\"dataframe\">\n",
       "  <thead>\n",
       "    <tr style=\"text-align: right;\">\n",
       "      <th></th>\n",
       "      <th>adult</th>\n",
       "      <th>backdrop_path</th>\n",
       "      <th>belongs_to_collection</th>\n",
       "      <th>budget</th>\n",
       "      <th>genres</th>\n",
       "      <th>homepage</th>\n",
       "      <th>id</th>\n",
       "      <th>imdb_id</th>\n",
       "      <th>original_language</th>\n",
       "      <th>original_title</th>\n",
       "      <th>...</th>\n",
       "      <th>release_date</th>\n",
       "      <th>revenue</th>\n",
       "      <th>runtime</th>\n",
       "      <th>spoken_languages</th>\n",
       "      <th>status</th>\n",
       "      <th>tagline</th>\n",
       "      <th>title</th>\n",
       "      <th>video</th>\n",
       "      <th>vote_average</th>\n",
       "      <th>vote_count</th>\n",
       "    </tr>\n",
       "  </thead>\n",
       "  <tbody>\n",
       "    <tr>\n",
       "      <td>0</td>\n",
       "      <td>False</td>\n",
       "      <td>None</td>\n",
       "      <td>None</td>\n",
       "      <td>9</td>\n",
       "      <td>[]</td>\n",
       "      <td>None</td>\n",
       "      <td>469173</td>\n",
       "      <td>None</td>\n",
       "      <td>ru</td>\n",
       "      <td>Заяц Коська и родничок</td>\n",
       "      <td>...</td>\n",
       "      <td>1974-01-01</td>\n",
       "      <td>0</td>\n",
       "      <td>NaN</td>\n",
       "      <td>[]</td>\n",
       "      <td>Released</td>\n",
       "      <td></td>\n",
       "      <td>Заяц Коська и родничок</td>\n",
       "      <td>False</td>\n",
       "      <td>4.0</td>\n",
       "      <td>1</td>\n",
       "    </tr>\n",
       "    <tr>\n",
       "      <td>1</td>\n",
       "      <td>False</td>\n",
       "      <td>None</td>\n",
       "      <td>None</td>\n",
       "      <td>0</td>\n",
       "      <td>[]</td>\n",
       "      <td>None</td>\n",
       "      <td>469174</td>\n",
       "      <td>None</td>\n",
       "      <td>en</td>\n",
       "      <td>The Burning Mountain</td>\n",
       "      <td>...</td>\n",
       "      <td>2014-04-12</td>\n",
       "      <td>0</td>\n",
       "      <td>3.0</td>\n",
       "      <td>[]</td>\n",
       "      <td>Released</td>\n",
       "      <td></td>\n",
       "      <td>The Burning Mountain</td>\n",
       "      <td>False</td>\n",
       "      <td>0.0</td>\n",
       "      <td>0</td>\n",
       "    </tr>\n",
       "    <tr>\n",
       "      <td>2</td>\n",
       "      <td>False</td>\n",
       "      <td>None</td>\n",
       "      <td>None</td>\n",
       "      <td>0</td>\n",
       "      <td>[]</td>\n",
       "      <td></td>\n",
       "      <td>469176</td>\n",
       "      <td>tt5731540</td>\n",
       "      <td>en</td>\n",
       "      <td>Back to the 90's</td>\n",
       "      <td>...</td>\n",
       "      <td>2017-05-01</td>\n",
       "      <td>0</td>\n",
       "      <td>5.0</td>\n",
       "      <td>[]</td>\n",
       "      <td>Released</td>\n",
       "      <td></td>\n",
       "      <td>Back to the 90's</td>\n",
       "      <td>False</td>\n",
       "      <td>0.0</td>\n",
       "      <td>0</td>\n",
       "    </tr>\n",
       "    <tr>\n",
       "      <td>3</td>\n",
       "      <td>False</td>\n",
       "      <td>None</td>\n",
       "      <td>None</td>\n",
       "      <td>0</td>\n",
       "      <td>[{'id': 16, 'name': 'Animation'}]</td>\n",
       "      <td>None</td>\n",
       "      <td>469177</td>\n",
       "      <td>tt7564658</td>\n",
       "      <td>ru</td>\n",
       "      <td>Пряник</td>\n",
       "      <td>...</td>\n",
       "      <td>1993-01-01</td>\n",
       "      <td>0</td>\n",
       "      <td>10.0</td>\n",
       "      <td>[{'iso_639_1': 'ru', 'name': 'Pусский'}]</td>\n",
       "      <td>Released</td>\n",
       "      <td></td>\n",
       "      <td>Пряник</td>\n",
       "      <td>False</td>\n",
       "      <td>3.0</td>\n",
       "      <td>1</td>\n",
       "    </tr>\n",
       "    <tr>\n",
       "      <td>4</td>\n",
       "      <td>False</td>\n",
       "      <td>/e0kfECVTdw90QJXEzM2CsdNoRzF.jpg</td>\n",
       "      <td>None</td>\n",
       "      <td>0</td>\n",
       "      <td>[]</td>\n",
       "      <td></td>\n",
       "      <td>469178</td>\n",
       "      <td>None</td>\n",
       "      <td>th</td>\n",
       "      <td>เมื่อฉันกับเธอ XXX</td>\n",
       "      <td>...</td>\n",
       "      <td>2017-08-10</td>\n",
       "      <td>0</td>\n",
       "      <td>95.0</td>\n",
       "      <td>[]</td>\n",
       "      <td>Released</td>\n",
       "      <td></td>\n",
       "      <td>You ＆ Me XXX</td>\n",
       "      <td>False</td>\n",
       "      <td>5.0</td>\n",
       "      <td>1</td>\n",
       "    </tr>\n",
       "  </tbody>\n",
       "</table>\n",
       "<p>5 rows × 25 columns</p>\n",
       "</div>"
      ],
      "text/plain": [
       "   adult                     backdrop_path belongs_to_collection  budget  \\\n",
       "0  False                              None                  None       9   \n",
       "1  False                              None                  None       0   \n",
       "2  False                              None                  None       0   \n",
       "3  False                              None                  None       0   \n",
       "4  False  /e0kfECVTdw90QJXEzM2CsdNoRzF.jpg                  None       0   \n",
       "\n",
       "                              genres homepage      id    imdb_id  \\\n",
       "0                                 []     None  469173       None   \n",
       "1                                 []     None  469174       None   \n",
       "2                                 []           469176  tt5731540   \n",
       "3  [{'id': 16, 'name': 'Animation'}]     None  469177  tt7564658   \n",
       "4                                 []           469178       None   \n",
       "\n",
       "  original_language          original_title  ... release_date  revenue  \\\n",
       "0                ru  Заяц Коська и родничок  ...   1974-01-01        0   \n",
       "1                en    The Burning Mountain  ...   2014-04-12        0   \n",
       "2                en        Back to the 90's  ...   2017-05-01        0   \n",
       "3                ru                  Пряник  ...   1993-01-01        0   \n",
       "4                th      เมื่อฉันกับเธอ XXX  ...   2017-08-10        0   \n",
       "\n",
       "  runtime                          spoken_languages    status tagline  \\\n",
       "0     NaN                                        []  Released           \n",
       "1     3.0                                        []  Released           \n",
       "2     5.0                                        []  Released           \n",
       "3    10.0  [{'iso_639_1': 'ru', 'name': 'Pусский'}]  Released           \n",
       "4    95.0                                        []  Released           \n",
       "\n",
       "                    title  video vote_average vote_count  \n",
       "0  Заяц Коська и родничок  False          4.0          1  \n",
       "1    The Burning Mountain  False          0.0          0  \n",
       "2        Back to the 90's  False          0.0          0  \n",
       "3                  Пряник  False          3.0          1  \n",
       "4            You ＆ Me XXX  False          5.0          1  \n",
       "\n",
       "[5 rows x 25 columns]"
      ]
     },
     "execution_count": 14,
     "metadata": {},
     "output_type": "execute_result"
    }
   ],
   "source": [
    "movie_meta_new_2.head()"
   ]
  },
  {
   "cell_type": "code",
   "execution_count": 15,
   "metadata": {},
   "outputs": [],
   "source": [
    "movie_meta_new_2.to_csv('movie_meta_new_2.csv')"
   ]
  },
  {
   "cell_type": "code",
   "execution_count": null,
   "metadata": {},
   "outputs": [],
   "source": []
  }
 ],
 "metadata": {
  "kernelspec": {
   "display_name": "Python 3",
   "language": "python",
   "name": "python3"
  },
  "language_info": {
   "codemirror_mode": {
    "name": "ipython",
    "version": 3
   },
   "file_extension": ".py",
   "mimetype": "text/x-python",
   "name": "python",
   "nbconvert_exporter": "python",
   "pygments_lexer": "ipython3",
   "version": "3.7.3"
  }
 },
 "nbformat": 4,
 "nbformat_minor": 2
}
