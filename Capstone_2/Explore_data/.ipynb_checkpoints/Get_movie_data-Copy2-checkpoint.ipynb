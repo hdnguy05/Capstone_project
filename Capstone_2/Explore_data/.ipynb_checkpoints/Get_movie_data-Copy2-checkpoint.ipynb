{
 "cells": [
  {
   "cell_type": "code",
   "execution_count": 6,
   "metadata": {
    "scrolled": false
   },
   "outputs": [],
   "source": [
    "API_KEY = '1ecd8f73e6af027139a32ec8346c9975'"
   ]
  },
  {
   "cell_type": "code",
   "execution_count": 7,
   "metadata": {
    "scrolled": false
   },
   "outputs": [],
   "source": [
    "import requests\n",
    "import pandas as pd\n",
    "import datetime\n",
    "import numpy as np\n",
    "from tqdm import tqdm_notebook as tqdm"
   ]
  },
  {
   "cell_type": "code",
   "execution_count": 8,
   "metadata": {
    "scrolled": false
   },
   "outputs": [],
   "source": [
    "## The website have 540548 movie\n",
    "# https://www.themoviedb.org/faq/general\n",
    "### Fotmart for get APO GUIDE : https://developers.themoviedb.org/3/getting-started/introduction"
   ]
  },
  {
   "cell_type": "code",
   "execution_count": null,
   "metadata": {},
   "outputs": [
    {
     "data": {
      "application/vnd.jupyter.widget-view+json": {
       "model_id": "cc9bf8476e6647b5a4e7ca33a34861a2",
       "version_major": 2,
       "version_minor": 0
      },
      "text/html": [
       "<p>Failed to display Jupyter Widget of type <code>HBox</code>.</p>\n",
       "<p>\n",
       "  If you're reading this message in the Jupyter Notebook or JupyterLab Notebook, it may mean\n",
       "  that the widgets JavaScript is still loading. If this message persists, it\n",
       "  likely means that the widgets JavaScript library is either not installed or\n",
       "  not enabled. See the <a href=\"https://ipywidgets.readthedocs.io/en/stable/user_install.html\">Jupyter\n",
       "  Widgets Documentation</a> for setup instructions.\n",
       "</p>\n",
       "<p>\n",
       "  If you're reading this message in another frontend (for example, a static\n",
       "  rendering on GitHub or <a href=\"https://nbviewer.jupyter.org/\">NBViewer</a>),\n",
       "  it may mean that your frontend doesn't currently support widgets.\n",
       "</p>\n"
      ],
      "text/plain": [
       "HBox(children=(IntProgress(value=0, max=45275), HTML(value='')))"
      ]
     },
     "metadata": {},
     "output_type": "display_data"
    }
   ],
   "source": [
    "data_meta = []\n",
    "not_movie_id = []\n",
    "for i in tqdm(range(469173,514448)):\n",
    "    try:\n",
    "        r = requests.get('https://api.themoviedb.org/3/movie/'+str(i)+'?api_key=1ecd8f73e6af027139a32ec8346c9975')\n",
    "        data_json = r.json()\n",
    "        if len(data_json) == 25:\n",
    "            data_meta.append(data_json)\n",
    "        else:\n",
    "            not_movie_id.append(i)\n",
    "    except:\n",
    "        not_movie_id.append(i)"
   ]
  },
  {
   "cell_type": "code",
   "execution_count": null,
   "metadata": {},
   "outputs": [],
   "source": [
    "data_json.keys()"
   ]
  },
  {
   "cell_type": "code",
   "execution_count": 31,
   "metadata": {
    "scrolled": false
   },
   "outputs": [],
   "source": [
    "data = pd.DataFrame(data_meta)"
   ]
  },
  {
   "cell_type": "code",
   "execution_count": 32,
   "metadata": {
    "collapsed": true
   },
   "outputs": [
    {
     "data": {
      "text/html": [
       "<div>\n",
       "<style scoped>\n",
       "    .dataframe tbody tr th:only-of-type {\n",
       "        vertical-align: middle;\n",
       "    }\n",
       "\n",
       "    .dataframe tbody tr th {\n",
       "        vertical-align: top;\n",
       "    }\n",
       "\n",
       "    .dataframe thead th {\n",
       "        text-align: right;\n",
       "    }\n",
       "</style>\n",
       "<table border=\"1\" class=\"dataframe\">\n",
       "  <thead>\n",
       "    <tr style=\"text-align: right;\">\n",
       "      <th></th>\n",
       "      <th>adult</th>\n",
       "      <th>backdrop_path</th>\n",
       "      <th>belongs_to_collection</th>\n",
       "      <th>budget</th>\n",
       "      <th>genres</th>\n",
       "      <th>homepage</th>\n",
       "      <th>id</th>\n",
       "      <th>imdb_id</th>\n",
       "      <th>original_language</th>\n",
       "      <th>original_title</th>\n",
       "      <th>...</th>\n",
       "      <th>release_date</th>\n",
       "      <th>revenue</th>\n",
       "      <th>runtime</th>\n",
       "      <th>spoken_languages</th>\n",
       "      <th>status</th>\n",
       "      <th>tagline</th>\n",
       "      <th>title</th>\n",
       "      <th>video</th>\n",
       "      <th>vote_average</th>\n",
       "      <th>vote_count</th>\n",
       "    </tr>\n",
       "  </thead>\n",
       "  <tbody>\n",
       "    <tr>\n",
       "      <td>0</td>\n",
       "      <td>False</td>\n",
       "      <td>/kpuTCMw3v2AuKjqGS7383uWbc8V.jpg</td>\n",
       "      <td>None</td>\n",
       "      <td>0</td>\n",
       "      <td>[{'id': 18, 'name': 'Drama'}, {'id': 80, 'name...</td>\n",
       "      <td></td>\n",
       "      <td>2</td>\n",
       "      <td>tt0094675</td>\n",
       "      <td>fi</td>\n",
       "      <td>Ariel</td>\n",
       "      <td>...</td>\n",
       "      <td>1988-10-21</td>\n",
       "      <td>0</td>\n",
       "      <td>73</td>\n",
       "      <td>[{'iso_639_1': 'de', 'name': 'Deutsch'}, {'iso...</td>\n",
       "      <td>Released</td>\n",
       "      <td></td>\n",
       "      <td>Ariel</td>\n",
       "      <td>False</td>\n",
       "      <td>6.8</td>\n",
       "      <td>99</td>\n",
       "    </tr>\n",
       "    <tr>\n",
       "      <td>1</td>\n",
       "      <td>False</td>\n",
       "      <td>/jMmHFm0TcjiN9QDICXY2tJcQsDl.jpg</td>\n",
       "      <td>None</td>\n",
       "      <td>0</td>\n",
       "      <td>[{'id': 18, 'name': 'Drama'}, {'id': 35, 'name...</td>\n",
       "      <td></td>\n",
       "      <td>3</td>\n",
       "      <td>tt0092149</td>\n",
       "      <td>fi</td>\n",
       "      <td>Varjoja paratiisissa</td>\n",
       "      <td>...</td>\n",
       "      <td>1986-10-17</td>\n",
       "      <td>0</td>\n",
       "      <td>72</td>\n",
       "      <td>[{'iso_639_1': 'sv', 'name': 'svenska'}, {'iso...</td>\n",
       "      <td>Released</td>\n",
       "      <td></td>\n",
       "      <td>Shadows in Paradise</td>\n",
       "      <td>False</td>\n",
       "      <td>7.4</td>\n",
       "      <td>105</td>\n",
       "    </tr>\n",
       "  </tbody>\n",
       "</table>\n",
       "<p>2 rows × 25 columns</p>\n",
       "</div>"
      ],
      "text/plain": [
       "   adult                     backdrop_path belongs_to_collection  budget  \\\n",
       "0  False  /kpuTCMw3v2AuKjqGS7383uWbc8V.jpg                  None       0   \n",
       "1  False  /jMmHFm0TcjiN9QDICXY2tJcQsDl.jpg                  None       0   \n",
       "\n",
       "                                              genres homepage  id    imdb_id  \\\n",
       "0  [{'id': 18, 'name': 'Drama'}, {'id': 80, 'name...            2  tt0094675   \n",
       "1  [{'id': 18, 'name': 'Drama'}, {'id': 35, 'name...            3  tt0092149   \n",
       "\n",
       "  original_language        original_title  ... release_date  revenue runtime  \\\n",
       "0                fi                 Ariel  ...   1988-10-21        0      73   \n",
       "1                fi  Varjoja paratiisissa  ...   1986-10-17        0      72   \n",
       "\n",
       "                                    spoken_languages    status tagline  \\\n",
       "0  [{'iso_639_1': 'de', 'name': 'Deutsch'}, {'iso...  Released           \n",
       "1  [{'iso_639_1': 'sv', 'name': 'svenska'}, {'iso...  Released           \n",
       "\n",
       "                 title  video vote_average vote_count  \n",
       "0                Ariel  False          6.8         99  \n",
       "1  Shadows in Paradise  False          7.4        105  \n",
       "\n",
       "[2 rows x 25 columns]"
      ]
     },
     "execution_count": 32,
     "metadata": {},
     "output_type": "execute_result"
    }
   ],
   "source": [
    "data.head()"
   ]
  },
  {
   "cell_type": "code",
   "execution_count": 1,
   "metadata": {},
   "outputs": [
    {
     "data": {
      "text/plain": [
       "226377"
      ]
     },
     "execution_count": 1,
     "metadata": {},
     "output_type": "execute_result"
    }
   ],
   "source": [
    "695550 - 469173"
   ]
  },
  {
   "cell_type": "code",
   "execution_count": 3,
   "metadata": {},
   "outputs": [
    {
     "data": {
      "text/plain": [
       "45275.4"
      ]
     },
     "execution_count": 3,
     "metadata": {},
     "output_type": "execute_result"
    }
   ],
   "source": [
    "226377 / 5"
   ]
  },
  {
   "cell_type": "code",
   "execution_count": 4,
   "metadata": {},
   "outputs": [
    {
     "data": {
      "text/plain": [
       "514448"
      ]
     },
     "execution_count": 4,
     "metadata": {},
     "output_type": "execute_result"
    }
   ],
   "source": [
    "469173 + 45275"
   ]
  },
  {
   "cell_type": "code",
   "execution_count": null,
   "metadata": {},
   "outputs": [],
   "source": [
    "514448 + 45275"
   ]
  },
  {
   "cell_type": "code",
   "execution_count": null,
   "metadata": {},
   "outputs": [],
   "source": []
  }
 ],
 "metadata": {
  "kernelspec": {
   "display_name": "Python 3",
   "language": "python",
   "name": "python3"
  },
  "language_info": {
   "codemirror_mode": {
    "name": "ipython",
    "version": 3
   },
   "file_extension": ".py",
   "mimetype": "text/x-python",
   "name": "python",
   "nbconvert_exporter": "python",
   "pygments_lexer": "ipython3",
   "version": "3.7.3"
  }
 },
 "nbformat": 4,
 "nbformat_minor": 2
}
