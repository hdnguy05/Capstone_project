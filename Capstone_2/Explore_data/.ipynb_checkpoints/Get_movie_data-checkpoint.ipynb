{
 "cells": [
  {
   "cell_type": "code",
   "execution_count": 1,
   "metadata": {},
   "outputs": [],
   "source": [
    "API_KEY = '1ecd8f73e6af027139a32ec8346c9975'"
   ]
  },
  {
   "cell_type": "code",
   "execution_count": 9,
   "metadata": {},
   "outputs": [],
   "source": [
    "import requests\n",
    "import pandas as pd\n",
    "import datetime\n",
    "import numpy as np\n",
    "from tqdm import tqdm_notebook as tqdm"
   ]
  },
  {
   "cell_type": "code",
   "execution_count": 3,
   "metadata": {},
   "outputs": [],
   "source": [
    "## The website have 540548 movie\n",
    "## last list movie ID: 695550 as date: april 20,2020\n",
    "# https://www.themoviedb.org/faq/general\n",
    "### Fotmart for get APO GUIDE : https://developers.themoviedb.org/3/getting-started/introduction"
   ]
  },
  {
   "cell_type": "code",
   "execution_count": 4,
   "metadata": {},
   "outputs": [],
   "source": [
    "### We should generate the  key from 1 but we early have data in the kaggle.\n",
    "## so we have the list of move when they are run\n",
    "## I double check to get data from there.. \n",
    "#df_list = pd.read_csv('list_id.csv')"
   ]
  },
  {
   "cell_type": "code",
   "execution_count": 5,
   "metadata": {},
   "outputs": [],
   "source": [
    "#list_id= np.array(df_list.id.astype(int))"
   ]
  },
  {
   "cell_type": "code",
   "execution_count": 6,
   "metadata": {},
   "outputs": [
    {
     "data": {
      "text/plain": [
       "(2, 469172)"
      ]
     },
     "execution_count": 6,
     "metadata": {},
     "output_type": "execute_result"
    }
   ],
   "source": [
    "#min(list_id), max(list_id)"
   ]
  },
  {
   "cell_type": "code",
   "execution_count": 10,
   "metadata": {},
   "outputs": [
    {
     "data": {
      "application/vnd.jupyter.widget-view+json": {
       "model_id": "61a683b809654ad6b24be132038ec7f4",
       "version_major": 2,
       "version_minor": 0
      },
      "text/html": [
       "<p>Failed to display Jupyter Widget of type <code>HBox</code>.</p>\n",
       "<p>\n",
       "  If you're reading this message in the Jupyter Notebook or JupyterLab Notebook, it may mean\n",
       "  that the widgets JavaScript is still loading. If this message persists, it\n",
       "  likely means that the widgets JavaScript library is either not installed or\n",
       "  not enabled. See the <a href=\"https://ipywidgets.readthedocs.io/en/stable/user_install.html\">Jupyter\n",
       "  Widgets Documentation</a> for setup instructions.\n",
       "</p>\n",
       "<p>\n",
       "  If you're reading this message in another frontend (for example, a static\n",
       "  rendering on GitHub or <a href=\"https://nbviewer.jupyter.org/\">NBViewer</a>),\n",
       "  it may mean that your frontend doesn't currently support widgets.\n",
       "</p>\n"
      ],
      "text/plain": [
       "HBox(children=(IntProgress(value=0, max=45463), HTML(value='')))"
      ]
     },
     "metadata": {},
     "output_type": "display_data"
    },
    {
     "name": "stdout",
     "output_type": "stream",
     "text": [
      "\n"
     ]
    }
   ],
   "source": [
    "data_meta = []\n",
    "not_movie_id = []\n",
    "for i in tqdm(list_id):\n",
    "    try:\n",
    "        r = requests.get('https://api.themoviedb.org/3/movie/'+str(i)+'?api_key=1ecd8f73e6af027139a32ec8346c9975')\n",
    "        data_json = r.json()\n",
    "        if len(data_json) == 25:\n",
    "            data_meta.append(data_json)\n",
    "        else:\n",
    "            not_movie_id.append(i)\n",
    "    except:\n",
    "        not_movie_id.append(i)"
   ]
  },
  {
   "cell_type": "code",
   "execution_count": 15,
   "metadata": {},
   "outputs": [],
   "source": [
    "movie_metada_new_1 = pd.DataFrame(data_meta)"
   ]
  },
  {
   "cell_type": "code",
   "execution_count": 17,
   "metadata": {},
   "outputs": [
    {
     "name": "stdout",
     "output_type": "stream",
     "text": [
      "<class 'pandas.core.frame.DataFrame'>\n",
      "RangeIndex: 45087 entries, 0 to 45086\n",
      "Data columns (total 25 columns):\n",
      "adult                    45087 non-null bool\n",
      "backdrop_path            22927 non-null object\n",
      "belongs_to_collection    4916 non-null object\n",
      "budget                   45087 non-null int64\n",
      "genres                   45087 non-null object\n",
      "homepage                 44481 non-null object\n",
      "id                       45087 non-null int64\n",
      "imdb_id                  45087 non-null object\n",
      "original_language        45087 non-null object\n",
      "original_title           45087 non-null object\n",
      "overview                 45087 non-null object\n",
      "popularity               45087 non-null float64\n",
      "poster_path              37592 non-null object\n",
      "production_companies     45087 non-null object\n",
      "production_countries     45087 non-null object\n",
      "release_date             45087 non-null object\n",
      "revenue                  45087 non-null int64\n",
      "runtime                  45006 non-null float64\n",
      "spoken_languages         45087 non-null object\n",
      "status                   45087 non-null object\n",
      "tagline                  45087 non-null object\n",
      "title                    45087 non-null object\n",
      "video                    45087 non-null bool\n",
      "vote_average             45087 non-null float64\n",
      "vote_count               45087 non-null int64\n",
      "dtypes: bool(2), float64(3), int64(4), object(16)\n",
      "memory usage: 8.0+ MB\n"
     ]
    }
   ],
   "source": [
    "movie_metada_new_1.info()"
   ]
  },
  {
   "cell_type": "code",
   "execution_count": 18,
   "metadata": {},
   "outputs": [],
   "source": [
    "##movie_metada_new_1.to_csv('movie_meta_new_1.csv')"
   ]
  },
  {
   "cell_type": "code",
   "execution_count": null,
   "metadata": {},
   "outputs": [],
   "source": [
    "movie_metadata_new_1 = pd.read_csv()"
   ]
  }
 ],
 "metadata": {
  "kernelspec": {
   "display_name": "Python 3",
   "language": "python",
   "name": "python3"
  },
  "language_info": {
   "codemirror_mode": {
    "name": "ipython",
    "version": 3
   },
   "file_extension": ".py",
   "mimetype": "text/x-python",
   "name": "python",
   "nbconvert_exporter": "python",
   "pygments_lexer": "ipython3",
   "version": "3.7.3"
  }
 },
 "nbformat": 4,
 "nbformat_minor": 2
}
