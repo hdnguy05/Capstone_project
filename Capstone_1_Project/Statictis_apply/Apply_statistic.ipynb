{
 "cells": [
  {
   "cell_type": "markdown",
   "metadata": {},
   "source": [
    "# Apply Statistic To Project 1"
   ]
  },
  {
   "cell_type": "markdown",
   "metadata": {},
   "source": [
    "# Import libarary"
   ]
  },
  {
   "cell_type": "code",
   "execution_count": 7,
   "metadata": {},
   "outputs": [],
   "source": [
    "import pandas as pd\n",
    "import numpy as np\n",
    "import seaborn as sns\n",
    "import matplotlib.pyplot as plt\n",
    "from collections import Counter\n",
    "\n"
   ]
  },
  {
   "cell_type": "markdown",
   "metadata": {},
   "source": [
    "# Loading data"
   ]
  },
  {
   "cell_type": "code",
   "execution_count": 4,
   "metadata": {},
   "outputs": [],
   "source": [
    "data = pd.read_csv('data/question1_data.csv')"
   ]
  },
  {
   "cell_type": "code",
   "execution_count": 74,
   "metadata": {},
   "outputs": [
    {
     "data": {
      "text/html": [
       "<div>\n",
       "<style scoped>\n",
       "    .dataframe tbody tr th:only-of-type {\n",
       "        vertical-align: middle;\n",
       "    }\n",
       "\n",
       "    .dataframe tbody tr th {\n",
       "        vertical-align: top;\n",
       "    }\n",
       "\n",
       "    .dataframe thead th {\n",
       "        text-align: right;\n",
       "    }\n",
       "</style>\n",
       "<table border=\"1\" class=\"dataframe\">\n",
       "  <thead>\n",
       "    <tr style=\"text-align: right;\">\n",
       "      <th></th>\n",
       "      <th>Unnamed: 0</th>\n",
       "      <th>date_block_num</th>\n",
       "      <th>shop_id</th>\n",
       "      <th>item_id</th>\n",
       "      <th>item_price</th>\n",
       "      <th>item_cnt_day</th>\n",
       "    </tr>\n",
       "  </thead>\n",
       "  <tbody>\n",
       "    <tr>\n",
       "      <td>0</td>\n",
       "      <td>0</td>\n",
       "      <td>0</td>\n",
       "      <td>0</td>\n",
       "      <td>32</td>\n",
       "      <td>221.0</td>\n",
       "      <td>6.0</td>\n",
       "    </tr>\n",
       "    <tr>\n",
       "      <td>1</td>\n",
       "      <td>1</td>\n",
       "      <td>0</td>\n",
       "      <td>0</td>\n",
       "      <td>33</td>\n",
       "      <td>347.0</td>\n",
       "      <td>3.0</td>\n",
       "    </tr>\n",
       "    <tr>\n",
       "      <td>2</td>\n",
       "      <td>2</td>\n",
       "      <td>0</td>\n",
       "      <td>0</td>\n",
       "      <td>35</td>\n",
       "      <td>247.0</td>\n",
       "      <td>1.0</td>\n",
       "    </tr>\n",
       "    <tr>\n",
       "      <td>3</td>\n",
       "      <td>3</td>\n",
       "      <td>0</td>\n",
       "      <td>0</td>\n",
       "      <td>43</td>\n",
       "      <td>221.0</td>\n",
       "      <td>1.0</td>\n",
       "    </tr>\n",
       "    <tr>\n",
       "      <td>4</td>\n",
       "      <td>4</td>\n",
       "      <td>0</td>\n",
       "      <td>0</td>\n",
       "      <td>51</td>\n",
       "      <td>127.0</td>\n",
       "      <td>1.0</td>\n",
       "    </tr>\n",
       "  </tbody>\n",
       "</table>\n",
       "</div>"
      ],
      "text/plain": [
       "   Unnamed: 0  date_block_num  shop_id  item_id  item_price  item_cnt_day\n",
       "0           0               0        0       32       221.0           6.0\n",
       "1           1               0        0       33       347.0           3.0\n",
       "2           2               0        0       35       247.0           1.0\n",
       "3           3               0        0       43       221.0           1.0\n",
       "4           4               0        0       51       127.0           1.0"
      ]
     },
     "execution_count": 74,
     "metadata": {},
     "output_type": "execute_result"
    }
   ],
   "source": [
    "data.head()"
   ]
  },
  {
   "cell_type": "markdown",
   "metadata": {},
   "source": [
    "# Define function"
   ]
  },
  {
   "cell_type": "code",
   "execution_count": 91,
   "metadata": {},
   "outputs": [],
   "source": [
    "#Emprical Circumlum density function\n",
    "def ecdf(data):\n",
    "    x = sorted(data)\n",
    "    y = np.arange(1, len(x)+ 1)/len(x)\n",
    "    return x,y"
   ]
  },
  {
   "cell_type": "code",
   "execution_count": 50,
   "metadata": {},
   "outputs": [],
   "source": [
    "#Function for bootstrap replication\n",
    "def bs_replicate_1d(data,func):\n",
    "    return func(np.random.choice(data, size=len(data)))\n",
    "def bs_draw_replicate(data, func, size = 1):\n",
    "    #initialize array of replicate\n",
    "    bs_rep = np.empty(size)\n",
    "    #Genrate replicate\n",
    "    for i in range(size):\n",
    "        bs_rep[i]= bs_replicate_1d(data,func)\n",
    "    return bs_rep    "
   ]
  },
  {
   "cell_type": "markdown",
   "metadata": {},
   "source": [
    "# Do hypothesis test"
   ]
  },
  {
   "cell_type": "markdown",
   "metadata": {},
   "source": [
    "- Do hypothesis test for total item count, as we group it by Month, shop_id, item_id"
   ]
  },
  {
   "cell_type": "code",
   "execution_count": 48,
   "metadata": {},
   "outputs": [],
   "source": [
    "#Get the array data from item_cnt\n",
    "origin = data.item_cnt_day"
   ]
  },
  {
   "cell_type": "markdown",
   "metadata": {},
   "source": [
    "- we calculation the mean and standard deviation from the data we have for item count."
   ]
  },
  {
   "cell_type": "code",
   "execution_count": 47,
   "metadata": {},
   "outputs": [],
   "source": [
    "#calculation the mean and std of the origin series data\n",
    "mean = np.mean(origin)\n",
    "std = np.std(origin)"
   ]
  },
  {
   "cell_type": "markdown",
   "metadata": {},
   "source": [
    "- we set them random seed to 47, so we can get same result all the time\n",
    "- Next we do sampling, the mean of data set. We just random choice the point data from the data set then we just compute the mean. Then we repeated it 1000 to see if the mean of our data is same as our sampling."
   ]
  },
  {
   "cell_type": "code",
   "execution_count": 57,
   "metadata": {},
   "outputs": [],
   "source": [
    "#Do sampling 1000 time from the origin data\n",
    "np.random.seed(47)\n",
    "sampling = bs_draw_replicate(origin, np.mean, 1000)"
   ]
  },
  {
   "cell_type": "code",
   "execution_count": 110,
   "metadata": {},
   "outputs": [],
   "source": [
    "mean_sampling = np.mean(sampling)\n",
    "x,y = ecdf(sampling)\n"
   ]
  },
  {
   "cell_type": "code",
   "execution_count": 117,
   "metadata": {},
   "outputs": [
    {
     "data": {
      "image/png": "[encoded data removed]",
      "text/plain": [
       "<Figure size 1080x720 with 2 Axes>"
      ]
     },
     "metadata": {
      "needs_background": "light"
     },
     "output_type": "display_data"
    }
   ],
   "source": [
    "_ = plt.figure(figsize = (15,10))\n",
    "_ = plt.subplot(2,2,1)\n",
    "_ = plt.hist(sampling, bins = 35)\n",
    "_ = plt.title('Histogram of Sampling')\n",
    "_ = plt.axvline(mean_sampling, c = 'red')\n",
    "_ = plt.subplot(2,2,2)\n",
    "_ = plt.plot(x,y, marker = '.', linestyle = 'none')\n",
    "_ = plt.title('CDF of Sampling')"
   ]
  },
  {
   "cell_type": "code",
   "execution_count": null,
   "metadata": {},
   "outputs": [],
   "source": []
  },
  {
   "cell_type": "code",
   "execution_count": 62,
   "metadata": {},
   "outputs": [
    {
     "data": {
      "text/plain": [
       "array([2.08404496, 2.10453191])"
      ]
     },
     "execution_count": 62,
     "metadata": {},
     "output_type": "execute_result"
    }
   ],
   "source": [
    "#calcualtion 95% confidence interval\n",
    "confidence = np.percentile(sampling, [2.5, 97.5])\n",
    "confidence"
   ]
  },
  {
   "cell_type": "code",
   "execution_count": 71,
   "metadata": {},
   "outputs": [
    {
     "data": {
      "text/plain": [
       "0.497"
      ]
     },
     "execution_count": 71,
     "metadata": {},
     "output_type": "execute_result"
    }
   ],
   "source": [
    "p_value = np.sum(sampling >= mean) / len(sampling)\n",
    "p_value"
   ]
  },
  {
   "cell_type": "markdown",
   "metadata": {},
   "source": [
    "- As p = 0.497, so we know that about 49,7% that data was higher than the mean\n",
    "- And the 95% confidence interval is [2.084,2.104].\n",
    "- The p value is so high so we can not reject Null hypothesis"
   ]
  },
  {
   "cell_type": "code",
   "execution_count": null,
   "metadata": {},
   "outputs": [],
   "source": []
  },
  {
   "cell_type": "markdown",
   "metadata": {},
   "source": [
    "# Hypothesis testing for Total sale of Month"
   ]
  },
  {
   "cell_type": "code",
   "execution_count": 87,
   "metadata": {},
   "outputs": [
    {
     "data": {
      "text/html": [
       "<div>\n",
       "<style scoped>\n",
       "    .dataframe tbody tr th:only-of-type {\n",
       "        vertical-align: middle;\n",
       "    }\n",
       "\n",
       "    .dataframe tbody tr th {\n",
       "        vertical-align: top;\n",
       "    }\n",
       "\n",
       "    .dataframe thead th {\n",
       "        text-align: right;\n",
       "    }\n",
       "</style>\n",
       "<table border=\"1\" class=\"dataframe\">\n",
       "  <thead>\n",
       "    <tr style=\"text-align: right;\">\n",
       "      <th></th>\n",
       "      <th>item_cnt_day</th>\n",
       "    </tr>\n",
       "    <tr>\n",
       "      <th>date_block_num</th>\n",
       "      <th></th>\n",
       "    </tr>\n",
       "  </thead>\n",
       "  <tbody>\n",
       "    <tr>\n",
       "      <td>0</td>\n",
       "      <td>131850.0</td>\n",
       "    </tr>\n",
       "    <tr>\n",
       "      <td>1</td>\n",
       "      <td>128382.0</td>\n",
       "    </tr>\n",
       "    <tr>\n",
       "      <td>2</td>\n",
       "      <td>147438.0</td>\n",
       "    </tr>\n",
       "    <tr>\n",
       "      <td>3</td>\n",
       "      <td>107439.0</td>\n",
       "    </tr>\n",
       "    <tr>\n",
       "      <td>4</td>\n",
       "      <td>107147.0</td>\n",
       "    </tr>\n",
       "  </tbody>\n",
       "</table>\n",
       "</div>"
      ],
      "text/plain": [
       "                item_cnt_day\n",
       "date_block_num              \n",
       "0                   131850.0\n",
       "1                   128382.0\n",
       "2                   147438.0\n",
       "3                   107439.0\n",
       "4                   107147.0"
      ]
     },
     "execution_count": 87,
     "metadata": {},
     "output_type": "execute_result"
    }
   ],
   "source": [
    "data_month = data[['date_block_num','item_cnt_day']].groupby('date_block_num').sum()\n",
    "#data_month = data[['date_block_num','item_cnt_day']]\n",
    "data_month.head()"
   ]
  },
  {
   "cell_type": "code",
   "execution_count": 114,
   "metadata": {},
   "outputs": [
    {
     "data": {
      "text/plain": [
       "(107023.5, 28731.27335010027)"
      ]
     },
     "execution_count": 114,
     "metadata": {},
     "output_type": "execute_result"
    }
   ],
   "source": [
    "month_mean = data_month.item_cnt_day.mean()\n",
    "month_std = data_month.item_cnt_day.std()\n",
    "month_mean, month_std"
   ]
  },
  {
   "cell_type": "code",
   "execution_count": 128,
   "metadata": {},
   "outputs": [],
   "source": [
    "np.random.seed(47)\n",
    "data_origin_month = data_month.item_cnt_day\n",
    "sampling_month = bs_draw_replicate(data_origin_month,np.mean, 10000)"
   ]
  },
  {
   "cell_type": "code",
   "execution_count": 129,
   "metadata": {},
   "outputs": [],
   "source": [
    "x_month, y_month = ecdf(data_origin_month)\n",
    "x_sample, y_sample = ecdf(sampling_month)"
   ]
  },
  {
   "cell_type": "code",
   "execution_count": 130,
   "metadata": {},
   "outputs": [
    {
     "data": {
      "image/png": "[encoded data removed]",
      "text/plain": [
       "<Figure size 1080x720 with 4 Axes>"
      ]
     },
     "metadata": {
      "needs_background": "light"
     },
     "output_type": "display_data"
    }
   ],
   "source": [
    "_ = plt.figure(figsize =(15,10))\n",
    "_ = plt.subplot(2,2,1)\n",
    "_ = plt.hist(data_origin_month, bins = 35)\n",
    "_ = plt.title('Histogram of data total sale of month')\n",
    "_ = plt.subplot(2,2,2)\n",
    "_ = plt.plot(x_month, y_month, marker = '.', linestyle = 'none')\n",
    "_ = plt.title('CDF of data')\n",
    "_ = plt.subplot(2,2,3)\n",
    "_ = plt.hist(sampling_month, bins = 35)\n",
    "_ = plt.title('Histogram the sampling mean from data')\n",
    "_ = plt.subplot(2,2,4)\n",
    "_ = plt.plot(x_sample, y_sample, marker = '.', linestyle = 'none')\n",
    "_ = plt.title('CDF of sampling')"
   ]
  },
  {
   "cell_type": "code",
   "execution_count": 131,
   "metadata": {},
   "outputs": [
    {
     "data": {
      "text/plain": [
       "0.4967"
      ]
     },
     "execution_count": 131,
     "metadata": {},
     "output_type": "execute_result"
    }
   ],
   "source": [
    "p_value_month = np.sum(sampling_month >= month_mean) / len(sampling_month)\n",
    "p_value_month"
   ]
  },
  {
   "cell_type": "code",
   "execution_count": 132,
   "metadata": {},
   "outputs": [
    {
     "data": {
      "text/plain": [
       "array([ 97907.25147059, 116895.07647059])"
      ]
     },
     "execution_count": 132,
     "metadata": {},
     "output_type": "execute_result"
    }
   ],
   "source": [
    "month_confidence_interval = np.percentile(sampling_month, [2.5,97.5])\n",
    "month_confidence_interval"
   ]
  },
  {
   "cell_type": "markdown",
   "metadata": {},
   "source": [
    "- the p_value is 0.4967\n",
    "- 95% confidence interval is [97907.25, 116895.08]\n",
    "- We can not reject the Null Hypothesis\n"
   ]
  },
  {
   "cell_type": "markdown",
   "metadata": {},
   "source": [
    "# Conclusion"
   ]
  },
  {
   "cell_type": "markdown",
   "metadata": {},
   "source": [
    "- We can not reject Null hypothesis\n",
    "- p-value is 0.4967\n",
    "- the standard deviation is so large\n",
    "- I tried to do 2 Null hypothesis test\n",
    "    - the first one is total item sale for month and shop_id, item_id. So we have more data point. Cause we have more unique item_id\n",
    "    - the second is for total item sale for month. we only have 34 data point because we only have 34 month data.\n",
    "- The result we have the sample p_value\n",
    "\n"
   ]
  },
  {
   "cell_type": "code",
   "execution_count": null,
   "metadata": {},
   "outputs": [],
   "source": []
  }
 ],
 "metadata": {
  "kernelspec": {
   "display_name": "Python 3",
   "language": "python",
   "name": "python3"
  },
  "language_info": {
   "codemirror_mode": {
    "name": "ipython",
    "version": 3
   },
   "file_extension": ".py",
   "mimetype": "text/x-python",
   "name": "python",
   "nbconvert_exporter": "python",
   "pygments_lexer": "ipython3",
   "version": "3.7.3"
  }
 },
 "nbformat": 4,
 "nbformat_minor": 2
}
