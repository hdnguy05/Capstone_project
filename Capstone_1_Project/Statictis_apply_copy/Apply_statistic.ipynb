{
 "cells": [
  {
   "cell_type": "markdown",
   "metadata": {},
   "source": [
    "# Apply Statistic To Project 1"
   ]
  },
  {
   "cell_type": "markdown",
   "metadata": {},
   "source": [
    "- Define Null Hypothesis\n",
    "- Set Significance levels\n",
    "- Hyphothesis testing\n",
    "- Reject or cant reject nul hypothesis"
   ]
  },
  {
   "cell_type": "markdown",
   "metadata": {},
   "source": [
    "# Import libarary"
   ]
  },
  {
   "cell_type": "code",
   "execution_count": 2,
   "metadata": {},
   "outputs": [],
   "source": [
    "import pandas as pd\n",
    "import numpy as np\n",
    "import seaborn as sns\n",
    "import matplotlib.pyplot as plt\n",
    "from collections import Counter\n",
    "\n",
    "from scipy.stats import ttest_ind_from_stats\n",
    "from ipywidgets import interact\n"
   ]
  },
  {
   "cell_type": "markdown",
   "metadata": {},
   "source": [
    "# Loading data"
   ]
  },
  {
   "cell_type": "code",
   "execution_count": 3,
   "metadata": {},
   "outputs": [],
   "source": [
    "data = pd.read_csv('data/question1_data.csv').drop('Unnamed: 0', axis = 1)\n",
    "data['Total_price'] = data.item_price * data.item_cnt_day\n",
    "test = pd.read_csv('data/question1_data.csv')"
   ]
  },
  {
   "cell_type": "code",
   "execution_count": 4,
   "metadata": {},
   "outputs": [
    {
     "data": {
      "text/html": [
       "<div>\n",
       "<style scoped>\n",
       "    .dataframe tbody tr th:only-of-type {\n",
       "        vertical-align: middle;\n",
       "    }\n",
       "\n",
       "    .dataframe tbody tr th {\n",
       "        vertical-align: top;\n",
       "    }\n",
       "\n",
       "    .dataframe thead th {\n",
       "        text-align: right;\n",
       "    }\n",
       "</style>\n",
       "<table border=\"1\" class=\"dataframe\">\n",
       "  <thead>\n",
       "    <tr style=\"text-align: right;\">\n",
       "      <th></th>\n",
       "      <th>date_block_num</th>\n",
       "      <th>shop_id</th>\n",
       "      <th>item_id</th>\n",
       "      <th>item_price</th>\n",
       "      <th>item_cnt_day</th>\n",
       "      <th>Total_price</th>\n",
       "    </tr>\n",
       "  </thead>\n",
       "  <tbody>\n",
       "    <tr>\n",
       "      <td>0</td>\n",
       "      <td>0</td>\n",
       "      <td>0</td>\n",
       "      <td>32</td>\n",
       "      <td>221.0</td>\n",
       "      <td>6.0</td>\n",
       "      <td>1326.0</td>\n",
       "    </tr>\n",
       "    <tr>\n",
       "      <td>1</td>\n",
       "      <td>0</td>\n",
       "      <td>0</td>\n",
       "      <td>33</td>\n",
       "      <td>347.0</td>\n",
       "      <td>3.0</td>\n",
       "      <td>1041.0</td>\n",
       "    </tr>\n",
       "    <tr>\n",
       "      <td>2</td>\n",
       "      <td>0</td>\n",
       "      <td>0</td>\n",
       "      <td>35</td>\n",
       "      <td>247.0</td>\n",
       "      <td>1.0</td>\n",
       "      <td>247.0</td>\n",
       "    </tr>\n",
       "    <tr>\n",
       "      <td>3</td>\n",
       "      <td>0</td>\n",
       "      <td>0</td>\n",
       "      <td>43</td>\n",
       "      <td>221.0</td>\n",
       "      <td>1.0</td>\n",
       "      <td>221.0</td>\n",
       "    </tr>\n",
       "    <tr>\n",
       "      <td>4</td>\n",
       "      <td>0</td>\n",
       "      <td>0</td>\n",
       "      <td>51</td>\n",
       "      <td>127.0</td>\n",
       "      <td>1.0</td>\n",
       "      <td>127.0</td>\n",
       "    </tr>\n",
       "  </tbody>\n",
       "</table>\n",
       "</div>"
      ],
      "text/plain": [
       "   date_block_num  shop_id  item_id  item_price  item_cnt_day  Total_price\n",
       "0               0        0       32       221.0           6.0       1326.0\n",
       "1               0        0       33       347.0           3.0       1041.0\n",
       "2               0        0       35       247.0           1.0        247.0\n",
       "3               0        0       43       221.0           1.0        221.0\n",
       "4               0        0       51       127.0           1.0        127.0"
      ]
     },
     "execution_count": 4,
     "metadata": {},
     "output_type": "execute_result"
    }
   ],
   "source": [
    "data.head()"
   ]
  },
  {
   "cell_type": "code",
   "execution_count": 5,
   "metadata": {},
   "outputs": [
    {
     "data": {
      "text/plain": [
       "(3494160.0, 0.07, 1954.1535577839843)"
      ]
     },
     "execution_count": 5,
     "metadata": {},
     "output_type": "execute_result"
    }
   ],
   "source": [
    "max(data.Total_price),min(data.Total_price), np.average(data.Total_price)"
   ]
  },
  {
   "cell_type": "markdown",
   "metadata": {},
   "source": [
    "# Frequentist inference Testing\n",
    "- We used Frequentist inference to compare if the total sale of 2 shop are different?\n",
    "    - we used t-test to find t value\n",
    "        - the larger t-value is the more different from the two shop"
   ]
  },
  {
   "cell_type": "code",
   "execution_count": 6,
   "metadata": {},
   "outputs": [],
   "source": [
    "def Frequentist_test(shop1_id, shop2_id):\n",
    "    \n",
    "    #Extract the 2 vector total_sale for 2 shop\n",
    "    shop1_data = data.loc[data.shop_id == shop1_id, 'Total_price']\n",
    "    shop2_data = data.loc[data.shop_id == shop2_id, 'Total_price']\n",
    "    \n",
    "    #Calculation the mean and std of 2 shop\n",
    "    mean_shop1 = np.mean(shop1_data)\n",
    "    std_shop1 = np.std(shop1_data)\n",
    "    mean_shop2 = np.mean(shop2_data)\n",
    "    std_shop2 = np.std(shop2_data)\n",
    "    \n",
    "    #Do Normal sample over mean and std of 2 shop. with 10000 sample\n",
    "    np.random.seed(42)\n",
    "    sample_shop1 = np.random.normal(mean_shop1, std_shop1, 10000)\n",
    "    sample_shop2 = np.random.normal(mean_shop2, std_shop2, 10000)\n",
    "    \n",
    "    #Get the mean , std and len for t-test\n",
    "    sample_mean_shop1 = np.mean(sample_shop1)\n",
    "    sample_std_shop1 = np.std(sample_shop1)\n",
    "    sample_len_shop1 = len(sample_shop1)\n",
    "    sample_mean_shop2 = np.mean(sample_shop2)\n",
    "    sample_std_shop2 = np.std(sample_shop2)\n",
    "    sample_len_shop2 = len(sample_shop2)\n",
    "    \n",
    "    #Frequentist test from scipy.stats\n",
    "    sample_test = ttest_ind_from_stats(sample_mean_shop1, sample_std_shop1, sample_len_shop1, sample_mean_shop2, sample_std_shop2, sample_len_shop2, equal_var= True)\n",
    "    \n",
    "    #Plot the histogram data before and after sampling\n",
    "    _ = plt.figure(figsize = (15,10))\n",
    "    _ = plt.subplot(2,2,1)\n",
    "    _ = plt.hist(shop1_data, bins = 100)\n",
    "    _ = plt.title ('shop1_data_hist')\n",
    "    _ = plt.xlabel('Total sale')\n",
    "    _ = plt.ylabel('Frequency')\n",
    "    _ = plt.xlim(0,20000)\n",
    "    \n",
    "    _ = plt.subplot(2,2,2)\n",
    "    _ = plt.hist(shop2_data, bins = 100)\n",
    "    _ = plt.title ('shop2_data_hist')\n",
    "    _ = plt.xlabel('Total sale')\n",
    "    _ = plt.ylabel('Frequency')\n",
    "    _ = plt.xlim(0,20000)\n",
    "    \n",
    "    _ = plt.subplot(2,2,3)\n",
    "    _ = plt.hist(sample_shop1, bins = 30)\n",
    "    _ = plt.axvline(sample_mean_shop1, c = 'r')\n",
    "    _ = plt.title ('shop1_sample_hist')\n",
    "    _ = plt.xlabel('Random Normal Mean')\n",
    "    _ = plt.ylabel('Frequency')\n",
    "    \n",
    "    _ = plt.subplot(2,2,4)\n",
    "    _ = plt.hist(sample_shop2, bins = 30)\n",
    "    _ = plt.axvline(sample_mean_shop2, c = 'r')\n",
    "    _ = plt.title ('shop2_sample_hist')\n",
    "    _ = plt.xlabel('Random Normal Mean')\n",
    "    _ = plt.ylabel('Frequency')\n",
    "    \n",
    "    \n",
    "    print('We are perform the frequentist test to see how the different mean total sale of 2 data')\n",
    "    print('The mean of shop_id ' + str(shop1_id) +' is: ' + str(np.round(mean_shop1,3)))\n",
    "    print('The std of shop_id ' + str(shop1_id) +' is: ' + str(np.round(std_shop1,3)))\n",
    "    print('The mean of shop_id ' + str(shop2_id) +' is: ' + str(np.round(mean_shop2,3)))\n",
    "    print('The std of shop_id ' + str(shop2_id) +' is: ' + str(np.round(std_shop2,3)))\n",
    "    print('T_Value: ' + str(np.round(sample_test[0],4)))\n",
    "    print('P_Value: ' + str(sample_test[1]))\n",
    "    \n",
    "    print('T_value is telling us is how much is different between of 2 data shop')\n"
   ]
  },
  {
   "cell_type": "code",
   "execution_count": 7,
   "metadata": {},
   "outputs": [
    {
     "data": {
      "application/vnd.jupyter.widget-view+json": {
       "model_id": "b17ea193ac98433c9fb8b7756538b2ea",
       "version_major": 2,
       "version_minor": 0
      },
      "text/plain": [
       "interactive(children=(Dropdown(description='shop1_id', options=(0, 1, 2, 3, 4, 5, 6, 7, 8, 9, 10, 11, 12, 13, …"
      ]
     },
     "metadata": {},
     "output_type": "display_data"
    },
    {
     "data": {
      "text/plain": [
       "<function __main__.Frequentist_test(shop1_id, shop2_id)>"
      ]
     },
     "execution_count": 7,
     "metadata": {},
     "output_type": "execute_result"
    }
   ],
   "source": [
    "# just choice 2 shop id from the drop box, you can see the histgram after 10000 sample \n",
    "# and t-test and p-value of that 2 shop id\n",
    "# This is compare the total sale 1 shop to another\n",
    "interact(Frequentist_test, shop1_id = np.arange(0,60,1),shop2_id = np.arange(1,60,1))"
   ]
  },
  {
   "cell_type": "code",
   "execution_count": null,
   "metadata": {},
   "outputs": [],
   "source": []
  },
  {
   "cell_type": "code",
   "execution_count": null,
   "metadata": {},
   "outputs": [],
   "source": []
  },
  {
   "cell_type": "markdown",
   "metadata": {},
   "source": [
    "# Bootstap Inference Testing"
   ]
  },
  {
   "cell_type": "markdown",
   "metadata": {},
   "source": [
    "# Define function"
   ]
  },
  {
   "cell_type": "code",
   "execution_count": 9,
   "metadata": {},
   "outputs": [],
   "source": [
    "#Emprical Cumulative density function\n",
    "def ecdf(data):\n",
    "    x = sorted(data)\n",
    "    y = np.arange(1, len(x)+ 1)/len(x)\n",
    "    return x,y"
   ]
  },
  {
   "cell_type": "code",
   "execution_count": 10,
   "metadata": {},
   "outputs": [],
   "source": [
    "#Function for bootstrap replication\n",
    "def bs_replicate_1d(data,func):\n",
    "    return func(np.random.choice(data, size=len(data)))\n",
    "def bs_draw_replicate(data, func, size = 1):\n",
    "    #initialize array of replicate\n",
    "    bs_rep = np.empty(size)\n",
    "    #Genrate replicate\n",
    "    for i in range(size):\n",
    "        bs_rep[i]= bs_replicate_1d(data,func)\n",
    "    return bs_rep    "
   ]
  },
  {
   "cell_type": "markdown",
   "metadata": {},
   "source": [
    "# Get Total_price from data\n",
    "- We will perform the hypothesis test to prove if the average of total sale was greater than the mean with our 95%  confidence interval."
   ]
  },
  {
   "cell_type": "code",
   "execution_count": 11,
   "metadata": {},
   "outputs": [],
   "source": [
    "#Get the array data from item_cnt\n",
    "origin = data.Total_price"
   ]
  },
  {
   "cell_type": "code",
   "execution_count": 12,
   "metadata": {},
   "outputs": [
    {
     "data": {
      "text/plain": [
       "(1954.1535577839843, 10430.04729873489)"
      ]
     },
     "execution_count": 12,
     "metadata": {},
     "output_type": "execute_result"
    }
   ],
   "source": [
    "#calculation the mean and std of the origin series data\n",
    "mean = np.mean(origin)\n",
    "std = np.std(origin)\n",
    "mean, std"
   ]
  },
  {
   "cell_type": "markdown",
   "metadata": {},
   "source": [
    "# Define Null hypothesis\n",
    "- Ho(null hypothesis) : is greater than the  mean of total_price sale of the data\n",
    "- Ha(alternative hypothesis)  : is less than the mean of total_price sale of data of data\n",
    "- Ho > 1954.15\n",
    "- Ha <= 1954.15"
   ]
  },
  {
   "cell_type": "markdown",
   "metadata": {},
   "source": [
    "# Choice 95% Confidence Interval\n",
    "- when we are choice 95% confidence interval. So we will have our significane levels is 5%\n",
    "- Base on I define the null hypothesis, so we will do one-tail testing.\n",
    "- So alpha = 5% = 0.05 (we will compare this number with p-value to determine reject the null hypothesis or not)\n",
    "\n"
   ]
  },
  {
   "cell_type": "markdown",
   "metadata": {},
   "source": [
    "# Hypothesis Testing"
   ]
  },
  {
   "cell_type": "markdown",
   "metadata": {},
   "source": [
    "- we set them random seed to 47, so we can get same result all the time\n",
    "- We do simulate the same lenght as the total_price, and random choice data point point from total_price, then we calculate the mean of new sampling. we repeating it 1000 time. It mean we will have 1000 new mean total_price it was generation base on total_price data."
   ]
  },
  {
   "cell_type": "code",
   "execution_count": 13,
   "metadata": {},
   "outputs": [],
   "source": [
    "#Do sampling 1000 time from the origin data\n",
    "np.random.seed(47)\n",
    "sampling = bs_draw_replicate(origin, np.mean, 1000)"
   ]
  },
  {
   "cell_type": "code",
   "execution_count": 14,
   "metadata": {},
   "outputs": [],
   "source": [
    "mean_sampling = np.mean(sampling)\n",
    "x,y = ecdf(sampling)\n"
   ]
  },
  {
   "cell_type": "code",
   "execution_count": 26,
   "metadata": {},
   "outputs": [
    {
     "data": {
      "image/png": "[encoded data removed]",
      "text/plain": [
       "<Figure size 1080x720 with 2 Axes>"
      ]
     },
     "metadata": {
      "needs_background": "light"
     },
     "output_type": "display_data"
    }
   ],
   "source": [
    "_ = plt.figure(figsize = (15,10))\n",
    "_ = plt.subplot(2,2,1)\n",
    "_ = plt.hist(sampling, bins = 35)\n",
    "_ = plt.title('Histogram of Sampling')\n",
    "_ = plt.axvline(mean_sampling, c = 'red')\n",
    "_ = plt.subplot(2,2,2)\n",
    "_ = plt.plot(x,y, marker = '.', linestyle = 'none')\n",
    "_ = plt.title('CDF of Sampling')\n",
    "_ = plt.axvline(mean_sampling, c = 'red')\n"
   ]
  },
  {
   "cell_type": "code",
   "execution_count": null,
   "metadata": {},
   "outputs": [],
   "source": []
  },
  {
   "cell_type": "code",
   "execution_count": 16,
   "metadata": {},
   "outputs": [
    {
     "data": {
      "text/plain": [
       "array([1939.09694122, 1970.31675134])"
      ]
     },
     "execution_count": 16,
     "metadata": {},
     "output_type": "execute_result"
    }
   ],
   "source": [
    "#calcualtion 95% confidence interval\n",
    "confidence = np.percentile(sampling, [2.5, 97.5])\n",
    "confidence"
   ]
  },
  {
   "cell_type": "code",
   "execution_count": 25,
   "metadata": {},
   "outputs": [
    {
     "data": {
      "text/plain": [
       "0.514"
      ]
     },
     "execution_count": 25,
     "metadata": {},
     "output_type": "execute_result"
    }
   ],
   "source": [
    "p_value = np.sum(sampling > mean) / len(sampling)\n",
    "p_value"
   ]
  },
  {
   "cell_type": "markdown",
   "metadata": {},
   "source": [
    "- As p = 0.514, so we know that about 51.4% that data was higher than the mean\n",
    "- And the 95% confidence interval is [1939.1,1970.3].\n",
    "- The p value is so high so we can not reject Null hypothesis"
   ]
  },
  {
   "cell_type": "markdown",
   "metadata": {},
   "source": [
    "# Conclusion"
   ]
  },
  {
   "cell_type": "markdown",
   "metadata": {},
   "source": [
    "- We can not reject Null hypothesis\n",
    "- p-value is 0.514\n",
    "- the standard deviation is so large\n",
    "\n",
    "\n"
   ]
  }
 ],
 "metadata": {
  "kernelspec": {
   "display_name": "Python 3",
   "language": "python",
   "name": "python3"
  },
  "language_info": {
   "codemirror_mode": {
    "name": "ipython",
    "version": 3
   },
   "file_extension": ".py",
   "mimetype": "text/x-python",
   "name": "python",
   "nbconvert_exporter": "python",
   "pygments_lexer": "ipython3",
   "version": "3.7.3"
  }
 },
 "nbformat": 4,
 "nbformat_minor": 2
}
