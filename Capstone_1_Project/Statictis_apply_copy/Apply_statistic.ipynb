{
 "cells": [
  {
   "cell_type": "markdown",
   "metadata": {},
   "source": [
    "# Apply Statistic To Project 1"
   ]
  },
  {
   "cell_type": "markdown",
   "metadata": {},
   "source": [
    "- Define Null Hypothesis\n",
    "- Set Significance levels\n",
    "- Hyphothesis testing\n",
    "- Reject or cant reject nul hypothesis"
   ]
  },
  {
   "cell_type": "markdown",
   "metadata": {},
   "source": [
    "# Import libarary"
   ]
  },
  {
   "cell_type": "code",
   "execution_count": 1,
   "metadata": {},
   "outputs": [],
   "source": [
    "import pandas as pd\n",
    "import numpy as np\n",
    "import seaborn as sns\n",
    "import matplotlib.pyplot as plt\n",
    "from collections import Counter\n",
    "\n",
    "from scipy.stats import ttest_ind_from_stats\n",
    "from ipywidgets import interact\n"
   ]
  },
  {
   "cell_type": "markdown",
   "metadata": {},
   "source": [
    "# Loading data"
   ]
  },
  {
   "cell_type": "code",
   "execution_count": 2,
   "metadata": {},
   "outputs": [],
   "source": [
    "data = pd.read_csv('data/question1_data.csv').drop('Unnamed: 0', axis = 1)\n",
    "data['Total_price'] = data.item_price * data.item_cnt_day\n",
    "test = pd.read_csv('data/question1_data.csv')"
   ]
  },
  {
   "cell_type": "code",
   "execution_count": 3,
   "metadata": {},
   "outputs": [
    {
     "data": {
      "text/html": [
       "<div>\n",
       "<style scoped>\n",
       "    .dataframe tbody tr th:only-of-type {\n",
       "        vertical-align: middle;\n",
       "    }\n",
       "\n",
       "    .dataframe tbody tr th {\n",
       "        vertical-align: top;\n",
       "    }\n",
       "\n",
       "    .dataframe thead th {\n",
       "        text-align: right;\n",
       "    }\n",
       "</style>\n",
       "<table border=\"1\" class=\"dataframe\">\n",
       "  <thead>\n",
       "    <tr style=\"text-align: right;\">\n",
       "      <th></th>\n",
       "      <th>date_block_num</th>\n",
       "      <th>shop_id</th>\n",
       "      <th>item_id</th>\n",
       "      <th>item_price</th>\n",
       "      <th>item_cnt_day</th>\n",
       "      <th>Total_price</th>\n",
       "    </tr>\n",
       "  </thead>\n",
       "  <tbody>\n",
       "    <tr>\n",
       "      <td>0</td>\n",
       "      <td>0</td>\n",
       "      <td>0</td>\n",
       "      <td>32</td>\n",
       "      <td>221.0</td>\n",
       "      <td>6.0</td>\n",
       "      <td>1326.0</td>\n",
       "    </tr>\n",
       "    <tr>\n",
       "      <td>1</td>\n",
       "      <td>0</td>\n",
       "      <td>0</td>\n",
       "      <td>33</td>\n",
       "      <td>347.0</td>\n",
       "      <td>3.0</td>\n",
       "      <td>1041.0</td>\n",
       "    </tr>\n",
       "    <tr>\n",
       "      <td>2</td>\n",
       "      <td>0</td>\n",
       "      <td>0</td>\n",
       "      <td>35</td>\n",
       "      <td>247.0</td>\n",
       "      <td>1.0</td>\n",
       "      <td>247.0</td>\n",
       "    </tr>\n",
       "    <tr>\n",
       "      <td>3</td>\n",
       "      <td>0</td>\n",
       "      <td>0</td>\n",
       "      <td>43</td>\n",
       "      <td>221.0</td>\n",
       "      <td>1.0</td>\n",
       "      <td>221.0</td>\n",
       "    </tr>\n",
       "    <tr>\n",
       "      <td>4</td>\n",
       "      <td>0</td>\n",
       "      <td>0</td>\n",
       "      <td>51</td>\n",
       "      <td>127.0</td>\n",
       "      <td>1.0</td>\n",
       "      <td>127.0</td>\n",
       "    </tr>\n",
       "  </tbody>\n",
       "</table>\n",
       "</div>"
      ],
      "text/plain": [
       "   date_block_num  shop_id  item_id  item_price  item_cnt_day  Total_price\n",
       "0               0        0       32       221.0           6.0       1326.0\n",
       "1               0        0       33       347.0           3.0       1041.0\n",
       "2               0        0       35       247.0           1.0        247.0\n",
       "3               0        0       43       221.0           1.0        221.0\n",
       "4               0        0       51       127.0           1.0        127.0"
      ]
     },
     "execution_count": 3,
     "metadata": {},
     "output_type": "execute_result"
    }
   ],
   "source": [
    "data.head()"
   ]
  },
  {
   "cell_type": "code",
   "execution_count": 4,
   "metadata": {},
   "outputs": [
    {
     "data": {
      "text/plain": [
       "(3494160.0, 0.07, 1954.1535577839843)"
      ]
     },
     "execution_count": 4,
     "metadata": {},
     "output_type": "execute_result"
    }
   ],
   "source": [
    "max(data.Total_price),min(data.Total_price), np.average(data.Total_price)"
   ]
  },
  {
   "cell_type": "markdown",
   "metadata": {},
   "source": [
    "# Frequentist inference Testing\n",
    "- We used Frequentist inference to compare if the total sale of 2 shop are different?\n",
    "    - we used t-test to find t value\n",
    "        - the larger t-value is the more different from the two shop"
   ]
  },
  {
   "cell_type": "code",
   "execution_count": 17,
   "metadata": {},
   "outputs": [],
   "source": [
    "def Frequentist_test(shop1_id, shop2_id):\n",
    "    \n",
    "    #Extract the 2 vector total_sale for 2 shop\n",
    "    shop1_data = data.loc[data.shop_id == shop1_id, 'Total_price']\n",
    "    shop2_data = data.loc[data.shop_id == shop2_id, 'Total_price']\n",
    "    \n",
    "    #Calculation the mean and std of 2 shop\n",
    "    mean_shop1 = np.mean(shop1_data)\n",
    "    std_shop1 = np.std(shop1_data)\n",
    "    mean_shop2 = np.mean(shop2_data)\n",
    "    std_shop2 = np.std(shop2_data)\n",
    "    \n",
    "    #Do Normal sample over mean and std of 2 shop. with 10000 sample\n",
    "    np.random.seed(42)\n",
    "    sample_shop1 = np.random.normal(mean_shop1, std_shop1, 10000)\n",
    "    sample_shop2 = np.random.normal(mean_shop2, std_shop2, 10000)\n",
    "    \n",
    "    #Get the mean , std and len for t-test\n",
    "    sample_mean_shop1 = np.mean(sample_shop1)\n",
    "    sample_std_shop1 = np.std(sample_shop1)\n",
    "    sample_len_shop1 = len(sample_shop1)\n",
    "    sample_mean_shop2 = np.mean(sample_shop2)\n",
    "    sample_std_shop2 = np.std(sample_shop2)\n",
    "    sample_len_shop2 = len(sample_shop2)\n",
    "    \n",
    "    #Frequentist test from scipy.stats\n",
    "    sample_test = ttest_ind_from_stats(sample_mean_shop1, sample_std_shop1, sample_len_shop1, sample_mean_shop2, sample_std_shop2, sample_len_shop2, equal_var= True)\n",
    "    \n",
    "    #Plot the histogram data before and after sampling\n",
    "    _ = plt.figure(figsize = (15,10))\n",
    "    _ = plt.subplot(2,2,1)\n",
    "    _ = plt.hist(shop1_data, bins = 100)\n",
    "    _ = plt.title ('shop1_data_hist')\n",
    "    _ = plt.xlabel('Total sale')\n",
    "    _ = plt.ylabel('Frequency')\n",
    "    _ = plt.xlim(0,20000)\n",
    "    \n",
    "    _ = plt.subplot(2,2,2)\n",
    "    _ = plt.hist(shop2_data, bins = 100)\n",
    "    _ = plt.title ('shop2_data_hist')\n",
    "    _ = plt.xlabel('Total sale')\n",
    "    _ = plt.ylabel('Frequency')\n",
    "    _ = plt.xlim(0,20000)\n",
    "    \n",
    "    _ = plt.subplot(2,2,3)\n",
    "    _ = plt.hist(sample_shop1, bins = 30)\n",
    "    _ = plt.axvline(sample_mean_shop1, c = 'r')\n",
    "    _ = plt.title ('shop1_sample_hist')\n",
    "    _ = plt.xlabel('Random Normal Mean')\n",
    "    _ = plt.ylabel('Frequency')\n",
    "    \n",
    "    _ = plt.subplot(2,2,4)\n",
    "    _ = plt.hist(sample_shop2, bins = 30)\n",
    "    _ = plt.axvline(sample_mean_shop2, c = 'r')\n",
    "    _ = plt.title ('shop2_sample_hist')\n",
    "    _ = plt.xlabel('Random Normal Mean')\n",
    "    _ = plt.ylabel('Frequency')\n",
    "    \n",
    "    \n",
    "    print('The mean of shop_id ' + str(shop1_id) +' is: ' + str(np.round(mean_shop1,3)))\n",
    "    print('The std of shop_id ' + str(shop1_id) +' is: ' + str(np.round(std_shop1,3)))\n",
    "    print('The mean of shop_id ' + str(shop2_id) +' is: ' + str(np.round(mean_shop2,3)))\n",
    "    print('The std of shop_id ' + str(shop2_id) +' is: ' + str(np.round(std_shop2,3)))\n",
    "    print('T_Value: ' + str(np.round(sample_test[0],4)))\n",
    "    print('P_Value: ' + str(sample_test[1]))\n",
    "    \n",
    "    print('T_value is telling us is how much is different between of 2 data shop')\n",
    "    \n",
    "    return sample_test[0]"
   ]
  },
  {
   "cell_type": "code",
   "execution_count": 35,
   "metadata": {},
   "outputs": [],
   "source": [
    "def Frequentist_test_tvalue(shop1_id, shop2_id):\n",
    "    \n",
    "    #Extract the 2 vector total_sale for 2 shop\n",
    "    shop1_data = data.loc[data.shop_id == shop1_id, 'Total_price']\n",
    "    shop2_data = data.loc[data.shop_id == shop2_id, 'Total_price']\n",
    "    \n",
    "    #Calculation the mean and std of 2 shop\n",
    "    mean_shop1 = np.mean(shop1_data)\n",
    "    std_shop1 = np.std(shop1_data)\n",
    "    mean_shop2 = np.mean(shop2_data)\n",
    "    std_shop2 = np.std(shop2_data)\n",
    "    \n",
    "    #Do Normal sample over mean and std of 2 shop. with 10000 sample\n",
    "    np.random.seed(42)\n",
    "    sample_shop1 = np.random.normal(mean_shop1, std_shop1, 10000)\n",
    "    sample_shop2 = np.random.normal(mean_shop2, std_shop2, 10000)\n",
    "    \n",
    "    #Get the mean , std and len for t-test\n",
    "    sample_mean_shop1 = np.mean(sample_shop1)\n",
    "    sample_std_shop1 = np.std(sample_shop1)\n",
    "    sample_len_shop1 = len(sample_shop1)\n",
    "    sample_mean_shop2 = np.mean(sample_shop2)\n",
    "    sample_std_shop2 = np.std(sample_shop2)\n",
    "    sample_len_shop2 = len(sample_shop2)\n",
    "    \n",
    "    #Frequentist test from scipy.stats\n",
    "    sample_test = ttest_ind_from_stats(sample_mean_shop1, sample_std_shop1, sample_len_shop1, sample_mean_shop2, sample_std_shop2, sample_len_shop2, equal_var= True)\n",
    "    \n",
    "    return sample_test[0]"
   ]
  },
  {
   "cell_type": "code",
   "execution_count": 18,
   "metadata": {},
   "outputs": [
    {
     "data": {
      "application/vnd.jupyter.widget-view+json": {
       "model_id": "d2a11556481b4c9da88f0baec00c7d2a",
       "version_major": 2,
       "version_minor": 0
      },
      "text/plain": [
       "interactive(children=(Dropdown(description='shop1_id', options=(0, 1, 2, 3, 4, 5, 6, 7, 8, 9, 10, 11, 12, 13, …"
      ]
     },
     "metadata": {},
     "output_type": "display_data"
    }
   ],
   "source": [
    "# just choice 2 shop id from the drop box, you can see the histgram after 10000 sample \n",
    "# and t-test and p-value of that 2 shop id\n",
    "# This is compare the total sale 1 shop to another\n",
    "x = interact(Frequentist_test, shop1_id = np.arange(0,60,1),shop2_id = np.arange(1,60,1))"
   ]
  },
  {
   "cell_type": "code",
   "execution_count": 36,
   "metadata": {},
   "outputs": [],
   "source": [
    "T_value_compare = pd.DataFrame(index = np.arange(0,60,1), columns= np.arange(1,60,1))"
   ]
  },
  {
   "cell_type": "code",
   "execution_count": 43,
   "metadata": {},
   "outputs": [
    {
     "data": {
      "text/html": [
       "<div>\n",
       "<style scoped>\n",
       "    .dataframe tbody tr th:only-of-type {\n",
       "        vertical-align: middle;\n",
       "    }\n",
       "\n",
       "    .dataframe tbody tr th {\n",
       "        vertical-align: top;\n",
       "    }\n",
       "\n",
       "    .dataframe thead th {\n",
       "        text-align: right;\n",
       "    }\n",
       "</style>\n",
       "<table border=\"1\" class=\"dataframe\">\n",
       "  <thead>\n",
       "    <tr style=\"text-align: right;\">\n",
       "      <th></th>\n",
       "      <th>1</th>\n",
       "      <th>2</th>\n",
       "      <th>3</th>\n",
       "      <th>4</th>\n",
       "      <th>5</th>\n",
       "      <th>6</th>\n",
       "      <th>7</th>\n",
       "      <th>8</th>\n",
       "      <th>9</th>\n",
       "      <th>10</th>\n",
       "      <th>...</th>\n",
       "      <th>50</th>\n",
       "      <th>51</th>\n",
       "      <th>52</th>\n",
       "      <th>53</th>\n",
       "      <th>54</th>\n",
       "      <th>55</th>\n",
       "      <th>56</th>\n",
       "      <th>57</th>\n",
       "      <th>58</th>\n",
       "      <th>59</th>\n",
       "    </tr>\n",
       "  </thead>\n",
       "  <tbody>\n",
       "    <tr>\n",
       "      <td>0</td>\n",
       "      <td>4.99668</td>\n",
       "      <td>11.6513</td>\n",
       "      <td>5.47773</td>\n",
       "      <td>4.06244</td>\n",
       "      <td>2.78588</td>\n",
       "      <td>6.21231</td>\n",
       "      <td>6.64816</td>\n",
       "      <td>7.08934</td>\n",
       "      <td>44.8319</td>\n",
       "      <td>0.414889</td>\n",
       "      <td>...</td>\n",
       "      <td>7.02311</td>\n",
       "      <td>8.01253</td>\n",
       "      <td>3.09991</td>\n",
       "      <td>5.5651</td>\n",
       "      <td>6.06635</td>\n",
       "      <td>7.95372</td>\n",
       "      <td>0.116599</td>\n",
       "      <td>5.25234</td>\n",
       "      <td>4.99295</td>\n",
       "      <td>4.52586</td>\n",
       "    </tr>\n",
       "    <tr>\n",
       "      <td>1</td>\n",
       "      <td>1.10562</td>\n",
       "      <td>15.8976</td>\n",
       "      <td>12.9559</td>\n",
       "      <td>10.6043</td>\n",
       "      <td>9.11434</td>\n",
       "      <td>10.2764</td>\n",
       "      <td>11.8368</td>\n",
       "      <td>0.854497</td>\n",
       "      <td>49.0938</td>\n",
       "      <td>5.77122</td>\n",
       "      <td>...</td>\n",
       "      <td>11.4285</td>\n",
       "      <td>3.01332</td>\n",
       "      <td>8.31513</td>\n",
       "      <td>11.6915</td>\n",
       "      <td>10.5014</td>\n",
       "      <td>9.25136</td>\n",
       "      <td>6.28983</td>\n",
       "      <td>10.1253</td>\n",
       "      <td>10.9572</td>\n",
       "      <td>9.69636</td>\n",
       "    </tr>\n",
       "    <tr>\n",
       "      <td>2</td>\n",
       "      <td>13.9081</td>\n",
       "      <td>1.10562</td>\n",
       "      <td>6.9419</td>\n",
       "      <td>7.53103</td>\n",
       "      <td>8.39491</td>\n",
       "      <td>3.53833</td>\n",
       "      <td>4.42639</td>\n",
       "      <td>15.2085</td>\n",
       "      <td>32.2528</td>\n",
       "      <td>10.7338</td>\n",
       "      <td>...</td>\n",
       "      <td>3.25189</td>\n",
       "      <td>15.6545</td>\n",
       "      <td>7.40997</td>\n",
       "      <td>6.08885</td>\n",
       "      <td>4.12865</td>\n",
       "      <td>3.84241</td>\n",
       "      <td>10.6069</td>\n",
       "      <td>5.30436</td>\n",
       "      <td>6.43391</td>\n",
       "      <td>6.19338</td>\n",
       "    </tr>\n",
       "    <tr>\n",
       "      <td>3</td>\n",
       "      <td>10.7789</td>\n",
       "      <td>9.03828</td>\n",
       "      <td>1.10562</td>\n",
       "      <td>0.134377</td>\n",
       "      <td>1.48564</td>\n",
       "      <td>3.38171</td>\n",
       "      <td>3.30245</td>\n",
       "      <td>13.9552</td>\n",
       "      <td>43.1685</td>\n",
       "      <td>5.11657</td>\n",
       "      <td>...</td>\n",
       "      <td>4.07162</td>\n",
       "      <td>14.0043</td>\n",
       "      <td>0.592047</td>\n",
       "      <td>1.71484</td>\n",
       "      <td>3.03416</td>\n",
       "      <td>6.90582</td>\n",
       "      <td>4.88199</td>\n",
       "      <td>1.93826</td>\n",
       "      <td>1.15</td>\n",
       "      <td>1.00048</td>\n",
       "    </tr>\n",
       "    <tr>\n",
       "      <td>4</td>\n",
       "      <td>8.45218</td>\n",
       "      <td>9.65754</td>\n",
       "      <td>2.34194</td>\n",
       "      <td>1.10562</td>\n",
       "      <td>0.170185</td>\n",
       "      <td>4.15636</td>\n",
       "      <td>4.20363</td>\n",
       "      <td>10.9094</td>\n",
       "      <td>43.2462</td>\n",
       "      <td>3.50701</td>\n",
       "      <td>...</td>\n",
       "      <td>4.86103</td>\n",
       "      <td>11.4225</td>\n",
       "      <td>0.514949</td>\n",
       "      <td>2.79078</td>\n",
       "      <td>3.86599</td>\n",
       "      <td>7.20004</td>\n",
       "      <td>3.25811</td>\n",
       "      <td>2.86838</td>\n",
       "      <td>2.24378</td>\n",
       "      <td>2.01286</td>\n",
       "    </tr>\n",
       "  </tbody>\n",
       "</table>\n",
       "<p>5 rows × 59 columns</p>\n",
       "</div>"
      ],
      "text/plain": [
       "        1        2        3         4         5        6        7         8   \\\n",
       "0  4.99668  11.6513  5.47773   4.06244   2.78588  6.21231  6.64816   7.08934   \n",
       "1  1.10562  15.8976  12.9559   10.6043   9.11434  10.2764  11.8368  0.854497   \n",
       "2  13.9081  1.10562   6.9419   7.53103   8.39491  3.53833  4.42639   15.2085   \n",
       "3  10.7789  9.03828  1.10562  0.134377   1.48564  3.38171  3.30245   13.9552   \n",
       "4  8.45218  9.65754  2.34194   1.10562  0.170185  4.15636  4.20363   10.9094   \n",
       "\n",
       "        9         10  ...       50       51        52       53       54  \\\n",
       "0  44.8319  0.414889  ...  7.02311  8.01253   3.09991   5.5651  6.06635   \n",
       "1  49.0938   5.77122  ...  11.4285  3.01332   8.31513  11.6915  10.5014   \n",
       "2  32.2528   10.7338  ...  3.25189  15.6545   7.40997  6.08885  4.12865   \n",
       "3  43.1685   5.11657  ...  4.07162  14.0043  0.592047  1.71484  3.03416   \n",
       "4  43.2462   3.50701  ...  4.86103  11.4225  0.514949  2.79078  3.86599   \n",
       "\n",
       "        55        56       57       58       59  \n",
       "0  7.95372  0.116599  5.25234  4.99295  4.52586  \n",
       "1  9.25136   6.28983  10.1253  10.9572  9.69636  \n",
       "2  3.84241   10.6069  5.30436  6.43391  6.19338  \n",
       "3  6.90582   4.88199  1.93826     1.15  1.00048  \n",
       "4  7.20004   3.25811  2.86838  2.24378  2.01286  \n",
       "\n",
       "[5 rows x 59 columns]"
      ]
     },
     "execution_count": 43,
     "metadata": {},
     "output_type": "execute_result"
    }
   ],
   "source": [
    "T_value_compare.head()"
   ]
  },
  {
   "cell_type": "code",
   "execution_count": 42,
   "metadata": {},
   "outputs": [],
   "source": [
    "for i in range(0,60):\n",
    "    for j in range(1,60):\n",
    "        x = Frequentist_test_tvalue(i,j)\n",
    "        T_value_compare.iloc[i,j-1] = abs(x)"
   ]
  },
  {
   "cell_type": "code",
   "execution_count": 53,
   "metadata": {},
   "outputs": [
    {
     "data": {
      "image/png": "[encoded data removed]",
      "text/plain": [
       "<Figure size 1440x360 with 1 Axes>"
      ]
     },
     "metadata": {
      "needs_background": "light"
     },
     "output_type": "display_data"
    }
   ],
   "source": [
    "_ = plt.figure(figsize = (20,5))\n",
    "_ = plt.plot(T_value_compare.iloc[2,])\n",
    "_ = plt.xticks(np.arange(0,60,1))"
   ]
  },
  {
   "cell_type": "markdown",
   "metadata": {},
   "source": [
    "# Bootstap Inference Testing"
   ]
  },
  {
   "cell_type": "markdown",
   "metadata": {},
   "source": [
    "# Define function"
   ]
  },
  {
   "cell_type": "code",
   "execution_count": 7,
   "metadata": {},
   "outputs": [],
   "source": [
    "#Emprical Cumulative density function\n",
    "def ecdf(data):\n",
    "    x = sorted(data)\n",
    "    y = np.arange(1, len(x)+ 1)/len(x)\n",
    "    return x,y"
   ]
  },
  {
   "cell_type": "code",
   "execution_count": 8,
   "metadata": {},
   "outputs": [],
   "source": [
    "#Function for bootstrap replication\n",
    "def bs_replicate_1d(data,func):\n",
    "    return func(np.random.choice(data, size=len(data)))\n",
    "def bs_draw_replicate(data, func, size = 1):\n",
    "    #initialize array of replicate\n",
    "    bs_rep = np.empty(size)\n",
    "    #Genrate replicate\n",
    "    for i in range(size):\n",
    "        bs_rep[i]= bs_replicate_1d(data,func)\n",
    "    return bs_rep    "
   ]
  },
  {
   "cell_type": "markdown",
   "metadata": {},
   "source": [
    "# Get Total_price from data\n",
    "- We will perform the hypothesis test to prove if the average of total sale was greater than the mean with our 95%  confidence interval."
   ]
  },
  {
   "cell_type": "code",
   "execution_count": 9,
   "metadata": {},
   "outputs": [],
   "source": [
    "#Get the array data from item_cnt\n",
    "origin = data.Total_price"
   ]
  },
  {
   "cell_type": "code",
   "execution_count": 10,
   "metadata": {},
   "outputs": [
    {
     "data": {
      "text/plain": [
       "(1954.1535577839843, 10430.04729873489)"
      ]
     },
     "execution_count": 10,
     "metadata": {},
     "output_type": "execute_result"
    }
   ],
   "source": [
    "#calculation the mean and std of the origin series data\n",
    "mean = np.mean(origin)\n",
    "std = np.std(origin)\n",
    "mean, std"
   ]
  },
  {
   "cell_type": "markdown",
   "metadata": {},
   "source": [
    "# Define Null hypothesis\n",
    "- Ho(null hypothesis) : is greater than the  mean of total_price sale of the data\n",
    "- Ha(alternative hypothesis)  : is less than the mean of total_price sale of data of data\n",
    "- Ho > 1954.15\n",
    "- Ha <= 1954.15"
   ]
  },
  {
   "cell_type": "markdown",
   "metadata": {},
   "source": [
    "# Choice 95% Confidence Interval\n",
    "- when we are choice 95% confidence interval. So we will have our significane levels is 5%\n",
    "- Base on I define the null hypothesis, so we will do one-tail testing.\n",
    "- So alpha = 5% = 0.05 (we will compare this number with p-value to determine reject the null hypothesis or not)\n",
    "\n"
   ]
  },
  {
   "cell_type": "markdown",
   "metadata": {},
   "source": [
    "# Hypothesis Testing"
   ]
  },
  {
   "cell_type": "markdown",
   "metadata": {},
   "source": [
    "- we set them random seed to 47, so we can get same result all the time\n",
    "- We do simulate the same lenght as the total_price, and random choice data point point from total_price, then we calculate the mean of new sampling. we repeating it 1000 time. It mean we will have 1000 new mean total_price it was generation base on total_price data."
   ]
  },
  {
   "cell_type": "code",
   "execution_count": 11,
   "metadata": {},
   "outputs": [],
   "source": [
    "#Do sampling 1000 time from the origin data\n",
    "np.random.seed(47)\n",
    "sampling = bs_draw_replicate(origin, np.mean, 1000)"
   ]
  },
  {
   "cell_type": "code",
   "execution_count": 12,
   "metadata": {},
   "outputs": [],
   "source": [
    "mean_sampling = np.mean(sampling)\n",
    "x,y = ecdf(sampling)\n"
   ]
  },
  {
   "cell_type": "code",
   "execution_count": 13,
   "metadata": {},
   "outputs": [
    {
     "data": {
      "image/png": "[encoded data removed]",
      "text/plain": [
       "<Figure size 1080x720 with 2 Axes>"
      ]
     },
     "metadata": {
      "needs_background": "light"
     },
     "output_type": "display_data"
    }
   ],
   "source": [
    "_ = plt.figure(figsize = (15,10))\n",
    "_ = plt.subplot(2,2,1)\n",
    "_ = plt.hist(sampling, bins = 35)\n",
    "_ = plt.title('Histogram of Sampling')\n",
    "_ = plt.axvline(mean_sampling, c = 'red')\n",
    "_ = plt.subplot(2,2,2)\n",
    "_ = plt.plot(x,y, marker = '.', linestyle = 'none')\n",
    "_ = plt.title('CDF of Sampling')\n",
    "_ = plt.axvline(mean_sampling, c = 'red')\n"
   ]
  },
  {
   "cell_type": "code",
   "execution_count": null,
   "metadata": {},
   "outputs": [],
   "source": []
  },
  {
   "cell_type": "code",
   "execution_count": 14,
   "metadata": {},
   "outputs": [
    {
     "data": {
      "text/plain": [
       "array([1939.09694122, 1970.31675134])"
      ]
     },
     "execution_count": 14,
     "metadata": {},
     "output_type": "execute_result"
    }
   ],
   "source": [
    "#calcualtion 95% confidence interval\n",
    "confidence = np.percentile(sampling, [2.5, 97.5])\n",
    "confidence"
   ]
  },
  {
   "cell_type": "code",
   "execution_count": 15,
   "metadata": {},
   "outputs": [
    {
     "data": {
      "text/plain": [
       "0.514"
      ]
     },
     "execution_count": 15,
     "metadata": {},
     "output_type": "execute_result"
    }
   ],
   "source": [
    "p_value = np.sum(sampling > mean) / len(sampling)\n",
    "p_value"
   ]
  },
  {
   "cell_type": "markdown",
   "metadata": {},
   "source": [
    "- As p = 0.514, so we know that about 51.4% that data was higher than the mean\n",
    "- And the 95% confidence interval is [1939.1,1970.3].\n",
    "- The p value is so high so we can not reject Null hypothesis"
   ]
  },
  {
   "cell_type": "markdown",
   "metadata": {},
   "source": [
    "# Conclusion"
   ]
  },
  {
   "cell_type": "markdown",
   "metadata": {},
   "source": [
    "- We can not reject Null hypothesis\n",
    "- p-value is 0.514\n",
    "- the standard deviation is so large\n",
    "\n",
    "\n"
   ]
  }
 ],
 "metadata": {
  "kernelspec": {
   "display_name": "Python 3",
   "language": "python",
   "name": "python3"
  },
  "language_info": {
   "codemirror_mode": {
    "name": "ipython",
    "version": 3
   },
   "file_extension": ".py",
   "mimetype": "text/x-python",
   "name": "python",
   "nbconvert_exporter": "python",
   "pygments_lexer": "ipython3",
   "version": "3.7.3"
  },
  "widgets": {
   "application/vnd.jupyter.widget-state+json": {
    "state": {
     "00c403b4a6c0430296515b80f4fd1187": {
      "model_module": "@jupyter-widgets/base",
      "model_module_version": "1.2.0",
      "model_name": "LayoutModel",
      "state": {}
     },
     "197a45efaff44e63b90da159fa1ffcdb": {
      "model_module": "@jupyter-widgets/base",
      "model_module_version": "1.2.0",
      "model_name": "LayoutModel",
      "state": {}
     },
     "21f1e7d13dfc44c7b393503a60e9daea": {
      "model_module": "@jupyter-widgets/output",
      "model_module_version": "1.0.0",
      "model_name": "OutputModel",
      "state": {
       "layout": "IPY_MODEL_5ef6cfd05e054dceae401f2ed02532e5",
       "outputs": [
        {
         "name": "stdout",
         "output_type": "stream",
         "text": "We are perform the frequentist test to see how the different mean total sale of 2 data\nThe mean of shop_id 0 is: 1364.591\nThe std of shop_id 0 is: 5583.278\nThe mean of shop_id 1 is: 980.384\nThe std of shop_id 1 is: 3367.831\nT_Value: 4.9967\nP_Value: 5.881733878735385e-07\nT_value is telling us is how much is different between of 2 data shop\n"
        },
        {
         "data": {
          "image/png": "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\n",
          "text/plain": "<Figure size 1080x720 with 4 Axes>"
         },
         "metadata": {
          "needs_background": "light"
         },
         "output_type": "display_data"
        }
       ]
      }
     },
     "244bebbec3e643b78fc1f4ee483405c5": {
      "model_module": "@jupyter-widgets/controls",
      "model_module_version": "1.5.0",
      "model_name": "DropdownModel",
      "state": {
       "_options_labels": [
        "0",
        "1",
        "2",
        "3",
        "4",
        "5",
        "6",
        "7",
        "8",
        "9",
        "10",
        "11",
        "12",
        "13",
        "14",
        "15",
        "16",
        "17",
        "18",
        "19",
        "20",
        "21",
        "22",
        "23",
        "24",
        "25",
        "26",
        "27",
        "28",
        "29",
        "30",
        "31",
        "32",
        "33",
        "34",
        "35",
        "36",
        "37",
        "38",
        "39",
        "40",
        "41",
        "42",
        "43",
        "44",
        "45",
        "46",
        "47",
        "48",
        "49",
        "50",
        "51",
        "52",
        "53",
        "54",
        "55",
        "56",
        "57",
        "58",
        "59"
       ],
       "description": "shop1_id",
       "index": 0,
       "layout": "IPY_MODEL_ead71158aeb3475098b8c36904b1d460",
       "style": "IPY_MODEL_5321ce7729954df480a565bc12aa1a17"
      }
     },
     "259beb2fcd0a4f7094e0290bd2aaf10d": {
      "model_module": "@jupyter-widgets/base",
      "model_module_version": "1.2.0",
      "model_name": "LayoutModel",
      "state": {}
     },
     "2d2c2d6b3f5b42a69a1c518b01ad451b": {
      "model_module": "@jupyter-widgets/controls",
      "model_module_version": "1.5.0",
      "model_name": "DescriptionStyleModel",
      "state": {
       "description_width": ""
      }
     },
     "2e426c83e7a943a19149d443395908ed": {
      "model_module": "@jupyter-widgets/controls",
      "model_module_version": "1.5.0",
      "model_name": "DescriptionStyleModel",
      "state": {
       "description_width": ""
      }
     },
     "31f23f1be3b045b980b56dc4fc03934b": {
      "model_module": "@jupyter-widgets/controls",
      "model_module_version": "1.5.0",
      "model_name": "DescriptionStyleModel",
      "state": {
       "description_width": ""
      }
     },
     "3566bc83a791470f82823359a11c6fbf": {
      "model_module": "@jupyter-widgets/base",
      "model_module_version": "1.2.0",
      "model_name": "LayoutModel",
      "state": {}
     },
     "3c1642353c9840ad8ef3a6a910606303": {
      "model_module": "@jupyter-widgets/base",
      "model_module_version": "1.2.0",
      "model_name": "LayoutModel",
      "state": {}
     },
     "3fd245adfc944da695f6cac6a930d482": {
      "model_module": "@jupyter-widgets/controls",
      "model_module_version": "1.5.0",
      "model_name": "DescriptionStyleModel",
      "state": {
       "description_width": ""
      }
     },
     "46c574f581714b159d13420c10db2c6e": {
      "model_module": "@jupyter-widgets/controls",
      "model_module_version": "1.5.0",
      "model_name": "DropdownModel",
      "state": {
       "_options_labels": [
        "0",
        "1",
        "2",
        "3",
        "4",
        "5",
        "6",
        "7",
        "8",
        "9",
        "10",
        "11",
        "12",
        "13",
        "14",
        "15",
        "16",
        "17",
        "18",
        "19",
        "20",
        "21",
        "22",
        "23",
        "24",
        "25",
        "26",
        "27",
        "28",
        "29",
        "30",
        "31",
        "32",
        "33",
        "34",
        "35",
        "36",
        "37",
        "38",
        "39",
        "40",
        "41",
        "42",
        "43",
        "44",
        "45",
        "46",
        "47",
        "48",
        "49",
        "50",
        "51",
        "52",
        "53",
        "54",
        "55",
        "56",
        "57",
        "58",
        "59"
       ],
       "description": "shop1_id",
       "index": 4,
       "layout": "IPY_MODEL_5f4e1c422bfb4fb09690718d2bfaf896",
       "style": "IPY_MODEL_2e426c83e7a943a19149d443395908ed"
      }
     },
     "5321ce7729954df480a565bc12aa1a17": {
      "model_module": "@jupyter-widgets/controls",
      "model_module_version": "1.5.0",
      "model_name": "DescriptionStyleModel",
      "state": {
       "description_width": ""
      }
     },
     "5ef6cfd05e054dceae401f2ed02532e5": {
      "model_module": "@jupyter-widgets/base",
      "model_module_version": "1.2.0",
      "model_name": "LayoutModel",
      "state": {}
     },
     "5f4e1c422bfb4fb09690718d2bfaf896": {
      "model_module": "@jupyter-widgets/base",
      "model_module_version": "1.2.0",
      "model_name": "LayoutModel",
      "state": {}
     },
     "67ee2541c7a44fe885b457a7f256c01a": {
      "model_module": "@jupyter-widgets/controls",
      "model_module_version": "1.5.0",
      "model_name": "VBoxModel",
      "state": {
       "_dom_classes": [
        "widget-interact"
       ],
       "children": [
        "IPY_MODEL_46c574f581714b159d13420c10db2c6e",
        "IPY_MODEL_c5b23f63784c4fe9a70205a9ec925944",
        "IPY_MODEL_c9ef8a68062c408fa7ce1ffd89869b97"
       ],
       "layout": "IPY_MODEL_700cf8de59354f8fb6b110979e8e6804"
      }
     },
     "6b65fb1723ad46bfbb305e6b4c7ad38f": {
      "model_module": "@jupyter-widgets/controls",
      "model_module_version": "1.5.0",
      "model_name": "DropdownModel",
      "state": {
       "_options_labels": [
        "0",
        "1",
        "2",
        "3",
        "4",
        "5",
        "6",
        "7",
        "8",
        "9",
        "10",
        "11",
        "12",
        "13",
        "14",
        "15",
        "16",
        "17",
        "18",
        "19",
        "20",
        "21",
        "22",
        "23",
        "24",
        "25",
        "26",
        "27",
        "28",
        "29",
        "30",
        "31",
        "32",
        "33",
        "34",
        "35",
        "36",
        "37",
        "38",
        "39",
        "40",
        "41",
        "42",
        "43",
        "44",
        "45",
        "46",
        "47",
        "48",
        "49",
        "50",
        "51",
        "52",
        "53",
        "54",
        "55",
        "56",
        "57",
        "58",
        "59"
       ],
       "description": "shop1_id",
       "index": 0,
       "layout": "IPY_MODEL_88f1e06f33d24678b8a8efa24ea88a80",
       "style": "IPY_MODEL_31f23f1be3b045b980b56dc4fc03934b"
      }
     },
     "6c179ca879a7465884f324e26631c7d7": {
      "model_module": "@jupyter-widgets/controls",
      "model_module_version": "1.5.0",
      "model_name": "VBoxModel",
      "state": {
       "_dom_classes": [
        "widget-interact"
       ],
       "children": [
        "IPY_MODEL_6b65fb1723ad46bfbb305e6b4c7ad38f",
        "IPY_MODEL_835420cdc8dd4f0f890c57abe5f38906",
        "IPY_MODEL_21f1e7d13dfc44c7b393503a60e9daea"
       ],
       "layout": "IPY_MODEL_8e8a060198fe4805abcd86ae4904ab40"
      }
     },
     "700cf8de59354f8fb6b110979e8e6804": {
      "model_module": "@jupyter-widgets/base",
      "model_module_version": "1.2.0",
      "model_name": "LayoutModel",
      "state": {}
     },
     "835420cdc8dd4f0f890c57abe5f38906": {
      "model_module": "@jupyter-widgets/controls",
      "model_module_version": "1.5.0",
      "model_name": "DropdownModel",
      "state": {
       "_options_labels": [
        "1",
        "2",
        "3",
        "4",
        "5",
        "6",
        "7",
        "8",
        "9",
        "10",
        "11",
        "12",
        "13",
        "14",
        "15",
        "16",
        "17",
        "18",
        "19",
        "20",
        "21",
        "22",
        "23",
        "24",
        "25",
        "26",
        "27",
        "28",
        "29",
        "30",
        "31",
        "32",
        "33",
        "34",
        "35",
        "36",
        "37",
        "38",
        "39",
        "40",
        "41",
        "42",
        "43",
        "44",
        "45",
        "46",
        "47",
        "48",
        "49",
        "50",
        "51",
        "52",
        "53",
        "54",
        "55",
        "56",
        "57",
        "58",
        "59"
       ],
       "description": "shop2_id",
       "index": 0,
       "layout": "IPY_MODEL_3566bc83a791470f82823359a11c6fbf",
       "style": "IPY_MODEL_2d2c2d6b3f5b42a69a1c518b01ad451b"
      }
     },
     "88f1e06f33d24678b8a8efa24ea88a80": {
      "model_module": "@jupyter-widgets/base",
      "model_module_version": "1.2.0",
      "model_name": "LayoutModel",
      "state": {}
     },
     "8e8a060198fe4805abcd86ae4904ab40": {
      "model_module": "@jupyter-widgets/base",
      "model_module_version": "1.2.0",
      "model_name": "LayoutModel",
      "state": {}
     },
     "c5b23f63784c4fe9a70205a9ec925944": {
      "model_module": "@jupyter-widgets/controls",
      "model_module_version": "1.5.0",
      "model_name": "DropdownModel",
      "state": {
       "_options_labels": [
        "1",
        "2",
        "3",
        "4",
        "5",
        "6",
        "7",
        "8",
        "9",
        "10",
        "11",
        "12",
        "13",
        "14",
        "15",
        "16",
        "17",
        "18",
        "19",
        "20",
        "21",
        "22",
        "23",
        "24",
        "25",
        "26",
        "27",
        "28",
        "29",
        "30",
        "31",
        "32",
        "33",
        "34",
        "35",
        "36",
        "37",
        "38",
        "39",
        "40",
        "41",
        "42",
        "43",
        "44",
        "45",
        "46",
        "47",
        "48",
        "49",
        "50",
        "51",
        "52",
        "53",
        "54",
        "55",
        "56",
        "57",
        "58",
        "59"
       ],
       "description": "shop2_id",
       "index": 0,
       "layout": "IPY_MODEL_00c403b4a6c0430296515b80f4fd1187",
       "style": "IPY_MODEL_eccdfaab1a5541c69218ac4998c3d6d0"
      }
     },
     "c9ef8a68062c408fa7ce1ffd89869b97": {
      "model_module": "@jupyter-widgets/output",
      "model_module_version": "1.0.0",
      "model_name": "OutputModel",
      "state": {
       "layout": "IPY_MODEL_259beb2fcd0a4f7094e0290bd2aaf10d",
       "outputs": [
        {
         "name": "stdout",
         "output_type": "stream",
         "text": "We are perform the frequentist test to see how the different mean total sale of 2 data\nThe mean of shop_id 4 is: 1600.64\nThe std of shop_id 4 is: 5718.103\nThe mean of shop_id 1 is: 980.384\nThe std of shop_id 1 is: 3367.831\nT_Value: 8.4522\nP_Value: 3.0524067456133074e-17\nT_value is telling us is how much is different between of 2 data shop\n"
        },
        {
         "data": {
          "image/png": "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\n",
          "text/plain": "<Figure size 1080x720 with 4 Axes>"
         },
         "metadata": {
          "needs_background": "light"
         },
         "output_type": "display_data"
        }
       ]
      }
     },
     "d2a11556481b4c9da88f0baec00c7d2a": {
      "model_module": "@jupyter-widgets/controls",
      "model_module_version": "1.5.0",
      "model_name": "VBoxModel",
      "state": {
       "_dom_classes": [
        "widget-interact"
       ],
       "children": [
        "IPY_MODEL_244bebbec3e643b78fc1f4ee483405c5",
        "IPY_MODEL_db0f9aa77d204bbf938f3ece8b038709",
        "IPY_MODEL_f70e8a3dfe814f5c974df8bab5a528a7"
       ],
       "layout": "IPY_MODEL_e9fc3a17a06d4f158c2a34c3e259ae3c"
      }
     },
     "db0f9aa77d204bbf938f3ece8b038709": {
      "model_module": "@jupyter-widgets/controls",
      "model_module_version": "1.5.0",
      "model_name": "DropdownModel",
      "state": {
       "_options_labels": [
        "1",
        "2",
        "3",
        "4",
        "5",
        "6",
        "7",
        "8",
        "9",
        "10",
        "11",
        "12",
        "13",
        "14",
        "15",
        "16",
        "17",
        "18",
        "19",
        "20",
        "21",
        "22",
        "23",
        "24",
        "25",
        "26",
        "27",
        "28",
        "29",
        "30",
        "31",
        "32",
        "33",
        "34",
        "35",
        "36",
        "37",
        "38",
        "39",
        "40",
        "41",
        "42",
        "43",
        "44",
        "45",
        "46",
        "47",
        "48",
        "49",
        "50",
        "51",
        "52",
        "53",
        "54",
        "55",
        "56",
        "57",
        "58",
        "59"
       ],
       "description": "shop2_id",
       "index": 0,
       "layout": "IPY_MODEL_197a45efaff44e63b90da159fa1ffcdb",
       "style": "IPY_MODEL_3fd245adfc944da695f6cac6a930d482"
      }
     },
     "e9fc3a17a06d4f158c2a34c3e259ae3c": {
      "model_module": "@jupyter-widgets/base",
      "model_module_version": "1.2.0",
      "model_name": "LayoutModel",
      "state": {}
     },
     "ead71158aeb3475098b8c36904b1d460": {
      "model_module": "@jupyter-widgets/base",
      "model_module_version": "1.2.0",
      "model_name": "LayoutModel",
      "state": {}
     },
     "eccdfaab1a5541c69218ac4998c3d6d0": {
      "model_module": "@jupyter-widgets/controls",
      "model_module_version": "1.5.0",
      "model_name": "DescriptionStyleModel",
      "state": {
       "description_width": ""
      }
     },
     "f70e8a3dfe814f5c974df8bab5a528a7": {
      "model_module": "@jupyter-widgets/output",
      "model_module_version": "1.0.0",
      "model_name": "OutputModel",
      "state": {
       "layout": "IPY_MODEL_3c1642353c9840ad8ef3a6a910606303",
       "outputs": [
        {
         "name": "stdout",
         "output_type": "stream",
         "text": "We are perform the frequentist test to see how the different mean total sale of 2 data\nThe mean of shop_id 0 is: 1364.591\nThe std of shop_id 0 is: 5583.278\nThe mean of shop_id 1 is: 980.384\nThe std of shop_id 1 is: 3367.831\nT_Value: 4.9967\nP_Value: 5.881733878735385e-07\nT_value is telling us is how much is different between of 2 data shop\n"
        },
        {
         "data": {
          "image/png": "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\n",
          "text/plain": "<Figure size 1080x720 with 4 Axes>"
         },
         "metadata": {
          "needs_background": "light"
         },
         "output_type": "display_data"
        },
        {
         "data": {
          "text/plain": "4.99668138858646"
         },
         "metadata": {},
         "output_type": "display_data"
        }
       ]
      }
     }
    },
    "version_major": 2,
    "version_minor": 0
   }
  }
 },
 "nbformat": 4,
 "nbformat_minor": 2
}
