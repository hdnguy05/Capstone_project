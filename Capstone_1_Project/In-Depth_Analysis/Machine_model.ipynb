{
 "cells": [
  {
   "cell_type": "markdown",
   "metadata": {},
   "source": [
    "# In-Depth Analysis: Machine Learning Models"
   ]
  },
  {
   "cell_type": "markdown",
   "metadata": {},
   "source": [
    "## Import python libarary"
   ]
  },
  {
   "cell_type": "code",
   "execution_count": 1,
   "metadata": {},
   "outputs": [],
   "source": [
    "import numpy as np\n",
    "import pandas as pd\n",
    "import matplotlib.pyplot as plt\n",
    "from sklearn.metrics import mean_squared_error\n",
    "from scipy.stats import randint\n",
    "from sklearn.model_selection import RandomizedSearchCV"
   ]
  },
  {
   "cell_type": "markdown",
   "metadata": {},
   "source": [
    "## Loading the data"
   ]
  },
  {
   "cell_type": "code",
   "execution_count": 2,
   "metadata": {},
   "outputs": [],
   "source": [
    "df_1 = pd.read_csv('data/question1_data.csv').drop('Unnamed: 0', axis = 1)\n",
    "df_2 = pd.read_csv('data/question2_data.csv')\n",
    "df_3 = pd.read_csv('data/question3_data.csv')\n",
    "df_test = pd.read_csv('data/test.csv', index_col = 'ID')\n"
   ]
  },
  {
   "cell_type": "code",
   "execution_count": 3,
   "metadata": {},
   "outputs": [],
   "source": [
    "#Predict November itemsalfe, extract only data for november last 2 year to make a training data\n",
    "#Cause we only predict item_cnt_day  sale for month november, so we only need the data last november of 2 year to predict\n",
    "november_data = df_1[((df_1.date_block_num == 10) | (df_1.date_block_num == 22))].reset_index()"
   ]
  },
  {
   "cell_type": "code",
   "execution_count": 4,
   "metadata": {},
   "outputs": [
    {
     "data": {
      "text/html": [
       "<div>\n",
       "<style scoped>\n",
       "    .dataframe tbody tr th:only-of-type {\n",
       "        vertical-align: middle;\n",
       "    }\n",
       "\n",
       "    .dataframe tbody tr th {\n",
       "        vertical-align: top;\n",
       "    }\n",
       "\n",
       "    .dataframe thead th {\n",
       "        text-align: right;\n",
       "    }\n",
       "</style>\n",
       "<table border=\"1\" class=\"dataframe\">\n",
       "  <thead>\n",
       "    <tr style=\"text-align: right;\">\n",
       "      <th></th>\n",
       "      <th>shop_id</th>\n",
       "      <th>item_id</th>\n",
       "      <th>item_price</th>\n",
       "      <th>item_cnt_day</th>\n",
       "    </tr>\n",
       "  </thead>\n",
       "  <tbody>\n",
       "    <tr>\n",
       "      <td>0</td>\n",
       "      <td>2</td>\n",
       "      <td>33</td>\n",
       "      <td>199.0</td>\n",
       "      <td>2.0</td>\n",
       "    </tr>\n",
       "    <tr>\n",
       "      <td>1</td>\n",
       "      <td>2</td>\n",
       "      <td>97</td>\n",
       "      <td>149.0</td>\n",
       "      <td>1.0</td>\n",
       "    </tr>\n",
       "    <tr>\n",
       "      <td>2</td>\n",
       "      <td>2</td>\n",
       "      <td>482</td>\n",
       "      <td>3300.0</td>\n",
       "      <td>2.0</td>\n",
       "    </tr>\n",
       "    <tr>\n",
       "      <td>3</td>\n",
       "      <td>2</td>\n",
       "      <td>791</td>\n",
       "      <td>600.0</td>\n",
       "      <td>1.0</td>\n",
       "    </tr>\n",
       "    <tr>\n",
       "      <td>4</td>\n",
       "      <td>2</td>\n",
       "      <td>944</td>\n",
       "      <td>299.0</td>\n",
       "      <td>1.0</td>\n",
       "    </tr>\n",
       "  </tbody>\n",
       "</table>\n",
       "</div>"
      ],
      "text/plain": [
       "   shop_id  item_id  item_price  item_cnt_day\n",
       "0        2       33       199.0           2.0\n",
       "1        2       97       149.0           1.0\n",
       "2        2      482      3300.0           2.0\n",
       "3        2      791       600.0           1.0\n",
       "4        2      944       299.0           1.0"
      ]
     },
     "execution_count": 4,
     "metadata": {},
     "output_type": "execute_result"
    }
   ],
   "source": [
    "#Extract new dataframe only contain shop_id and item_id, so it can match with our test data file\n",
    "df_new_1 = november_data[['shop_id','item_id','item_price','item_cnt_day']]\n",
    "df_new_1 = df_new_1.groupby(['shop_id','item_id'],as_index = False).agg({'item_price':'mean','item_cnt_day':'sum'})\n",
    "df_new_1.head()"
   ]
  },
  {
   "cell_type": "code",
   "execution_count": 6,
   "metadata": {},
   "outputs": [
    {
     "data": {
      "image/png": "[encoded data removed]",
      "text/plain": [
       "<Figure size 1080x360 with 1 Axes>"
      ]
     },
     "metadata": {
      "needs_background": "light"
     },
     "output_type": "display_data"
    }
   ],
   "source": [
    "#check outlier for item_price\n",
    "x = df_new_1.item_price\n",
    "#y = df_new_1.item_cnt_day\n",
    "_ = plt.figure(figsize = (15,5))\n",
    "_ = plt.hist(x, bins = 30)"
   ]
  },
  {
   "cell_type": "code",
   "execution_count": 7,
   "metadata": {},
   "outputs": [
    {
     "data": {
      "text/html": [
       "<div>\n",
       "<style scoped>\n",
       "    .dataframe tbody tr th:only-of-type {\n",
       "        vertical-align: middle;\n",
       "    }\n",
       "\n",
       "    .dataframe tbody tr th {\n",
       "        vertical-align: top;\n",
       "    }\n",
       "\n",
       "    .dataframe thead th {\n",
       "        text-align: right;\n",
       "    }\n",
       "</style>\n",
       "<table border=\"1\" class=\"dataframe\">\n",
       "  <thead>\n",
       "    <tr style=\"text-align: right;\">\n",
       "      <th></th>\n",
       "      <th>shop_id</th>\n",
       "      <th>item_id</th>\n",
       "      <th>item_price</th>\n",
       "      <th>item_cnt_day</th>\n",
       "    </tr>\n",
       "  </thead>\n",
       "  <tbody>\n",
       "    <tr>\n",
       "      <td>0</td>\n",
       "      <td>2</td>\n",
       "      <td>33</td>\n",
       "      <td>199.0</td>\n",
       "      <td>2.0</td>\n",
       "    </tr>\n",
       "    <tr>\n",
       "      <td>1</td>\n",
       "      <td>2</td>\n",
       "      <td>97</td>\n",
       "      <td>149.0</td>\n",
       "      <td>1.0</td>\n",
       "    </tr>\n",
       "    <tr>\n",
       "      <td>3</td>\n",
       "      <td>2</td>\n",
       "      <td>791</td>\n",
       "      <td>600.0</td>\n",
       "      <td>1.0</td>\n",
       "    </tr>\n",
       "    <tr>\n",
       "      <td>4</td>\n",
       "      <td>2</td>\n",
       "      <td>944</td>\n",
       "      <td>299.0</td>\n",
       "      <td>1.0</td>\n",
       "    </tr>\n",
       "    <tr>\n",
       "      <td>5</td>\n",
       "      <td>2</td>\n",
       "      <td>1382</td>\n",
       "      <td>28.0</td>\n",
       "      <td>1.0</td>\n",
       "    </tr>\n",
       "  </tbody>\n",
       "</table>\n",
       "</div>"
      ],
      "text/plain": [
       "   shop_id  item_id  item_price  item_cnt_day\n",
       "0        2       33       199.0           2.0\n",
       "1        2       97       149.0           1.0\n",
       "3        2      791       600.0           1.0\n",
       "4        2      944       299.0           1.0\n",
       "5        2     1382        28.0           1.0"
      ]
     },
     "execution_count": 7,
     "metadata": {},
     "output_type": "execute_result"
    }
   ],
   "source": [
    "#Item price have some outlier, so we need to remove it\n",
    "#Dropping the outlier rows with Percentiles\n",
    "upper_lim = df_new_1['item_price'].quantile(.95)\n",
    "data = df_new_1[(df_new_1['item_price'] < upper_lim)]\n",
    "data.head()"
   ]
  },
  {
   "cell_type": "code",
   "execution_count": 47,
   "metadata": {},
   "outputs": [
    {
     "data": {
      "text/html": [
       "<div>\n",
       "<style scoped>\n",
       "    .dataframe tbody tr th:only-of-type {\n",
       "        vertical-align: middle;\n",
       "    }\n",
       "\n",
       "    .dataframe tbody tr th {\n",
       "        vertical-align: top;\n",
       "    }\n",
       "\n",
       "    .dataframe thead th {\n",
       "        text-align: right;\n",
       "    }\n",
       "</style>\n",
       "<table border=\"1\" class=\"dataframe\">\n",
       "  <thead>\n",
       "    <tr style=\"text-align: right;\">\n",
       "      <th></th>\n",
       "      <th>shop_id</th>\n",
       "      <th>item_id</th>\n",
       "      <th>item_price</th>\n",
       "      <th>item_cnt_day</th>\n",
       "      <th>normalized_price</th>\n",
       "      <th>standardized_price</th>\n",
       "      <th>normalized_item_cnt</th>\n",
       "      <th>standardized_item_cnt</th>\n",
       "      <th>price_bin_round</th>\n",
       "    </tr>\n",
       "  </thead>\n",
       "  <tbody>\n",
       "    <tr>\n",
       "      <td>0</td>\n",
       "      <td>2</td>\n",
       "      <td>33</td>\n",
       "      <td>5.298317</td>\n",
       "      <td>1.098612</td>\n",
       "      <td>0.611548</td>\n",
       "      <td>-0.732508</td>\n",
       "      <td>0.06535</td>\n",
       "      <td>0.283451</td>\n",
       "      <td>0.0</td>\n",
       "    </tr>\n",
       "    <tr>\n",
       "      <td>1</td>\n",
       "      <td>2</td>\n",
       "      <td>97</td>\n",
       "      <td>5.010635</td>\n",
       "      <td>0.693147</td>\n",
       "      <td>0.566576</td>\n",
       "      <td>-1.075666</td>\n",
       "      <td>0.00000</td>\n",
       "      <td>-0.521905</td>\n",
       "      <td>0.0</td>\n",
       "    </tr>\n",
       "    <tr>\n",
       "      <td>3</td>\n",
       "      <td>2</td>\n",
       "      <td>791</td>\n",
       "      <td>6.398595</td>\n",
       "      <td>0.693147</td>\n",
       "      <td>0.783549</td>\n",
       "      <td>0.579944</td>\n",
       "      <td>0.00000</td>\n",
       "      <td>-0.521905</td>\n",
       "      <td>0.0</td>\n",
       "    </tr>\n",
       "    <tr>\n",
       "      <td>4</td>\n",
       "      <td>2</td>\n",
       "      <td>944</td>\n",
       "      <td>5.703782</td>\n",
       "      <td>0.693147</td>\n",
       "      <td>0.674932</td>\n",
       "      <td>-0.248854</td>\n",
       "      <td>0.00000</td>\n",
       "      <td>-0.521905</td>\n",
       "      <td>0.0</td>\n",
       "    </tr>\n",
       "    <tr>\n",
       "      <td>5</td>\n",
       "      <td>2</td>\n",
       "      <td>1382</td>\n",
       "      <td>3.367296</td>\n",
       "      <td>0.693147</td>\n",
       "      <td>0.309680</td>\n",
       "      <td>-3.035902</td>\n",
       "      <td>0.00000</td>\n",
       "      <td>-0.521905</td>\n",
       "      <td>0.0</td>\n",
       "    </tr>\n",
       "  </tbody>\n",
       "</table>\n",
       "</div>"
      ],
      "text/plain": [
       "   shop_id  item_id  item_price  item_cnt_day  normalized_price  \\\n",
       "0        2       33    5.298317      1.098612          0.611548   \n",
       "1        2       97    5.010635      0.693147          0.566576   \n",
       "3        2      791    6.398595      0.693147          0.783549   \n",
       "4        2      944    5.703782      0.693147          0.674932   \n",
       "5        2     1382    3.367296      0.693147          0.309680   \n",
       "\n",
       "   standardized_price  normalized_item_cnt  standardized_item_cnt  \\\n",
       "0           -0.732508              0.06535               0.283451   \n",
       "1           -1.075666              0.00000              -0.521905   \n",
       "3            0.579944              0.00000              -0.521905   \n",
       "4           -0.248854              0.00000              -0.521905   \n",
       "5           -3.035902              0.00000              -0.521905   \n",
       "\n",
       "   price_bin_round  \n",
       "0              0.0  \n",
       "1              0.0  \n",
       "3              0.0  \n",
       "4              0.0  \n",
       "5              0.0  "
      ]
     },
     "execution_count": 47,
     "metadata": {},
     "output_type": "execute_result"
    }
   ],
   "source": [
    "data.loc[:,'normalized_price'] = (data['item_price'] - data['item_price'].min()) / (data['item_price'].max() - data['item_price'].min())\n",
    "data.loc[:,'standardized_price'] = (data['item_price'] - data['item_price'].mean()) / data['item_price'].std()\n",
    "data.loc[:,'normalized_item_cnt'] = (data['item_cnt_day'] - data['item_cnt_day'].min()) / (data['item_cnt_day'].max() - data['item_cnt_day'].min())\n",
    "data.loc[:,'standardized_item_cnt'] = (data['item_cnt_day'] - data['item_cnt_day'].mean()) / data['item_cnt_day'].std()\n",
    "data.loc[:,'price_bin_round'] = np.array(np.floor(np.array(data['item_price']) / 100.))\n",
    "data.head()"
   ]
  },
  {
   "cell_type": "code",
   "execution_count": 9,
   "metadata": {},
   "outputs": [
    {
     "data": {
      "image/png": "[encoded data removed]",
      "text/plain": [
       "<Figure size 1080x360 with 1 Axes>"
      ]
     },
     "metadata": {
      "needs_background": "light"
     },
     "output_type": "display_data"
    }
   ],
   "source": [
    "#Checking again after remove\n",
    "x = data.item_price\n",
    "_ = plt.figure(figsize = (15,5))\n",
    "_ = plt.hist(x, bins = 30)"
   ]
  },
  {
   "cell_type": "code",
   "execution_count": 48,
   "metadata": {},
   "outputs": [
    {
     "data": {
      "text/html": [
       "<div>\n",
       "<style scoped>\n",
       "    .dataframe tbody tr th:only-of-type {\n",
       "        vertical-align: middle;\n",
       "    }\n",
       "\n",
       "    .dataframe tbody tr th {\n",
       "        vertical-align: top;\n",
       "    }\n",
       "\n",
       "    .dataframe thead th {\n",
       "        text-align: right;\n",
       "    }\n",
       "</style>\n",
       "<table border=\"1\" class=\"dataframe\">\n",
       "  <thead>\n",
       "    <tr style=\"text-align: right;\">\n",
       "      <th></th>\n",
       "      <th>shop_id</th>\n",
       "      <th>item_id</th>\n",
       "      <th>item_price</th>\n",
       "      <th>item_cnt_day</th>\n",
       "      <th>normalized_price</th>\n",
       "      <th>standardized_price</th>\n",
       "      <th>normalized_item_cnt</th>\n",
       "      <th>standardized_item_cnt</th>\n",
       "      <th>price_bin_round</th>\n",
       "    </tr>\n",
       "  </thead>\n",
       "  <tbody>\n",
       "    <tr>\n",
       "      <td>0</td>\n",
       "      <td>2</td>\n",
       "      <td>33</td>\n",
       "      <td>1.840283</td>\n",
       "      <td>0.741276</td>\n",
       "      <td>0.611548</td>\n",
       "      <td>-0.732508</td>\n",
       "      <td>0.06535</td>\n",
       "      <td>0.283451</td>\n",
       "      <td>0.0</td>\n",
       "    </tr>\n",
       "    <tr>\n",
       "      <td>1</td>\n",
       "      <td>2</td>\n",
       "      <td>97</td>\n",
       "      <td>1.793530</td>\n",
       "      <td>0.526589</td>\n",
       "      <td>0.566576</td>\n",
       "      <td>-1.075666</td>\n",
       "      <td>0.00000</td>\n",
       "      <td>-0.521905</td>\n",
       "      <td>0.0</td>\n",
       "    </tr>\n",
       "    <tr>\n",
       "      <td>3</td>\n",
       "      <td>2</td>\n",
       "      <td>791</td>\n",
       "      <td>2.001290</td>\n",
       "      <td>0.526589</td>\n",
       "      <td>0.783549</td>\n",
       "      <td>0.579944</td>\n",
       "      <td>0.00000</td>\n",
       "      <td>-0.521905</td>\n",
       "      <td>0.0</td>\n",
       "    </tr>\n",
       "    <tr>\n",
       "      <td>4</td>\n",
       "      <td>2</td>\n",
       "      <td>944</td>\n",
       "      <td>1.902672</td>\n",
       "      <td>0.526589</td>\n",
       "      <td>0.674932</td>\n",
       "      <td>-0.248854</td>\n",
       "      <td>0.00000</td>\n",
       "      <td>-0.521905</td>\n",
       "      <td>0.0</td>\n",
       "    </tr>\n",
       "    <tr>\n",
       "      <td>5</td>\n",
       "      <td>2</td>\n",
       "      <td>1382</td>\n",
       "      <td>1.474144</td>\n",
       "      <td>0.526589</td>\n",
       "      <td>0.309680</td>\n",
       "      <td>-3.035902</td>\n",
       "      <td>0.00000</td>\n",
       "      <td>-0.521905</td>\n",
       "      <td>0.0</td>\n",
       "    </tr>\n",
       "  </tbody>\n",
       "</table>\n",
       "</div>"
      ],
      "text/plain": [
       "   shop_id  item_id  item_price  item_cnt_day  normalized_price  \\\n",
       "0        2       33    1.840283      0.741276          0.611548   \n",
       "1        2       97    1.793530      0.526589          0.566576   \n",
       "3        2      791    2.001290      0.526589          0.783549   \n",
       "4        2      944    1.902672      0.526589          0.674932   \n",
       "5        2     1382    1.474144      0.526589          0.309680   \n",
       "\n",
       "   standardized_price  normalized_item_cnt  standardized_item_cnt  \\\n",
       "0           -0.732508              0.06535               0.283451   \n",
       "1           -1.075666              0.00000              -0.521905   \n",
       "3            0.579944              0.00000              -0.521905   \n",
       "4           -0.248854              0.00000              -0.521905   \n",
       "5           -3.035902              0.00000              -0.521905   \n",
       "\n",
       "   price_bin_round  \n",
       "0              0.0  \n",
       "1              0.0  \n",
       "3              0.0  \n",
       "4              0.0  \n",
       "5              0.0  "
      ]
     },
     "execution_count": 48,
     "metadata": {},
     "output_type": "execute_result"
    }
   ],
   "source": [
    "#Item price is skew to the right, so it effect to out prediction, \n",
    "#So we need use the np.log scale to scale the data \n",
    "data.loc[:,'item_price'] = np.log((1 + data.item_price))\n",
    "data.loc[:,'item_cnt_day'] = np.log((1+ data.item_cnt_day))\n",
    "data.head()"
   ]
  },
  {
   "cell_type": "code",
   "execution_count": 11,
   "metadata": {},
   "outputs": [
    {
     "data": {
      "image/png": "[encoded data removed]",
      "text/plain": [
       "<Figure size 1080x360 with 1 Axes>"
      ]
     },
     "metadata": {
      "needs_background": "light"
     },
     "output_type": "display_data"
    }
   ],
   "source": [
    "#Checking again after remove\n",
    "x = data.item_price\n",
    "_ = plt.figure(figsize = (15,5))\n",
    "_ = plt.hist(x, bins = 30)"
   ]
  },
  {
   "cell_type": "code",
   "execution_count": 12,
   "metadata": {},
   "outputs": [
    {
     "data": {
      "image/png": "[encoded data removed]",
      "text/plain": [
       "<Figure size 1080x360 with 1 Axes>"
      ]
     },
     "metadata": {
      "needs_background": "light"
     },
     "output_type": "display_data"
    }
   ],
   "source": [
    "x = data.item_cnt_day\n",
    "_ = plt.figure(figsize = (15,5))\n",
    "_ = plt.hist(x, bins = 30)"
   ]
  },
  {
   "cell_type": "code",
   "execution_count": 13,
   "metadata": {},
   "outputs": [
    {
     "data": {
      "text/html": [
       "<div>\n",
       "<style scoped>\n",
       "    .dataframe tbody tr th:only-of-type {\n",
       "        vertical-align: middle;\n",
       "    }\n",
       "\n",
       "    .dataframe tbody tr th {\n",
       "        vertical-align: top;\n",
       "    }\n",
       "\n",
       "    .dataframe thead th {\n",
       "        text-align: right;\n",
       "    }\n",
       "</style>\n",
       "<table border=\"1\" class=\"dataframe\">\n",
       "  <thead>\n",
       "    <tr style=\"text-align: right;\">\n",
       "      <th></th>\n",
       "      <th>shop_id</th>\n",
       "      <th>item_id</th>\n",
       "      <th>item_price</th>\n",
       "      <th>item_cnt_day</th>\n",
       "      <th>normalized_price</th>\n",
       "      <th>standardized_price</th>\n",
       "      <th>normalized_item_cnt</th>\n",
       "      <th>standardized_item_cnt</th>\n",
       "      <th>price_bin_round</th>\n",
       "    </tr>\n",
       "  </thead>\n",
       "  <tbody>\n",
       "    <tr>\n",
       "      <td>0</td>\n",
       "      <td>2</td>\n",
       "      <td>33</td>\n",
       "      <td>5.298317</td>\n",
       "      <td>1.098612</td>\n",
       "      <td>0.081804</td>\n",
       "      <td>-0.678323</td>\n",
       "      <td>0.001012</td>\n",
       "      <td>-0.038274</td>\n",
       "      <td>1.0</td>\n",
       "    </tr>\n",
       "    <tr>\n",
       "      <td>1</td>\n",
       "      <td>2</td>\n",
       "      <td>97</td>\n",
       "      <td>5.010635</td>\n",
       "      <td>0.693147</td>\n",
       "      <td>0.060935</td>\n",
       "      <td>-0.782276</td>\n",
       "      <td>0.000000</td>\n",
       "      <td>-0.140598</td>\n",
       "      <td>1.0</td>\n",
       "    </tr>\n",
       "    <tr>\n",
       "      <td>3</td>\n",
       "      <td>2</td>\n",
       "      <td>791</td>\n",
       "      <td>6.398595</td>\n",
       "      <td>0.693147</td>\n",
       "      <td>0.249167</td>\n",
       "      <td>0.155383</td>\n",
       "      <td>0.000000</td>\n",
       "      <td>-0.140598</td>\n",
       "      <td>6.0</td>\n",
       "    </tr>\n",
       "    <tr>\n",
       "      <td>4</td>\n",
       "      <td>2</td>\n",
       "      <td>944</td>\n",
       "      <td>5.703782</td>\n",
       "      <td>0.693147</td>\n",
       "      <td>0.123540</td>\n",
       "      <td>-0.470416</td>\n",
       "      <td>0.000000</td>\n",
       "      <td>-0.140598</td>\n",
       "      <td>2.0</td>\n",
       "    </tr>\n",
       "    <tr>\n",
       "      <td>5</td>\n",
       "      <td>2</td>\n",
       "      <td>1382</td>\n",
       "      <td>3.367296</td>\n",
       "      <td>0.693147</td>\n",
       "      <td>0.010434</td>\n",
       "      <td>-1.033843</td>\n",
       "      <td>0.000000</td>\n",
       "      <td>-0.140598</td>\n",
       "      <td>0.0</td>\n",
       "    </tr>\n",
       "  </tbody>\n",
       "</table>\n",
       "</div>"
      ],
      "text/plain": [
       "   shop_id  item_id  item_price  item_cnt_day  normalized_price  \\\n",
       "0        2       33    5.298317      1.098612          0.081804   \n",
       "1        2       97    5.010635      0.693147          0.060935   \n",
       "3        2      791    6.398595      0.693147          0.249167   \n",
       "4        2      944    5.703782      0.693147          0.123540   \n",
       "5        2     1382    3.367296      0.693147          0.010434   \n",
       "\n",
       "   standardized_price  normalized_item_cnt  standardized_item_cnt  \\\n",
       "0           -0.678323             0.001012              -0.038274   \n",
       "1           -0.782276             0.000000              -0.140598   \n",
       "3            0.155383             0.000000              -0.140598   \n",
       "4           -0.470416             0.000000              -0.140598   \n",
       "5           -1.033843             0.000000              -0.140598   \n",
       "\n",
       "   price_bin_round  \n",
       "0              1.0  \n",
       "1              1.0  \n",
       "3              6.0  \n",
       "4              2.0  \n",
       "5              0.0  "
      ]
     },
     "execution_count": 13,
     "metadata": {},
     "output_type": "execute_result"
    }
   ],
   "source": [
    "data.head()"
   ]
  },
  {
   "cell_type": "code",
   "execution_count": 15,
   "metadata": {},
   "outputs": [],
   "source": [
    "#Create new feature for test file\n",
    "temp = data[['item_id','item_price','standardized_price','normalized_price','standardized_item_cnt','normalized_item_cnt','price_bin_round']]\n",
    "df_test_1 = pd.merge(df_test, temp)\n"
   ]
  },
  {
   "cell_type": "code",
   "execution_count": 16,
   "metadata": {},
   "outputs": [
    {
     "data": {
      "text/html": [
       "<div>\n",
       "<style scoped>\n",
       "    .dataframe tbody tr th:only-of-type {\n",
       "        vertical-align: middle;\n",
       "    }\n",
       "\n",
       "    .dataframe tbody tr th {\n",
       "        vertical-align: top;\n",
       "    }\n",
       "\n",
       "    .dataframe thead th {\n",
       "        text-align: right;\n",
       "    }\n",
       "</style>\n",
       "<table border=\"1\" class=\"dataframe\">\n",
       "  <thead>\n",
       "    <tr style=\"text-align: right;\">\n",
       "      <th></th>\n",
       "      <th>shop_id</th>\n",
       "      <th>item_id</th>\n",
       "      <th>item_price</th>\n",
       "      <th>standardized_price</th>\n",
       "      <th>normalized_price</th>\n",
       "      <th>standardized_item_cnt</th>\n",
       "      <th>normalized_item_cnt</th>\n",
       "      <th>price_bin_round</th>\n",
       "    </tr>\n",
       "  </thead>\n",
       "  <tbody>\n",
       "    <tr>\n",
       "      <td>0</td>\n",
       "      <td>2</td>\n",
       "      <td>30</td>\n",
       "      <td>5.111849</td>\n",
       "      <td>-0.747329</td>\n",
       "      <td>0.067951</td>\n",
       "      <td>-0.038274</td>\n",
       "      <td>0.001012</td>\n",
       "      <td>0.956522</td>\n",
       "    </tr>\n",
       "    <tr>\n",
       "      <td>1</td>\n",
       "      <td>2</td>\n",
       "      <td>31</td>\n",
       "      <td>6.183005</td>\n",
       "      <td>-0.081541</td>\n",
       "      <td>0.201606</td>\n",
       "      <td>-0.080407</td>\n",
       "      <td>0.000595</td>\n",
       "      <td>3.941176</td>\n",
       "    </tr>\n",
       "    <tr>\n",
       "      <td>2</td>\n",
       "      <td>2</td>\n",
       "      <td>32</td>\n",
       "      <td>4.968141</td>\n",
       "      <td>-0.791891</td>\n",
       "      <td>0.059005</td>\n",
       "      <td>0.016087</td>\n",
       "      <td>0.001550</td>\n",
       "      <td>0.937500</td>\n",
       "    </tr>\n",
       "    <tr>\n",
       "      <td>3</td>\n",
       "      <td>2</td>\n",
       "      <td>33</td>\n",
       "      <td>5.269774</td>\n",
       "      <td>-0.688238</td>\n",
       "      <td>0.079813</td>\n",
       "      <td>-0.124856</td>\n",
       "      <td>0.000156</td>\n",
       "      <td>1.000000</td>\n",
       "    </tr>\n",
       "    <tr>\n",
       "      <td>4</td>\n",
       "      <td>2</td>\n",
       "      <td>42</td>\n",
       "      <td>5.521461</td>\n",
       "      <td>-0.574369</td>\n",
       "      <td>0.102672</td>\n",
       "      <td>-0.106490</td>\n",
       "      <td>0.000337</td>\n",
       "      <td>2.000000</td>\n",
       "    </tr>\n",
       "  </tbody>\n",
       "</table>\n",
       "</div>"
      ],
      "text/plain": [
       "   shop_id  item_id  item_price  standardized_price  normalized_price  \\\n",
       "0        2       30    5.111849           -0.747329          0.067951   \n",
       "1        2       31    6.183005           -0.081541          0.201606   \n",
       "2        2       32    4.968141           -0.791891          0.059005   \n",
       "3        2       33    5.269774           -0.688238          0.079813   \n",
       "4        2       42    5.521461           -0.574369          0.102672   \n",
       "\n",
       "   standardized_item_cnt  normalized_item_cnt  price_bin_round  \n",
       "0              -0.038274             0.001012         0.956522  \n",
       "1              -0.080407             0.000595         3.941176  \n",
       "2               0.016087             0.001550         0.937500  \n",
       "3              -0.124856             0.000156         1.000000  \n",
       "4              -0.106490             0.000337         2.000000  "
      ]
     },
     "execution_count": 16,
     "metadata": {},
     "output_type": "execute_result"
    }
   ],
   "source": [
    "df_test_2 = df_test_1.groupby(['shop_id','item_id'], as_index = False).mean()\n",
    "df_test_2.head()"
   ]
  },
  {
   "cell_type": "code",
   "execution_count": null,
   "metadata": {},
   "outputs": [],
   "source": []
  },
  {
   "cell_type": "markdown",
   "metadata": {},
   "source": [
    "## Create the Target 'y' and feature 'X' for models"
   ]
  },
  {
   "cell_type": "code",
   "execution_count": 17,
   "metadata": {},
   "outputs": [],
   "source": [
    "# Create Target y and feature X\n",
    "y = data['item_cnt_day']\n",
    "X = data.drop('item_cnt_day', axis = 1)"
   ]
  },
  {
   "cell_type": "code",
   "execution_count": 18,
   "metadata": {},
   "outputs": [],
   "source": [
    "#Split the data to traing set and test set\n",
    "from sklearn.model_selection import train_test_split\n",
    "Xtrain, Xtest, ytrain, ytest = train_test_split(X, y, test_size = 0.4, random_state = 42)"
   ]
  },
  {
   "cell_type": "markdown",
   "metadata": {},
   "source": [
    "## K-NN Regression model"
   ]
  },
  {
   "cell_type": "code",
   "execution_count": 19,
   "metadata": {},
   "outputs": [],
   "source": [
    "#Import sklearn for model\n",
    "from sklearn.neighbors import KNeighborsRegressor\n",
    "from sklearn.model_selection import train_test_split"
   ]
  },
  {
   "cell_type": "code",
   "execution_count": 20,
   "metadata": {},
   "outputs": [
    {
     "data": {
      "text/plain": [
       "({'n_neighbors': 6}, 0.3788896798453704)"
      ]
     },
     "execution_count": 20,
     "metadata": {},
     "output_type": "execute_result"
    }
   ],
   "source": [
    "###Hyperparameter tunning ###\n",
    "######### FIND BEST n_neighbors ###############\n",
    "from sklearn.model_selection import GridSearchCV\n",
    "param_grid = {'n_neighbors': np.arange(1,50)}\n",
    "knn = KNeighborsRegressor()\n",
    "knn_cv = GridSearchCV(knn, param_grid, cv = 5)\n",
    "knn_cv.fit(Xtrain,ytrain)\n",
    "knn_cv.best_params_ , knn_cv.best_score_"
   ]
  },
  {
   "cell_type": "code",
   "execution_count": 21,
   "metadata": {},
   "outputs": [],
   "source": [
    "#Predict the labels of the test data\n",
    "y_pred = knn_cv.predict(Xtest)"
   ]
  },
  {
   "cell_type": "code",
   "execution_count": 22,
   "metadata": {},
   "outputs": [],
   "source": [
    "#Checking score test and predict\n",
    "test_accuray = knn_cv.score(Xtest, ytest)\n",
    "train_accuray = knn_cv.score(Xtrain, ytrain)\n",
    "rmse = np.sqrt(mean_squared_error(ytest, y_pred))"
   ]
  },
  {
   "cell_type": "code",
   "execution_count": 23,
   "metadata": {},
   "outputs": [
    {
     "name": "stdout",
     "output_type": "stream",
     "text": [
      "R^2 of model:  0.4247261114432685\n",
      "RMSE of model:  0.3856633060514611\n"
     ]
    }
   ],
   "source": [
    "print('R^2 of model: ',test_accuray)\n",
    "print('RMSE of model: ', rmse)"
   ]
  },
  {
   "cell_type": "code",
   "execution_count": 24,
   "metadata": {},
   "outputs": [
    {
     "data": {
      "text/plain": [
       "0.5915437815830248"
      ]
     },
     "execution_count": 24,
     "metadata": {},
     "output_type": "execute_result"
    }
   ],
   "source": [
    "train_accuray"
   ]
  },
  {
   "cell_type": "markdown",
   "metadata": {},
   "source": [
    "#### Importance feature"
   ]
  },
  {
   "cell_type": "code",
   "execution_count": 25,
   "metadata": {},
   "outputs": [
    {
     "data": {
      "text/plain": [
       "array([ 0., -0.,  0.,  0.,  0.,  0.,  0.,  0.])"
      ]
     },
     "execution_count": 25,
     "metadata": {},
     "output_type": "execute_result"
    }
   ],
   "source": [
    "from sklearn.linear_model import Lasso\n",
    "lasso = Lasso(alpha = 0.4, normalize= True)\n",
    "lasso.fit(X,y)\n",
    "lasso.coef_"
   ]
  },
  {
   "cell_type": "markdown",
   "metadata": {},
   "source": [
    "# Random forest modeling"
   ]
  },
  {
   "cell_type": "code",
   "execution_count": 26,
   "metadata": {},
   "outputs": [],
   "source": [
    "from sklearn.ensemble import RandomForestRegressor\n",
    "from sklearn.metrics import mean_squared_error"
   ]
  },
  {
   "cell_type": "code",
   "execution_count": 27,
   "metadata": {},
   "outputs": [],
   "source": [
    "#Instantiate the model\n",
    "rf = RandomForestRegressor()"
   ]
  },
  {
   "cell_type": "code",
   "execution_count": 28,
   "metadata": {},
   "outputs": [],
   "source": [
    "####Hyperparameter tunning ###\n",
    "###CHoice BEST PARAMETER ##\n",
    "\n",
    "# Number of trees in random forest\n",
    "n_estimators = [int(x) for x in np.linspace(start = 10, stop = 20, num = 5)]\n",
    "# Number of features to consider at every split\n",
    "max_features = ['auto', 'sqrt']\n",
    "# Maximum number of levels in tree\n",
    "max_depth = [int(x) for x in np.linspace(10, 110, num = 5)]\n",
    "max_depth.append(None)\n",
    "# Minimum number of samples required to split a node\n",
    "min_samples_split = [2, 5, 10]\n",
    "# Minimum number of samples required at each leaf node\n",
    "min_samples_leaf = [1, 2, 4]\n",
    "# Method of selecting samples for training each tree\n",
    "bootstrap = [True, False]\n",
    "# Create the random grid\n",
    "random_grid = {'n_estimators': n_estimators,\n",
    "               'max_features': max_features,\n",
    "               'max_depth': max_depth,\n",
    "               'min_samples_split': min_samples_split,\n",
    "               'min_samples_leaf': min_samples_leaf,\n",
    "               'bootstrap': bootstrap}\n"
   ]
  },
  {
   "cell_type": "code",
   "execution_count": 29,
   "metadata": {},
   "outputs": [],
   "source": [
    "#Instantiate the tunning parameter using RandomizeSearchCV\n",
    "rf_cv = RandomizedSearchCV(rf, random_grid, cv = 5, random_state=42)"
   ]
  },
  {
   "cell_type": "code",
   "execution_count": 30,
   "metadata": {},
   "outputs": [
    {
     "data": {
      "text/plain": [
       "RandomizedSearchCV(cv=5, error_score=nan,\n",
       "                   estimator=RandomForestRegressor(bootstrap=True,\n",
       "                                                   ccp_alpha=0.0,\n",
       "                                                   criterion='mse',\n",
       "                                                   max_depth=None,\n",
       "                                                   max_features='auto',\n",
       "                                                   max_leaf_nodes=None,\n",
       "                                                   max_samples=None,\n",
       "                                                   min_impurity_decrease=0.0,\n",
       "                                                   min_impurity_split=None,\n",
       "                                                   min_samples_leaf=1,\n",
       "                                                   min_samples_split=2,\n",
       "                                                   min_weight_fraction_leaf=0.0,\n",
       "                                                   n_estimators=100,\n",
       "                                                   n_jobs=None, oob_score=Fals...\n",
       "                                                   warm_start=False),\n",
       "                   iid='deprecated', n_iter=10, n_jobs=None,\n",
       "                   param_distributions={'bootstrap': [True, False],\n",
       "                                        'max_depth': [10, 35, 60, 85, 110,\n",
       "                                                      None],\n",
       "                                        'max_features': ['auto', 'sqrt'],\n",
       "                                        'min_samples_leaf': [1, 2, 4],\n",
       "                                        'min_samples_split': [2, 5, 10],\n",
       "                                        'n_estimators': [10, 12, 15, 17, 20]},\n",
       "                   pre_dispatch='2*n_jobs', random_state=42, refit=True,\n",
       "                   return_train_score=False, scoring=None, verbose=0)"
      ]
     },
     "execution_count": 30,
     "metadata": {},
     "output_type": "execute_result"
    }
   ],
   "source": [
    "rf_cv.fit(Xtrain, ytrain)"
   ]
  },
  {
   "cell_type": "code",
   "execution_count": 31,
   "metadata": {},
   "outputs": [
    {
     "data": {
      "text/plain": [
       "({'n_estimators': 12,\n",
       "  'min_samples_split': 2,\n",
       "  'min_samples_leaf': 2,\n",
       "  'max_features': 'auto',\n",
       "  'max_depth': None,\n",
       "  'bootstrap': True},\n",
       " 0.9997054751876748)"
      ]
     },
     "execution_count": 31,
     "metadata": {},
     "output_type": "execute_result"
    }
   ],
   "source": [
    "#Get the best parameter and best score\n",
    "rf_cv.best_params_, rf_cv.best_score_"
   ]
  },
  {
   "cell_type": "code",
   "execution_count": 32,
   "metadata": {},
   "outputs": [],
   "source": [
    "#Predict the data\n",
    "y_pred_rf = rf_cv.predict(Xtest)"
   ]
  },
  {
   "cell_type": "code",
   "execution_count": 33,
   "metadata": {},
   "outputs": [],
   "source": [
    "#Get the R^2 and RMSE\n",
    "test_accuary_rf = rf_cv.score(Xtest, ytest)\n",
    "train_accuary_rf = rf_cv.score(Xtrain, ytrain)\n",
    "rmse_rf = np.sqrt(mean_squared_error(ytest, y_pred_rf))\n"
   ]
  },
  {
   "cell_type": "code",
   "execution_count": 34,
   "metadata": {},
   "outputs": [
    {
     "name": "stdout",
     "output_type": "stream",
     "text": [
      "R^2 of model:  0.9999798741100231\n",
      "RMSE of model:  0.0022811221203577034\n"
     ]
    }
   ],
   "source": [
    "print('R^2 of model: ',test_accuary_rf)\n",
    "print('RMSE of model: ', rmse_rf)"
   ]
  },
  {
   "cell_type": "code",
   "execution_count": 35,
   "metadata": {},
   "outputs": [
    {
     "data": {
      "text/plain": [
       "0.9999548268572847"
      ]
     },
     "execution_count": 35,
     "metadata": {},
     "output_type": "execute_result"
    }
   ],
   "source": [
    "train_accuary_rf"
   ]
  },
  {
   "cell_type": "markdown",
   "metadata": {},
   "source": [
    "## Try predict our test.csv file was provide "
   ]
  },
  {
   "cell_type": "code",
   "execution_count": 36,
   "metadata": {},
   "outputs": [],
   "source": [
    "#Create the array of predict the item_cnt in test file\n",
    "new_predict = df_test_2.values\n",
    "#Use model to predict\n",
    "y_new_predict = rf_cv.predict(new_predict)\n",
    "e = 2.71828\n",
    "y_new_predict_item_cnt = e**y_new_predict\n"
   ]
  },
  {
   "cell_type": "code",
   "execution_count": 45,
   "metadata": {},
   "outputs": [
    {
     "data": {
      "text/html": [
       "<div>\n",
       "<style scoped>\n",
       "    .dataframe tbody tr th:only-of-type {\n",
       "        vertical-align: middle;\n",
       "    }\n",
       "\n",
       "    .dataframe tbody tr th {\n",
       "        vertical-align: top;\n",
       "    }\n",
       "\n",
       "    .dataframe thead th {\n",
       "        text-align: right;\n",
       "    }\n",
       "</style>\n",
       "<table border=\"1\" class=\"dataframe\">\n",
       "  <thead>\n",
       "    <tr style=\"text-align: right;\">\n",
       "      <th></th>\n",
       "      <th>shop_id</th>\n",
       "      <th>item_id</th>\n",
       "      <th>item_price</th>\n",
       "      <th>item_cnt_day</th>\n",
       "    </tr>\n",
       "  </thead>\n",
       "  <tbody>\n",
       "    <tr>\n",
       "      <td>0</td>\n",
       "      <td>2</td>\n",
       "      <td>30</td>\n",
       "      <td>166.0</td>\n",
       "      <td>1.0</td>\n",
       "    </tr>\n",
       "    <tr>\n",
       "      <td>1</td>\n",
       "      <td>2</td>\n",
       "      <td>31</td>\n",
       "      <td>484.0</td>\n",
       "      <td>1.0</td>\n",
       "    </tr>\n",
       "    <tr>\n",
       "      <td>2</td>\n",
       "      <td>2</td>\n",
       "      <td>32</td>\n",
       "      <td>144.0</td>\n",
       "      <td>2.0</td>\n",
       "    </tr>\n",
       "    <tr>\n",
       "      <td>3</td>\n",
       "      <td>2</td>\n",
       "      <td>33</td>\n",
       "      <td>194.0</td>\n",
       "      <td>1.0</td>\n",
       "    </tr>\n",
       "    <tr>\n",
       "      <td>4</td>\n",
       "      <td>2</td>\n",
       "      <td>42</td>\n",
       "      <td>250.0</td>\n",
       "      <td>1.0</td>\n",
       "    </tr>\n",
       "  </tbody>\n",
       "</table>\n",
       "</div>"
      ],
      "text/plain": [
       "   shop_id  item_id  item_price  item_cnt_day\n",
       "0        2       30       166.0           1.0\n",
       "1        2       31       484.0           1.0\n",
       "2        2       32       144.0           2.0\n",
       "3        2       33       194.0           1.0\n",
       "4        2       42       250.0           1.0"
      ]
     },
     "execution_count": 45,
     "metadata": {},
     "output_type": "execute_result"
    }
   ],
   "source": [
    "solution = df_test_2\n",
    "solution['item_cnt_day'] = np.round(y_new_predict,0)\n",
    "solution_1=solution.drop(['standardized_price','normalized_price','standardized_item_cnt','normalized_item_cnt','price_bin_round'], axis = 1)\n",
    "solution_1['item_price'] =np.round(e ** solution_1.item_price,0)\n",
    "solution_1.head()\n"
   ]
  },
  {
   "cell_type": "markdown",
   "metadata": {},
   "source": [
    "# DecisionTreeRegressor Model"
   ]
  },
  {
   "cell_type": "code",
   "execution_count": 38,
   "metadata": {},
   "outputs": [],
   "source": [
    "from sklearn.tree import DecisionTreeRegressor\n",
    "from scipy.stats import randint\n",
    "from sklearn.model_selection import RandomizedSearchCV"
   ]
  },
  {
   "cell_type": "code",
   "execution_count": 39,
   "metadata": {},
   "outputs": [
    {
     "data": {
      "text/plain": [
       "DecisionTreeRegressor(ccp_alpha=0.0, criterion='mse', max_depth=None,\n",
       "                      max_features=None, max_leaf_nodes=None,\n",
       "                      min_impurity_decrease=0.0, min_impurity_split=None,\n",
       "                      min_samples_leaf=1, min_samples_split=2,\n",
       "                      min_weight_fraction_leaf=0.0, presort='deprecated',\n",
       "                      random_state=None, splitter='best')"
      ]
     },
     "execution_count": 39,
     "metadata": {},
     "output_type": "execute_result"
    }
   ],
   "source": [
    "#Instantiate the model\n",
    "tree = DecisionTreeRegressor()\n",
    "#Fit the data\n",
    "tree.fit(Xtrain,ytrain)"
   ]
  },
  {
   "cell_type": "code",
   "execution_count": 40,
   "metadata": {},
   "outputs": [],
   "source": [
    "#Predict \n",
    "y_pred_tree = tree.predict(Xtest)"
   ]
  },
  {
   "cell_type": "code",
   "execution_count": 41,
   "metadata": {},
   "outputs": [],
   "source": [
    "test_accuary_tree = tree.score(Xtest, ytest)\n",
    "train_accuary_tree = tree.score(Xtrain, ytrain)\n",
    "rmse_tree = np.sqrt(mean_squared_error(ytest, y_pred_tree))"
   ]
  },
  {
   "cell_type": "code",
   "execution_count": 42,
   "metadata": {},
   "outputs": [
    {
     "name": "stdout",
     "output_type": "stream",
     "text": [
      "R^2 of model:  0.9999618621459923\n",
      "RMSE of model:  0.0031401407500098993\n"
     ]
    }
   ],
   "source": [
    "print('R^2 of model: ',test_accuary_tree)\n",
    "print('RMSE of model: ', rmse_tree)"
   ]
  },
  {
   "cell_type": "code",
   "execution_count": 49,
   "metadata": {},
   "outputs": [
    {
     "data": {
      "text/plain": [
       "1.0"
      ]
     },
     "execution_count": 49,
     "metadata": {},
     "output_type": "execute_result"
    }
   ],
   "source": [
    "train_accuary_tree"
   ]
  },
  {
   "cell_type": "markdown",
   "metadata": {},
   "source": [
    "# Solution"
   ]
  },
  {
   "cell_type": "markdown",
   "metadata": {},
   "source": [
    "- Used feature engieering, to add more feature for modeling\n",
    "- Data have alot items was only 1 per day, so I used log transform to have better data\n",
    "- Also price is same, it crewed so I also use log trandform.\n",
    "- standardided and normilized both item_cnt_data and item_price\n",
    "\n",
    "- Overrall, that show random forest regression model have better R^2 score and RMSE score\n",
    "- We choice the random forest for our problem here."
   ]
  },
  {
   "cell_type": "code",
   "execution_count": null,
   "metadata": {},
   "outputs": [],
   "source": []
  }
 ],
 "metadata": {
  "kernelspec": {
   "display_name": "Python 3",
   "language": "python",
   "name": "python3"
  }
 },
 "nbformat": 4,
 "nbformat_minor": 2
}
