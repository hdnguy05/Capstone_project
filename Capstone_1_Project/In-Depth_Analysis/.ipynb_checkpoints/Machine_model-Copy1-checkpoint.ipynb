{
 "cells": [
  {
   "cell_type": "markdown",
   "metadata": {},
   "source": [
    "# In-Depth Analysis: Machine Learning Models"
   ]
  },
  {
   "cell_type": "markdown",
   "metadata": {},
   "source": [
    "## Import python libarary"
   ]
  },
  {
   "cell_type": "code",
   "execution_count": 1,
   "metadata": {},
   "outputs": [],
   "source": [
    "import numpy as np\n",
    "import pandas as pd\n",
    "import matplotlib.pyplot as plt\n",
    "from sklearn.metrics import mean_squared_error\n",
    "from scipy.stats import randint\n",
    "from sklearn.model_selection import RandomizedSearchCV\n",
    "from itertools import product\n",
    "from sklearn.metrics import r2_score"
   ]
  },
  {
   "cell_type": "markdown",
   "metadata": {},
   "source": [
    "## Loading the data"
   ]
  },
  {
   "cell_type": "code",
   "execution_count": 2,
   "metadata": {},
   "outputs": [],
   "source": [
    "df_train_1 = pd.read_csv('data/sales_train.csv')\n",
    "df_test = pd.read_csv('data/test.csv', index_col = 'ID')\n",
    "df_item_1 = pd.read_csv('data/items.csv')"
   ]
  },
  {
   "cell_type": "code",
   "execution_count": 3,
   "metadata": {},
   "outputs": [],
   "source": [
    "df_train_2 = df_train_1[((df_train_1.item_cnt_day > 0 ) & (df_train_1.item_cnt_day < 1000))]\n",
    "df_train_2 = df_train_2[df_train_2.item_price > 0]"
   ]
  },
  {
   "cell_type": "code",
   "execution_count": 4,
   "metadata": {},
   "outputs": [],
   "source": [
    "df_train = pd.merge(df_train_2, df_item_1, how = 'left')\n",
    "df_train = df_train.drop('item_name', axis = 1)"
   ]
  },
  {
   "cell_type": "markdown",
   "metadata": {},
   "source": [
    "## Prepare the Data for Modeling"
   ]
  },
  {
   "cell_type": "code",
   "execution_count": 5,
   "metadata": {},
   "outputs": [],
   "source": [
    "#Creating the data frame from the sale_traing file\n",
    "#Groupby the  shop_id and item_id, date_block_num\n",
    "temp_data = df_train.groupby(['shop_id','item_id']).agg({'item_cnt_day':'sum'})\n",
    "temp_data = temp_data.reset_index()\n",
    "temp_data['train_or_test'] = 1 #set as train set\n"
   ]
  },
  {
   "cell_type": "code",
   "execution_count": 6,
   "metadata": {},
   "outputs": [],
   "source": [
    "temp_cat = df_train.groupby(['shop_id','item_id','item_category_id']).sum().reset_index()\n",
    "temp_cat = temp_cat[['shop_id','item_id','item_category_id']]"
   ]
  },
  {
   "cell_type": "code",
   "execution_count": 7,
   "metadata": {},
   "outputs": [],
   "source": [
    "df_test = pd.merge(df_test, temp_cat, how = 'left', on = ['shop_id','item_id'])\n",
    "df_test.fillna(0, inplace = True)"
   ]
  },
  {
   "cell_type": "code",
   "execution_count": 8,
   "metadata": {},
   "outputs": [],
   "source": [
    "#Merge Category_id to data frame\n",
    "temp_data = pd.merge(temp_data, temp_cat, how = 'left', on = ['shop_id', 'item_id'])"
   ]
  },
  {
   "cell_type": "code",
   "execution_count": null,
   "metadata": {},
   "outputs": [],
   "source": [
    "#Remove the item_id of test set in training set\n",
    "#test_item_id = df_test.item_id.unique()\n",
    "#temp_data = temp_data[~temp_data['item_id'].isin(test_item_id)]"
   ]
  },
  {
   "cell_type": "code",
   "execution_count": 9,
   "metadata": {},
   "outputs": [
    {
     "name": "stdout",
     "output_type": "stream",
     "text": [
      "4737\n"
     ]
    }
   ],
   "source": [
    "#### Double checking if the item_id in test set still in train set \n",
    "x = temp_data.item_id.unique()\n",
    "y = df_test.item_id.unique()\n",
    "count = 0\n",
    "for i in x:\n",
    "    if i in y:\n",
    "        count += 1\n",
    "print(count)"
   ]
  },
  {
   "cell_type": "code",
   "execution_count": 10,
   "metadata": {},
   "outputs": [],
   "source": [
    "#Create the date block number for df_test = 34\n",
    "#df_test['date_block_num'] = 34\n",
    "df_test['train_or_test'] = 0 #set as a test set\n",
    "df_test['item_cnt_day'] = 0\n",
    "#Then add the data to the df_temp_1\n",
    "df_train_test = pd.concat([temp_data, df_test], ignore_index= True, sort = False, keys = ['shop_id','item_id'])"
   ]
  },
  {
   "cell_type": "code",
   "execution_count": 11,
   "metadata": {},
   "outputs": [],
   "source": [
    "df_train_test = df_train_test[['train_or_test','shop_id','item_id','item_category_id','item_cnt_day']]"
   ]
  },
  {
   "cell_type": "markdown",
   "metadata": {},
   "source": [
    "# Creating the feature for modeling"
   ]
  },
  {
   "cell_type": "code",
   "execution_count": 12,
   "metadata": {},
   "outputs": [],
   "source": [
    "#Creating the average of item_cnt_day for shop_id and date_block_num\n",
    "temp = df_train.groupby(['shop_id']).agg({'item_cnt_day':['mean']})\n",
    "temp.columns = ['shop_avg_item_cnt']\n",
    "temp = temp.reset_index()\n",
    "#Merge the feature above to the data\n",
    "df_train_test = pd.merge(df_train_test, temp, how = 'left', on = ['shop_id'])"
   ]
  },
  {
   "cell_type": "code",
   "execution_count": 13,
   "metadata": {},
   "outputs": [],
   "source": [
    "#Creating the average of item_cnt_day for date_block_num\n",
    "temp = df_train.groupby(['item_id']).agg({'item_cnt_day':['mean']})\n",
    "temp.columns = ['avg_item_cnt']\n",
    "temp = temp.reset_index()\n",
    "#Merge the feature above to the data\n",
    "df_train_test = pd.merge(df_train_test, temp, how = 'left', on = 'item_id')"
   ]
  },
  {
   "cell_type": "code",
   "execution_count": 14,
   "metadata": {},
   "outputs": [],
   "source": [
    "#Creating the average of item_cnt_day for date_block_num\n",
    "temp = df_train.groupby(['item_category_id']).agg({'item_cnt_day':['mean']})\n",
    "temp.columns = ['avg_item_cnt_each_cat']\n",
    "temp = temp.reset_index()\n",
    "#Merge the feature above to the data\n",
    "df_train_test = pd.merge(df_train_test, temp, how = 'left', on = 'item_category_id')"
   ]
  },
  {
   "cell_type": "code",
   "execution_count": 15,
   "metadata": {},
   "outputs": [],
   "source": [
    "#Creating the average of item_cnt_day for date_block_num, category_id\n",
    "\n",
    "temp = df_train.groupby(['shop_id', 'item_category_id']).agg({'item_cnt_day':['mean']})\n",
    "temp.columns = ['shop_cat_avg_item_cnt']\n",
    "temp = temp.reset_index()\n",
    "#Merge the feature above to the data\n",
    "df_train_test = pd.merge(df_train_test, temp, how = 'left', on = ['shop_id','item_category_id'])"
   ]
  },
  {
   "cell_type": "code",
   "execution_count": null,
   "metadata": {},
   "outputs": [],
   "source": []
  },
  {
   "cell_type": "code",
   "execution_count": 16,
   "metadata": {},
   "outputs": [],
   "source": [
    "#Create the average price for each item by each shop_id and item_id\n",
    "temp_data_1 = df_train.groupby(['shop_id']).agg({'item_price':['mean']})\n",
    "temp_data_1.columns = ['avg_price_ofshop']\n",
    "temp_data_1 = temp_data_1.reset_index()\n",
    "\n",
    "df_train_test = pd.merge(df_train_test, temp_data_1, how = 'left', on = ['shop_id'])"
   ]
  },
  {
   "cell_type": "code",
   "execution_count": 17,
   "metadata": {},
   "outputs": [],
   "source": [
    "#Create the average price for each item by each shop_id and item_id\n",
    "temp_data_1 = df_train.groupby(['shop_id','item_id']).agg({'item_price':['mean']})\n",
    "temp_data_1.columns = ['avg_price_each_item_ofshop']\n",
    "temp_data_1 = temp_data_1.reset_index()\n",
    "\n",
    "df_train_test = pd.merge(df_train_test, temp_data_1, how = 'left', on = ['shop_id','item_id'])\n"
   ]
  },
  {
   "cell_type": "code",
   "execution_count": 18,
   "metadata": {},
   "outputs": [],
   "source": [
    "#Create the average price for each item by each shop_id and item_id\n",
    "temp_data_1 = df_train.groupby(['shop_id','item_category_id','item_id']).agg({'item_price':['mean']})\n",
    "temp_data_1.columns = ['avg_price_each_item_cat_ofshop']\n",
    "temp_data_1 = temp_data_1.reset_index()\n",
    "\n",
    "df_train_test = pd.merge(df_train_test, temp_data_1, how = 'left', on = ['shop_id','item_category_id','item_id'])\n"
   ]
  },
  {
   "cell_type": "code",
   "execution_count": 19,
   "metadata": {},
   "outputs": [],
   "source": [
    "#Create the average price for each item by each shop_id and item_id\n",
    "temp_data_1 = df_train.groupby(['item_id']).agg({'item_price':['min','max','mean']})\n",
    "temp_data_1.columns = ['min_price_each_item','max_price_each_item', 'mean_price_each_item']\n",
    "temp_data_1 = temp_data_1.reset_index()\n",
    "\n",
    "df_train_test = pd.merge(df_train_test, temp_data_1, how = 'left', on = ['item_id'])"
   ]
  },
  {
   "cell_type": "code",
   "execution_count": 20,
   "metadata": {},
   "outputs": [
    {
     "data": {
      "text/html": [
       "<div>\n",
       "<style scoped>\n",
       "    .dataframe tbody tr th:only-of-type {\n",
       "        vertical-align: middle;\n",
       "    }\n",
       "\n",
       "    .dataframe tbody tr th {\n",
       "        vertical-align: top;\n",
       "    }\n",
       "\n",
       "    .dataframe thead th {\n",
       "        text-align: right;\n",
       "    }\n",
       "</style>\n",
       "<table border=\"1\" class=\"dataframe\">\n",
       "  <thead>\n",
       "    <tr style=\"text-align: right;\">\n",
       "      <th></th>\n",
       "      <th>train_or_test</th>\n",
       "      <th>shop_id</th>\n",
       "      <th>item_id</th>\n",
       "      <th>item_category_id</th>\n",
       "      <th>item_cnt_day</th>\n",
       "      <th>shop_avg_item_cnt</th>\n",
       "      <th>avg_item_cnt</th>\n",
       "      <th>avg_item_cnt_each_cat</th>\n",
       "      <th>shop_cat_avg_item_cnt</th>\n",
       "      <th>avg_price_ofshop</th>\n",
       "      <th>avg_price_each_item_ofshop</th>\n",
       "      <th>avg_price_each_item_cat_ofshop</th>\n",
       "      <th>min_price_each_item</th>\n",
       "      <th>max_price_each_item</th>\n",
       "      <th>mean_price_each_item</th>\n",
       "    </tr>\n",
       "  </thead>\n",
       "  <tbody>\n",
       "    <tr>\n",
       "      <td>0</td>\n",
       "      <td>1</td>\n",
       "      <td>0</td>\n",
       "      <td>30</td>\n",
       "      <td>40.0</td>\n",
       "      <td>31.0</td>\n",
       "      <td>1.187481</td>\n",
       "      <td>1.512301</td>\n",
       "      <td>1.125806</td>\n",
       "      <td>1.248923</td>\n",
       "      <td>563.444151</td>\n",
       "      <td>265.0</td>\n",
       "      <td>265.0</td>\n",
       "      <td>99.00</td>\n",
       "      <td>399.0</td>\n",
       "      <td>323.624704</td>\n",
       "    </tr>\n",
       "    <tr>\n",
       "      <td>1</td>\n",
       "      <td>1</td>\n",
       "      <td>0</td>\n",
       "      <td>31</td>\n",
       "      <td>37.0</td>\n",
       "      <td>11.0</td>\n",
       "      <td>1.187481</td>\n",
       "      <td>1.303167</td>\n",
       "      <td>1.063038</td>\n",
       "      <td>1.071181</td>\n",
       "      <td>563.444151</td>\n",
       "      <td>434.0</td>\n",
       "      <td>434.0</td>\n",
       "      <td>147.62</td>\n",
       "      <td>699.0</td>\n",
       "      <td>578.707941</td>\n",
       "    </tr>\n",
       "    <tr>\n",
       "      <td>2</td>\n",
       "      <td>1</td>\n",
       "      <td>0</td>\n",
       "      <td>32</td>\n",
       "      <td>40.0</td>\n",
       "      <td>16.0</td>\n",
       "      <td>1.187481</td>\n",
       "      <td>1.112646</td>\n",
       "      <td>1.125806</td>\n",
       "      <td>1.248923</td>\n",
       "      <td>563.444151</td>\n",
       "      <td>221.0</td>\n",
       "      <td>221.0</td>\n",
       "      <td>70.62</td>\n",
       "      <td>349.0</td>\n",
       "      <td>249.736179</td>\n",
       "    </tr>\n",
       "  </tbody>\n",
       "</table>\n",
       "</div>"
      ],
      "text/plain": [
       "   train_or_test  shop_id  item_id  item_category_id  item_cnt_day  \\\n",
       "0              1        0       30              40.0          31.0   \n",
       "1              1        0       31              37.0          11.0   \n",
       "2              1        0       32              40.0          16.0   \n",
       "\n",
       "   shop_avg_item_cnt  avg_item_cnt  avg_item_cnt_each_cat  \\\n",
       "0           1.187481      1.512301               1.125806   \n",
       "1           1.187481      1.303167               1.063038   \n",
       "2           1.187481      1.112646               1.125806   \n",
       "\n",
       "   shop_cat_avg_item_cnt  avg_price_ofshop  avg_price_each_item_ofshop  \\\n",
       "0               1.248923        563.444151                       265.0   \n",
       "1               1.071181        563.444151                       434.0   \n",
       "2               1.248923        563.444151                       221.0   \n",
       "\n",
       "   avg_price_each_item_cat_ofshop  min_price_each_item  max_price_each_item  \\\n",
       "0                           265.0                99.00                399.0   \n",
       "1                           434.0               147.62                699.0   \n",
       "2                           221.0                70.62                349.0   \n",
       "\n",
       "   mean_price_each_item  \n",
       "0            323.624704  \n",
       "1            578.707941  \n",
       "2            249.736179  "
      ]
     },
     "execution_count": 20,
     "metadata": {},
     "output_type": "execute_result"
    }
   ],
   "source": [
    "df_train_test.head(3)"
   ]
  },
  {
   "cell_type": "code",
   "execution_count": 21,
   "metadata": {},
   "outputs": [
    {
     "data": {
      "text/html": [
       "<div>\n",
       "<style scoped>\n",
       "    .dataframe tbody tr th:only-of-type {\n",
       "        vertical-align: middle;\n",
       "    }\n",
       "\n",
       "    .dataframe tbody tr th {\n",
       "        vertical-align: top;\n",
       "    }\n",
       "\n",
       "    .dataframe thead th {\n",
       "        text-align: right;\n",
       "    }\n",
       "</style>\n",
       "<table border=\"1\" class=\"dataframe\">\n",
       "  <thead>\n",
       "    <tr style=\"text-align: right;\">\n",
       "      <th></th>\n",
       "      <th>count</th>\n",
       "      <th>mean</th>\n",
       "      <th>std</th>\n",
       "      <th>min</th>\n",
       "      <th>25%</th>\n",
       "      <th>50%</th>\n",
       "      <th>75%</th>\n",
       "      <th>max</th>\n",
       "    </tr>\n",
       "  </thead>\n",
       "  <tbody>\n",
       "    <tr>\n",
       "      <td>train_or_test</td>\n",
       "      <td>638298.0</td>\n",
       "      <td>0.664420</td>\n",
       "      <td>0.472193</td>\n",
       "      <td>0.000000</td>\n",
       "      <td>0.000000</td>\n",
       "      <td>1.000000</td>\n",
       "      <td>1.000000</td>\n",
       "      <td>1.000000</td>\n",
       "    </tr>\n",
       "    <tr>\n",
       "      <td>shop_id</td>\n",
       "      <td>638298.0</td>\n",
       "      <td>31.502413</td>\n",
       "      <td>17.165986</td>\n",
       "      <td>0.000000</td>\n",
       "      <td>18.000000</td>\n",
       "      <td>31.000000</td>\n",
       "      <td>47.000000</td>\n",
       "      <td>59.000000</td>\n",
       "    </tr>\n",
       "    <tr>\n",
       "      <td>item_id</td>\n",
       "      <td>638298.0</td>\n",
       "      <td>11310.843249</td>\n",
       "      <td>6177.160419</td>\n",
       "      <td>0.000000</td>\n",
       "      <td>5961.000000</td>\n",
       "      <td>11488.000000</td>\n",
       "      <td>16429.000000</td>\n",
       "      <td>22169.000000</td>\n",
       "    </tr>\n",
       "    <tr>\n",
       "      <td>item_category_id</td>\n",
       "      <td>638298.0</td>\n",
       "      <td>35.960052</td>\n",
       "      <td>21.249605</td>\n",
       "      <td>0.000000</td>\n",
       "      <td>23.000000</td>\n",
       "      <td>40.000000</td>\n",
       "      <td>55.000000</td>\n",
       "      <td>83.000000</td>\n",
       "    </tr>\n",
       "    <tr>\n",
       "      <td>item_cnt_day</td>\n",
       "      <td>638298.0</td>\n",
       "      <td>5.722369</td>\n",
       "      <td>52.349474</td>\n",
       "      <td>0.000000</td>\n",
       "      <td>0.000000</td>\n",
       "      <td>1.000000</td>\n",
       "      <td>4.000000</td>\n",
       "      <td>19934.000000</td>\n",
       "    </tr>\n",
       "    <tr>\n",
       "      <td>shop_avg_item_cnt</td>\n",
       "      <td>638298.0</td>\n",
       "      <td>1.234030</td>\n",
       "      <td>0.217899</td>\n",
       "      <td>1.057546</td>\n",
       "      <td>1.156484</td>\n",
       "      <td>1.185057</td>\n",
       "      <td>1.261944</td>\n",
       "      <td>4.240983</td>\n",
       "    </tr>\n",
       "    <tr>\n",
       "      <td>avg_item_cnt</td>\n",
       "      <td>623052.0</td>\n",
       "      <td>1.099146</td>\n",
       "      <td>0.485211</td>\n",
       "      <td>1.000000</td>\n",
       "      <td>1.000000</td>\n",
       "      <td>1.019231</td>\n",
       "      <td>1.079929</td>\n",
       "      <td>65.473684</td>\n",
       "    </tr>\n",
       "    <tr>\n",
       "      <td>avg_item_cnt_each_cat</td>\n",
       "      <td>638298.0</td>\n",
       "      <td>1.115873</td>\n",
       "      <td>0.176333</td>\n",
       "      <td>1.000000</td>\n",
       "      <td>1.029260</td>\n",
       "      <td>1.064949</td>\n",
       "      <td>1.125806</td>\n",
       "      <td>7.329770</td>\n",
       "    </tr>\n",
       "    <tr>\n",
       "      <td>shop_cat_avg_item_cnt</td>\n",
       "      <td>539052.0</td>\n",
       "      <td>1.120238</td>\n",
       "      <td>0.837001</td>\n",
       "      <td>1.000000</td>\n",
       "      <td>1.021739</td>\n",
       "      <td>1.055150</td>\n",
       "      <td>1.129630</td>\n",
       "      <td>333.666667</td>\n",
       "    </tr>\n",
       "    <tr>\n",
       "      <td>avg_price_ofshop</td>\n",
       "      <td>638298.0</td>\n",
       "      <td>922.939343</td>\n",
       "      <td>178.931993</td>\n",
       "      <td>299.237067</td>\n",
       "      <td>834.664881</td>\n",
       "      <td>917.856259</td>\n",
       "      <td>973.275624</td>\n",
       "      <td>1458.766652</td>\n",
       "    </tr>\n",
       "    <tr>\n",
       "      <td>avg_price_each_item_ofshop</td>\n",
       "      <td>535502.0</td>\n",
       "      <td>838.857175</td>\n",
       "      <td>1794.686146</td>\n",
       "      <td>0.090000</td>\n",
       "      <td>202.750000</td>\n",
       "      <td>379.000000</td>\n",
       "      <td>885.000000</td>\n",
       "      <td>307980.000000</td>\n",
       "    </tr>\n",
       "    <tr>\n",
       "      <td>avg_price_each_item_cat_ofshop</td>\n",
       "      <td>535502.0</td>\n",
       "      <td>838.857175</td>\n",
       "      <td>1794.686146</td>\n",
       "      <td>0.090000</td>\n",
       "      <td>202.750000</td>\n",
       "      <td>379.000000</td>\n",
       "      <td>885.000000</td>\n",
       "      <td>307980.000000</td>\n",
       "    </tr>\n",
       "    <tr>\n",
       "      <td>min_price_each_item</td>\n",
       "      <td>623052.0</td>\n",
       "      <td>588.410472</td>\n",
       "      <td>1537.670770</td>\n",
       "      <td>0.070000</td>\n",
       "      <td>104.000000</td>\n",
       "      <td>230.000000</td>\n",
       "      <td>587.000000</td>\n",
       "      <td>307980.000000</td>\n",
       "    </tr>\n",
       "    <tr>\n",
       "      <td>max_price_each_item</td>\n",
       "      <td>623052.0</td>\n",
       "      <td>1034.908606</td>\n",
       "      <td>2181.878606</td>\n",
       "      <td>5.000000</td>\n",
       "      <td>299.000000</td>\n",
       "      <td>449.000000</td>\n",
       "      <td>1149.000000</td>\n",
       "      <td>307980.000000</td>\n",
       "    </tr>\n",
       "    <tr>\n",
       "      <td>mean_price_each_item</td>\n",
       "      <td>623052.0</td>\n",
       "      <td>874.954752</td>\n",
       "      <td>1836.854006</td>\n",
       "      <td>4.914877</td>\n",
       "      <td>236.572351</td>\n",
       "      <td>389.153394</td>\n",
       "      <td>943.773460</td>\n",
       "      <td>307980.000000</td>\n",
       "    </tr>\n",
       "  </tbody>\n",
       "</table>\n",
       "</div>"
      ],
      "text/plain": [
       "                                   count          mean          std  \\\n",
       "train_or_test                   638298.0      0.664420     0.472193   \n",
       "shop_id                         638298.0     31.502413    17.165986   \n",
       "item_id                         638298.0  11310.843249  6177.160419   \n",
       "item_category_id                638298.0     35.960052    21.249605   \n",
       "item_cnt_day                    638298.0      5.722369    52.349474   \n",
       "shop_avg_item_cnt               638298.0      1.234030     0.217899   \n",
       "avg_item_cnt                    623052.0      1.099146     0.485211   \n",
       "avg_item_cnt_each_cat           638298.0      1.115873     0.176333   \n",
       "shop_cat_avg_item_cnt           539052.0      1.120238     0.837001   \n",
       "avg_price_ofshop                638298.0    922.939343   178.931993   \n",
       "avg_price_each_item_ofshop      535502.0    838.857175  1794.686146   \n",
       "avg_price_each_item_cat_ofshop  535502.0    838.857175  1794.686146   \n",
       "min_price_each_item             623052.0    588.410472  1537.670770   \n",
       "max_price_each_item             623052.0   1034.908606  2181.878606   \n",
       "mean_price_each_item            623052.0    874.954752  1836.854006   \n",
       "\n",
       "                                       min          25%           50%  \\\n",
       "train_or_test                     0.000000     0.000000      1.000000   \n",
       "shop_id                           0.000000    18.000000     31.000000   \n",
       "item_id                           0.000000  5961.000000  11488.000000   \n",
       "item_category_id                  0.000000    23.000000     40.000000   \n",
       "item_cnt_day                      0.000000     0.000000      1.000000   \n",
       "shop_avg_item_cnt                 1.057546     1.156484      1.185057   \n",
       "avg_item_cnt                      1.000000     1.000000      1.019231   \n",
       "avg_item_cnt_each_cat             1.000000     1.029260      1.064949   \n",
       "shop_cat_avg_item_cnt             1.000000     1.021739      1.055150   \n",
       "avg_price_ofshop                299.237067   834.664881    917.856259   \n",
       "avg_price_each_item_ofshop        0.090000   202.750000    379.000000   \n",
       "avg_price_each_item_cat_ofshop    0.090000   202.750000    379.000000   \n",
       "min_price_each_item               0.070000   104.000000    230.000000   \n",
       "max_price_each_item               5.000000   299.000000    449.000000   \n",
       "mean_price_each_item              4.914877   236.572351    389.153394   \n",
       "\n",
       "                                         75%            max  \n",
       "train_or_test                       1.000000       1.000000  \n",
       "shop_id                            47.000000      59.000000  \n",
       "item_id                         16429.000000   22169.000000  \n",
       "item_category_id                   55.000000      83.000000  \n",
       "item_cnt_day                        4.000000   19934.000000  \n",
       "shop_avg_item_cnt                   1.261944       4.240983  \n",
       "avg_item_cnt                        1.079929      65.473684  \n",
       "avg_item_cnt_each_cat               1.125806       7.329770  \n",
       "shop_cat_avg_item_cnt               1.129630     333.666667  \n",
       "avg_price_ofshop                  973.275624    1458.766652  \n",
       "avg_price_each_item_ofshop        885.000000  307980.000000  \n",
       "avg_price_each_item_cat_ofshop    885.000000  307980.000000  \n",
       "min_price_each_item               587.000000  307980.000000  \n",
       "max_price_each_item              1149.000000  307980.000000  \n",
       "mean_price_each_item              943.773460  307980.000000  "
      ]
     },
     "execution_count": 21,
     "metadata": {},
     "output_type": "execute_result"
    }
   ],
   "source": [
    "df_train_test.describe().T"
   ]
  },
  {
   "cell_type": "code",
   "execution_count": 22,
   "metadata": {},
   "outputs": [],
   "source": [
    "df_train_test.fillna(0, inplace = True)"
   ]
  },
  {
   "cell_type": "code",
   "execution_count": 23,
   "metadata": {},
   "outputs": [
    {
     "data": {
      "text/plain": [
       "[('train_or_test', 0),\n",
       " ('shop_id', 0),\n",
       " ('item_id', 0),\n",
       " ('item_category_id', 0),\n",
       " ('item_cnt_day', 0),\n",
       " ('shop_avg_item_cnt', 0),\n",
       " ('avg_item_cnt', 0),\n",
       " ('avg_item_cnt_each_cat', 0),\n",
       " ('shop_cat_avg_item_cnt', 0),\n",
       " ('avg_price_ofshop', 0),\n",
       " ('avg_price_each_item_ofshop', 0),\n",
       " ('avg_price_each_item_cat_ofshop', 0),\n",
       " ('min_price_each_item', 0),\n",
       " ('max_price_each_item', 0),\n",
       " ('mean_price_each_item', 0)]"
      ]
     },
     "execution_count": 23,
     "metadata": {},
     "output_type": "execute_result"
    }
   ],
   "source": [
    "missing = list(df_train_test.isnull().sum().sort_values(ascending = True).items())\n",
    "missing"
   ]
  },
  {
   "cell_type": "code",
   "execution_count": null,
   "metadata": {},
   "outputs": [],
   "source": [
    "#df_test_1.loc[:,'normalized_price'] = (df_test_1['item_price'] - df_test_1['item_price'].min()) / (df_test_1['item_price'].max() - df_test_1['item_price'].min())\n",
    "#df_test_1.loc[:,'standardized_price'] = (df_test_1['item_price'] - df_test_1['item_price'].mean()) / df_test_1['item_price'].std()\n",
    "#df_test_1.loc[:,'price_bin_round'] = np.array(np.floor(np.array(df_test_1['item_price']) / 100.))\n",
    "#df_test_1.head()"
   ]
  },
  {
   "cell_type": "markdown",
   "metadata": {},
   "source": [
    "https://scikit-learn.org/stable/auto_examples/compose/plot_transformed_target.html#sphx-glr-auto-examples-compose-plot-transformed-target-py"
   ]
  },
  {
   "cell_type": "code",
   "execution_count": 24,
   "metadata": {},
   "outputs": [],
   "source": [
    "# Convert the feature  to the np.log\n",
    "\n",
    "col_name = ['item_category_id',\n",
    "       'item_cnt_day', 'shop_avg_item_cnt', 'avg_item_cnt',\n",
    "       'avg_item_cnt_each_cat', 'shop_cat_avg_item_cnt', 'avg_price_ofshop',\n",
    "       'avg_price_each_item_ofshop', 'avg_price_each_item_cat_ofshop',\n",
    "       'min_price_each_item', 'max_price_each_item', 'mean_price_each_item']\n",
    "\n",
    "#from sklearn.preprocessing import QuantileTransformer\n",
    "#qt = QuantileTransformer(n_quantiles=10, random_state=42)\n",
    "for i in col_name:\n",
    "    df_train_test[i] = df_train_test[i].apply(np.log1p)"
   ]
  },
  {
   "cell_type": "code",
   "execution_count": 25,
   "metadata": {},
   "outputs": [
    {
     "data": {
      "text/html": [
       "<div>\n",
       "<style scoped>\n",
       "    .dataframe tbody tr th:only-of-type {\n",
       "        vertical-align: middle;\n",
       "    }\n",
       "\n",
       "    .dataframe tbody tr th {\n",
       "        vertical-align: top;\n",
       "    }\n",
       "\n",
       "    .dataframe thead th {\n",
       "        text-align: right;\n",
       "    }\n",
       "</style>\n",
       "<table border=\"1\" class=\"dataframe\">\n",
       "  <thead>\n",
       "    <tr style=\"text-align: right;\">\n",
       "      <th></th>\n",
       "      <th>count</th>\n",
       "      <th>mean</th>\n",
       "      <th>std</th>\n",
       "      <th>min</th>\n",
       "      <th>25%</th>\n",
       "      <th>50%</th>\n",
       "      <th>75%</th>\n",
       "      <th>max</th>\n",
       "    </tr>\n",
       "  </thead>\n",
       "  <tbody>\n",
       "    <tr>\n",
       "      <td>train_or_test</td>\n",
       "      <td>638298.0</td>\n",
       "      <td>0.664420</td>\n",
       "      <td>0.472193</td>\n",
       "      <td>0.000000</td>\n",
       "      <td>0.000000</td>\n",
       "      <td>1.000000</td>\n",
       "      <td>1.000000</td>\n",
       "      <td>1.000000</td>\n",
       "    </tr>\n",
       "    <tr>\n",
       "      <td>shop_id</td>\n",
       "      <td>638298.0</td>\n",
       "      <td>31.502413</td>\n",
       "      <td>17.165986</td>\n",
       "      <td>0.000000</td>\n",
       "      <td>18.000000</td>\n",
       "      <td>31.000000</td>\n",
       "      <td>47.000000</td>\n",
       "      <td>59.000000</td>\n",
       "    </tr>\n",
       "    <tr>\n",
       "      <td>item_id</td>\n",
       "      <td>638298.0</td>\n",
       "      <td>11310.843249</td>\n",
       "      <td>6177.160419</td>\n",
       "      <td>0.000000</td>\n",
       "      <td>5961.000000</td>\n",
       "      <td>11488.000000</td>\n",
       "      <td>16429.000000</td>\n",
       "      <td>22169.000000</td>\n",
       "    </tr>\n",
       "    <tr>\n",
       "      <td>item_category_id</td>\n",
       "      <td>638298.0</td>\n",
       "      <td>3.102180</td>\n",
       "      <td>1.423093</td>\n",
       "      <td>0.000000</td>\n",
       "      <td>3.178054</td>\n",
       "      <td>3.713572</td>\n",
       "      <td>4.025352</td>\n",
       "      <td>4.430817</td>\n",
       "    </tr>\n",
       "    <tr>\n",
       "      <td>item_cnt_day</td>\n",
       "      <td>638298.0</td>\n",
       "      <td>1.051280</td>\n",
       "      <td>1.063365</td>\n",
       "      <td>0.000000</td>\n",
       "      <td>0.000000</td>\n",
       "      <td>0.693147</td>\n",
       "      <td>1.609438</td>\n",
       "      <td>9.900232</td>\n",
       "    </tr>\n",
       "    <tr>\n",
       "      <td>shop_avg_item_cnt</td>\n",
       "      <td>638298.0</td>\n",
       "      <td>0.800450</td>\n",
       "      <td>0.075770</td>\n",
       "      <td>0.721514</td>\n",
       "      <td>0.768479</td>\n",
       "      <td>0.781642</td>\n",
       "      <td>0.816225</td>\n",
       "      <td>1.656509</td>\n",
       "    </tr>\n",
       "    <tr>\n",
       "      <td>avg_item_cnt</td>\n",
       "      <td>638298.0</td>\n",
       "      <td>0.716692</td>\n",
       "      <td>0.149195</td>\n",
       "      <td>0.000000</td>\n",
       "      <td>0.693147</td>\n",
       "      <td>0.701958</td>\n",
       "      <td>0.730997</td>\n",
       "      <td>4.196806</td>\n",
       "    </tr>\n",
       "    <tr>\n",
       "      <td>avg_item_cnt_each_cat</td>\n",
       "      <td>638298.0</td>\n",
       "      <td>0.747093</td>\n",
       "      <td>0.064404</td>\n",
       "      <td>0.693147</td>\n",
       "      <td>0.707671</td>\n",
       "      <td>0.725105</td>\n",
       "      <td>0.754151</td>\n",
       "      <td>2.119836</td>\n",
       "    </tr>\n",
       "    <tr>\n",
       "      <td>shop_cat_avg_item_cnt</td>\n",
       "      <td>638298.0</td>\n",
       "      <td>0.630120</td>\n",
       "      <td>0.281428</td>\n",
       "      <td>0.000000</td>\n",
       "      <td>0.698216</td>\n",
       "      <td>0.713988</td>\n",
       "      <td>0.746730</td>\n",
       "      <td>5.813135</td>\n",
       "    </tr>\n",
       "    <tr>\n",
       "      <td>avg_price_ofshop</td>\n",
       "      <td>638298.0</td>\n",
       "      <td>6.808481</td>\n",
       "      <td>0.207971</td>\n",
       "      <td>5.704572</td>\n",
       "      <td>6.728228</td>\n",
       "      <td>6.823130</td>\n",
       "      <td>6.881694</td>\n",
       "      <td>7.286032</td>\n",
       "    </tr>\n",
       "    <tr>\n",
       "      <td>avg_price_each_item_ofshop</td>\n",
       "      <td>638298.0</td>\n",
       "      <td>5.113581</td>\n",
       "      <td>2.429833</td>\n",
       "      <td>0.000000</td>\n",
       "      <td>5.010635</td>\n",
       "      <td>5.703782</td>\n",
       "      <td>6.551080</td>\n",
       "      <td>12.637793</td>\n",
       "    </tr>\n",
       "    <tr>\n",
       "      <td>avg_price_each_item_cat_ofshop</td>\n",
       "      <td>638298.0</td>\n",
       "      <td>5.113581</td>\n",
       "      <td>2.429833</td>\n",
       "      <td>0.000000</td>\n",
       "      <td>5.010635</td>\n",
       "      <td>5.703782</td>\n",
       "      <td>6.551080</td>\n",
       "      <td>12.637793</td>\n",
       "    </tr>\n",
       "    <tr>\n",
       "      <td>min_price_each_item</td>\n",
       "      <td>638298.0</td>\n",
       "      <td>5.388144</td>\n",
       "      <td>1.495207</td>\n",
       "      <td>0.000000</td>\n",
       "      <td>4.595120</td>\n",
       "      <td>5.398298</td>\n",
       "      <td>6.320876</td>\n",
       "      <td>12.637793</td>\n",
       "    </tr>\n",
       "    <tr>\n",
       "      <td>max_price_each_item</td>\n",
       "      <td>638298.0</td>\n",
       "      <td>6.168549</td>\n",
       "      <td>1.387881</td>\n",
       "      <td>0.000000</td>\n",
       "      <td>5.521461</td>\n",
       "      <td>5.991465</td>\n",
       "      <td>7.003065</td>\n",
       "      <td>12.637793</td>\n",
       "    </tr>\n",
       "    <tr>\n",
       "      <td>mean_price_each_item</td>\n",
       "      <td>638298.0</td>\n",
       "      <td>6.009191</td>\n",
       "      <td>1.364777</td>\n",
       "      <td>0.000000</td>\n",
       "      <td>5.363322</td>\n",
       "      <td>5.937900</td>\n",
       "      <td>6.821345</td>\n",
       "      <td>12.637793</td>\n",
       "    </tr>\n",
       "  </tbody>\n",
       "</table>\n",
       "</div>"
      ],
      "text/plain": [
       "                                   count          mean          std       min  \\\n",
       "train_or_test                   638298.0      0.664420     0.472193  0.000000   \n",
       "shop_id                         638298.0     31.502413    17.165986  0.000000   \n",
       "item_id                         638298.0  11310.843249  6177.160419  0.000000   \n",
       "item_category_id                638298.0      3.102180     1.423093  0.000000   \n",
       "item_cnt_day                    638298.0      1.051280     1.063365  0.000000   \n",
       "shop_avg_item_cnt               638298.0      0.800450     0.075770  0.721514   \n",
       "avg_item_cnt                    638298.0      0.716692     0.149195  0.000000   \n",
       "avg_item_cnt_each_cat           638298.0      0.747093     0.064404  0.693147   \n",
       "shop_cat_avg_item_cnt           638298.0      0.630120     0.281428  0.000000   \n",
       "avg_price_ofshop                638298.0      6.808481     0.207971  5.704572   \n",
       "avg_price_each_item_ofshop      638298.0      5.113581     2.429833  0.000000   \n",
       "avg_price_each_item_cat_ofshop  638298.0      5.113581     2.429833  0.000000   \n",
       "min_price_each_item             638298.0      5.388144     1.495207  0.000000   \n",
       "max_price_each_item             638298.0      6.168549     1.387881  0.000000   \n",
       "mean_price_each_item            638298.0      6.009191     1.364777  0.000000   \n",
       "\n",
       "                                        25%           50%           75%  \\\n",
       "train_or_test                      0.000000      1.000000      1.000000   \n",
       "shop_id                           18.000000     31.000000     47.000000   \n",
       "item_id                         5961.000000  11488.000000  16429.000000   \n",
       "item_category_id                   3.178054      3.713572      4.025352   \n",
       "item_cnt_day                       0.000000      0.693147      1.609438   \n",
       "shop_avg_item_cnt                  0.768479      0.781642      0.816225   \n",
       "avg_item_cnt                       0.693147      0.701958      0.730997   \n",
       "avg_item_cnt_each_cat              0.707671      0.725105      0.754151   \n",
       "shop_cat_avg_item_cnt              0.698216      0.713988      0.746730   \n",
       "avg_price_ofshop                   6.728228      6.823130      6.881694   \n",
       "avg_price_each_item_ofshop         5.010635      5.703782      6.551080   \n",
       "avg_price_each_item_cat_ofshop     5.010635      5.703782      6.551080   \n",
       "min_price_each_item                4.595120      5.398298      6.320876   \n",
       "max_price_each_item                5.521461      5.991465      7.003065   \n",
       "mean_price_each_item               5.363322      5.937900      6.821345   \n",
       "\n",
       "                                         max  \n",
       "train_or_test                       1.000000  \n",
       "shop_id                            59.000000  \n",
       "item_id                         22169.000000  \n",
       "item_category_id                    4.430817  \n",
       "item_cnt_day                        9.900232  \n",
       "shop_avg_item_cnt                   1.656509  \n",
       "avg_item_cnt                        4.196806  \n",
       "avg_item_cnt_each_cat               2.119836  \n",
       "shop_cat_avg_item_cnt               5.813135  \n",
       "avg_price_ofshop                    7.286032  \n",
       "avg_price_each_item_ofshop         12.637793  \n",
       "avg_price_each_item_cat_ofshop     12.637793  \n",
       "min_price_each_item                12.637793  \n",
       "max_price_each_item                12.637793  \n",
       "mean_price_each_item               12.637793  "
      ]
     },
     "execution_count": 25,
     "metadata": {},
     "output_type": "execute_result"
    }
   ],
   "source": [
    "df_train_test.describe().T"
   ]
  },
  {
   "cell_type": "markdown",
   "metadata": {},
   "source": [
    "# Data For Modeling"
   ]
  },
  {
   "cell_type": "code",
   "execution_count": null,
   "metadata": {},
   "outputs": [],
   "source": []
  },
  {
   "cell_type": "code",
   "execution_count": 28,
   "metadata": {},
   "outputs": [],
   "source": [
    "#Seperata the Train set\n",
    "data = df_train_test[df_train_test['train_or_test'] == 1]\n",
    "data = data.drop(['shop_id','item_id','train_or_test','item_category_id'], axis =1)\n",
    "#submit file predict\n",
    "submit = df_train_test[df_train_test['train_or_test'] == 0]\n",
    "submit = submit.drop(['shop_id','item_id','train_or_test','item_category_id'],axis= 1)\n",
    "\n"
   ]
  },
  {
   "cell_type": "markdown",
   "metadata": {},
   "source": [
    "## Create the Target 'y' and feature 'X' for models"
   ]
  },
  {
   "cell_type": "code",
   "execution_count": 29,
   "metadata": {},
   "outputs": [],
   "source": [
    "# Create Target y and feature X base on the train set\n",
    "y = data['item_cnt_day']\n",
    "X = data.drop('item_cnt_day', axis = 1)"
   ]
  },
  {
   "cell_type": "code",
   "execution_count": 32,
   "metadata": {},
   "outputs": [],
   "source": [
    "#Split the data to traing set and test set base on the train set to train model\n",
    "from sklearn.model_selection import train_test_split\n",
    "Xtrain, Xtest, ytrain, ytest = train_test_split(X, y, test_size = 0.3, random_state = 42)"
   ]
  },
  {
   "cell_type": "code",
   "execution_count": 33,
   "metadata": {},
   "outputs": [
    {
     "data": {
      "text/plain": [
       "(296868, 296868)"
      ]
     },
     "execution_count": 33,
     "metadata": {},
     "output_type": "execute_result"
    }
   ],
   "source": [
    "len(Xtrain), len(ytrain)"
   ]
  },
  {
   "cell_type": "markdown",
   "metadata": {},
   "source": [
    "## K-NN Regression model"
   ]
  },
  {
   "cell_type": "code",
   "execution_count": 34,
   "metadata": {},
   "outputs": [],
   "source": [
    "#Import sklearn for model\n",
    "from sklearn.neighbors import KNeighborsRegressor"
   ]
  },
  {
   "cell_type": "markdown",
   "metadata": {},
   "source": [
    "### Selection the importance feature\n"
   ]
  },
  {
   "cell_type": "code",
   "execution_count": null,
   "metadata": {},
   "outputs": [],
   "source": [
    "###Hyperparameter tunning ###\n",
    "######### FIND BEST n_neighbors ###############\n",
    "from sklearn.model_selection import GridSearchCV\n",
    "param_grid = {'n_neighbors': np.arange(5,6,1)}\n",
    "knn = KNeighborsRegressor()\n",
    "knn_cv = GridSearchCV(knn, param_grid, cv = 5)\n",
    "knn_cv.fit(Xtrain,ytrain)\n",
    "knn_cv.best_params_ , knn_cv.best_score_"
   ]
  },
  {
   "cell_type": "code",
   "execution_count": null,
   "metadata": {},
   "outputs": [],
   "source": [
    "#Predict the labels of the test data\n",
    "y_pred = knn_cv.predict(Xtest)"
   ]
  },
  {
   "cell_type": "code",
   "execution_count": null,
   "metadata": {},
   "outputs": [],
   "source": [
    "#Checking score test and predict\n",
    "test_accuray = knn_cv.score(Xtest, ytest)\n",
    "train_accuray = knn_cv.score(Xtrain, ytrain)\n",
    "rmse = np.sqrt(mean_squared_error(ytest, y_pred))"
   ]
  },
  {
   "cell_type": "code",
   "execution_count": null,
   "metadata": {},
   "outputs": [],
   "source": [
    "print('R^2 of model: ',test_accuray)\n",
    "print('RMSE of model: ', rmse)"
   ]
  },
  {
   "cell_type": "code",
   "execution_count": null,
   "metadata": {},
   "outputs": [],
   "source": [
    "train_accuray"
   ]
  },
  {
   "cell_type": "markdown",
   "metadata": {},
   "source": [
    "#### Importance feature"
   ]
  },
  {
   "cell_type": "code",
   "execution_count": null,
   "metadata": {},
   "outputs": [],
   "source": []
  },
  {
   "cell_type": "markdown",
   "metadata": {},
   "source": [
    "# Random forest modeling"
   ]
  },
  {
   "cell_type": "code",
   "execution_count": null,
   "metadata": {},
   "outputs": [],
   "source": [
    "from sklearn.ensemble import RandomForestRegressor\n",
    "from sklearn.metrics import mean_squared_error\n",
    "from sklearn.ensemble import ExtraTreesRegressor"
   ]
  },
  {
   "cell_type": "markdown",
   "metadata": {},
   "source": [
    "#### Feature selection"
   ]
  },
  {
   "cell_type": "code",
   "execution_count": null,
   "metadata": {},
   "outputs": [],
   "source": [
    "#rf = RandomForestRegressor()\n",
    "#rf.fit(Xtrain, ytrain)"
   ]
  },
  {
   "cell_type": "code",
   "execution_count": null,
   "metadata": {},
   "outputs": [],
   "source": [
    "#features_name = data.drop('item_cnt_day', axis = 1).columns\n",
    "#Score = rf.feature_importances_\n",
    "#no_name = zip(features_name, Score)\n",
    "#temp_f = pd.DataFrame(no_name,  columns = ['name', 'score'])\n",
    "#temp_f = temp_f.sort_values('score', ascending = False)\n"
   ]
  },
  {
   "cell_type": "code",
   "execution_count": null,
   "metadata": {},
   "outputs": [],
   "source": [
    "#temp_f"
   ]
  },
  {
   "cell_type": "code",
   "execution_count": null,
   "metadata": {},
   "outputs": [],
   "source": [
    "#Select top 3 feature\n",
    "#col_name = temp_f.name.values[0:5]\n",
    "#col_name = ['avg_item_cnt', 'shop_cat_avg_item_cnt', 'mean_price_each_item',\n",
    " #      'min_price_each_item', 'shop_avg_item_cnt']"
   ]
  },
  {
   "cell_type": "code",
   "execution_count": null,
   "metadata": {},
   "outputs": [],
   "source": [
    "#Xtrain_rf = Xtrain[col_name]\n",
    "#Xtest_rf = Xtest[col_name]"
   ]
  },
  {
   "cell_type": "code",
   "execution_count": null,
   "metadata": {},
   "outputs": [],
   "source": [
    "#Xtrain_rf = Xtrain_rf.values\n",
    "#ytrain_rf = ytrain.values\n",
    "#Xtest_rf = Xtest_rf.values\n",
    "#ytest_rf = ytest.values"
   ]
  },
  {
   "cell_type": "code",
   "execution_count": null,
   "metadata": {},
   "outputs": [],
   "source": [
    "#Xtrain_rf"
   ]
  },
  {
   "cell_type": "markdown",
   "metadata": {},
   "source": [
    "##### end___"
   ]
  },
  {
   "cell_type": "code",
   "execution_count": null,
   "metadata": {},
   "outputs": [],
   "source": [
    "#Instantiate the model\n",
    "rf = RandomForestRegressor()"
   ]
  },
  {
   "cell_type": "code",
   "execution_count": null,
   "metadata": {},
   "outputs": [],
   "source": [
    "####Hyperparameter tunning ###\n",
    "###CHoice BEST PARAMETER ##\n",
    "\n",
    "# Number of trees in random forest\n",
    "n_estimators = [int(x) for x in np.linspace(start = 10, stop = 20, num = 5)]\n",
    "# Number of features to consider at every split\n",
    "max_features = ['auto', 'sqrt']\n",
    "# Maximum number of levels in tree\n",
    "max_depth = [int(x) for x in np.linspace(10, 110, num = 5)]\n",
    "max_depth.append(None)\n",
    "# Minimum number of samples required to split a node\n",
    "min_samples_split = [2, 5, 10]\n",
    "# Minimum number of samples required at each leaf node\n",
    "min_samples_leaf = [1, 2, 4]\n",
    "# Method of selecting samples for training each tree\n",
    "bootstrap = [True, False]\n",
    "# Create the random grid\n",
    "random_grid = {'n_estimators': n_estimators,\n",
    "               'max_features': max_features,\n",
    "               'max_depth': max_depth,\n",
    "               'min_samples_split': min_samples_split,\n",
    "               'min_samples_leaf': min_samples_leaf,\n",
    "               'bootstrap': bootstrap}\n"
   ]
  },
  {
   "cell_type": "code",
   "execution_count": null,
   "metadata": {},
   "outputs": [],
   "source": [
    "\n",
    "#Instantiate the tunning parameter using RandomizeSearchCV\n",
    "rf_cv = RandomizedSearchCV(rf, random_grid, cv = 5, random_state=42)"
   ]
  },
  {
   "cell_type": "code",
   "execution_count": null,
   "metadata": {},
   "outputs": [],
   "source": [
    "rf_cv.fit(Xtrain, ytrain)"
   ]
  },
  {
   "cell_type": "code",
   "execution_count": null,
   "metadata": {},
   "outputs": [],
   "source": [
    "\n",
    "#Get the best parameter and best score\n",
    "rf_cv.best_params_, rf_cv.best_score_"
   ]
  },
  {
   "cell_type": "markdown",
   "metadata": {},
   "source": [
    "rf = RandomForestRegressor(n_estimators =  20,\n",
    "                                  min_samples_split =  5,\n",
    "                                  min_samples_leaf = 1,\n",
    "                                  max_features = 'sqrt',\n",
    "                                  max_depth = None,\n",
    "                                  bootstrap =  False)"
   ]
  },
  {
   "cell_type": "markdown",
   "metadata": {},
   "source": [
    "rf.fit(Xtrain_rf,ytrain_rf)"
   ]
  },
  {
   "cell_type": "code",
   "execution_count": null,
   "metadata": {},
   "outputs": [],
   "source": [
    "#Predict the data\n",
    "y_pred_rf = rf_cv.predict(Xtest)"
   ]
  },
  {
   "cell_type": "code",
   "execution_count": null,
   "metadata": {},
   "outputs": [],
   "source": [
    "#Get the R^2 and RMSE\n",
    "test_accuary_rf = rf_cv.score(Xtest, ytest)\n",
    "train_accuary_rf = rf_cv.score(Xtrain, ytrain)\n",
    "rmse_rf = np.sqrt(mean_squared_error(ytest, y_pred_rf))\n"
   ]
  },
  {
   "cell_type": "code",
   "execution_count": null,
   "metadata": {},
   "outputs": [],
   "source": [
    "print('R^2 of model: ',test_accuary_rf)\n",
    "print('RMSE of model: ', rmse_rf)"
   ]
  },
  {
   "cell_type": "code",
   "execution_count": null,
   "metadata": {},
   "outputs": [],
   "source": [
    "train_accuary_rf"
   ]
  },
  {
   "cell_type": "code",
   "execution_count": null,
   "metadata": {},
   "outputs": [],
   "source": []
  },
  {
   "cell_type": "code",
   "execution_count": null,
   "metadata": {},
   "outputs": [],
   "source": []
  },
  {
   "cell_type": "markdown",
   "metadata": {},
   "source": [
    "## Try predict our test.csv file was provide "
   ]
  },
  {
   "cell_type": "code",
   "execution_count": 45,
   "metadata": {},
   "outputs": [
    {
     "data": {
      "text/html": [
       "<div>\n",
       "<style scoped>\n",
       "    .dataframe tbody tr th:only-of-type {\n",
       "        vertical-align: middle;\n",
       "    }\n",
       "\n",
       "    .dataframe tbody tr th {\n",
       "        vertical-align: top;\n",
       "    }\n",
       "\n",
       "    .dataframe thead th {\n",
       "        text-align: right;\n",
       "    }\n",
       "</style>\n",
       "<table border=\"1\" class=\"dataframe\">\n",
       "  <thead>\n",
       "    <tr style=\"text-align: right;\">\n",
       "      <th></th>\n",
       "      <th>item_cnt_day</th>\n",
       "      <th>shop_avg_item_cnt</th>\n",
       "      <th>avg_item_cnt</th>\n",
       "      <th>avg_item_cnt_each_cat</th>\n",
       "      <th>shop_cat_avg_item_cnt</th>\n",
       "      <th>avg_price_ofshop</th>\n",
       "      <th>avg_price_each_item_ofshop</th>\n",
       "      <th>avg_price_each_item_cat_ofshop</th>\n",
       "      <th>min_price_each_item</th>\n",
       "      <th>max_price_each_item</th>\n",
       "      <th>mean_price_each_item</th>\n",
       "    </tr>\n",
       "  </thead>\n",
       "  <tbody>\n",
       "    <tr>\n",
       "      <td>424098</td>\n",
       "      <td>0.0</td>\n",
       "      <td>0.753664</td>\n",
       "      <td>0.780351</td>\n",
       "      <td>0.803492</td>\n",
       "      <td>0.744920</td>\n",
       "      <td>6.769229</td>\n",
       "      <td>7.399210</td>\n",
       "      <td>7.399210</td>\n",
       "      <td>6.620073</td>\n",
       "      <td>7.863267</td>\n",
       "      <td>7.562479</td>\n",
       "    </tr>\n",
       "    <tr>\n",
       "      <td>424099</td>\n",
       "      <td>0.0</td>\n",
       "      <td>0.753664</td>\n",
       "      <td>0.000000</td>\n",
       "      <td>0.693147</td>\n",
       "      <td>0.000000</td>\n",
       "      <td>6.769229</td>\n",
       "      <td>0.000000</td>\n",
       "      <td>0.000000</td>\n",
       "      <td>0.000000</td>\n",
       "      <td>0.000000</td>\n",
       "      <td>0.000000</td>\n",
       "    </tr>\n",
       "    <tr>\n",
       "      <td>424100</td>\n",
       "      <td>0.0</td>\n",
       "      <td>0.753664</td>\n",
       "      <td>0.754556</td>\n",
       "      <td>0.803492</td>\n",
       "      <td>0.744920</td>\n",
       "      <td>6.769229</td>\n",
       "      <td>6.764654</td>\n",
       "      <td>6.764654</td>\n",
       "      <td>6.396930</td>\n",
       "      <td>7.090077</td>\n",
       "      <td>6.686831</td>\n",
       "    </tr>\n",
       "    <tr>\n",
       "      <td>424101</td>\n",
       "      <td>0.0</td>\n",
       "      <td>0.753664</td>\n",
       "      <td>0.742306</td>\n",
       "      <td>0.773344</td>\n",
       "      <td>0.726705</td>\n",
       "      <td>6.769229</td>\n",
       "      <td>6.396930</td>\n",
       "      <td>6.396930</td>\n",
       "      <td>6.396930</td>\n",
       "      <td>7.090077</td>\n",
       "      <td>6.669938</td>\n",
       "    </tr>\n",
       "    <tr>\n",
       "      <td>424102</td>\n",
       "      <td>0.0</td>\n",
       "      <td>0.753664</td>\n",
       "      <td>0.000000</td>\n",
       "      <td>0.693147</td>\n",
       "      <td>0.000000</td>\n",
       "      <td>6.769229</td>\n",
       "      <td>0.000000</td>\n",
       "      <td>0.000000</td>\n",
       "      <td>0.000000</td>\n",
       "      <td>0.000000</td>\n",
       "      <td>0.000000</td>\n",
       "    </tr>\n",
       "  </tbody>\n",
       "</table>\n",
       "</div>"
      ],
      "text/plain": [
       "        item_cnt_day  shop_avg_item_cnt  avg_item_cnt  avg_item_cnt_each_cat  \\\n",
       "424098           0.0           0.753664      0.780351               0.803492   \n",
       "424099           0.0           0.753664      0.000000               0.693147   \n",
       "424100           0.0           0.753664      0.754556               0.803492   \n",
       "424101           0.0           0.753664      0.742306               0.773344   \n",
       "424102           0.0           0.753664      0.000000               0.693147   \n",
       "\n",
       "        shop_cat_avg_item_cnt  avg_price_ofshop  avg_price_each_item_ofshop  \\\n",
       "424098               0.744920          6.769229                    7.399210   \n",
       "424099               0.000000          6.769229                    0.000000   \n",
       "424100               0.744920          6.769229                    6.764654   \n",
       "424101               0.726705          6.769229                    6.396930   \n",
       "424102               0.000000          6.769229                    0.000000   \n",
       "\n",
       "        avg_price_each_item_cat_ofshop  min_price_each_item  \\\n",
       "424098                        7.399210             6.620073   \n",
       "424099                        0.000000             0.000000   \n",
       "424100                        6.764654             6.396930   \n",
       "424101                        6.396930             6.396930   \n",
       "424102                        0.000000             0.000000   \n",
       "\n",
       "        max_price_each_item  mean_price_each_item  \n",
       "424098             7.863267              7.562479  \n",
       "424099             0.000000              0.000000  \n",
       "424100             7.090077              6.686831  \n",
       "424101             7.090077              6.669938  \n",
       "424102             0.000000              0.000000  "
      ]
     },
     "execution_count": 45,
     "metadata": {},
     "output_type": "execute_result"
    }
   ],
   "source": [
    "submit.head()"
   ]
  },
  {
   "cell_type": "code",
   "execution_count": 52,
   "metadata": {},
   "outputs": [
    {
     "data": {
      "text/html": [
       "<div>\n",
       "<style scoped>\n",
       "    .dataframe tbody tr th:only-of-type {\n",
       "        vertical-align: middle;\n",
       "    }\n",
       "\n",
       "    .dataframe tbody tr th {\n",
       "        vertical-align: top;\n",
       "    }\n",
       "\n",
       "    .dataframe thead th {\n",
       "        text-align: right;\n",
       "    }\n",
       "</style>\n",
       "<table border=\"1\" class=\"dataframe\">\n",
       "  <thead>\n",
       "    <tr style=\"text-align: right;\">\n",
       "      <th></th>\n",
       "      <th>index</th>\n",
       "      <th>item_cnt_month</th>\n",
       "    </tr>\n",
       "  </thead>\n",
       "  <tbody>\n",
       "    <tr>\n",
       "      <td>0</td>\n",
       "      <td>0</td>\n",
       "      <td>10.0</td>\n",
       "    </tr>\n",
       "    <tr>\n",
       "      <td>1</td>\n",
       "      <td>1</td>\n",
       "      <td>1.0</td>\n",
       "    </tr>\n",
       "    <tr>\n",
       "      <td>2</td>\n",
       "      <td>2</td>\n",
       "      <td>7.0</td>\n",
       "    </tr>\n",
       "    <tr>\n",
       "      <td>3</td>\n",
       "      <td>3</td>\n",
       "      <td>5.0</td>\n",
       "    </tr>\n",
       "    <tr>\n",
       "      <td>4</td>\n",
       "      <td>4</td>\n",
       "      <td>1.0</td>\n",
       "    </tr>\n",
       "  </tbody>\n",
       "</table>\n",
       "</div>"
      ],
      "text/plain": [
       "   index  item_cnt_month\n",
       "0      0            10.0\n",
       "1      1             1.0\n",
       "2      2             7.0\n",
       "3      3             5.0\n",
       "4      4             1.0"
      ]
     },
     "execution_count": 52,
     "metadata": {},
     "output_type": "execute_result"
    }
   ],
   "source": [
    "X_submit = submit.drop('item_cnt_day', axis = 1)\n",
    "y_submit_pred = xg.predict(X_submit)\n",
    "item_cnt_month = np.expm1(y_submit_pred)\n",
    "solution = df_test\n",
    "solution['item_cnt_month'] = np.round(item_cnt_month,0)\n",
    "solution.head()\n",
    "#solution = df_test_1\n",
    "#solution['item_cnt_day'] = np.round(y_new_predict_item_cnt,1)\n",
    "solution_1=solution.drop(['shop_id','item_id','item_category_id','train_or_test','item_cnt_day'], axis = 1).reset_index()\n",
    "#solution_1['item_price'] =np.round(e ** df_test_1.item_price,0)\n",
    "#solution_1.columns = ['ID', 'item_cnt_month']\n",
    "#solution_1 = solution_1.set_index('ID')\n",
    "solution_1.head()"
   ]
  },
  {
   "cell_type": "code",
   "execution_count": 53,
   "metadata": {},
   "outputs": [
    {
     "data": {
      "text/html": [
       "<div>\n",
       "<style scoped>\n",
       "    .dataframe tbody tr th:only-of-type {\n",
       "        vertical-align: middle;\n",
       "    }\n",
       "\n",
       "    .dataframe tbody tr th {\n",
       "        vertical-align: top;\n",
       "    }\n",
       "\n",
       "    .dataframe thead th {\n",
       "        text-align: right;\n",
       "    }\n",
       "</style>\n",
       "<table border=\"1\" class=\"dataframe\">\n",
       "  <thead>\n",
       "    <tr style=\"text-align: right;\">\n",
       "      <th></th>\n",
       "      <th>index</th>\n",
       "      <th>item_cnt_month</th>\n",
       "    </tr>\n",
       "  </thead>\n",
       "  <tbody>\n",
       "    <tr>\n",
       "      <td>0</td>\n",
       "      <td>0</td>\n",
       "      <td>10.0</td>\n",
       "    </tr>\n",
       "    <tr>\n",
       "      <td>1</td>\n",
       "      <td>1</td>\n",
       "      <td>1.0</td>\n",
       "    </tr>\n",
       "    <tr>\n",
       "      <td>2</td>\n",
       "      <td>2</td>\n",
       "      <td>7.0</td>\n",
       "    </tr>\n",
       "    <tr>\n",
       "      <td>3</td>\n",
       "      <td>3</td>\n",
       "      <td>5.0</td>\n",
       "    </tr>\n",
       "    <tr>\n",
       "      <td>4</td>\n",
       "      <td>4</td>\n",
       "      <td>1.0</td>\n",
       "    </tr>\n",
       "  </tbody>\n",
       "</table>\n",
       "</div>"
      ],
      "text/plain": [
       "   index  item_cnt_month\n",
       "0      0            10.0\n",
       "1      1             1.0\n",
       "2      2             7.0\n",
       "3      3             5.0\n",
       "4      4             1.0"
      ]
     },
     "execution_count": 53,
     "metadata": {},
     "output_type": "execute_result"
    }
   ],
   "source": [
    "solution_1.head()"
   ]
  },
  {
   "cell_type": "code",
   "execution_count": 54,
   "metadata": {},
   "outputs": [],
   "source": [
    "solution_1.columns = ['ID', 'item_cnt_month']\n",
    "solution_1 = solution_1.set_index('ID')"
   ]
  },
  {
   "cell_type": "code",
   "execution_count": 55,
   "metadata": {},
   "outputs": [],
   "source": [
    "solution_1.to_csv('submitfile_1.csv')"
   ]
  },
  {
   "cell_type": "markdown",
   "metadata": {},
   "source": [
    "# Xgboost Model"
   ]
  },
  {
   "cell_type": "code",
   "execution_count": 35,
   "metadata": {},
   "outputs": [],
   "source": [
    "from sklearn.ensemble import GradientBoostingRegressor"
   ]
  },
  {
   "cell_type": "code",
   "execution_count": 36,
   "metadata": {},
   "outputs": [],
   "source": [
    "#xg = GradientBoostingRegressor()\n",
    "#xg.fit(Xtrain,ytrain)"
   ]
  },
  {
   "cell_type": "code",
   "execution_count": 37,
   "metadata": {},
   "outputs": [],
   "source": [
    "#features_name = data.drop('item_cnt_day', axis = 1).columns\n",
    "#Score = xg.feature_importances_\n",
    "#no_name = zip(features_name, Score)\n",
    "#temp_f = pd.DataFrame(no_name,  columns = ['name', 'score'])\n",
    "#temp_f = temp_f.sort_values('score', ascending = False)"
   ]
  },
  {
   "cell_type": "code",
   "execution_count": 38,
   "metadata": {},
   "outputs": [],
   "source": [
    "#temp_f"
   ]
  },
  {
   "cell_type": "code",
   "execution_count": 39,
   "metadata": {},
   "outputs": [],
   "source": [
    "#Select top 3 feature\n",
    "#col_name = temp_f.name.values[0:5]\n",
    "#Xtrain_xg = Xtrain[col_name]\n",
    "#Xtest_xg = Xtest[col_name]\n",
    "#Xtrain_xg = Xtrain_xg.values\n",
    "#ytrain_xg = ytrain.values\n",
    "#Xtest_xg = Xtest_xg.values\n",
    "#ytest_xg = ytest.values"
   ]
  },
  {
   "cell_type": "code",
   "execution_count": 40,
   "metadata": {},
   "outputs": [],
   "source": [
    "params = {'n_estimators': 500, 'max_depth': 4, 'min_samples_split': 2,\n",
    "          'learning_rate': 0.01, 'loss': 'ls'}"
   ]
  },
  {
   "cell_type": "code",
   "execution_count": 41,
   "metadata": {},
   "outputs": [
    {
     "data": {
      "text/plain": [
       "GradientBoostingRegressor(alpha=0.9, ccp_alpha=0.0, criterion='friedman_mse',\n",
       "                          init=None, learning_rate=0.01, loss='ls', max_depth=4,\n",
       "                          max_features=None, max_leaf_nodes=None,\n",
       "                          min_impurity_decrease=0.0, min_impurity_split=None,\n",
       "                          min_samples_leaf=1, min_samples_split=2,\n",
       "                          min_weight_fraction_leaf=0.0, n_estimators=500,\n",
       "                          n_iter_no_change=None, presort='deprecated',\n",
       "                          random_state=None, subsample=1.0, tol=0.0001,\n",
       "                          validation_fraction=0.1, verbose=0, warm_start=False)"
      ]
     },
     "execution_count": 41,
     "metadata": {},
     "output_type": "execute_result"
    }
   ],
   "source": [
    "xg = GradientBoostingRegressor(**params)\n",
    "xg.fit(Xtrain,ytrain)"
   ]
  },
  {
   "cell_type": "code",
   "execution_count": 42,
   "metadata": {},
   "outputs": [],
   "source": [
    "#Predict \n",
    "y_pred_xg = xg.predict(Xtest)\n"
   ]
  },
  {
   "cell_type": "code",
   "execution_count": 43,
   "metadata": {},
   "outputs": [],
   "source": [
    "test_accuary_xg = xg.score(Xtest, ytest)\n",
    "train_accuary_xg = xg.score(Xtrain, ytrain)\n",
    "rmse_xg = np.sqrt(mean_squared_error(ytest, y_pred_xg))"
   ]
  },
  {
   "cell_type": "code",
   "execution_count": 44,
   "metadata": {},
   "outputs": [
    {
     "name": "stdout",
     "output_type": "stream",
     "text": [
      "R^2 of model of test set:  0.4981292072037954\n",
      "RMSE of model:  0.6581896840941389\n",
      "R^2 train set:  0.4980183386591611\n"
     ]
    }
   ],
   "source": [
    "print('R^2 of model of test set: ',test_accuary_xg)\n",
    "print('RMSE of model: ', rmse_xg)\n",
    "print('R^2 train set: ', train_accuary_xg)"
   ]
  },
  {
   "cell_type": "code",
   "execution_count": null,
   "metadata": {},
   "outputs": [],
   "source": []
  },
  {
   "cell_type": "code",
   "execution_count": null,
   "metadata": {},
   "outputs": [],
   "source": []
  },
  {
   "cell_type": "code",
   "execution_count": null,
   "metadata": {},
   "outputs": [],
   "source": []
  },
  {
   "cell_type": "code",
   "execution_count": null,
   "metadata": {},
   "outputs": [],
   "source": []
  },
  {
   "cell_type": "markdown",
   "metadata": {},
   "source": [
    "# Support Vector Machines (SVM) "
   ]
  },
  {
   "cell_type": "code",
   "execution_count": null,
   "metadata": {},
   "outputs": [],
   "source": [
    "from sklearn.svm import SVR\n",
    "clf = SVR(C=1.0, epsilon=0.2)"
   ]
  },
  {
   "cell_type": "code",
   "execution_count": null,
   "metadata": {},
   "outputs": [],
   "source": [
    "clf.fit(Xtrain, ytrain)"
   ]
  },
  {
   "cell_type": "code",
   "execution_count": null,
   "metadata": {},
   "outputs": [],
   "source": [
    "y_pred_svr = clf.predict(Xtest)"
   ]
  },
  {
   "cell_type": "code",
   "execution_count": null,
   "metadata": {},
   "outputs": [],
   "source": [
    "test_accuary_tree = clf.score(Xtest, ytest)\n",
    "train_accuary_tree = clf.score(Xtrain, ytrain)\n",
    "rmse_tree = np.sqrt(mean_squared_error(ytest, y_pred_svr))"
   ]
  },
  {
   "cell_type": "code",
   "execution_count": null,
   "metadata": {},
   "outputs": [],
   "source": [
    "print('R^2 of model of test set: ',test_accuary_tree)\n",
    "print('RMSE of model: ', rmse_tree)\n",
    "print('R^2 train set: ', train_accuary_tree)"
   ]
  },
  {
   "cell_type": "code",
   "execution_count": null,
   "metadata": {},
   "outputs": [],
   "source": []
  },
  {
   "cell_type": "markdown",
   "metadata": {},
   "source": [
    "# Solution"
   ]
  },
  {
   "cell_type": "markdown",
   "metadata": {},
   "source": [
    "- Used feature engieering, to add more feature for modeling\n",
    "- Data have alot items was only 1 per day, so I used log transform to have better data\n",
    "- Also price is same, it crewed so I also use log trandform.\n",
    "- standardided and normilized both item_cnt_data and item_price\n",
    "\n",
    "- Overrall, that show xgboots regression model have better R^2 score and RMSE score\n",
    "- We choice the xgboots regression for our problem here."
   ]
  },
  {
   "cell_type": "code",
   "execution_count": null,
   "metadata": {},
   "outputs": [],
   "source": []
  }
 ],
 "metadata": {
  "kernelspec": {
   "display_name": "Python 3",
   "language": "python",
   "name": "python3"
  },
  "language_info": {
   "codemirror_mode": {
    "name": "ipython",
    "version": 3
   },
   "file_extension": ".py",
   "mimetype": "text/x-python",
   "name": "python",
   "nbconvert_exporter": "python",
   "pygments_lexer": "ipython3",
   "version": "3.7.3"
  }
 },
 "nbformat": 4,
 "nbformat_minor": 2
}
