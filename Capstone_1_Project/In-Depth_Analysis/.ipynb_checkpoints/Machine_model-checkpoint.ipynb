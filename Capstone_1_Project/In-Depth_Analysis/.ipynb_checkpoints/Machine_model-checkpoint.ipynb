{
 "cells": [
  {
   "cell_type": "markdown",
   "metadata": {},
   "source": [
    "# In-Depth Analysis: Machine Learning Models"
   ]
  },
  {
   "cell_type": "markdown",
   "metadata": {},
   "source": [
    "## Import python libarary"
   ]
  },
  {
   "cell_type": "code",
   "execution_count": 1,
   "metadata": {},
   "outputs": [],
   "source": [
    "import numpy as np\n",
    "import pandas as pd\n",
    "import matplotlib.pyplot as plt\n",
    "from sklearn.metrics import mean_squared_error\n",
    "from scipy.stats import randint\n",
    "from sklearn.model_selection import RandomizedSearchCV\n",
    "from itertools import product\n"
   ]
  },
  {
   "cell_type": "markdown",
   "metadata": {},
   "source": [
    "## Loading the data"
   ]
  },
  {
   "cell_type": "code",
   "execution_count": 2,
   "metadata": {},
   "outputs": [],
   "source": [
    "df_train_1 = pd.read_csv('data/sales_train.csv')\n",
    "df_test = pd.read_csv('data/test.csv', index_col = 'ID')\n",
    "df_item_1 = pd.read_csv('data/items.csv')"
   ]
  },
  {
   "cell_type": "code",
   "execution_count": 3,
   "metadata": {},
   "outputs": [
    {
     "name": "stdout",
     "output_type": "stream",
     "text": [
      "363\n"
     ]
    }
   ],
   "source": [
    "x = df_train_1.item_id.unique()\n",
    "y = df_test.item_id.unique()\n",
    "count = 0\n",
    "for i in y:\n",
    "    if i not in x:\n",
    "        count += 1\n",
    "print(count)"
   ]
  },
  {
   "cell_type": "code",
   "execution_count": 4,
   "metadata": {},
   "outputs": [],
   "source": [
    "df_train_2 = df_train_1[((df_train_1.item_cnt_day > 0 ) & (df_train_1.item_cnt_day < 1000))]\n",
    "df_train_2 = df_train_2[df_train_2.item_price > 0]"
   ]
  },
  {
   "cell_type": "code",
   "execution_count": 5,
   "metadata": {},
   "outputs": [],
   "source": [
    "df_train = pd.merge(df_train_2, df_item_1, how = 'left')\n",
    "df_train = df_train.drop('item_name', axis = 1)"
   ]
  },
  {
   "cell_type": "code",
   "execution_count": 6,
   "metadata": {},
   "outputs": [
    {
     "data": {
      "text/html": [
       "<div>\n",
       "<style scoped>\n",
       "    .dataframe tbody tr th:only-of-type {\n",
       "        vertical-align: middle;\n",
       "    }\n",
       "\n",
       "    .dataframe tbody tr th {\n",
       "        vertical-align: top;\n",
       "    }\n",
       "\n",
       "    .dataframe thead th {\n",
       "        text-align: right;\n",
       "    }\n",
       "</style>\n",
       "<table border=\"1\" class=\"dataframe\">\n",
       "  <thead>\n",
       "    <tr style=\"text-align: right;\">\n",
       "      <th></th>\n",
       "      <th>date</th>\n",
       "      <th>date_block_num</th>\n",
       "      <th>shop_id</th>\n",
       "      <th>item_id</th>\n",
       "      <th>item_price</th>\n",
       "      <th>item_cnt_day</th>\n",
       "      <th>item_category_id</th>\n",
       "    </tr>\n",
       "  </thead>\n",
       "  <tbody>\n",
       "    <tr>\n",
       "      <td>0</td>\n",
       "      <td>02.01.2013</td>\n",
       "      <td>0</td>\n",
       "      <td>59</td>\n",
       "      <td>22154</td>\n",
       "      <td>999.00</td>\n",
       "      <td>1.0</td>\n",
       "      <td>37</td>\n",
       "    </tr>\n",
       "    <tr>\n",
       "      <td>1</td>\n",
       "      <td>03.01.2013</td>\n",
       "      <td>0</td>\n",
       "      <td>25</td>\n",
       "      <td>2552</td>\n",
       "      <td>899.00</td>\n",
       "      <td>1.0</td>\n",
       "      <td>58</td>\n",
       "    </tr>\n",
       "    <tr>\n",
       "      <td>2</td>\n",
       "      <td>06.01.2013</td>\n",
       "      <td>0</td>\n",
       "      <td>25</td>\n",
       "      <td>2554</td>\n",
       "      <td>1709.05</td>\n",
       "      <td>1.0</td>\n",
       "      <td>58</td>\n",
       "    </tr>\n",
       "    <tr>\n",
       "      <td>3</td>\n",
       "      <td>15.01.2013</td>\n",
       "      <td>0</td>\n",
       "      <td>25</td>\n",
       "      <td>2555</td>\n",
       "      <td>1099.00</td>\n",
       "      <td>1.0</td>\n",
       "      <td>56</td>\n",
       "    </tr>\n",
       "    <tr>\n",
       "      <td>4</td>\n",
       "      <td>10.01.2013</td>\n",
       "      <td>0</td>\n",
       "      <td>25</td>\n",
       "      <td>2564</td>\n",
       "      <td>349.00</td>\n",
       "      <td>1.0</td>\n",
       "      <td>59</td>\n",
       "    </tr>\n",
       "  </tbody>\n",
       "</table>\n",
       "</div>"
      ],
      "text/plain": [
       "         date  date_block_num  shop_id  item_id  item_price  item_cnt_day  \\\n",
       "0  02.01.2013               0       59    22154      999.00           1.0   \n",
       "1  03.01.2013               0       25     2552      899.00           1.0   \n",
       "2  06.01.2013               0       25     2554     1709.05           1.0   \n",
       "3  15.01.2013               0       25     2555     1099.00           1.0   \n",
       "4  10.01.2013               0       25     2564      349.00           1.0   \n",
       "\n",
       "   item_category_id  \n",
       "0                37  \n",
       "1                58  \n",
       "2                58  \n",
       "3                56  \n",
       "4                59  "
      ]
     },
     "execution_count": 6,
     "metadata": {},
     "output_type": "execute_result"
    }
   ],
   "source": [
    "df_train.head()"
   ]
  },
  {
   "cell_type": "code",
   "execution_count": 7,
   "metadata": {},
   "outputs": [
    {
     "data": {
      "text/plain": [
       "[('date', 0),\n",
       " ('date_block_num', 0),\n",
       " ('shop_id', 0),\n",
       " ('item_id', 0),\n",
       " ('item_price', 0),\n",
       " ('item_cnt_day', 0),\n",
       " ('item_category_id', 0)]"
      ]
     },
     "execution_count": 7,
     "metadata": {},
     "output_type": "execute_result"
    }
   ],
   "source": [
    "missing = list(df_train.isnull().sum().sort_values(ascending = True).items())\n",
    "missing"
   ]
  },
  {
   "cell_type": "markdown",
   "metadata": {},
   "source": [
    "## Prepare the Data for Modeling"
   ]
  },
  {
   "cell_type": "code",
   "execution_count": 8,
   "metadata": {},
   "outputs": [],
   "source": [
    "#Creating the data frame from the sale_traing file\n",
    "#Groupby the  shop_id and item_id, date_block_num\n",
    "temp_data = df_train.groupby(['shop_id','item_id']).agg({'item_cnt_day':'sum'})\n",
    "temp_data = temp_data.reset_index()\n",
    "temp_data['train_or_test'] = 1 #set as train set\n"
   ]
  },
  {
   "cell_type": "code",
   "execution_count": 9,
   "metadata": {},
   "outputs": [
    {
     "name": "stdout",
     "output_type": "stream",
     "text": [
      "<class 'pandas.core.frame.DataFrame'>\n",
      "RangeIndex: 424098 entries, 0 to 424097\n",
      "Data columns (total 4 columns):\n",
      "shop_id          424098 non-null int64\n",
      "item_id          424098 non-null int64\n",
      "item_cnt_day     424098 non-null float64\n",
      "train_or_test    424098 non-null int64\n",
      "dtypes: float64(1), int64(3)\n",
      "memory usage: 12.9 MB\n"
     ]
    }
   ],
   "source": [
    "temp_data.info()"
   ]
  },
  {
   "cell_type": "code",
   "execution_count": 10,
   "metadata": {},
   "outputs": [],
   "source": [
    "temp_cat = df_train.groupby(['shop_id','item_id','item_category_id']).sum().reset_index()\n",
    "temp_cat = temp_cat[['shop_id','item_id','item_category_id']]"
   ]
  },
  {
   "cell_type": "code",
   "execution_count": 11,
   "metadata": {},
   "outputs": [],
   "source": [
    "df_test = pd.merge(df_test, temp_cat, how = 'left', on = ['shop_id','item_id'])\n",
    "df_test.fillna(0, inplace = True)"
   ]
  },
  {
   "cell_type": "code",
   "execution_count": 12,
   "metadata": {},
   "outputs": [
    {
     "name": "stdout",
     "output_type": "stream",
     "text": [
      "<class 'pandas.core.frame.DataFrame'>\n",
      "Int64Index: 214200 entries, 0 to 214199\n",
      "Data columns (total 3 columns):\n",
      "shop_id             214200 non-null int64\n",
      "item_id             214200 non-null int64\n",
      "item_category_id    214200 non-null float64\n",
      "dtypes: float64(1), int64(2)\n",
      "memory usage: 6.5 MB\n"
     ]
    }
   ],
   "source": [
    "df_test.info()"
   ]
  },
  {
   "cell_type": "code",
   "execution_count": 13,
   "metadata": {},
   "outputs": [],
   "source": [
    "#Merge Category_id to data frame\n",
    "temp_data = pd.merge(temp_data, temp_cat, how = 'left', on = ['shop_id', 'item_id'])"
   ]
  },
  {
   "cell_type": "code",
   "execution_count": 14,
   "metadata": {},
   "outputs": [
    {
     "name": "stdout",
     "output_type": "stream",
     "text": [
      "<class 'pandas.core.frame.DataFrame'>\n",
      "Int64Index: 424098 entries, 0 to 424097\n",
      "Data columns (total 5 columns):\n",
      "shop_id             424098 non-null int64\n",
      "item_id             424098 non-null int64\n",
      "item_cnt_day        424098 non-null float64\n",
      "train_or_test       424098 non-null int64\n",
      "item_category_id    424098 non-null int64\n",
      "dtypes: float64(1), int64(4)\n",
      "memory usage: 19.4 MB\n"
     ]
    }
   ],
   "source": [
    "temp_data.info()"
   ]
  },
  {
   "cell_type": "code",
   "execution_count": 15,
   "metadata": {},
   "outputs": [],
   "source": [
    "#Remove the item_id of test set in training set\n",
    "test_item_id = df_test.item_id.unique()\n",
    "temp_data = temp_data[~temp_data['item_id'].isin(test_item_id)]"
   ]
  },
  {
   "cell_type": "code",
   "execution_count": 16,
   "metadata": {},
   "outputs": [
    {
     "name": "stdout",
     "output_type": "stream",
     "text": [
      "<class 'pandas.core.frame.DataFrame'>\n",
      "Int64Index: 289898 entries, 4 to 424094\n",
      "Data columns (total 5 columns):\n",
      "shop_id             289898 non-null int64\n",
      "item_id             289898 non-null int64\n",
      "item_cnt_day        289898 non-null float64\n",
      "train_or_test       289898 non-null int64\n",
      "item_category_id    289898 non-null int64\n",
      "dtypes: float64(1), int64(4)\n",
      "memory usage: 13.3 MB\n"
     ]
    }
   ],
   "source": [
    "temp_data.info()"
   ]
  },
  {
   "cell_type": "code",
   "execution_count": 17,
   "metadata": {},
   "outputs": [
    {
     "name": "stdout",
     "output_type": "stream",
     "text": [
      "0\n"
     ]
    }
   ],
   "source": [
    "### Double checking if we have any item_id in train set same with test set\n",
    "list1 = temp_data.item_id.unique()\n",
    "count = 0\n",
    "for i in list1:\n",
    "    if i in test_item_id:\n",
    "        count += 1\n",
    "print(count)"
   ]
  },
  {
   "cell_type": "code",
   "execution_count": 18,
   "metadata": {},
   "outputs": [
    {
     "data": {
      "text/html": [
       "<div>\n",
       "<style scoped>\n",
       "    .dataframe tbody tr th:only-of-type {\n",
       "        vertical-align: middle;\n",
       "    }\n",
       "\n",
       "    .dataframe tbody tr th {\n",
       "        vertical-align: top;\n",
       "    }\n",
       "\n",
       "    .dataframe thead th {\n",
       "        text-align: right;\n",
       "    }\n",
       "</style>\n",
       "<table border=\"1\" class=\"dataframe\">\n",
       "  <thead>\n",
       "    <tr style=\"text-align: right;\">\n",
       "      <th></th>\n",
       "      <th>shop_id</th>\n",
       "      <th>item_id</th>\n",
       "      <th>item_cnt_day</th>\n",
       "      <th>train_or_test</th>\n",
       "      <th>item_category_id</th>\n",
       "    </tr>\n",
       "  </thead>\n",
       "  <tbody>\n",
       "    <tr>\n",
       "      <td>0</td>\n",
       "      <td>0</td>\n",
       "      <td>35</td>\n",
       "      <td>15.0</td>\n",
       "      <td>1</td>\n",
       "      <td>40.0</td>\n",
       "    </tr>\n",
       "    <tr>\n",
       "      <td>1</td>\n",
       "      <td>0</td>\n",
       "      <td>36</td>\n",
       "      <td>1.0</td>\n",
       "      <td>1</td>\n",
       "      <td>37.0</td>\n",
       "    </tr>\n",
       "    <tr>\n",
       "      <td>2</td>\n",
       "      <td>0</td>\n",
       "      <td>40</td>\n",
       "      <td>1.0</td>\n",
       "      <td>1</td>\n",
       "      <td>57.0</td>\n",
       "    </tr>\n",
       "    <tr>\n",
       "      <td>3</td>\n",
       "      <td>0</td>\n",
       "      <td>43</td>\n",
       "      <td>1.0</td>\n",
       "      <td>1</td>\n",
       "      <td>40.0</td>\n",
       "    </tr>\n",
       "    <tr>\n",
       "      <td>4</td>\n",
       "      <td>0</td>\n",
       "      <td>49</td>\n",
       "      <td>2.0</td>\n",
       "      <td>1</td>\n",
       "      <td>57.0</td>\n",
       "    </tr>\n",
       "  </tbody>\n",
       "</table>\n",
       "</div>"
      ],
      "text/plain": [
       "   shop_id  item_id  item_cnt_day  train_or_test  item_category_id\n",
       "0        0       35          15.0              1              40.0\n",
       "1        0       36           1.0              1              37.0\n",
       "2        0       40           1.0              1              57.0\n",
       "3        0       43           1.0              1              40.0\n",
       "4        0       49           2.0              1              57.0"
      ]
     },
     "execution_count": 18,
     "metadata": {},
     "output_type": "execute_result"
    }
   ],
   "source": [
    "#Create the date block number for df_test = 34\n",
    "#df_test['date_block_num'] = 34\n",
    "df_test['train_or_test'] = 0 #set as a test set\n",
    "df_test['item_cnt_day'] = 0\n",
    "#Then add the data to the df_temp_1\n",
    "df_train_test = pd.concat([temp_data, df_test], ignore_index= True, sort = False, keys = ['shop_id','item_id'])\n",
    "df_train_test.head()"
   ]
  },
  {
   "cell_type": "code",
   "execution_count": 19,
   "metadata": {},
   "outputs": [],
   "source": [
    "df_train_test = df_train_test[['train_or_test','shop_id','item_id','item_category_id','item_cnt_day']]"
   ]
  },
  {
   "cell_type": "code",
   "execution_count": 20,
   "metadata": {},
   "outputs": [
    {
     "name": "stdout",
     "output_type": "stream",
     "text": [
      "<class 'pandas.core.frame.DataFrame'>\n",
      "RangeIndex: 504098 entries, 0 to 504097\n",
      "Data columns (total 5 columns):\n",
      "train_or_test       504098 non-null int64\n",
      "shop_id             504098 non-null int64\n",
      "item_id             504098 non-null int64\n",
      "item_category_id    504098 non-null float64\n",
      "item_cnt_day        504098 non-null float64\n",
      "dtypes: float64(2), int64(3)\n",
      "memory usage: 19.2 MB\n"
     ]
    }
   ],
   "source": [
    "df_train_test.info()"
   ]
  },
  {
   "cell_type": "markdown",
   "metadata": {},
   "source": [
    "# Creating the feature for modeling"
   ]
  },
  {
   "cell_type": "code",
   "execution_count": 21,
   "metadata": {},
   "outputs": [],
   "source": [
    "#Creating the average of item_cnt_day for shop_id and date_block_num\n",
    "temp = df_train.groupby(['shop_id']).agg({'item_cnt_day':['mean']})\n",
    "temp.columns = ['shop_avg_item_cnt']\n",
    "temp = temp.reset_index()\n",
    "#Merge the feature above to the data\n",
    "df_train_test = pd.merge(df_train_test, temp, how = 'left', on = ['shop_id'])"
   ]
  },
  {
   "cell_type": "code",
   "execution_count": 22,
   "metadata": {},
   "outputs": [],
   "source": [
    "#Creating the average of item_cnt_day for date_block_num\n",
    "temp = df_train.groupby(['item_id']).agg({'item_cnt_day':['mean']})\n",
    "temp.columns = ['avg_item_cnt']\n",
    "temp = temp.reset_index()\n",
    "#Merge the feature above to the data\n",
    "df_train_test = pd.merge(df_train_test, temp, how = 'left', on = 'item_id')"
   ]
  },
  {
   "cell_type": "code",
   "execution_count": 23,
   "metadata": {},
   "outputs": [],
   "source": [
    "#Creating the average of item_cnt_day for date_block_num\n",
    "temp = df_train.groupby(['item_category_id']).agg({'item_cnt_day':['mean']})\n",
    "temp.columns = ['avg_item_cnt_each_cat']\n",
    "temp = temp.reset_index()\n",
    "#Merge the feature above to the data\n",
    "df_train_test = pd.merge(df_train_test, temp, how = 'left', on = 'item_category_id')"
   ]
  },
  {
   "cell_type": "code",
   "execution_count": 24,
   "metadata": {},
   "outputs": [],
   "source": [
    "#Creating the average of item_cnt_day for date_block_num, category_id\n",
    "\n",
    "temp = df_train.groupby(['shop_id', 'item_category_id']).agg({'item_cnt_day':['mean']})\n",
    "temp.columns = ['shop_cat_avg_item_cnt']\n",
    "temp = temp.reset_index()\n",
    "#Merge the feature above to the data\n",
    "df_train_test = pd.merge(df_train_test, temp, how = 'left', on = ['shop_id','item_category_id'])"
   ]
  },
  {
   "cell_type": "code",
   "execution_count": null,
   "metadata": {},
   "outputs": [],
   "source": []
  },
  {
   "cell_type": "code",
   "execution_count": 25,
   "metadata": {},
   "outputs": [],
   "source": [
    "#Create the average price for each item by each shop_id and item_id\n",
    "temp_data_1 = df_train.groupby(['shop_id']).agg({'item_price':['mean']})\n",
    "temp_data_1.columns = ['avg_price_ofshop']\n",
    "temp_data_1 = temp_data_1.reset_index()\n",
    "\n",
    "df_train_test = pd.merge(df_train_test, temp_data_1, how = 'left', on = ['shop_id'])"
   ]
  },
  {
   "cell_type": "code",
   "execution_count": 26,
   "metadata": {},
   "outputs": [],
   "source": [
    "#Create the average price for each item by each shop_id and item_id\n",
    "temp_data_1 = df_train.groupby(['shop_id','item_id']).agg({'item_price':['mean']})\n",
    "temp_data_1.columns = ['avg_price_each_item_ofshop']\n",
    "temp_data_1 = temp_data_1.reset_index()\n",
    "\n",
    "df_train_test = pd.merge(df_train_test, temp_data_1, how = 'left', on = ['shop_id','item_id'])\n"
   ]
  },
  {
   "cell_type": "code",
   "execution_count": 27,
   "metadata": {},
   "outputs": [],
   "source": [
    "#Create the average price for each item by each shop_id and item_id\n",
    "temp_data_1 = df_train.groupby(['shop_id','item_category_id','item_id']).agg({'item_price':['mean']})\n",
    "temp_data_1.columns = ['avg_price_each_item_cat_ofshop']\n",
    "temp_data_1 = temp_data_1.reset_index()\n",
    "\n",
    "df_train_test = pd.merge(df_train_test, temp_data_1, how = 'left', on = ['shop_id','item_category_id','item_id'])\n"
   ]
  },
  {
   "cell_type": "code",
   "execution_count": 28,
   "metadata": {},
   "outputs": [],
   "source": [
    "#Create the average price for each item by each shop_id and item_id\n",
    "temp_data_1 = df_train.groupby(['item_id']).agg({'item_price':['min','max','mean']})\n",
    "temp_data_1.columns = ['min_price_each_item','max_price_each_item', 'mean_price_each_item']\n",
    "temp_data_1 = temp_data_1.reset_index()\n",
    "\n",
    "df_train_test = pd.merge(df_train_test, temp_data_1, how = 'left', on = ['item_id'])"
   ]
  },
  {
   "cell_type": "code",
   "execution_count": 29,
   "metadata": {},
   "outputs": [
    {
     "data": {
      "text/html": [
       "<div>\n",
       "<style scoped>\n",
       "    .dataframe tbody tr th:only-of-type {\n",
       "        vertical-align: middle;\n",
       "    }\n",
       "\n",
       "    .dataframe tbody tr th {\n",
       "        vertical-align: top;\n",
       "    }\n",
       "\n",
       "    .dataframe thead th {\n",
       "        text-align: right;\n",
       "    }\n",
       "</style>\n",
       "<table border=\"1\" class=\"dataframe\">\n",
       "  <thead>\n",
       "    <tr style=\"text-align: right;\">\n",
       "      <th></th>\n",
       "      <th>train_or_test</th>\n",
       "      <th>shop_id</th>\n",
       "      <th>item_id</th>\n",
       "      <th>item_category_id</th>\n",
       "      <th>item_cnt_day</th>\n",
       "      <th>shop_avg_item_cnt</th>\n",
       "      <th>avg_item_cnt</th>\n",
       "      <th>avg_item_cnt_each_cat</th>\n",
       "      <th>shop_cat_avg_item_cnt</th>\n",
       "      <th>avg_price_ofshop</th>\n",
       "      <th>avg_price_each_item_ofshop</th>\n",
       "      <th>avg_price_each_item_cat_ofshop</th>\n",
       "      <th>min_price_each_item</th>\n",
       "      <th>max_price_each_item</th>\n",
       "      <th>mean_price_each_item</th>\n",
       "    </tr>\n",
       "  </thead>\n",
       "  <tbody>\n",
       "    <tr>\n",
       "      <td>0</td>\n",
       "      <td>1</td>\n",
       "      <td>0</td>\n",
       "      <td>35</td>\n",
       "      <td>40.0</td>\n",
       "      <td>15.0</td>\n",
       "      <td>1.187481</td>\n",
       "      <td>1.233333</td>\n",
       "      <td>1.125806</td>\n",
       "      <td>1.248923</td>\n",
       "      <td>563.444151</td>\n",
       "      <td>247.0</td>\n",
       "      <td>247.0</td>\n",
       "      <td>148.0</td>\n",
       "      <td>399.0</td>\n",
       "      <td>375.828056</td>\n",
       "    </tr>\n",
       "    <tr>\n",
       "      <td>1</td>\n",
       "      <td>1</td>\n",
       "      <td>0</td>\n",
       "      <td>36</td>\n",
       "      <td>37.0</td>\n",
       "      <td>1.0</td>\n",
       "      <td>1.187481</td>\n",
       "      <td>1.000000</td>\n",
       "      <td>1.063038</td>\n",
       "      <td>1.071181</td>\n",
       "      <td>563.444151</td>\n",
       "      <td>357.0</td>\n",
       "      <td>357.0</td>\n",
       "      <td>58.0</td>\n",
       "      <td>549.0</td>\n",
       "      <td>183.012195</td>\n",
       "    </tr>\n",
       "    <tr>\n",
       "      <td>2</td>\n",
       "      <td>1</td>\n",
       "      <td>0</td>\n",
       "      <td>40</td>\n",
       "      <td>57.0</td>\n",
       "      <td>1.0</td>\n",
       "      <td>1.187481</td>\n",
       "      <td>1.000000</td>\n",
       "      <td>1.009961</td>\n",
       "      <td>1.013072</td>\n",
       "      <td>563.444151</td>\n",
       "      <td>127.0</td>\n",
       "      <td>127.0</td>\n",
       "      <td>127.0</td>\n",
       "      <td>249.0</td>\n",
       "      <td>245.138298</td>\n",
       "    </tr>\n",
       "    <tr>\n",
       "      <td>3</td>\n",
       "      <td>1</td>\n",
       "      <td>0</td>\n",
       "      <td>43</td>\n",
       "      <td>40.0</td>\n",
       "      <td>1.0</td>\n",
       "      <td>1.187481</td>\n",
       "      <td>1.000000</td>\n",
       "      <td>1.125806</td>\n",
       "      <td>1.248923</td>\n",
       "      <td>563.444151</td>\n",
       "      <td>221.0</td>\n",
       "      <td>221.0</td>\n",
       "      <td>98.0</td>\n",
       "      <td>248.0</td>\n",
       "      <td>167.222222</td>\n",
       "    </tr>\n",
       "    <tr>\n",
       "      <td>4</td>\n",
       "      <td>1</td>\n",
       "      <td>0</td>\n",
       "      <td>49</td>\n",
       "      <td>57.0</td>\n",
       "      <td>2.0</td>\n",
       "      <td>1.187481</td>\n",
       "      <td>1.005405</td>\n",
       "      <td>1.009961</td>\n",
       "      <td>1.013072</td>\n",
       "      <td>563.444151</td>\n",
       "      <td>127.0</td>\n",
       "      <td>127.0</td>\n",
       "      <td>127.0</td>\n",
       "      <td>299.0</td>\n",
       "      <td>271.681081</td>\n",
       "    </tr>\n",
       "    <tr>\n",
       "      <td>5</td>\n",
       "      <td>1</td>\n",
       "      <td>0</td>\n",
       "      <td>61</td>\n",
       "      <td>43.0</td>\n",
       "      <td>1.0</td>\n",
       "      <td>1.187481</td>\n",
       "      <td>1.000000</td>\n",
       "      <td>1.004527</td>\n",
       "      <td>1.000000</td>\n",
       "      <td>563.444151</td>\n",
       "      <td>195.0</td>\n",
       "      <td>195.0</td>\n",
       "      <td>195.0</td>\n",
       "      <td>349.0</td>\n",
       "      <td>319.916667</td>\n",
       "    </tr>\n",
       "    <tr>\n",
       "      <td>6</td>\n",
       "      <td>1</td>\n",
       "      <td>0</td>\n",
       "      <td>75</td>\n",
       "      <td>40.0</td>\n",
       "      <td>1.0</td>\n",
       "      <td>1.187481</td>\n",
       "      <td>1.000000</td>\n",
       "      <td>1.125806</td>\n",
       "      <td>1.248923</td>\n",
       "      <td>563.444151</td>\n",
       "      <td>76.0</td>\n",
       "      <td>76.0</td>\n",
       "      <td>76.0</td>\n",
       "      <td>149.0</td>\n",
       "      <td>142.105882</td>\n",
       "    </tr>\n",
       "    <tr>\n",
       "      <td>7</td>\n",
       "      <td>1</td>\n",
       "      <td>0</td>\n",
       "      <td>85</td>\n",
       "      <td>37.0</td>\n",
       "      <td>1.0</td>\n",
       "      <td>1.187481</td>\n",
       "      <td>1.000000</td>\n",
       "      <td>1.063038</td>\n",
       "      <td>1.071181</td>\n",
       "      <td>563.444151</td>\n",
       "      <td>190.0</td>\n",
       "      <td>190.0</td>\n",
       "      <td>190.0</td>\n",
       "      <td>299.0</td>\n",
       "      <td>289.368182</td>\n",
       "    </tr>\n",
       "    <tr>\n",
       "      <td>8</td>\n",
       "      <td>1</td>\n",
       "      <td>0</td>\n",
       "      <td>95</td>\n",
       "      <td>40.0</td>\n",
       "      <td>1.0</td>\n",
       "      <td>1.187481</td>\n",
       "      <td>1.000000</td>\n",
       "      <td>1.125806</td>\n",
       "      <td>1.248923</td>\n",
       "      <td>563.444151</td>\n",
       "      <td>193.0</td>\n",
       "      <td>193.0</td>\n",
       "      <td>193.0</td>\n",
       "      <td>299.0</td>\n",
       "      <td>259.000000</td>\n",
       "    </tr>\n",
       "    <tr>\n",
       "      <td>9</td>\n",
       "      <td>1</td>\n",
       "      <td>0</td>\n",
       "      <td>96</td>\n",
       "      <td>40.0</td>\n",
       "      <td>1.0</td>\n",
       "      <td>1.187481</td>\n",
       "      <td>1.000000</td>\n",
       "      <td>1.125806</td>\n",
       "      <td>1.248923</td>\n",
       "      <td>563.444151</td>\n",
       "      <td>70.0</td>\n",
       "      <td>70.0</td>\n",
       "      <td>70.0</td>\n",
       "      <td>149.0</td>\n",
       "      <td>145.238095</td>\n",
       "    </tr>\n",
       "  </tbody>\n",
       "</table>\n",
       "</div>"
      ],
      "text/plain": [
       "   train_or_test  shop_id  item_id  item_category_id  item_cnt_day  \\\n",
       "0              1        0       35              40.0          15.0   \n",
       "1              1        0       36              37.0           1.0   \n",
       "2              1        0       40              57.0           1.0   \n",
       "3              1        0       43              40.0           1.0   \n",
       "4              1        0       49              57.0           2.0   \n",
       "5              1        0       61              43.0           1.0   \n",
       "6              1        0       75              40.0           1.0   \n",
       "7              1        0       85              37.0           1.0   \n",
       "8              1        0       95              40.0           1.0   \n",
       "9              1        0       96              40.0           1.0   \n",
       "\n",
       "   shop_avg_item_cnt  avg_item_cnt  avg_item_cnt_each_cat  \\\n",
       "0           1.187481      1.233333               1.125806   \n",
       "1           1.187481      1.000000               1.063038   \n",
       "2           1.187481      1.000000               1.009961   \n",
       "3           1.187481      1.000000               1.125806   \n",
       "4           1.187481      1.005405               1.009961   \n",
       "5           1.187481      1.000000               1.004527   \n",
       "6           1.187481      1.000000               1.125806   \n",
       "7           1.187481      1.000000               1.063038   \n",
       "8           1.187481      1.000000               1.125806   \n",
       "9           1.187481      1.000000               1.125806   \n",
       "\n",
       "   shop_cat_avg_item_cnt  avg_price_ofshop  avg_price_each_item_ofshop  \\\n",
       "0               1.248923        563.444151                       247.0   \n",
       "1               1.071181        563.444151                       357.0   \n",
       "2               1.013072        563.444151                       127.0   \n",
       "3               1.248923        563.444151                       221.0   \n",
       "4               1.013072        563.444151                       127.0   \n",
       "5               1.000000        563.444151                       195.0   \n",
       "6               1.248923        563.444151                        76.0   \n",
       "7               1.071181        563.444151                       190.0   \n",
       "8               1.248923        563.444151                       193.0   \n",
       "9               1.248923        563.444151                        70.0   \n",
       "\n",
       "   avg_price_each_item_cat_ofshop  min_price_each_item  max_price_each_item  \\\n",
       "0                           247.0                148.0                399.0   \n",
       "1                           357.0                 58.0                549.0   \n",
       "2                           127.0                127.0                249.0   \n",
       "3                           221.0                 98.0                248.0   \n",
       "4                           127.0                127.0                299.0   \n",
       "5                           195.0                195.0                349.0   \n",
       "6                            76.0                 76.0                149.0   \n",
       "7                           190.0                190.0                299.0   \n",
       "8                           193.0                193.0                299.0   \n",
       "9                            70.0                 70.0                149.0   \n",
       "\n",
       "   mean_price_each_item  \n",
       "0            375.828056  \n",
       "1            183.012195  \n",
       "2            245.138298  \n",
       "3            167.222222  \n",
       "4            271.681081  \n",
       "5            319.916667  \n",
       "6            142.105882  \n",
       "7            289.368182  \n",
       "8            259.000000  \n",
       "9            145.238095  "
      ]
     },
     "execution_count": 29,
     "metadata": {},
     "output_type": "execute_result"
    }
   ],
   "source": [
    "df_train_test.head(10)"
   ]
  },
  {
   "cell_type": "code",
   "execution_count": 31,
   "metadata": {},
   "outputs": [
    {
     "data": {
      "text/html": [
       "<div>\n",
       "<style scoped>\n",
       "    .dataframe tbody tr th:only-of-type {\n",
       "        vertical-align: middle;\n",
       "    }\n",
       "\n",
       "    .dataframe tbody tr th {\n",
       "        vertical-align: top;\n",
       "    }\n",
       "\n",
       "    .dataframe thead th {\n",
       "        text-align: right;\n",
       "    }\n",
       "</style>\n",
       "<table border=\"1\" class=\"dataframe\">\n",
       "  <thead>\n",
       "    <tr style=\"text-align: right;\">\n",
       "      <th></th>\n",
       "      <th>count</th>\n",
       "      <th>mean</th>\n",
       "      <th>std</th>\n",
       "      <th>min</th>\n",
       "      <th>25%</th>\n",
       "      <th>50%</th>\n",
       "      <th>75%</th>\n",
       "      <th>max</th>\n",
       "    </tr>\n",
       "  </thead>\n",
       "  <tbody>\n",
       "    <tr>\n",
       "      <td>train_or_test</td>\n",
       "      <td>504098.0</td>\n",
       "      <td>0.575083</td>\n",
       "      <td>0.494331</td>\n",
       "      <td>0.000000</td>\n",
       "      <td>0.000000</td>\n",
       "      <td>1.000000</td>\n",
       "      <td>1.000000</td>\n",
       "      <td>1.000000</td>\n",
       "    </tr>\n",
       "    <tr>\n",
       "      <td>shop_id</td>\n",
       "      <td>504098.0</td>\n",
       "      <td>31.509905</td>\n",
       "      <td>17.236922</td>\n",
       "      <td>0.000000</td>\n",
       "      <td>18.000000</td>\n",
       "      <td>31.000000</td>\n",
       "      <td>47.000000</td>\n",
       "      <td>59.000000</td>\n",
       "    </tr>\n",
       "    <tr>\n",
       "      <td>item_id</td>\n",
       "      <td>504098.0</td>\n",
       "      <td>11423.812642</td>\n",
       "      <td>6175.751291</td>\n",
       "      <td>0.000000</td>\n",
       "      <td>6183.000000</td>\n",
       "      <td>11648.000000</td>\n",
       "      <td>16587.000000</td>\n",
       "      <td>22169.000000</td>\n",
       "    </tr>\n",
       "    <tr>\n",
       "      <td>item_category_id</td>\n",
       "      <td>504098.0</td>\n",
       "      <td>33.814760</td>\n",
       "      <td>21.795979</td>\n",
       "      <td>0.000000</td>\n",
       "      <td>19.000000</td>\n",
       "      <td>40.000000</td>\n",
       "      <td>55.000000</td>\n",
       "      <td>83.000000</td>\n",
       "    </tr>\n",
       "    <tr>\n",
       "      <td>item_cnt_day</td>\n",
       "      <td>504098.0</td>\n",
       "      <td>3.429962</td>\n",
       "      <td>12.681862</td>\n",
       "      <td>0.000000</td>\n",
       "      <td>0.000000</td>\n",
       "      <td>1.000000</td>\n",
       "      <td>3.000000</td>\n",
       "      <td>1704.000000</td>\n",
       "    </tr>\n",
       "    <tr>\n",
       "      <td>shop_avg_item_cnt</td>\n",
       "      <td>504098.0</td>\n",
       "      <td>1.232275</td>\n",
       "      <td>0.200483</td>\n",
       "      <td>1.057546</td>\n",
       "      <td>1.156484</td>\n",
       "      <td>1.185057</td>\n",
       "      <td>1.261944</td>\n",
       "      <td>4.240983</td>\n",
       "    </tr>\n",
       "    <tr>\n",
       "      <td>avg_item_cnt</td>\n",
       "      <td>488852.0</td>\n",
       "      <td>1.095128</td>\n",
       "      <td>0.527419</td>\n",
       "      <td>1.000000</td>\n",
       "      <td>1.000000</td>\n",
       "      <td>1.014870</td>\n",
       "      <td>1.069767</td>\n",
       "      <td>65.473684</td>\n",
       "    </tr>\n",
       "    <tr>\n",
       "      <td>avg_item_cnt_each_cat</td>\n",
       "      <td>504098.0</td>\n",
       "      <td>1.107126</td>\n",
       "      <td>0.173733</td>\n",
       "      <td>1.000000</td>\n",
       "      <td>1.029260</td>\n",
       "      <td>1.063038</td>\n",
       "      <td>1.125806</td>\n",
       "      <td>7.329770</td>\n",
       "    </tr>\n",
       "    <tr>\n",
       "      <td>shop_cat_avg_item_cnt</td>\n",
       "      <td>404852.0</td>\n",
       "      <td>1.114135</td>\n",
       "      <td>0.784104</td>\n",
       "      <td>1.000000</td>\n",
       "      <td>1.022305</td>\n",
       "      <td>1.055825</td>\n",
       "      <td>1.126519</td>\n",
       "      <td>333.666667</td>\n",
       "    </tr>\n",
       "    <tr>\n",
       "      <td>avg_price_ofshop</td>\n",
       "      <td>504098.0</td>\n",
       "      <td>921.241079</td>\n",
       "      <td>179.074771</td>\n",
       "      <td>299.237067</td>\n",
       "      <td>834.664881</td>\n",
       "      <td>917.856259</td>\n",
       "      <td>973.275624</td>\n",
       "      <td>1458.766652</td>\n",
       "    </tr>\n",
       "    <tr>\n",
       "      <td>avg_price_each_item_ofshop</td>\n",
       "      <td>401302.0</td>\n",
       "      <td>795.310173</td>\n",
       "      <td>1793.346292</td>\n",
       "      <td>0.090000</td>\n",
       "      <td>199.000000</td>\n",
       "      <td>349.000000</td>\n",
       "      <td>787.648750</td>\n",
       "      <td>307980.000000</td>\n",
       "    </tr>\n",
       "    <tr>\n",
       "      <td>avg_price_each_item_cat_ofshop</td>\n",
       "      <td>401302.0</td>\n",
       "      <td>795.310173</td>\n",
       "      <td>1793.346292</td>\n",
       "      <td>0.090000</td>\n",
       "      <td>199.000000</td>\n",
       "      <td>349.000000</td>\n",
       "      <td>787.648750</td>\n",
       "      <td>307980.000000</td>\n",
       "    </tr>\n",
       "    <tr>\n",
       "      <td>min_price_each_item</td>\n",
       "      <td>488852.0</td>\n",
       "      <td>578.803540</td>\n",
       "      <td>1553.195876</td>\n",
       "      <td>0.070000</td>\n",
       "      <td>98.000000</td>\n",
       "      <td>215.000000</td>\n",
       "      <td>530.000000</td>\n",
       "      <td>307980.000000</td>\n",
       "    </tr>\n",
       "    <tr>\n",
       "      <td>max_price_each_item</td>\n",
       "      <td>488852.0</td>\n",
       "      <td>995.165855</td>\n",
       "      <td>2184.790677</td>\n",
       "      <td>5.000000</td>\n",
       "      <td>249.000000</td>\n",
       "      <td>399.000000</td>\n",
       "      <td>999.000000</td>\n",
       "      <td>307980.000000</td>\n",
       "    </tr>\n",
       "    <tr>\n",
       "      <td>mean_price_each_item</td>\n",
       "      <td>488852.0</td>\n",
       "      <td>847.228567</td>\n",
       "      <td>1849.119334</td>\n",
       "      <td>4.914877</td>\n",
       "      <td>211.959517</td>\n",
       "      <td>361.761905</td>\n",
       "      <td>888.156627</td>\n",
       "      <td>307980.000000</td>\n",
       "    </tr>\n",
       "  </tbody>\n",
       "</table>\n",
       "</div>"
      ],
      "text/plain": [
       "                                   count          mean          std  \\\n",
       "train_or_test                   504098.0      0.575083     0.494331   \n",
       "shop_id                         504098.0     31.509905    17.236922   \n",
       "item_id                         504098.0  11423.812642  6175.751291   \n",
       "item_category_id                504098.0     33.814760    21.795979   \n",
       "item_cnt_day                    504098.0      3.429962    12.681862   \n",
       "shop_avg_item_cnt               504098.0      1.232275     0.200483   \n",
       "avg_item_cnt                    488852.0      1.095128     0.527419   \n",
       "avg_item_cnt_each_cat           504098.0      1.107126     0.173733   \n",
       "shop_cat_avg_item_cnt           404852.0      1.114135     0.784104   \n",
       "avg_price_ofshop                504098.0    921.241079   179.074771   \n",
       "avg_price_each_item_ofshop      401302.0    795.310173  1793.346292   \n",
       "avg_price_each_item_cat_ofshop  401302.0    795.310173  1793.346292   \n",
       "min_price_each_item             488852.0    578.803540  1553.195876   \n",
       "max_price_each_item             488852.0    995.165855  2184.790677   \n",
       "mean_price_each_item            488852.0    847.228567  1849.119334   \n",
       "\n",
       "                                       min          25%           50%  \\\n",
       "train_or_test                     0.000000     0.000000      1.000000   \n",
       "shop_id                           0.000000    18.000000     31.000000   \n",
       "item_id                           0.000000  6183.000000  11648.000000   \n",
       "item_category_id                  0.000000    19.000000     40.000000   \n",
       "item_cnt_day                      0.000000     0.000000      1.000000   \n",
       "shop_avg_item_cnt                 1.057546     1.156484      1.185057   \n",
       "avg_item_cnt                      1.000000     1.000000      1.014870   \n",
       "avg_item_cnt_each_cat             1.000000     1.029260      1.063038   \n",
       "shop_cat_avg_item_cnt             1.000000     1.022305      1.055825   \n",
       "avg_price_ofshop                299.237067   834.664881    917.856259   \n",
       "avg_price_each_item_ofshop        0.090000   199.000000    349.000000   \n",
       "avg_price_each_item_cat_ofshop    0.090000   199.000000    349.000000   \n",
       "min_price_each_item               0.070000    98.000000    215.000000   \n",
       "max_price_each_item               5.000000   249.000000    399.000000   \n",
       "mean_price_each_item              4.914877   211.959517    361.761905   \n",
       "\n",
       "                                         75%            max  \n",
       "train_or_test                       1.000000       1.000000  \n",
       "shop_id                            47.000000      59.000000  \n",
       "item_id                         16587.000000   22169.000000  \n",
       "item_category_id                   55.000000      83.000000  \n",
       "item_cnt_day                        3.000000    1704.000000  \n",
       "shop_avg_item_cnt                   1.261944       4.240983  \n",
       "avg_item_cnt                        1.069767      65.473684  \n",
       "avg_item_cnt_each_cat               1.125806       7.329770  \n",
       "shop_cat_avg_item_cnt               1.126519     333.666667  \n",
       "avg_price_ofshop                  973.275624    1458.766652  \n",
       "avg_price_each_item_ofshop        787.648750  307980.000000  \n",
       "avg_price_each_item_cat_ofshop    787.648750  307980.000000  \n",
       "min_price_each_item               530.000000  307980.000000  \n",
       "max_price_each_item               999.000000  307980.000000  \n",
       "mean_price_each_item              888.156627  307980.000000  "
      ]
     },
     "execution_count": 31,
     "metadata": {},
     "output_type": "execute_result"
    }
   ],
   "source": [
    "df_train_test.describe().T"
   ]
  },
  {
   "cell_type": "code",
   "execution_count": 32,
   "metadata": {},
   "outputs": [
    {
     "name": "stdout",
     "output_type": "stream",
     "text": [
      "<class 'pandas.core.frame.DataFrame'>\n",
      "Int64Index: 504098 entries, 0 to 504097\n",
      "Data columns (total 15 columns):\n",
      "train_or_test                     504098 non-null int64\n",
      "shop_id                           504098 non-null int64\n",
      "item_id                           504098 non-null int64\n",
      "item_category_id                  504098 non-null float64\n",
      "item_cnt_day                      504098 non-null float64\n",
      "shop_avg_item_cnt                 504098 non-null float64\n",
      "avg_item_cnt                      488852 non-null float64\n",
      "avg_item_cnt_each_cat             504098 non-null float64\n",
      "shop_cat_avg_item_cnt             404852 non-null float64\n",
      "avg_price_ofshop                  504098 non-null float64\n",
      "avg_price_each_item_ofshop        401302 non-null float64\n",
      "avg_price_each_item_cat_ofshop    401302 non-null float64\n",
      "min_price_each_item               488852 non-null float64\n",
      "max_price_each_item               488852 non-null float64\n",
      "mean_price_each_item              488852 non-null float64\n",
      "dtypes: float64(12), int64(3)\n",
      "memory usage: 61.5 MB\n"
     ]
    }
   ],
   "source": [
    "df_train_test.info()"
   ]
  },
  {
   "cell_type": "code",
   "execution_count": 33,
   "metadata": {},
   "outputs": [],
   "source": [
    "df_train_test.fillna(0, inplace = True)"
   ]
  },
  {
   "cell_type": "code",
   "execution_count": 34,
   "metadata": {},
   "outputs": [
    {
     "data": {
      "text/plain": [
       "Index(['train_or_test', 'shop_id', 'item_id', 'item_category_id',\n",
       "       'item_cnt_day', 'shop_avg_item_cnt', 'avg_item_cnt',\n",
       "       'avg_item_cnt_each_cat', 'shop_cat_avg_item_cnt', 'avg_price_ofshop',\n",
       "       'avg_price_each_item_ofshop', 'avg_price_each_item_cat_ofshop',\n",
       "       'min_price_each_item', 'max_price_each_item', 'mean_price_each_item'],\n",
       "      dtype='object')"
      ]
     },
     "execution_count": 34,
     "metadata": {},
     "output_type": "execute_result"
    }
   ],
   "source": [
    "df_train_test.columns"
   ]
  },
  {
   "cell_type": "markdown",
   "metadata": {},
   "source": [
    "int_col = ['train_or_test','shop_id','item_id']\n",
    "float_col = ['item_category_id',\n",
    "       'item_cnt_day', 'shop_avg_item_cnt', 'avg_item_cnt',\n",
    "       'avg_item_cnt_each_cat', 'shop_cat_avg_item_cnt', 'avg_price_ofshop',\n",
    "       'avg_price_each_item_ofshop', 'avg_price_each_item_cat_ofshop',\n",
    "       'min_price_each_item', 'max_price_each_item', 'mean_price_each_item']\n",
    "\n",
    "for i in int_col:\n",
    "    df_train_test[i]= df_train_test[i].astype(np.int32)\n",
    "for i in float_col:\n",
    "    df_train_test[i]= df_train_test[i].astype(np.float32)"
   ]
  },
  {
   "cell_type": "code",
   "execution_count": 35,
   "metadata": {},
   "outputs": [
    {
     "data": {
      "text/plain": [
       "[('train_or_test', 0),\n",
       " ('shop_id', 0),\n",
       " ('item_id', 0),\n",
       " ('item_category_id', 0),\n",
       " ('item_cnt_day', 0),\n",
       " ('shop_avg_item_cnt', 0),\n",
       " ('avg_item_cnt', 0),\n",
       " ('avg_item_cnt_each_cat', 0),\n",
       " ('shop_cat_avg_item_cnt', 0),\n",
       " ('avg_price_ofshop', 0),\n",
       " ('avg_price_each_item_ofshop', 0),\n",
       " ('avg_price_each_item_cat_ofshop', 0),\n",
       " ('min_price_each_item', 0),\n",
       " ('max_price_each_item', 0),\n",
       " ('mean_price_each_item', 0)]"
      ]
     },
     "execution_count": 35,
     "metadata": {},
     "output_type": "execute_result"
    }
   ],
   "source": [
    "missing = list(df_train_test.isnull().sum().sort_values(ascending = True).items())\n",
    "missing"
   ]
  },
  {
   "cell_type": "code",
   "execution_count": 36,
   "metadata": {},
   "outputs": [
    {
     "data": {
      "text/html": [
       "<div>\n",
       "<style scoped>\n",
       "    .dataframe tbody tr th:only-of-type {\n",
       "        vertical-align: middle;\n",
       "    }\n",
       "\n",
       "    .dataframe tbody tr th {\n",
       "        vertical-align: top;\n",
       "    }\n",
       "\n",
       "    .dataframe thead th {\n",
       "        text-align: right;\n",
       "    }\n",
       "</style>\n",
       "<table border=\"1\" class=\"dataframe\">\n",
       "  <thead>\n",
       "    <tr style=\"text-align: right;\">\n",
       "      <th></th>\n",
       "      <th>count</th>\n",
       "      <th>mean</th>\n",
       "      <th>std</th>\n",
       "      <th>min</th>\n",
       "      <th>25%</th>\n",
       "      <th>50%</th>\n",
       "      <th>75%</th>\n",
       "      <th>max</th>\n",
       "    </tr>\n",
       "  </thead>\n",
       "  <tbody>\n",
       "    <tr>\n",
       "      <td>train_or_test</td>\n",
       "      <td>504098.0</td>\n",
       "      <td>0.575083</td>\n",
       "      <td>0.494331</td>\n",
       "      <td>0.000000</td>\n",
       "      <td>0.000000</td>\n",
       "      <td>1.000000</td>\n",
       "      <td>1.000000</td>\n",
       "      <td>1.000000</td>\n",
       "    </tr>\n",
       "    <tr>\n",
       "      <td>shop_id</td>\n",
       "      <td>504098.0</td>\n",
       "      <td>31.509905</td>\n",
       "      <td>17.236922</td>\n",
       "      <td>0.000000</td>\n",
       "      <td>18.000000</td>\n",
       "      <td>31.000000</td>\n",
       "      <td>47.000000</td>\n",
       "      <td>59.000000</td>\n",
       "    </tr>\n",
       "    <tr>\n",
       "      <td>item_id</td>\n",
       "      <td>504098.0</td>\n",
       "      <td>11423.812642</td>\n",
       "      <td>6175.751291</td>\n",
       "      <td>0.000000</td>\n",
       "      <td>6183.000000</td>\n",
       "      <td>11648.000000</td>\n",
       "      <td>16587.000000</td>\n",
       "      <td>22169.000000</td>\n",
       "    </tr>\n",
       "    <tr>\n",
       "      <td>item_category_id</td>\n",
       "      <td>504098.0</td>\n",
       "      <td>33.814760</td>\n",
       "      <td>21.795979</td>\n",
       "      <td>0.000000</td>\n",
       "      <td>19.000000</td>\n",
       "      <td>40.000000</td>\n",
       "      <td>55.000000</td>\n",
       "      <td>83.000000</td>\n",
       "    </tr>\n",
       "    <tr>\n",
       "      <td>item_cnt_day</td>\n",
       "      <td>504098.0</td>\n",
       "      <td>3.429962</td>\n",
       "      <td>12.681862</td>\n",
       "      <td>0.000000</td>\n",
       "      <td>0.000000</td>\n",
       "      <td>1.000000</td>\n",
       "      <td>3.000000</td>\n",
       "      <td>1704.000000</td>\n",
       "    </tr>\n",
       "    <tr>\n",
       "      <td>shop_avg_item_cnt</td>\n",
       "      <td>504098.0</td>\n",
       "      <td>1.232275</td>\n",
       "      <td>0.200483</td>\n",
       "      <td>1.057546</td>\n",
       "      <td>1.156484</td>\n",
       "      <td>1.185057</td>\n",
       "      <td>1.261944</td>\n",
       "      <td>4.240983</td>\n",
       "    </tr>\n",
       "    <tr>\n",
       "      <td>avg_item_cnt</td>\n",
       "      <td>504098.0</td>\n",
       "      <td>1.062006</td>\n",
       "      <td>0.552207</td>\n",
       "      <td>0.000000</td>\n",
       "      <td>1.000000</td>\n",
       "      <td>1.013072</td>\n",
       "      <td>1.067010</td>\n",
       "      <td>65.473684</td>\n",
       "    </tr>\n",
       "    <tr>\n",
       "      <td>avg_item_cnt_each_cat</td>\n",
       "      <td>504098.0</td>\n",
       "      <td>1.107126</td>\n",
       "      <td>0.173733</td>\n",
       "      <td>1.000000</td>\n",
       "      <td>1.029260</td>\n",
       "      <td>1.063038</td>\n",
       "      <td>1.125806</td>\n",
       "      <td>7.329770</td>\n",
       "    </tr>\n",
       "    <tr>\n",
       "      <td>shop_cat_avg_item_cnt</td>\n",
       "      <td>504098.0</td>\n",
       "      <td>0.894786</td>\n",
       "      <td>0.830689</td>\n",
       "      <td>0.000000</td>\n",
       "      <td>1.005534</td>\n",
       "      <td>1.038840</td>\n",
       "      <td>1.099099</td>\n",
       "      <td>333.666667</td>\n",
       "    </tr>\n",
       "    <tr>\n",
       "      <td>avg_price_ofshop</td>\n",
       "      <td>504098.0</td>\n",
       "      <td>921.241079</td>\n",
       "      <td>179.074771</td>\n",
       "      <td>299.237067</td>\n",
       "      <td>834.664881</td>\n",
       "      <td>917.856259</td>\n",
       "      <td>973.275624</td>\n",
       "      <td>1458.766652</td>\n",
       "    </tr>\n",
       "    <tr>\n",
       "      <td>avg_price_each_item_ofshop</td>\n",
       "      <td>504098.0</td>\n",
       "      <td>633.129993</td>\n",
       "      <td>1631.852800</td>\n",
       "      <td>0.000000</td>\n",
       "      <td>113.074019</td>\n",
       "      <td>298.000000</td>\n",
       "      <td>572.465893</td>\n",
       "      <td>307980.000000</td>\n",
       "    </tr>\n",
       "    <tr>\n",
       "      <td>avg_price_each_item_cat_ofshop</td>\n",
       "      <td>504098.0</td>\n",
       "      <td>633.129993</td>\n",
       "      <td>1631.852800</td>\n",
       "      <td>0.000000</td>\n",
       "      <td>113.074019</td>\n",
       "      <td>298.000000</td>\n",
       "      <td>572.465893</td>\n",
       "      <td>307980.000000</td>\n",
       "    </tr>\n",
       "    <tr>\n",
       "      <td>min_price_each_item</td>\n",
       "      <td>504098.0</td>\n",
       "      <td>561.298137</td>\n",
       "      <td>1532.736642</td>\n",
       "      <td>0.000000</td>\n",
       "      <td>91.110000</td>\n",
       "      <td>200.660000</td>\n",
       "      <td>500.000000</td>\n",
       "      <td>307980.000000</td>\n",
       "    </tr>\n",
       "    <tr>\n",
       "      <td>max_price_each_item</td>\n",
       "      <td>504098.0</td>\n",
       "      <td>965.067940</td>\n",
       "      <td>2158.238180</td>\n",
       "      <td>0.000000</td>\n",
       "      <td>249.000000</td>\n",
       "      <td>399.000000</td>\n",
       "      <td>999.000000</td>\n",
       "      <td>307980.000000</td>\n",
       "    </tr>\n",
       "    <tr>\n",
       "      <td>mean_price_each_item</td>\n",
       "      <td>504098.0</td>\n",
       "      <td>821.604885</td>\n",
       "      <td>1826.713639</td>\n",
       "      <td>0.000000</td>\n",
       "      <td>198.275862</td>\n",
       "      <td>348.138272</td>\n",
       "      <td>855.719008</td>\n",
       "      <td>307980.000000</td>\n",
       "    </tr>\n",
       "  </tbody>\n",
       "</table>\n",
       "</div>"
      ],
      "text/plain": [
       "                                   count          mean          std  \\\n",
       "train_or_test                   504098.0      0.575083     0.494331   \n",
       "shop_id                         504098.0     31.509905    17.236922   \n",
       "item_id                         504098.0  11423.812642  6175.751291   \n",
       "item_category_id                504098.0     33.814760    21.795979   \n",
       "item_cnt_day                    504098.0      3.429962    12.681862   \n",
       "shop_avg_item_cnt               504098.0      1.232275     0.200483   \n",
       "avg_item_cnt                    504098.0      1.062006     0.552207   \n",
       "avg_item_cnt_each_cat           504098.0      1.107126     0.173733   \n",
       "shop_cat_avg_item_cnt           504098.0      0.894786     0.830689   \n",
       "avg_price_ofshop                504098.0    921.241079   179.074771   \n",
       "avg_price_each_item_ofshop      504098.0    633.129993  1631.852800   \n",
       "avg_price_each_item_cat_ofshop  504098.0    633.129993  1631.852800   \n",
       "min_price_each_item             504098.0    561.298137  1532.736642   \n",
       "max_price_each_item             504098.0    965.067940  2158.238180   \n",
       "mean_price_each_item            504098.0    821.604885  1826.713639   \n",
       "\n",
       "                                       min          25%           50%  \\\n",
       "train_or_test                     0.000000     0.000000      1.000000   \n",
       "shop_id                           0.000000    18.000000     31.000000   \n",
       "item_id                           0.000000  6183.000000  11648.000000   \n",
       "item_category_id                  0.000000    19.000000     40.000000   \n",
       "item_cnt_day                      0.000000     0.000000      1.000000   \n",
       "shop_avg_item_cnt                 1.057546     1.156484      1.185057   \n",
       "avg_item_cnt                      0.000000     1.000000      1.013072   \n",
       "avg_item_cnt_each_cat             1.000000     1.029260      1.063038   \n",
       "shop_cat_avg_item_cnt             0.000000     1.005534      1.038840   \n",
       "avg_price_ofshop                299.237067   834.664881    917.856259   \n",
       "avg_price_each_item_ofshop        0.000000   113.074019    298.000000   \n",
       "avg_price_each_item_cat_ofshop    0.000000   113.074019    298.000000   \n",
       "min_price_each_item               0.000000    91.110000    200.660000   \n",
       "max_price_each_item               0.000000   249.000000    399.000000   \n",
       "mean_price_each_item              0.000000   198.275862    348.138272   \n",
       "\n",
       "                                         75%            max  \n",
       "train_or_test                       1.000000       1.000000  \n",
       "shop_id                            47.000000      59.000000  \n",
       "item_id                         16587.000000   22169.000000  \n",
       "item_category_id                   55.000000      83.000000  \n",
       "item_cnt_day                        3.000000    1704.000000  \n",
       "shop_avg_item_cnt                   1.261944       4.240983  \n",
       "avg_item_cnt                        1.067010      65.473684  \n",
       "avg_item_cnt_each_cat               1.125806       7.329770  \n",
       "shop_cat_avg_item_cnt               1.099099     333.666667  \n",
       "avg_price_ofshop                  973.275624    1458.766652  \n",
       "avg_price_each_item_ofshop        572.465893  307980.000000  \n",
       "avg_price_each_item_cat_ofshop    572.465893  307980.000000  \n",
       "min_price_each_item               500.000000  307980.000000  \n",
       "max_price_each_item               999.000000  307980.000000  \n",
       "mean_price_each_item              855.719008  307980.000000  "
      ]
     },
     "execution_count": 36,
     "metadata": {},
     "output_type": "execute_result"
    }
   ],
   "source": [
    "df_train_test.describe().T"
   ]
  },
  {
   "cell_type": "code",
   "execution_count": 76,
   "metadata": {},
   "outputs": [
    {
     "data": {
      "text/plain": [
       "1.6094379124341003"
      ]
     },
     "execution_count": 76,
     "metadata": {},
     "output_type": "execute_result"
    }
   ],
   "source": [
    "np.log1p()"
   ]
  },
  {
   "cell_type": "code",
   "execution_count": 17,
   "metadata": {},
   "outputs": [],
   "source": [
    "#df_test_1.loc[:,'normalized_price'] = (df_test_1['item_price'] - df_test_1['item_price'].min()) / (df_test_1['item_price'].max() - df_test_1['item_price'].min())\n",
    "#df_test_1.loc[:,'standardized_price'] = (df_test_1['item_price'] - df_test_1['item_price'].mean()) / df_test_1['item_price'].std()\n",
    "#df_test_1.loc[:,'price_bin_round'] = np.array(np.floor(np.array(df_test_1['item_price']) / 100.))\n",
    "#df_test_1.head()"
   ]
  },
  {
   "cell_type": "code",
   "execution_count": 37,
   "metadata": {},
   "outputs": [
    {
     "data": {
      "text/html": [
       "<div>\n",
       "<style scoped>\n",
       "    .dataframe tbody tr th:only-of-type {\n",
       "        vertical-align: middle;\n",
       "    }\n",
       "\n",
       "    .dataframe tbody tr th {\n",
       "        vertical-align: top;\n",
       "    }\n",
       "\n",
       "    .dataframe thead th {\n",
       "        text-align: right;\n",
       "    }\n",
       "</style>\n",
       "<table border=\"1\" class=\"dataframe\">\n",
       "  <thead>\n",
       "    <tr style=\"text-align: right;\">\n",
       "      <th></th>\n",
       "      <th>train_or_test</th>\n",
       "      <th>shop_id</th>\n",
       "      <th>item_id</th>\n",
       "      <th>item_category_id</th>\n",
       "      <th>item_cnt_day</th>\n",
       "      <th>shop_avg_item_cnt</th>\n",
       "      <th>avg_item_cnt</th>\n",
       "      <th>avg_item_cnt_each_cat</th>\n",
       "      <th>shop_cat_avg_item_cnt</th>\n",
       "      <th>avg_price_ofshop</th>\n",
       "      <th>avg_price_each_item_ofshop</th>\n",
       "      <th>avg_price_each_item_cat_ofshop</th>\n",
       "      <th>min_price_each_item</th>\n",
       "      <th>max_price_each_item</th>\n",
       "      <th>mean_price_each_item</th>\n",
       "    </tr>\n",
       "  </thead>\n",
       "  <tbody>\n",
       "    <tr>\n",
       "      <td>0</td>\n",
       "      <td>1</td>\n",
       "      <td>0</td>\n",
       "      <td>35</td>\n",
       "      <td>3.713572</td>\n",
       "      <td>2.772589</td>\n",
       "      <td>0.782751</td>\n",
       "      <td>0.803495</td>\n",
       "      <td>0.754151</td>\n",
       "      <td>0.810451</td>\n",
       "      <td>6.335841</td>\n",
       "      <td>5.513429</td>\n",
       "      <td>5.513429</td>\n",
       "      <td>5.003946</td>\n",
       "      <td>5.991465</td>\n",
       "      <td>5.931789</td>\n",
       "    </tr>\n",
       "    <tr>\n",
       "      <td>1</td>\n",
       "      <td>1</td>\n",
       "      <td>0</td>\n",
       "      <td>36</td>\n",
       "      <td>3.637586</td>\n",
       "      <td>0.693147</td>\n",
       "      <td>0.782751</td>\n",
       "      <td>0.693147</td>\n",
       "      <td>0.724180</td>\n",
       "      <td>0.728119</td>\n",
       "      <td>6.335841</td>\n",
       "      <td>5.880533</td>\n",
       "      <td>5.880533</td>\n",
       "      <td>4.077537</td>\n",
       "      <td>6.309918</td>\n",
       "      <td>5.215002</td>\n",
       "    </tr>\n",
       "    <tr>\n",
       "      <td>2</td>\n",
       "      <td>1</td>\n",
       "      <td>0</td>\n",
       "      <td>40</td>\n",
       "      <td>4.060443</td>\n",
       "      <td>0.693147</td>\n",
       "      <td>0.782751</td>\n",
       "      <td>0.693147</td>\n",
       "      <td>0.698116</td>\n",
       "      <td>0.699662</td>\n",
       "      <td>6.335841</td>\n",
       "      <td>4.852030</td>\n",
       "      <td>4.852030</td>\n",
       "      <td>4.852030</td>\n",
       "      <td>5.521461</td>\n",
       "      <td>5.505894</td>\n",
       "    </tr>\n",
       "    <tr>\n",
       "      <td>3</td>\n",
       "      <td>1</td>\n",
       "      <td>0</td>\n",
       "      <td>43</td>\n",
       "      <td>3.713572</td>\n",
       "      <td>0.693147</td>\n",
       "      <td>0.782751</td>\n",
       "      <td>0.693147</td>\n",
       "      <td>0.754151</td>\n",
       "      <td>0.810451</td>\n",
       "      <td>6.335841</td>\n",
       "      <td>5.402677</td>\n",
       "      <td>5.402677</td>\n",
       "      <td>4.595120</td>\n",
       "      <td>5.517453</td>\n",
       "      <td>5.125286</td>\n",
       "    </tr>\n",
       "    <tr>\n",
       "      <td>4</td>\n",
       "      <td>1</td>\n",
       "      <td>0</td>\n",
       "      <td>49</td>\n",
       "      <td>4.060443</td>\n",
       "      <td>1.098612</td>\n",
       "      <td>0.782751</td>\n",
       "      <td>0.695846</td>\n",
       "      <td>0.698116</td>\n",
       "      <td>0.699662</td>\n",
       "      <td>6.335841</td>\n",
       "      <td>4.852030</td>\n",
       "      <td>4.852030</td>\n",
       "      <td>4.852030</td>\n",
       "      <td>5.703782</td>\n",
       "      <td>5.608303</td>\n",
       "    </tr>\n",
       "    <tr>\n",
       "      <td>...</td>\n",
       "      <td>...</td>\n",
       "      <td>...</td>\n",
       "      <td>...</td>\n",
       "      <td>...</td>\n",
       "      <td>...</td>\n",
       "      <td>...</td>\n",
       "      <td>...</td>\n",
       "      <td>...</td>\n",
       "      <td>...</td>\n",
       "      <td>...</td>\n",
       "      <td>...</td>\n",
       "      <td>...</td>\n",
       "      <td>...</td>\n",
       "      <td>...</td>\n",
       "      <td>...</td>\n",
       "    </tr>\n",
       "    <tr>\n",
       "      <td>504093</td>\n",
       "      <td>0</td>\n",
       "      <td>45</td>\n",
       "      <td>18454</td>\n",
       "      <td>4.025352</td>\n",
       "      <td>0.000000</td>\n",
       "      <td>0.776387</td>\n",
       "      <td>0.721375</td>\n",
       "      <td>0.707671</td>\n",
       "      <td>0.702394</td>\n",
       "      <td>6.846986</td>\n",
       "      <td>5.241159</td>\n",
       "      <td>5.241159</td>\n",
       "      <td>4.595120</td>\n",
       "      <td>5.298317</td>\n",
       "      <td>5.245344</td>\n",
       "    </tr>\n",
       "    <tr>\n",
       "      <td>504094</td>\n",
       "      <td>0</td>\n",
       "      <td>45</td>\n",
       "      <td>16188</td>\n",
       "      <td>0.000000</td>\n",
       "      <td>0.000000</td>\n",
       "      <td>0.776387</td>\n",
       "      <td>0.693147</td>\n",
       "      <td>0.693147</td>\n",
       "      <td>0.000000</td>\n",
       "      <td>6.846986</td>\n",
       "      <td>0.000000</td>\n",
       "      <td>0.000000</td>\n",
       "      <td>7.109798</td>\n",
       "      <td>7.215240</td>\n",
       "      <td>7.137259</td>\n",
       "    </tr>\n",
       "    <tr>\n",
       "      <td>504095</td>\n",
       "      <td>0</td>\n",
       "      <td>45</td>\n",
       "      <td>15757</td>\n",
       "      <td>4.025352</td>\n",
       "      <td>0.000000</td>\n",
       "      <td>0.776387</td>\n",
       "      <td>0.694498</td>\n",
       "      <td>0.707671</td>\n",
       "      <td>0.702394</td>\n",
       "      <td>6.846986</td>\n",
       "      <td>5.298317</td>\n",
       "      <td>5.298317</td>\n",
       "      <td>4.709530</td>\n",
       "      <td>5.438079</td>\n",
       "      <td>5.293862</td>\n",
       "    </tr>\n",
       "    <tr>\n",
       "      <td>504096</td>\n",
       "      <td>0</td>\n",
       "      <td>45</td>\n",
       "      <td>19648</td>\n",
       "      <td>0.000000</td>\n",
       "      <td>0.000000</td>\n",
       "      <td>0.776387</td>\n",
       "      <td>0.711496</td>\n",
       "      <td>0.693147</td>\n",
       "      <td>0.000000</td>\n",
       "      <td>6.846986</td>\n",
       "      <td>0.000000</td>\n",
       "      <td>0.000000</td>\n",
       "      <td>4.262680</td>\n",
       "      <td>4.605170</td>\n",
       "      <td>4.596092</td>\n",
       "    </tr>\n",
       "    <tr>\n",
       "      <td>504097</td>\n",
       "      <td>0</td>\n",
       "      <td>45</td>\n",
       "      <td>969</td>\n",
       "      <td>3.637586</td>\n",
       "      <td>0.000000</td>\n",
       "      <td>0.776387</td>\n",
       "      <td>0.736975</td>\n",
       "      <td>0.724180</td>\n",
       "      <td>0.705804</td>\n",
       "      <td>6.846986</td>\n",
       "      <td>6.309918</td>\n",
       "      <td>6.309918</td>\n",
       "      <td>5.293305</td>\n",
       "      <td>6.309918</td>\n",
       "      <td>6.221181</td>\n",
       "    </tr>\n",
       "  </tbody>\n",
       "</table>\n",
       "<p>504098 rows × 15 columns</p>\n",
       "</div>"
      ],
      "text/plain": [
       "        train_or_test  shop_id  item_id  item_category_id  item_cnt_day  \\\n",
       "0                   1        0       35          3.713572      2.772589   \n",
       "1                   1        0       36          3.637586      0.693147   \n",
       "2                   1        0       40          4.060443      0.693147   \n",
       "3                   1        0       43          3.713572      0.693147   \n",
       "4                   1        0       49          4.060443      1.098612   \n",
       "...               ...      ...      ...               ...           ...   \n",
       "504093              0       45    18454          4.025352      0.000000   \n",
       "504094              0       45    16188          0.000000      0.000000   \n",
       "504095              0       45    15757          4.025352      0.000000   \n",
       "504096              0       45    19648          0.000000      0.000000   \n",
       "504097              0       45      969          3.637586      0.000000   \n",
       "\n",
       "        shop_avg_item_cnt  avg_item_cnt  avg_item_cnt_each_cat  \\\n",
       "0                0.782751      0.803495               0.754151   \n",
       "1                0.782751      0.693147               0.724180   \n",
       "2                0.782751      0.693147               0.698116   \n",
       "3                0.782751      0.693147               0.754151   \n",
       "4                0.782751      0.695846               0.698116   \n",
       "...                   ...           ...                    ...   \n",
       "504093           0.776387      0.721375               0.707671   \n",
       "504094           0.776387      0.693147               0.693147   \n",
       "504095           0.776387      0.694498               0.707671   \n",
       "504096           0.776387      0.711496               0.693147   \n",
       "504097           0.776387      0.736975               0.724180   \n",
       "\n",
       "        shop_cat_avg_item_cnt  avg_price_ofshop  avg_price_each_item_ofshop  \\\n",
       "0                    0.810451          6.335841                    5.513429   \n",
       "1                    0.728119          6.335841                    5.880533   \n",
       "2                    0.699662          6.335841                    4.852030   \n",
       "3                    0.810451          6.335841                    5.402677   \n",
       "4                    0.699662          6.335841                    4.852030   \n",
       "...                       ...               ...                         ...   \n",
       "504093               0.702394          6.846986                    5.241159   \n",
       "504094               0.000000          6.846986                    0.000000   \n",
       "504095               0.702394          6.846986                    5.298317   \n",
       "504096               0.000000          6.846986                    0.000000   \n",
       "504097               0.705804          6.846986                    6.309918   \n",
       "\n",
       "        avg_price_each_item_cat_ofshop  min_price_each_item  \\\n",
       "0                             5.513429             5.003946   \n",
       "1                             5.880533             4.077537   \n",
       "2                             4.852030             4.852030   \n",
       "3                             5.402677             4.595120   \n",
       "4                             4.852030             4.852030   \n",
       "...                                ...                  ...   \n",
       "504093                        5.241159             4.595120   \n",
       "504094                        0.000000             7.109798   \n",
       "504095                        5.298317             4.709530   \n",
       "504096                        0.000000             4.262680   \n",
       "504097                        6.309918             5.293305   \n",
       "\n",
       "        max_price_each_item  mean_price_each_item  \n",
       "0                  5.991465              5.931789  \n",
       "1                  6.309918              5.215002  \n",
       "2                  5.521461              5.505894  \n",
       "3                  5.517453              5.125286  \n",
       "4                  5.703782              5.608303  \n",
       "...                     ...                   ...  \n",
       "504093             5.298317              5.245344  \n",
       "504094             7.215240              7.137259  \n",
       "504095             5.438079              5.293862  \n",
       "504096             4.605170              4.596092  \n",
       "504097             6.309918              6.221181  \n",
       "\n",
       "[504098 rows x 15 columns]"
      ]
     },
     "execution_count": 37,
     "metadata": {},
     "output_type": "execute_result"
    }
   ],
   "source": [
    "# Convert the feature  to the np.log\n",
    "\n",
    "col_name = ['item_category_id',\n",
    "       'item_cnt_day', 'shop_avg_item_cnt', 'avg_item_cnt',\n",
    "       'avg_item_cnt_each_cat', 'shop_cat_avg_item_cnt', 'avg_price_ofshop',\n",
    "       'avg_price_each_item_ofshop', 'avg_price_each_item_cat_ofshop',\n",
    "       'min_price_each_item', 'max_price_each_item', 'mean_price_each_item']\n",
    "\n",
    "#from sklearn.preprocessing import QuantileTransformer\n",
    "#qt = QuantileTransformer(n_quantiles=10, random_state=42)\n",
    "for i in col_name:\n",
    "    df_train_test[i] = df_train_test[i].apply(np.log1p)\n",
    "df_train_test.replace(-np.inf, np.nan)\n",
    "df_train_test.fillna(0)"
   ]
  },
  {
   "cell_type": "code",
   "execution_count": 39,
   "metadata": {},
   "outputs": [
    {
     "data": {
      "text/html": [
       "<div>\n",
       "<style scoped>\n",
       "    .dataframe tbody tr th:only-of-type {\n",
       "        vertical-align: middle;\n",
       "    }\n",
       "\n",
       "    .dataframe tbody tr th {\n",
       "        vertical-align: top;\n",
       "    }\n",
       "\n",
       "    .dataframe thead th {\n",
       "        text-align: right;\n",
       "    }\n",
       "</style>\n",
       "<table border=\"1\" class=\"dataframe\">\n",
       "  <thead>\n",
       "    <tr style=\"text-align: right;\">\n",
       "      <th></th>\n",
       "      <th>count</th>\n",
       "      <th>mean</th>\n",
       "      <th>std</th>\n",
       "      <th>min</th>\n",
       "      <th>25%</th>\n",
       "      <th>50%</th>\n",
       "      <th>75%</th>\n",
       "      <th>max</th>\n",
       "    </tr>\n",
       "  </thead>\n",
       "  <tbody>\n",
       "    <tr>\n",
       "      <td>train_or_test</td>\n",
       "      <td>504098.0</td>\n",
       "      <td>0.575083</td>\n",
       "      <td>0.494331</td>\n",
       "      <td>0.000000</td>\n",
       "      <td>0.000000</td>\n",
       "      <td>1.000000</td>\n",
       "      <td>1.000000</td>\n",
       "      <td>1.000000</td>\n",
       "    </tr>\n",
       "    <tr>\n",
       "      <td>shop_id</td>\n",
       "      <td>504098.0</td>\n",
       "      <td>31.509905</td>\n",
       "      <td>17.236922</td>\n",
       "      <td>0.000000</td>\n",
       "      <td>18.000000</td>\n",
       "      <td>31.000000</td>\n",
       "      <td>47.000000</td>\n",
       "      <td>59.000000</td>\n",
       "    </tr>\n",
       "    <tr>\n",
       "      <td>item_id</td>\n",
       "      <td>504098.0</td>\n",
       "      <td>11423.812642</td>\n",
       "      <td>6175.751291</td>\n",
       "      <td>0.000000</td>\n",
       "      <td>6183.000000</td>\n",
       "      <td>11648.000000</td>\n",
       "      <td>16587.000000</td>\n",
       "      <td>22169.000000</td>\n",
       "    </tr>\n",
       "    <tr>\n",
       "      <td>item_category_id</td>\n",
       "      <td>504098.0</td>\n",
       "      <td>2.939687</td>\n",
       "      <td>1.540997</td>\n",
       "      <td>0.000000</td>\n",
       "      <td>2.995732</td>\n",
       "      <td>3.713572</td>\n",
       "      <td>4.025352</td>\n",
       "      <td>4.430817</td>\n",
       "    </tr>\n",
       "    <tr>\n",
       "      <td>item_cnt_day</td>\n",
       "      <td>504098.0</td>\n",
       "      <td>0.826628</td>\n",
       "      <td>0.946875</td>\n",
       "      <td>0.000000</td>\n",
       "      <td>0.000000</td>\n",
       "      <td>0.693147</td>\n",
       "      <td>1.386294</td>\n",
       "      <td>7.441320</td>\n",
       "    </tr>\n",
       "    <tr>\n",
       "      <td>shop_avg_item_cnt</td>\n",
       "      <td>504098.0</td>\n",
       "      <td>0.800057</td>\n",
       "      <td>0.071883</td>\n",
       "      <td>0.721514</td>\n",
       "      <td>0.768479</td>\n",
       "      <td>0.781642</td>\n",
       "      <td>0.816225</td>\n",
       "      <td>1.656509</td>\n",
       "    </tr>\n",
       "    <tr>\n",
       "      <td>avg_item_cnt</td>\n",
       "      <td>504098.0</td>\n",
       "      <td>0.709629</td>\n",
       "      <td>0.160044</td>\n",
       "      <td>0.000000</td>\n",
       "      <td>0.693147</td>\n",
       "      <td>0.699662</td>\n",
       "      <td>0.726103</td>\n",
       "      <td>4.196806</td>\n",
       "    </tr>\n",
       "    <tr>\n",
       "      <td>avg_item_cnt_each_cat</td>\n",
       "      <td>504098.0</td>\n",
       "      <td>0.743072</td>\n",
       "      <td>0.062378</td>\n",
       "      <td>0.693147</td>\n",
       "      <td>0.707671</td>\n",
       "      <td>0.724180</td>\n",
       "      <td>0.754151</td>\n",
       "      <td>2.119836</td>\n",
       "    </tr>\n",
       "    <tr>\n",
       "      <td>shop_cat_avg_item_cnt</td>\n",
       "      <td>504098.0</td>\n",
       "      <td>0.597712</td>\n",
       "      <td>0.303895</td>\n",
       "      <td>0.000000</td>\n",
       "      <td>0.695911</td>\n",
       "      <td>0.712381</td>\n",
       "      <td>0.741508</td>\n",
       "      <td>5.813135</td>\n",
       "    </tr>\n",
       "    <tr>\n",
       "      <td>avg_price_ofshop</td>\n",
       "      <td>504098.0</td>\n",
       "      <td>6.806619</td>\n",
       "      <td>0.207834</td>\n",
       "      <td>5.704572</td>\n",
       "      <td>6.728228</td>\n",
       "      <td>6.823130</td>\n",
       "      <td>6.881694</td>\n",
       "      <td>7.286032</td>\n",
       "    </tr>\n",
       "    <tr>\n",
       "      <td>avg_price_each_item_ofshop</td>\n",
       "      <td>504098.0</td>\n",
       "      <td>4.791982</td>\n",
       "      <td>2.594140</td>\n",
       "      <td>0.000000</td>\n",
       "      <td>4.736848</td>\n",
       "      <td>5.700444</td>\n",
       "      <td>6.351698</td>\n",
       "      <td>12.637793</td>\n",
       "    </tr>\n",
       "    <tr>\n",
       "      <td>avg_price_each_item_cat_ofshop</td>\n",
       "      <td>504098.0</td>\n",
       "      <td>4.791982</td>\n",
       "      <td>2.594140</td>\n",
       "      <td>0.000000</td>\n",
       "      <td>4.736848</td>\n",
       "      <td>5.700444</td>\n",
       "      <td>6.351698</td>\n",
       "      <td>12.637793</td>\n",
       "    </tr>\n",
       "    <tr>\n",
       "      <td>min_price_each_item</td>\n",
       "      <td>504098.0</td>\n",
       "      <td>5.303482</td>\n",
       "      <td>1.562383</td>\n",
       "      <td>0.000000</td>\n",
       "      <td>4.522984</td>\n",
       "      <td>5.306583</td>\n",
       "      <td>6.216606</td>\n",
       "      <td>12.637793</td>\n",
       "    </tr>\n",
       "    <tr>\n",
       "      <td>max_price_each_item</td>\n",
       "      <td>504098.0</td>\n",
       "      <td>6.074190</td>\n",
       "      <td>1.464077</td>\n",
       "      <td>0.000000</td>\n",
       "      <td>5.521461</td>\n",
       "      <td>5.991465</td>\n",
       "      <td>6.907755</td>\n",
       "      <td>12.637793</td>\n",
       "    </tr>\n",
       "    <tr>\n",
       "      <td>mean_price_each_item</td>\n",
       "      <td>504098.0</td>\n",
       "      <td>5.919628</td>\n",
       "      <td>1.441543</td>\n",
       "      <td>0.000000</td>\n",
       "      <td>5.294690</td>\n",
       "      <td>5.855468</td>\n",
       "      <td>6.753110</td>\n",
       "      <td>12.637793</td>\n",
       "    </tr>\n",
       "  </tbody>\n",
       "</table>\n",
       "</div>"
      ],
      "text/plain": [
       "                                   count          mean          std       min  \\\n",
       "train_or_test                   504098.0      0.575083     0.494331  0.000000   \n",
       "shop_id                         504098.0     31.509905    17.236922  0.000000   \n",
       "item_id                         504098.0  11423.812642  6175.751291  0.000000   \n",
       "item_category_id                504098.0      2.939687     1.540997  0.000000   \n",
       "item_cnt_day                    504098.0      0.826628     0.946875  0.000000   \n",
       "shop_avg_item_cnt               504098.0      0.800057     0.071883  0.721514   \n",
       "avg_item_cnt                    504098.0      0.709629     0.160044  0.000000   \n",
       "avg_item_cnt_each_cat           504098.0      0.743072     0.062378  0.693147   \n",
       "shop_cat_avg_item_cnt           504098.0      0.597712     0.303895  0.000000   \n",
       "avg_price_ofshop                504098.0      6.806619     0.207834  5.704572   \n",
       "avg_price_each_item_ofshop      504098.0      4.791982     2.594140  0.000000   \n",
       "avg_price_each_item_cat_ofshop  504098.0      4.791982     2.594140  0.000000   \n",
       "min_price_each_item             504098.0      5.303482     1.562383  0.000000   \n",
       "max_price_each_item             504098.0      6.074190     1.464077  0.000000   \n",
       "mean_price_each_item            504098.0      5.919628     1.441543  0.000000   \n",
       "\n",
       "                                        25%           50%           75%  \\\n",
       "train_or_test                      0.000000      1.000000      1.000000   \n",
       "shop_id                           18.000000     31.000000     47.000000   \n",
       "item_id                         6183.000000  11648.000000  16587.000000   \n",
       "item_category_id                   2.995732      3.713572      4.025352   \n",
       "item_cnt_day                       0.000000      0.693147      1.386294   \n",
       "shop_avg_item_cnt                  0.768479      0.781642      0.816225   \n",
       "avg_item_cnt                       0.693147      0.699662      0.726103   \n",
       "avg_item_cnt_each_cat              0.707671      0.724180      0.754151   \n",
       "shop_cat_avg_item_cnt              0.695911      0.712381      0.741508   \n",
       "avg_price_ofshop                   6.728228      6.823130      6.881694   \n",
       "avg_price_each_item_ofshop         4.736848      5.700444      6.351698   \n",
       "avg_price_each_item_cat_ofshop     4.736848      5.700444      6.351698   \n",
       "min_price_each_item                4.522984      5.306583      6.216606   \n",
       "max_price_each_item                5.521461      5.991465      6.907755   \n",
       "mean_price_each_item               5.294690      5.855468      6.753110   \n",
       "\n",
       "                                         max  \n",
       "train_or_test                       1.000000  \n",
       "shop_id                            59.000000  \n",
       "item_id                         22169.000000  \n",
       "item_category_id                    4.430817  \n",
       "item_cnt_day                        7.441320  \n",
       "shop_avg_item_cnt                   1.656509  \n",
       "avg_item_cnt                        4.196806  \n",
       "avg_item_cnt_each_cat               2.119836  \n",
       "shop_cat_avg_item_cnt               5.813135  \n",
       "avg_price_ofshop                    7.286032  \n",
       "avg_price_each_item_ofshop         12.637793  \n",
       "avg_price_each_item_cat_ofshop     12.637793  \n",
       "min_price_each_item                12.637793  \n",
       "max_price_each_item                12.637793  \n",
       "mean_price_each_item               12.637793  "
      ]
     },
     "execution_count": 39,
     "metadata": {},
     "output_type": "execute_result"
    }
   ],
   "source": [
    "df_train_test.describe().T"
   ]
  },
  {
   "cell_type": "markdown",
   "metadata": {},
   "source": [
    "# Data For Modeling"
   ]
  },
  {
   "cell_type": "code",
   "execution_count": null,
   "metadata": {},
   "outputs": [],
   "source": []
  },
  {
   "cell_type": "code",
   "execution_count": 40,
   "metadata": {},
   "outputs": [],
   "source": [
    "#Seperata the Train set\n",
    "data = df_train_test[df_train_test['train_or_test'] == 1]\n",
    "data = data.drop(['shop_id','item_id','train_or_test','item_category_id'], axis =1)\n",
    "#Test set\n",
    "test = df_train_test[df_train_test['train_or_test'] == 0]\n",
    "test = test.drop(['shop_id','item_id','train_or_test','item_category_id'],axis= 1)\n",
    "\n"
   ]
  },
  {
   "cell_type": "code",
   "execution_count": 41,
   "metadata": {},
   "outputs": [
    {
     "data": {
      "text/html": [
       "<div>\n",
       "<style scoped>\n",
       "    .dataframe tbody tr th:only-of-type {\n",
       "        vertical-align: middle;\n",
       "    }\n",
       "\n",
       "    .dataframe tbody tr th {\n",
       "        vertical-align: top;\n",
       "    }\n",
       "\n",
       "    .dataframe thead th {\n",
       "        text-align: right;\n",
       "    }\n",
       "</style>\n",
       "<table border=\"1\" class=\"dataframe\">\n",
       "  <thead>\n",
       "    <tr style=\"text-align: right;\">\n",
       "      <th></th>\n",
       "      <th>item_cnt_day</th>\n",
       "      <th>shop_avg_item_cnt</th>\n",
       "      <th>avg_item_cnt</th>\n",
       "      <th>avg_item_cnt_each_cat</th>\n",
       "      <th>shop_cat_avg_item_cnt</th>\n",
       "      <th>avg_price_ofshop</th>\n",
       "      <th>avg_price_each_item_ofshop</th>\n",
       "      <th>avg_price_each_item_cat_ofshop</th>\n",
       "      <th>min_price_each_item</th>\n",
       "      <th>max_price_each_item</th>\n",
       "      <th>mean_price_each_item</th>\n",
       "    </tr>\n",
       "  </thead>\n",
       "  <tbody>\n",
       "    <tr>\n",
       "      <td>0</td>\n",
       "      <td>2.772589</td>\n",
       "      <td>0.782751</td>\n",
       "      <td>0.803495</td>\n",
       "      <td>0.754151</td>\n",
       "      <td>0.810451</td>\n",
       "      <td>6.335841</td>\n",
       "      <td>5.513429</td>\n",
       "      <td>5.513429</td>\n",
       "      <td>5.003946</td>\n",
       "      <td>5.991465</td>\n",
       "      <td>5.931789</td>\n",
       "    </tr>\n",
       "    <tr>\n",
       "      <td>1</td>\n",
       "      <td>0.693147</td>\n",
       "      <td>0.782751</td>\n",
       "      <td>0.693147</td>\n",
       "      <td>0.724180</td>\n",
       "      <td>0.728119</td>\n",
       "      <td>6.335841</td>\n",
       "      <td>5.880533</td>\n",
       "      <td>5.880533</td>\n",
       "      <td>4.077537</td>\n",
       "      <td>6.309918</td>\n",
       "      <td>5.215002</td>\n",
       "    </tr>\n",
       "    <tr>\n",
       "      <td>2</td>\n",
       "      <td>0.693147</td>\n",
       "      <td>0.782751</td>\n",
       "      <td>0.693147</td>\n",
       "      <td>0.698116</td>\n",
       "      <td>0.699662</td>\n",
       "      <td>6.335841</td>\n",
       "      <td>4.852030</td>\n",
       "      <td>4.852030</td>\n",
       "      <td>4.852030</td>\n",
       "      <td>5.521461</td>\n",
       "      <td>5.505894</td>\n",
       "    </tr>\n",
       "    <tr>\n",
       "      <td>3</td>\n",
       "      <td>0.693147</td>\n",
       "      <td>0.782751</td>\n",
       "      <td>0.693147</td>\n",
       "      <td>0.754151</td>\n",
       "      <td>0.810451</td>\n",
       "      <td>6.335841</td>\n",
       "      <td>5.402677</td>\n",
       "      <td>5.402677</td>\n",
       "      <td>4.595120</td>\n",
       "      <td>5.517453</td>\n",
       "      <td>5.125286</td>\n",
       "    </tr>\n",
       "    <tr>\n",
       "      <td>4</td>\n",
       "      <td>1.098612</td>\n",
       "      <td>0.782751</td>\n",
       "      <td>0.695846</td>\n",
       "      <td>0.698116</td>\n",
       "      <td>0.699662</td>\n",
       "      <td>6.335841</td>\n",
       "      <td>4.852030</td>\n",
       "      <td>4.852030</td>\n",
       "      <td>4.852030</td>\n",
       "      <td>5.703782</td>\n",
       "      <td>5.608303</td>\n",
       "    </tr>\n",
       "    <tr>\n",
       "      <td>...</td>\n",
       "      <td>...</td>\n",
       "      <td>...</td>\n",
       "      <td>...</td>\n",
       "      <td>...</td>\n",
       "      <td>...</td>\n",
       "      <td>...</td>\n",
       "      <td>...</td>\n",
       "      <td>...</td>\n",
       "      <td>...</td>\n",
       "      <td>...</td>\n",
       "      <td>...</td>\n",
       "    </tr>\n",
       "    <tr>\n",
       "      <td>289893</td>\n",
       "      <td>0.693147</td>\n",
       "      <td>0.775001</td>\n",
       "      <td>0.719815</td>\n",
       "      <td>0.725105</td>\n",
       "      <td>0.701477</td>\n",
       "      <td>6.785056</td>\n",
       "      <td>7.313220</td>\n",
       "      <td>7.313220</td>\n",
       "      <td>6.908755</td>\n",
       "      <td>7.313220</td>\n",
       "      <td>7.297658</td>\n",
       "    </tr>\n",
       "    <tr>\n",
       "      <td>289894</td>\n",
       "      <td>1.098612</td>\n",
       "      <td>0.775001</td>\n",
       "      <td>0.693147</td>\n",
       "      <td>0.724180</td>\n",
       "      <td>0.701586</td>\n",
       "      <td>6.785056</td>\n",
       "      <td>5.298317</td>\n",
       "      <td>5.298317</td>\n",
       "      <td>4.896197</td>\n",
       "      <td>5.298317</td>\n",
       "      <td>5.274508</td>\n",
       "    </tr>\n",
       "    <tr>\n",
       "      <td>289895</td>\n",
       "      <td>1.386294</td>\n",
       "      <td>0.775001</td>\n",
       "      <td>0.837660</td>\n",
       "      <td>0.754151</td>\n",
       "      <td>0.723893</td>\n",
       "      <td>6.785056</td>\n",
       "      <td>5.991465</td>\n",
       "      <td>5.991465</td>\n",
       "      <td>5.594711</td>\n",
       "      <td>5.991465</td>\n",
       "      <td>5.942951</td>\n",
       "    </tr>\n",
       "    <tr>\n",
       "      <td>289896</td>\n",
       "      <td>0.693147</td>\n",
       "      <td>0.775001</td>\n",
       "      <td>0.693147</td>\n",
       "      <td>0.724180</td>\n",
       "      <td>0.701586</td>\n",
       "      <td>6.785056</td>\n",
       "      <td>4.915078</td>\n",
       "      <td>4.915078</td>\n",
       "      <td>4.895374</td>\n",
       "      <td>5.703782</td>\n",
       "      <td>5.342898</td>\n",
       "    </tr>\n",
       "    <tr>\n",
       "      <td>289897</td>\n",
       "      <td>0.693147</td>\n",
       "      <td>0.775001</td>\n",
       "      <td>0.699881</td>\n",
       "      <td>0.724180</td>\n",
       "      <td>0.701586</td>\n",
       "      <td>6.785056</td>\n",
       "      <td>5.010635</td>\n",
       "      <td>5.010635</td>\n",
       "      <td>4.189655</td>\n",
       "      <td>6.620073</td>\n",
       "      <td>5.086241</td>\n",
       "    </tr>\n",
       "  </tbody>\n",
       "</table>\n",
       "<p>289898 rows × 11 columns</p>\n",
       "</div>"
      ],
      "text/plain": [
       "        item_cnt_day  shop_avg_item_cnt  avg_item_cnt  avg_item_cnt_each_cat  \\\n",
       "0           2.772589           0.782751      0.803495               0.754151   \n",
       "1           0.693147           0.782751      0.693147               0.724180   \n",
       "2           0.693147           0.782751      0.693147               0.698116   \n",
       "3           0.693147           0.782751      0.693147               0.754151   \n",
       "4           1.098612           0.782751      0.695846               0.698116   \n",
       "...              ...                ...           ...                    ...   \n",
       "289893      0.693147           0.775001      0.719815               0.725105   \n",
       "289894      1.098612           0.775001      0.693147               0.724180   \n",
       "289895      1.386294           0.775001      0.837660               0.754151   \n",
       "289896      0.693147           0.775001      0.693147               0.724180   \n",
       "289897      0.693147           0.775001      0.699881               0.724180   \n",
       "\n",
       "        shop_cat_avg_item_cnt  avg_price_ofshop  avg_price_each_item_ofshop  \\\n",
       "0                    0.810451          6.335841                    5.513429   \n",
       "1                    0.728119          6.335841                    5.880533   \n",
       "2                    0.699662          6.335841                    4.852030   \n",
       "3                    0.810451          6.335841                    5.402677   \n",
       "4                    0.699662          6.335841                    4.852030   \n",
       "...                       ...               ...                         ...   \n",
       "289893               0.701477          6.785056                    7.313220   \n",
       "289894               0.701586          6.785056                    5.298317   \n",
       "289895               0.723893          6.785056                    5.991465   \n",
       "289896               0.701586          6.785056                    4.915078   \n",
       "289897               0.701586          6.785056                    5.010635   \n",
       "\n",
       "        avg_price_each_item_cat_ofshop  min_price_each_item  \\\n",
       "0                             5.513429             5.003946   \n",
       "1                             5.880533             4.077537   \n",
       "2                             4.852030             4.852030   \n",
       "3                             5.402677             4.595120   \n",
       "4                             4.852030             4.852030   \n",
       "...                                ...                  ...   \n",
       "289893                        7.313220             6.908755   \n",
       "289894                        5.298317             4.896197   \n",
       "289895                        5.991465             5.594711   \n",
       "289896                        4.915078             4.895374   \n",
       "289897                        5.010635             4.189655   \n",
       "\n",
       "        max_price_each_item  mean_price_each_item  \n",
       "0                  5.991465              5.931789  \n",
       "1                  6.309918              5.215002  \n",
       "2                  5.521461              5.505894  \n",
       "3                  5.517453              5.125286  \n",
       "4                  5.703782              5.608303  \n",
       "...                     ...                   ...  \n",
       "289893             7.313220              7.297658  \n",
       "289894             5.298317              5.274508  \n",
       "289895             5.991465              5.942951  \n",
       "289896             5.703782              5.342898  \n",
       "289897             6.620073              5.086241  \n",
       "\n",
       "[289898 rows x 11 columns]"
      ]
     },
     "execution_count": 41,
     "metadata": {},
     "output_type": "execute_result"
    }
   ],
   "source": [
    "data"
   ]
  },
  {
   "cell_type": "markdown",
   "metadata": {},
   "source": [
    "## Create the Target 'y' and feature 'X' for models"
   ]
  },
  {
   "cell_type": "code",
   "execution_count": 42,
   "metadata": {},
   "outputs": [],
   "source": [
    "# Create Target y and feature X base on the train set\n",
    "y = data['item_cnt_day']\n",
    "X = data.drop('item_cnt_day', axis = 1)"
   ]
  },
  {
   "cell_type": "code",
   "execution_count": 43,
   "metadata": {},
   "outputs": [],
   "source": [
    "#Split the data to traing set and test set base on the train set to train model\n",
    "from sklearn.model_selection import train_test_split\n",
    "Xtrain, Xtest, ytrain, ytest = train_test_split(X, y, test_size = 0.2, random_state = 42)"
   ]
  },
  {
   "cell_type": "code",
   "execution_count": 44,
   "metadata": {},
   "outputs": [
    {
     "data": {
      "text/plain": [
       "(231918, 231918)"
      ]
     },
     "execution_count": 44,
     "metadata": {},
     "output_type": "execute_result"
    }
   ],
   "source": [
    "len(Xtrain), len(ytrain)"
   ]
  },
  {
   "cell_type": "markdown",
   "metadata": {},
   "source": [
    "## K-NN Regression model"
   ]
  },
  {
   "cell_type": "code",
   "execution_count": 45,
   "metadata": {},
   "outputs": [],
   "source": [
    "#Import sklearn for model\n",
    "from sklearn.neighbors import KNeighborsRegressor"
   ]
  },
  {
   "cell_type": "markdown",
   "metadata": {},
   "source": [
    "### Selection the importance feature\n"
   ]
  },
  {
   "cell_type": "code",
   "execution_count": 46,
   "metadata": {},
   "outputs": [
    {
     "data": {
      "text/plain": [
       "({'n_neighbors': 5}, 0.5579750700662178)"
      ]
     },
     "execution_count": 46,
     "metadata": {},
     "output_type": "execute_result"
    }
   ],
   "source": [
    "###Hyperparameter tunning ###\n",
    "######### FIND BEST n_neighbors ###############\n",
    "from sklearn.model_selection import GridSearchCV\n",
    "param_grid = {'n_neighbors': np.arange(5,15,4)}\n",
    "knn = KNeighborsRegressor()\n",
    "knn_cv = GridSearchCV(knn, param_grid, cv = 5)\n",
    "knn_cv.fit(Xtrain,ytrain)\n",
    "knn_cv.best_params_ , knn_cv.best_score_"
   ]
  },
  {
   "cell_type": "code",
   "execution_count": 47,
   "metadata": {},
   "outputs": [],
   "source": [
    "#Predict the labels of the test data\n",
    "y_pred = knn_cv.predict(Xtest)"
   ]
  },
  {
   "cell_type": "code",
   "execution_count": 48,
   "metadata": {},
   "outputs": [],
   "source": [
    "#Checking score test and predict\n",
    "test_accuray = knn_cv.score(Xtest, ytest)\n",
    "train_accuray = knn_cv.score(Xtrain, ytrain)\n",
    "rmse = np.sqrt(mean_squared_error(ytest, y_pred))"
   ]
  },
  {
   "cell_type": "code",
   "execution_count": 49,
   "metadata": {},
   "outputs": [
    {
     "name": "stdout",
     "output_type": "stream",
     "text": [
      "R^2 of model:  0.5687308790217138\n",
      "RMSE of model:  0.5413899417674177\n"
     ]
    }
   ],
   "source": [
    "print('R^2 of model: ',test_accuray)\n",
    "print('RMSE of model: ', rmse)"
   ]
  },
  {
   "cell_type": "code",
   "execution_count": 50,
   "metadata": {},
   "outputs": [
    {
     "data": {
      "text/plain": [
       "0.7216922278980897"
      ]
     },
     "execution_count": 50,
     "metadata": {},
     "output_type": "execute_result"
    }
   ],
   "source": [
    "train_accuray"
   ]
  },
  {
   "cell_type": "markdown",
   "metadata": {},
   "source": [
    "#### Importance feature"
   ]
  },
  {
   "cell_type": "code",
   "execution_count": null,
   "metadata": {},
   "outputs": [],
   "source": []
  },
  {
   "cell_type": "markdown",
   "metadata": {},
   "source": [
    "# Random forest modeling"
   ]
  },
  {
   "cell_type": "code",
   "execution_count": 51,
   "metadata": {},
   "outputs": [],
   "source": [
    "from sklearn.ensemble import RandomForestRegressor\n",
    "from sklearn.metrics import mean_squared_error\n",
    "from sklearn.ensemble import ExtraTreesRegressor"
   ]
  },
  {
   "cell_type": "markdown",
   "metadata": {},
   "source": [
    "#### Feature selection"
   ]
  },
  {
   "cell_type": "code",
   "execution_count": 52,
   "metadata": {},
   "outputs": [
    {
     "data": {
      "text/plain": [
       "RandomForestRegressor(bootstrap=True, ccp_alpha=0.0, criterion='mse',\n",
       "                      max_depth=None, max_features='auto', max_leaf_nodes=None,\n",
       "                      max_samples=None, min_impurity_decrease=0.0,\n",
       "                      min_impurity_split=None, min_samples_leaf=1,\n",
       "                      min_samples_split=2, min_weight_fraction_leaf=0.0,\n",
       "                      n_estimators=100, n_jobs=None, oob_score=False,\n",
       "                      random_state=None, verbose=0, warm_start=False)"
      ]
     },
     "execution_count": 52,
     "metadata": {},
     "output_type": "execute_result"
    }
   ],
   "source": [
    "rf = RandomForestRegressor()\n",
    "rf.fit(Xtrain, ytrain)"
   ]
  },
  {
   "cell_type": "code",
   "execution_count": 53,
   "metadata": {},
   "outputs": [],
   "source": [
    "features_name = data.drop('item_cnt_day', axis = 1).columns\n",
    "Score = rf.feature_importances_\n",
    "no_name = zip(features_name, Score)\n",
    "temp_f = pd.DataFrame(no_name,  columns = ['name', 'score'])\n",
    "temp_f = temp_f.sort_values('score', ascending = False)\n"
   ]
  },
  {
   "cell_type": "code",
   "execution_count": 54,
   "metadata": {},
   "outputs": [
    {
     "data": {
      "text/html": [
       "<div>\n",
       "<style scoped>\n",
       "    .dataframe tbody tr th:only-of-type {\n",
       "        vertical-align: middle;\n",
       "    }\n",
       "\n",
       "    .dataframe tbody tr th {\n",
       "        vertical-align: top;\n",
       "    }\n",
       "\n",
       "    .dataframe thead th {\n",
       "        text-align: right;\n",
       "    }\n",
       "</style>\n",
       "<table border=\"1\" class=\"dataframe\">\n",
       "  <thead>\n",
       "    <tr style=\"text-align: right;\">\n",
       "      <th></th>\n",
       "      <th>name</th>\n",
       "      <th>score</th>\n",
       "    </tr>\n",
       "  </thead>\n",
       "  <tbody>\n",
       "    <tr>\n",
       "      <td>1</td>\n",
       "      <td>avg_item_cnt</td>\n",
       "      <td>0.329070</td>\n",
       "    </tr>\n",
       "    <tr>\n",
       "      <td>3</td>\n",
       "      <td>shop_cat_avg_item_cnt</td>\n",
       "      <td>0.142872</td>\n",
       "    </tr>\n",
       "    <tr>\n",
       "      <td>9</td>\n",
       "      <td>mean_price_each_item</td>\n",
       "      <td>0.104777</td>\n",
       "    </tr>\n",
       "    <tr>\n",
       "      <td>7</td>\n",
       "      <td>min_price_each_item</td>\n",
       "      <td>0.091624</td>\n",
       "    </tr>\n",
       "    <tr>\n",
       "      <td>0</td>\n",
       "      <td>shop_avg_item_cnt</td>\n",
       "      <td>0.079432</td>\n",
       "    </tr>\n",
       "    <tr>\n",
       "      <td>4</td>\n",
       "      <td>avg_price_ofshop</td>\n",
       "      <td>0.073210</td>\n",
       "    </tr>\n",
       "    <tr>\n",
       "      <td>2</td>\n",
       "      <td>avg_item_cnt_each_cat</td>\n",
       "      <td>0.048555</td>\n",
       "    </tr>\n",
       "    <tr>\n",
       "      <td>5</td>\n",
       "      <td>avg_price_each_item_ofshop</td>\n",
       "      <td>0.046537</td>\n",
       "    </tr>\n",
       "    <tr>\n",
       "      <td>6</td>\n",
       "      <td>avg_price_each_item_cat_ofshop</td>\n",
       "      <td>0.046084</td>\n",
       "    </tr>\n",
       "    <tr>\n",
       "      <td>8</td>\n",
       "      <td>max_price_each_item</td>\n",
       "      <td>0.037838</td>\n",
       "    </tr>\n",
       "  </tbody>\n",
       "</table>\n",
       "</div>"
      ],
      "text/plain": [
       "                             name     score\n",
       "1                    avg_item_cnt  0.329070\n",
       "3           shop_cat_avg_item_cnt  0.142872\n",
       "9            mean_price_each_item  0.104777\n",
       "7             min_price_each_item  0.091624\n",
       "0               shop_avg_item_cnt  0.079432\n",
       "4                avg_price_ofshop  0.073210\n",
       "2           avg_item_cnt_each_cat  0.048555\n",
       "5      avg_price_each_item_ofshop  0.046537\n",
       "6  avg_price_each_item_cat_ofshop  0.046084\n",
       "8             max_price_each_item  0.037838"
      ]
     },
     "execution_count": 54,
     "metadata": {},
     "output_type": "execute_result"
    }
   ],
   "source": [
    "temp_f"
   ]
  },
  {
   "cell_type": "code",
   "execution_count": 55,
   "metadata": {},
   "outputs": [
    {
     "data": {
      "text/plain": [
       "array(['avg_item_cnt', 'shop_cat_avg_item_cnt', 'mean_price_each_item',\n",
       "       'min_price_each_item', 'shop_avg_item_cnt'], dtype=object)"
      ]
     },
     "execution_count": 55,
     "metadata": {},
     "output_type": "execute_result"
    }
   ],
   "source": [
    "#Select top 3 feature\n",
    "col_name = temp_f.name.values[0:5]\n",
    "col_name"
   ]
  },
  {
   "cell_type": "code",
   "execution_count": 56,
   "metadata": {},
   "outputs": [],
   "source": [
    "Xtrain_rf = Xtrain[col_name]\n",
    "Xtest_rf = Xtest[col_name]"
   ]
  },
  {
   "cell_type": "code",
   "execution_count": 57,
   "metadata": {},
   "outputs": [],
   "source": [
    "Xtrain_rf = Xtrain_rf.values\n",
    "ytrain_rf = ytrain.values\n",
    "Xtest_rf = Xtest_rf.values\n",
    "ytest_rf = ytest.values"
   ]
  },
  {
   "cell_type": "code",
   "execution_count": 58,
   "metadata": {},
   "outputs": [
    {
     "data": {
      "text/plain": [
       "array([[0.69314718, 0.72192692, 5.48925173, 3.36729583, 0.74076529],\n",
       "       [0.70523033, 0.72246425, 4.95236546, 4.35670883, 0.75530188],\n",
       "       [0.70829899, 0.71576023, 6.79285834, 5.98896142, 0.80465132],\n",
       "       ...,\n",
       "       [0.69314718, 0.82281785, 4.84213088, 3.40119738, 0.83337925],\n",
       "       [0.69314718, 0.70000476, 5.27743097, 4.7095302 , 0.78931724],\n",
       "       [0.71183931, 0.78608422, 7.58605035, 7.13089883, 0.83308805]])"
      ]
     },
     "execution_count": 58,
     "metadata": {},
     "output_type": "execute_result"
    }
   ],
   "source": [
    "Xtrain_rf"
   ]
  },
  {
   "cell_type": "markdown",
   "metadata": {},
   "source": [
    "##### end___"
   ]
  },
  {
   "cell_type": "markdown",
   "metadata": {},
   "source": [
    "#Instantiate the model\n",
    "rf = RandomForestRegressor()"
   ]
  },
  {
   "cell_type": "code",
   "execution_count": 59,
   "metadata": {},
   "outputs": [],
   "source": [
    "####Hyperparameter tunning ###\n",
    "###CHoice BEST PARAMETER ##\n",
    "\n",
    "# Number of trees in random forest\n",
    "n_estimators = [int(x) for x in np.linspace(start = 10, stop = 20, num = 5)]\n",
    "# Number of features to consider at every split\n",
    "max_features = ['auto', 'sqrt']\n",
    "# Maximum number of levels in tree\n",
    "max_depth = [int(x) for x in np.linspace(10, 110, num = 5)]\n",
    "max_depth.append(None)\n",
    "# Minimum number of samples required to split a node\n",
    "min_samples_split = [2, 5, 10]\n",
    "# Minimum number of samples required at each leaf node\n",
    "min_samples_leaf = [1, 2, 4]\n",
    "# Method of selecting samples for training each tree\n",
    "bootstrap = [True, False]\n",
    "# Create the random grid\n",
    "random_grid = {'n_estimators': n_estimators,\n",
    "               'max_features': max_features,\n",
    "               'max_depth': max_depth,\n",
    "               'min_samples_split': min_samples_split,\n",
    "               'min_samples_leaf': min_samples_leaf,\n",
    "               'bootstrap': bootstrap}\n"
   ]
  },
  {
   "cell_type": "code",
   "execution_count": 60,
   "metadata": {},
   "outputs": [],
   "source": [
    "\n",
    "#Instantiate the tunning parameter using RandomizeSearchCV\n",
    "rf_cv = RandomizedSearchCV(rf, random_grid, cv = 5, random_state=42)"
   ]
  },
  {
   "cell_type": "code",
   "execution_count": 61,
   "metadata": {},
   "outputs": [
    {
     "data": {
      "text/plain": [
       "RandomizedSearchCV(cv=5, error_score=nan,\n",
       "                   estimator=RandomForestRegressor(bootstrap=True,\n",
       "                                                   ccp_alpha=0.0,\n",
       "                                                   criterion='mse',\n",
       "                                                   max_depth=None,\n",
       "                                                   max_features='auto',\n",
       "                                                   max_leaf_nodes=None,\n",
       "                                                   max_samples=None,\n",
       "                                                   min_impurity_decrease=0.0,\n",
       "                                                   min_impurity_split=None,\n",
       "                                                   min_samples_leaf=1,\n",
       "                                                   min_samples_split=2,\n",
       "                                                   min_weight_fraction_leaf=0.0,\n",
       "                                                   n_estimators=100,\n",
       "                                                   n_jobs=None, oob_score=Fals...\n",
       "                                                   warm_start=False),\n",
       "                   iid='deprecated', n_iter=10, n_jobs=None,\n",
       "                   param_distributions={'bootstrap': [True, False],\n",
       "                                        'max_depth': [10, 35, 60, 85, 110,\n",
       "                                                      None],\n",
       "                                        'max_features': ['auto', 'sqrt'],\n",
       "                                        'min_samples_leaf': [1, 2, 4],\n",
       "                                        'min_samples_split': [2, 5, 10],\n",
       "                                        'n_estimators': [10, 12, 15, 17, 20]},\n",
       "                   pre_dispatch='2*n_jobs', random_state=42, refit=True,\n",
       "                   return_train_score=False, scoring=None, verbose=0)"
      ]
     },
     "execution_count": 61,
     "metadata": {},
     "output_type": "execute_result"
    }
   ],
   "source": [
    "rf_cv.fit(Xtrain_rf, ytrain_rf)"
   ]
  },
  {
   "cell_type": "markdown",
   "metadata": {},
   "source": [
    "\n",
    "#Get the best parameter and best score\n",
    "rf_cv.best_params_, rf_cv.best_score_\n",
    "\n",
    "\n",
    "({'n_estimators': 20,\n",
    "  'min_samples_split': 5,\n",
    "  'min_samples_leaf': 1,\n",
    "  'max_features': 'sqrt',\n",
    "  'max_depth': None,\n",
    "  'bootstrap': False})"
   ]
  },
  {
   "cell_type": "markdown",
   "metadata": {},
   "source": [
    "rf = RandomForestRegressor(n_estimators =  20,\n",
    "                                  min_samples_split =  5,\n",
    "                                  min_samples_leaf = 1,\n",
    "                                  max_features = 'sqrt',\n",
    "                                  max_depth = None,\n",
    "                                  bootstrap =  False)"
   ]
  },
  {
   "cell_type": "markdown",
   "metadata": {},
   "source": [
    "rf.fit(Xtrain_rf,ytrain_rf)"
   ]
  },
  {
   "cell_type": "code",
   "execution_count": 62,
   "metadata": {},
   "outputs": [],
   "source": [
    "#Predict the data\n",
    "y_pred_rf = rf_cv.predict(Xtest_rf)"
   ]
  },
  {
   "cell_type": "code",
   "execution_count": 63,
   "metadata": {},
   "outputs": [],
   "source": [
    "#Get the R^2 and RMSE\n",
    "test_accuary_rf = rf_cv.score(Xtest_rf, ytest_rf)\n",
    "train_accuary_rf = rf_cv.score(Xtrain_rf, ytrain_rf)\n",
    "rmse_rf = np.sqrt(mean_squared_error(ytest_rf, y_pred_rf))\n"
   ]
  },
  {
   "cell_type": "code",
   "execution_count": 64,
   "metadata": {},
   "outputs": [
    {
     "name": "stdout",
     "output_type": "stream",
     "text": [
      "R^2 of model:  0.6420898394285794\n",
      "RMSE of model:  0.4931999398230363\n"
     ]
    }
   ],
   "source": [
    "print('R^2 of model: ',test_accuary_rf)\n",
    "print('RMSE of model: ', rmse_rf)"
   ]
  },
  {
   "cell_type": "code",
   "execution_count": 65,
   "metadata": {},
   "outputs": [
    {
     "data": {
      "text/plain": [
       "0.8082771957901278"
      ]
     },
     "execution_count": 65,
     "metadata": {},
     "output_type": "execute_result"
    }
   ],
   "source": [
    "train_accuary_rf"
   ]
  },
  {
   "cell_type": "code",
   "execution_count": null,
   "metadata": {},
   "outputs": [],
   "source": []
  },
  {
   "cell_type": "code",
   "execution_count": null,
   "metadata": {},
   "outputs": [],
   "source": []
  },
  {
   "cell_type": "markdown",
   "metadata": {},
   "source": [
    "## Try predict our test.csv file was provide "
   ]
  },
  {
   "cell_type": "code",
   "execution_count": 66,
   "metadata": {},
   "outputs": [],
   "source": [
    "#Create the array of predict the item_cnt in test file\n",
    "#new_predict = df_test_1.values\n",
    "#Use model to predict\n",
    "#y_new_predict = rf_cv.predict(new_predict)\n",
    "#e = 2.71828\n",
    "#y_new_predict_item_cnt = e**y_new_predict\n"
   ]
  },
  {
   "cell_type": "code",
   "execution_count": 67,
   "metadata": {},
   "outputs": [],
   "source": [
    "#solution = df_test_1\n",
    "#solution['item_cnt_day'] = np.round(y_new_predict_item_cnt,1)\n",
    "#solution_1=solution.drop(['shop_id','item_id','standardized_price','normalized_price','price_bin_round','item_price'], axis = 1).reset_index()\n",
    "#solution_1['item_price'] =np.round(e ** df_test_1.item_price,0)\n",
    "#solution_1.columns = ['ID', 'item_cnt_month']\n",
    "#solution_1 = solution_1.set_index('ID')\n",
    "#solution_1.head()"
   ]
  },
  {
   "cell_type": "code",
   "execution_count": 68,
   "metadata": {},
   "outputs": [],
   "source": [
    "#solution_1.to_csv('submitfile.csv')"
   ]
  },
  {
   "cell_type": "markdown",
   "metadata": {},
   "source": [
    "# Xgboost Model"
   ]
  },
  {
   "cell_type": "code",
   "execution_count": 69,
   "metadata": {},
   "outputs": [],
   "source": [
    "from sklearn.ensemble import GradientBoostingRegressor"
   ]
  },
  {
   "cell_type": "code",
   "execution_count": 70,
   "metadata": {},
   "outputs": [
    {
     "data": {
      "text/plain": [
       "GradientBoostingRegressor(alpha=0.9, ccp_alpha=0.0, criterion='friedman_mse',\n",
       "                          init=None, learning_rate=0.1, loss='ls', max_depth=3,\n",
       "                          max_features=None, max_leaf_nodes=None,\n",
       "                          min_impurity_decrease=0.0, min_impurity_split=None,\n",
       "                          min_samples_leaf=1, min_samples_split=2,\n",
       "                          min_weight_fraction_leaf=0.0, n_estimators=100,\n",
       "                          n_iter_no_change=None, presort='deprecated',\n",
       "                          random_state=None, subsample=1.0, tol=0.0001,\n",
       "                          validation_fraction=0.1, verbose=0, warm_start=False)"
      ]
     },
     "execution_count": 70,
     "metadata": {},
     "output_type": "execute_result"
    }
   ],
   "source": [
    "xg = GradientBoostingRegressor()\n",
    "xg.fit(Xtrain,ytrain)"
   ]
  },
  {
   "cell_type": "code",
   "execution_count": 71,
   "metadata": {},
   "outputs": [],
   "source": [
    "features_name = data.drop('item_cnt_day', axis = 1).columns\n",
    "Score = xg.feature_importances_\n",
    "no_name = zip(features_name, Score)\n",
    "temp_f = pd.DataFrame(no_name,  columns = ['name', 'score'])\n",
    "temp_f = temp_f.sort_values('score', ascending = False)"
   ]
  },
  {
   "cell_type": "code",
   "execution_count": 72,
   "metadata": {},
   "outputs": [
    {
     "data": {
      "text/html": [
       "<div>\n",
       "<style scoped>\n",
       "    .dataframe tbody tr th:only-of-type {\n",
       "        vertical-align: middle;\n",
       "    }\n",
       "\n",
       "    .dataframe tbody tr th {\n",
       "        vertical-align: top;\n",
       "    }\n",
       "\n",
       "    .dataframe thead th {\n",
       "        text-align: right;\n",
       "    }\n",
       "</style>\n",
       "<table border=\"1\" class=\"dataframe\">\n",
       "  <thead>\n",
       "    <tr style=\"text-align: right;\">\n",
       "      <th></th>\n",
       "      <th>name</th>\n",
       "      <th>score</th>\n",
       "    </tr>\n",
       "  </thead>\n",
       "  <tbody>\n",
       "    <tr>\n",
       "      <td>1</td>\n",
       "      <td>avg_item_cnt</td>\n",
       "      <td>0.518453</td>\n",
       "    </tr>\n",
       "    <tr>\n",
       "      <td>3</td>\n",
       "      <td>shop_cat_avg_item_cnt</td>\n",
       "      <td>0.179163</td>\n",
       "    </tr>\n",
       "    <tr>\n",
       "      <td>0</td>\n",
       "      <td>shop_avg_item_cnt</td>\n",
       "      <td>0.109914</td>\n",
       "    </tr>\n",
       "    <tr>\n",
       "      <td>4</td>\n",
       "      <td>avg_price_ofshop</td>\n",
       "      <td>0.066979</td>\n",
       "    </tr>\n",
       "    <tr>\n",
       "      <td>7</td>\n",
       "      <td>min_price_each_item</td>\n",
       "      <td>0.037452</td>\n",
       "    </tr>\n",
       "    <tr>\n",
       "      <td>2</td>\n",
       "      <td>avg_item_cnt_each_cat</td>\n",
       "      <td>0.032355</td>\n",
       "    </tr>\n",
       "    <tr>\n",
       "      <td>5</td>\n",
       "      <td>avg_price_each_item_ofshop</td>\n",
       "      <td>0.017820</td>\n",
       "    </tr>\n",
       "    <tr>\n",
       "      <td>6</td>\n",
       "      <td>avg_price_each_item_cat_ofshop</td>\n",
       "      <td>0.016756</td>\n",
       "    </tr>\n",
       "    <tr>\n",
       "      <td>9</td>\n",
       "      <td>mean_price_each_item</td>\n",
       "      <td>0.014434</td>\n",
       "    </tr>\n",
       "    <tr>\n",
       "      <td>8</td>\n",
       "      <td>max_price_each_item</td>\n",
       "      <td>0.006674</td>\n",
       "    </tr>\n",
       "  </tbody>\n",
       "</table>\n",
       "</div>"
      ],
      "text/plain": [
       "                             name     score\n",
       "1                    avg_item_cnt  0.518453\n",
       "3           shop_cat_avg_item_cnt  0.179163\n",
       "0               shop_avg_item_cnt  0.109914\n",
       "4                avg_price_ofshop  0.066979\n",
       "7             min_price_each_item  0.037452\n",
       "2           avg_item_cnt_each_cat  0.032355\n",
       "5      avg_price_each_item_ofshop  0.017820\n",
       "6  avg_price_each_item_cat_ofshop  0.016756\n",
       "9            mean_price_each_item  0.014434\n",
       "8             max_price_each_item  0.006674"
      ]
     },
     "execution_count": 72,
     "metadata": {},
     "output_type": "execute_result"
    }
   ],
   "source": [
    "temp_f"
   ]
  },
  {
   "cell_type": "code",
   "execution_count": 73,
   "metadata": {},
   "outputs": [],
   "source": [
    "#Select top 3 feature\n",
    "col_name = temp_f.name.values[0:5]\n",
    "Xtrain_xg = Xtrain[col_name]\n",
    "Xtest_xg = Xtest[col_name]\n",
    "Xtrain_xg = Xtrain_xg.values\n",
    "ytrain_xg = ytrain.values\n",
    "Xtest_xg = Xtest_xg.values\n",
    "ytest_xg = ytest.values"
   ]
  },
  {
   "cell_type": "code",
   "execution_count": 74,
   "metadata": {},
   "outputs": [],
   "source": [
    "params = {'n_estimators': 500, 'max_depth': 4, 'min_samples_split': 2,\n",
    "          'learning_rate': 0.01, 'loss': 'ls'}"
   ]
  },
  {
   "cell_type": "code",
   "execution_count": null,
   "metadata": {},
   "outputs": [],
   "source": [
    "xg = GradientBoostingRegressor(**params)\n",
    "xg.fit(Xtrain_xg,ytrain_xg)"
   ]
  },
  {
   "cell_type": "code",
   "execution_count": null,
   "metadata": {},
   "outputs": [],
   "source": [
    "#Predict \n",
    "y_pred_xg = xg.predict(Xtest_xg)"
   ]
  },
  {
   "cell_type": "code",
   "execution_count": null,
   "metadata": {},
   "outputs": [],
   "source": [
    "test_accuary_xg = xg.score(Xtest_xg, ytest_xg)\n",
    "train_accuary_xg = xg.score(Xtrain_xg, ytrain_xg)\n",
    "rmse_xg = np.sqrt(mean_squared_error(ytest_xg, y_pred_xg))"
   ]
  },
  {
   "cell_type": "code",
   "execution_count": null,
   "metadata": {},
   "outputs": [],
   "source": [
    "print('R^2 of model of test set: ',test_accuary_xg)\n",
    "print('RMSE of model: ', rmse_xg)\n",
    "print('R^2 train set: ', train_accuary_xg)"
   ]
  },
  {
   "cell_type": "code",
   "execution_count": null,
   "metadata": {},
   "outputs": [],
   "source": []
  },
  {
   "cell_type": "code",
   "execution_count": null,
   "metadata": {},
   "outputs": [],
   "source": []
  },
  {
   "cell_type": "code",
   "execution_count": null,
   "metadata": {},
   "outputs": [],
   "source": []
  },
  {
   "cell_type": "code",
   "execution_count": null,
   "metadata": {},
   "outputs": [],
   "source": []
  },
  {
   "cell_type": "code",
   "execution_count": null,
   "metadata": {},
   "outputs": [],
   "source": []
  },
  {
   "cell_type": "markdown",
   "metadata": {},
   "source": [
    "# DecisionTreeRegressor Model"
   ]
  },
  {
   "cell_type": "code",
   "execution_count": null,
   "metadata": {},
   "outputs": [],
   "source": [
    "from sklearn.tree import DecisionTreeRegressor\n",
    "from scipy.stats import randint\n",
    "from sklearn.model_selection import RandomizedSearchCV"
   ]
  },
  {
   "cell_type": "code",
   "execution_count": null,
   "metadata": {},
   "outputs": [],
   "source": [
    "#Instantiate the model\n",
    "tree = DecisionTreeRegressor()\n",
    "#Fit the data\n",
    "tree.fit(Xtrain,ytrain)"
   ]
  },
  {
   "cell_type": "code",
   "execution_count": null,
   "metadata": {},
   "outputs": [],
   "source": [
    "#Predict \n",
    "y_pred_tree = tree.predict(Xtest)"
   ]
  },
  {
   "cell_type": "code",
   "execution_count": null,
   "metadata": {},
   "outputs": [],
   "source": [
    "test_accuary_tree = tree.score(Xtest, ytest)\n",
    "train_accuary_tree = tree.score(Xtrain, ytrain)\n",
    "rmse_tree = np.sqrt(mean_squared_error(ytest, y_pred_tree))"
   ]
  },
  {
   "cell_type": "code",
   "execution_count": null,
   "metadata": {},
   "outputs": [],
   "source": [
    "print('R^2 of model of test set: ',test_accuary_tree)\n",
    "print('RMSE of model: ', rmse_tree)\n",
    "print('R^2 train set: ', train_accuary_tree)"
   ]
  },
  {
   "cell_type": "code",
   "execution_count": null,
   "metadata": {},
   "outputs": [],
   "source": [
    "train_accuary_tree"
   ]
  },
  {
   "cell_type": "code",
   "execution_count": null,
   "metadata": {},
   "outputs": [],
   "source": []
  },
  {
   "cell_type": "markdown",
   "metadata": {},
   "source": [
    "# Solution"
   ]
  },
  {
   "cell_type": "markdown",
   "metadata": {},
   "source": [
    "- Used feature engieering, to add more feature for modeling\n",
    "- Data have alot items was only 1 per day, so I used log transform to have better data\n",
    "- Also price is same, it crewed so I also use log trandform.\n",
    "- standardided and normilized both item_cnt_data and item_price\n",
    "\n",
    "- Overrall, that show random forest regression model have better R^2 score and RMSE score\n",
    "- We choice the random forest for our problem here."
   ]
  },
  {
   "cell_type": "code",
   "execution_count": null,
   "metadata": {},
   "outputs": [],
   "source": []
  }
 ],
 "metadata": {
  "kernelspec": {
   "display_name": "Python 3",
   "language": "python",
   "name": "python3"
  },
  "language_info": {
   "codemirror_mode": {
    "name": "ipython",
    "version": 3
   },
   "file_extension": ".py",
   "mimetype": "text/x-python",
   "name": "python",
   "nbconvert_exporter": "python",
   "pygments_lexer": "ipython3",
   "version": "3.7.3"
  }
 },
 "nbformat": 4,
 "nbformat_minor": 2
}
